{
  "nbformat": 4,
  "nbformat_minor": 0,
  "metadata": {
    "accelerator": "GPU",
    "colab": {
      "name": "capstoneNLP_FinalSubmission_MasterVersion.ipynb",
      "provenance": [],
      "collapsed_sections": [],
      "include_colab_link": true
    },
    "kernelspec": {
      "display_name": "Python 3",
      "language": "python",
      "name": "python3"
    },
    "language_info": {
      "codemirror_mode": {
        "name": "ipython",
        "version": 3
      },
      "file_extension": ".py",
      "mimetype": "text/x-python",
      "name": "python",
      "nbconvert_exporter": "python",
      "pygments_lexer": "ipython3",
      "version": "3.7.6"
    }
  },
  "cells": [
    {
      "cell_type": "markdown",
      "metadata": {
        "id": "view-in-github",
        "colab_type": "text"
      },
      "source": [
        "<a href=\"https://colab.research.google.com/github/packetech/baracuda/blob/master/capstoneNLP_FinalSubmission_MasterVersion.ipynb\" target=\"_parent\"><img src=\"https://colab.research.google.com/assets/colab-badge.svg\" alt=\"Open In Colab\"/></a>"
      ]
    },
    {
      "cell_type": "markdown",
      "metadata": {
        "colab_type": "text",
        "id": "DJuuW4iDpBK2"
      },
      "source": [
        "<H1>**Capstone Project NLP**</H1>\n",
        "<b>Automatic Incident Management Ticket Sorting"
      ]
    },
    {
      "cell_type": "markdown",
      "metadata": {
        "id": "52arz8V1GQK3",
        "colab_type": "text"
      },
      "source": [
        "<h2> <pre>CONTENT:\n",
        "01-NLP Project Notes1\n",
        "01-NLP Project Notes2\n",
        "01-NLP Project Notes3\n",
        "FINAL PRESENTATION</pre><h2>\n"
      ]
    },
    {
      "cell_type": "markdown",
      "metadata": {
        "colab_type": "text",
        "id": "72qF7iZlpJZl"
      },
      "source": [
        "\n",
        "<h2>01-NLP Project Notes 1</h2>\n"
      ]
    },
    {
      "cell_type": "code",
      "metadata": {
        "id": "igvupGnNFtwL",
        "colab_type": "code",
        "colab": {}
      },
      "source": [
        ""
      ],
      "execution_count": null,
      "outputs": []
    },
    {
      "cell_type": "code",
      "metadata": {
        "colab_type": "code",
        "id": "KIvpQKsNo803",
        "colab": {
          "base_uri": "https://localhost:8080/",
          "height": 129
        },
        "outputId": "291a68c3-3b00-4d92-aee6-313d85e9f00f"
      },
      "source": [
        "# Connect to google drive\n",
        "from google.colab import drive\n",
        "drive.mount('/content/drive/')"
      ],
      "execution_count": 1,
      "outputs": [
        {
          "output_type": "stream",
          "text": [
            "Go to this URL in a browser: https://accounts.google.com/o/oauth2/auth?client_id=947318989803-6bn6qk8qdgf4n4g3pfee6491hc0brc4i.apps.googleusercontent.com&redirect_uri=urn%3aietf%3awg%3aoauth%3a2.0%3aoob&scope=email%20https%3a%2f%2fwww.googleapis.com%2fauth%2fdocs.test%20https%3a%2f%2fwww.googleapis.com%2fauth%2fdrive%20https%3a%2f%2fwww.googleapis.com%2fauth%2fdrive.photos.readonly%20https%3a%2f%2fwww.googleapis.com%2fauth%2fpeopleapi.readonly&response_type=code\n",
            "\n",
            "Enter your authorization code:\n",
            "··········\n",
            "Mounted at /content/drive/\n"
          ],
          "name": "stdout"
        }
      ]
    },
    {
      "cell_type": "markdown",
      "metadata": {
        "colab_type": "text",
        "id": "R1YNJ9qspVSP"
      },
      "source": [
        "######**Exploratory Data Analysis**\n",
        "\n",
        "Read the DataSet file \"input_data.xlsx\". Explore the data and get some insights about the data"
      ]
    },
    {
      "cell_type": "code",
      "metadata": {
        "id": "YR6wJkyQ0Rf6",
        "colab_type": "code",
        "colab": {}
      },
      "source": [
        "#!pip uninstall tensorflow"
      ],
      "execution_count": null,
      "outputs": []
    },
    {
      "cell_type": "code",
      "metadata": {
        "id": "YOJR3i9G0Yf4",
        "colab_type": "code",
        "colab": {}
      },
      "source": [
        "#!pip install tensorflow==2.0.0"
      ],
      "execution_count": null,
      "outputs": []
    },
    {
      "cell_type": "code",
      "metadata": {
        "colab_type": "code",
        "id": "8LieP5yjIPok",
        "colab": {
          "base_uri": "https://localhost:8080/",
          "height": 276
        },
        "outputId": "e0be7d30-34f5-4884-ca64-d548bc893ce2"
      },
      "source": [
        "# Load required libraries\n",
        "\n",
        "import pandas as pd\n",
        "import numpy as np\n",
        "from numpy import array\n",
        "import seaborn as sns\n",
        "\n",
        "from tensorflow.keras.preprocessing.text import Tokenizer\n",
        "from tensorflow.keras.preprocessing.sequence import pad_sequences\n",
        "from tensorflow.keras.layers import Dense, Input, LSTM, Embedding, Dropout, Activation, Flatten, Bidirectional, GlobalMaxPool1D\n",
        "from tensorflow.keras.models import Model, Sequential\n",
        "from tensorflow.keras.layers import Input\n",
        "from tensorflow.keras.layers import concatenate\n",
        "\n",
        "from tensorflow.keras.callbacks import ModelCheckpoint, EarlyStopping\n",
        "\n",
        "from tensorflow.keras.utils import to_categorical\n",
        "\n",
        "from sklearn.model_selection import train_test_split\n",
        "\n",
        "\n",
        "from imblearn.over_sampling import SMOTE\n",
        "from imblearn.under_sampling import RandomUnderSampler\n",
        "from imblearn.over_sampling import RandomOverSampler\n",
        "\n",
        "\n",
        "import re\n",
        "\n",
        "from pickle import dump, load\n",
        "\n",
        "import matplotlib.pyplot as plt\n",
        "\n",
        "from nltk.tokenize import word_tokenize \n",
        "from nltk.stem import WordNetLemmatizer\n",
        "\n",
        "import nltk\n",
        "from nltk.corpus import stopwords\n",
        "\n",
        "nltk.download('stopwords')\n",
        "set(stopwords.words('english'))\n",
        "nltk.download('punkt')\n",
        "nltk.download('wordnet')\n"
      ],
      "execution_count": 2,
      "outputs": [
        {
          "output_type": "stream",
          "text": [
            "/usr/local/lib/python3.6/dist-packages/statsmodels/tools/_testing.py:19: FutureWarning: pandas.util.testing is deprecated. Use the functions in the public API at pandas.testing instead.\n",
            "  import pandas.util.testing as tm\n",
            "/usr/local/lib/python3.6/dist-packages/sklearn/externals/six.py:31: FutureWarning: The module is deprecated in version 0.21 and will be removed in version 0.23 since we've dropped support for Python 2.7. Please rely on the official version of six (https://pypi.org/project/six/).\n",
            "  \"(https://pypi.org/project/six/).\", FutureWarning)\n",
            "/usr/local/lib/python3.6/dist-packages/sklearn/utils/deprecation.py:144: FutureWarning: The sklearn.neighbors.base module is  deprecated in version 0.22 and will be removed in version 0.24. The corresponding classes / functions should instead be imported from sklearn.neighbors. Anything that cannot be imported from sklearn.neighbors is now part of the private API.\n",
            "  warnings.warn(message, FutureWarning)\n"
          ],
          "name": "stderr"
        },
        {
          "output_type": "stream",
          "text": [
            "[nltk_data] Downloading package stopwords to /root/nltk_data...\n",
            "[nltk_data]   Unzipping corpora/stopwords.zip.\n",
            "[nltk_data] Downloading package punkt to /root/nltk_data...\n",
            "[nltk_data]   Unzipping tokenizers/punkt.zip.\n",
            "[nltk_data] Downloading package wordnet to /root/nltk_data...\n",
            "[nltk_data]   Unzipping corpora/wordnet.zip.\n"
          ],
          "name": "stdout"
        },
        {
          "output_type": "execute_result",
          "data": {
            "text/plain": [
              "True"
            ]
          },
          "metadata": {
            "tags": []
          },
          "execution_count": 2
        }
      ]
    },
    {
      "cell_type": "code",
      "metadata": {
        "colab_type": "code",
        "id": "Aa_TEw-yIbZd",
        "colab": {}
      },
      "source": [
        "#Set project path \n",
        "project_path = \"/content/drive/My Drive/AIML/CapstoneProjectNLP/\""
      ],
      "execution_count": 3,
      "outputs": []
    },
    {
      "cell_type": "code",
      "metadata": {
        "colab_type": "code",
        "id": "ozm8Q-d4IfuA",
        "colab": {}
      },
      "source": [
        "# Read data\n",
        "capstoneNLP_DF = pd.read_excel(project_path+'input_data.xlsx')"
      ],
      "execution_count": null,
      "outputs": []
    },
    {
      "cell_type": "code",
      "metadata": {
        "colab_type": "code",
        "id": "LDIq664H3jl8",
        "colab": {
          "base_uri": "https://localhost:8080/",
          "height": 225
        },
        "outputId": "391842b9-6afe-4266-87aa-bb5638f64bfb"
      },
      "source": [
        "# Display shape and header\n",
        "\n",
        "print(capstoneNLP_DF.shape)\n",
        "capstoneNLP_DF.head()"
      ],
      "execution_count": null,
      "outputs": [
        {
          "output_type": "stream",
          "text": [
            "(8500, 4)\n"
          ],
          "name": "stdout"
        },
        {
          "output_type": "execute_result",
          "data": {
            "text/html": [
              "<div>\n",
              "<style scoped>\n",
              "    .dataframe tbody tr th:only-of-type {\n",
              "        vertical-align: middle;\n",
              "    }\n",
              "\n",
              "    .dataframe tbody tr th {\n",
              "        vertical-align: top;\n",
              "    }\n",
              "\n",
              "    .dataframe thead th {\n",
              "        text-align: right;\n",
              "    }\n",
              "</style>\n",
              "<table border=\"1\" class=\"dataframe\">\n",
              "  <thead>\n",
              "    <tr style=\"text-align: right;\">\n",
              "      <th></th>\n",
              "      <th>Short description</th>\n",
              "      <th>Description</th>\n",
              "      <th>Caller</th>\n",
              "      <th>Assignment group</th>\n",
              "    </tr>\n",
              "  </thead>\n",
              "  <tbody>\n",
              "    <tr>\n",
              "      <th>0</th>\n",
              "      <td>login issue</td>\n",
              "      <td>-verified user details.(employee# &amp; manager na...</td>\n",
              "      <td>spxjnwir pjlcoqds</td>\n",
              "      <td>GRP_0</td>\n",
              "    </tr>\n",
              "    <tr>\n",
              "      <th>1</th>\n",
              "      <td>outlook</td>\n",
              "      <td>\\r\\n\\r\\nreceived from: hmjdrvpb.komuaywn@gmail...</td>\n",
              "      <td>hmjdrvpb komuaywn</td>\n",
              "      <td>GRP_0</td>\n",
              "    </tr>\n",
              "    <tr>\n",
              "      <th>2</th>\n",
              "      <td>cant log in to vpn</td>\n",
              "      <td>\\r\\n\\r\\nreceived from: eylqgodm.ybqkwiam@gmail...</td>\n",
              "      <td>eylqgodm ybqkwiam</td>\n",
              "      <td>GRP_0</td>\n",
              "    </tr>\n",
              "    <tr>\n",
              "      <th>3</th>\n",
              "      <td>unable to access hr_tool page</td>\n",
              "      <td>unable to access hr_tool page</td>\n",
              "      <td>xbkucsvz gcpydteq</td>\n",
              "      <td>GRP_0</td>\n",
              "    </tr>\n",
              "    <tr>\n",
              "      <th>4</th>\n",
              "      <td>skype error</td>\n",
              "      <td>skype error</td>\n",
              "      <td>owlgqjme qhcozdfx</td>\n",
              "      <td>GRP_0</td>\n",
              "    </tr>\n",
              "  </tbody>\n",
              "</table>\n",
              "</div>"
            ],
            "text/plain": [
              "               Short description  ... Assignment group\n",
              "0                    login issue  ...            GRP_0\n",
              "1                        outlook  ...            GRP_0\n",
              "2             cant log in to vpn  ...            GRP_0\n",
              "3  unable to access hr_tool page  ...            GRP_0\n",
              "4                   skype error   ...            GRP_0\n",
              "\n",
              "[5 rows x 4 columns]"
            ]
          },
          "metadata": {
            "tags": []
          },
          "execution_count": 97
        }
      ]
    },
    {
      "cell_type": "code",
      "metadata": {
        "id": "aogWZ7OE5xvI",
        "colab_type": "code",
        "colab": {
          "base_uri": "https://localhost:8080/",
          "height": 143
        },
        "outputId": "6a48ccc8-5aa4-49a9-e8f1-b9c6f39e0590"
      },
      "source": [
        "# Descriptive statistics gives us a lot more insight, just like knowing that 2,948 Callers generated these 8,491 tickets\n",
        "capstoneNLP_DF.describe().T"
      ],
      "execution_count": null,
      "outputs": [
        {
          "output_type": "execute_result",
          "data": {
            "text/html": [
              "<div>\n",
              "<style scoped>\n",
              "    .dataframe tbody tr th:only-of-type {\n",
              "        vertical-align: middle;\n",
              "    }\n",
              "\n",
              "    .dataframe tbody tr th {\n",
              "        vertical-align: top;\n",
              "    }\n",
              "\n",
              "    .dataframe thead th {\n",
              "        text-align: right;\n",
              "    }\n",
              "</style>\n",
              "<table border=\"1\" class=\"dataframe\">\n",
              "  <thead>\n",
              "    <tr style=\"text-align: right;\">\n",
              "      <th></th>\n",
              "      <th>count</th>\n",
              "      <th>unique</th>\n",
              "      <th>top</th>\n",
              "      <th>freq</th>\n",
              "    </tr>\n",
              "  </thead>\n",
              "  <tbody>\n",
              "    <tr>\n",
              "      <th>Caller</th>\n",
              "      <td>8491</td>\n",
              "      <td>2948</td>\n",
              "      <td>bpctwhsn kzqsbmtp</td>\n",
              "      <td>810</td>\n",
              "    </tr>\n",
              "    <tr>\n",
              "      <th>AssigGrp</th>\n",
              "      <td>8491</td>\n",
              "      <td>74</td>\n",
              "      <td>GRP_0</td>\n",
              "      <td>3968</td>\n",
              "    </tr>\n",
              "    <tr>\n",
              "      <th>Text</th>\n",
              "      <td>8491</td>\n",
              "      <td>7887</td>\n",
              "      <td>windows password resetwindows password reset</td>\n",
              "      <td>29</td>\n",
              "    </tr>\n",
              "  </tbody>\n",
              "</table>\n",
              "</div>"
            ],
            "text/plain": [
              "         count unique                                           top  freq\n",
              "Caller    8491   2948                             bpctwhsn kzqsbmtp   810\n",
              "AssigGrp  8491     74                                         GRP_0  3968\n",
              "Text      8491   7887  windows password resetwindows password reset    29"
            ]
          },
          "metadata": {
            "tags": []
          },
          "execution_count": 74
        }
      ]
    },
    {
      "cell_type": "code",
      "metadata": {
        "id": "WIy9ODWL1Bl_",
        "colab_type": "code",
        "colab": {}
      },
      "source": [
        ""
      ],
      "execution_count": null,
      "outputs": []
    },
    {
      "cell_type": "markdown",
      "metadata": {
        "colab_type": "text",
        "id": "OalN2vxl1C8d"
      },
      "source": [
        "#####**Concatenate necessary fields and drop unnecessary ones**\n",
        "\n",
        "Not all the source text is important, so we need to concatenate the useful ones and drop the un-necessary ones."
      ]
    },
    {
      "cell_type": "code",
      "metadata": {
        "colab_type": "code",
        "id": "ByxsYSfx1C8l",
        "colab": {
          "base_uri": "https://localhost:8080/",
          "height": 197
        },
        "outputId": "73ad21a7-188a-406c-db13-a0074f03a663"
      },
      "source": [
        "# Concatenate fields\n",
        "capstoneNLP_DF['Text'] = capstoneNLP_DF['Short description'] + capstoneNLP_DF['Description']\n",
        "\n",
        "# Dropping unnecessary fields\n",
        "capstoneNLP_DF = capstoneNLP_DF.drop(['Short description','Description'], 1)\n",
        "\n",
        "# Renaming the \"Assignment group\" for ease of usage\n",
        "capstoneNLP_DF = capstoneNLP_DF.rename(columns = {\"Assignment group\": \"Groups\"})\n",
        "\n",
        "capstoneNLP_DF.head()"
      ],
      "execution_count": null,
      "outputs": [
        {
          "output_type": "execute_result",
          "data": {
            "text/html": [
              "<div>\n",
              "<style scoped>\n",
              "    .dataframe tbody tr th:only-of-type {\n",
              "        vertical-align: middle;\n",
              "    }\n",
              "\n",
              "    .dataframe tbody tr th {\n",
              "        vertical-align: top;\n",
              "    }\n",
              "\n",
              "    .dataframe thead th {\n",
              "        text-align: right;\n",
              "    }\n",
              "</style>\n",
              "<table border=\"1\" class=\"dataframe\">\n",
              "  <thead>\n",
              "    <tr style=\"text-align: right;\">\n",
              "      <th></th>\n",
              "      <th>Caller</th>\n",
              "      <th>Groups</th>\n",
              "      <th>Text</th>\n",
              "    </tr>\n",
              "  </thead>\n",
              "  <tbody>\n",
              "    <tr>\n",
              "      <th>0</th>\n",
              "      <td>spxjnwir pjlcoqds</td>\n",
              "      <td>GRP_0</td>\n",
              "      <td>login issue-verified user details.(employee# &amp;...</td>\n",
              "    </tr>\n",
              "    <tr>\n",
              "      <th>1</th>\n",
              "      <td>hmjdrvpb komuaywn</td>\n",
              "      <td>GRP_0</td>\n",
              "      <td>outlook\\r\\n\\r\\nreceived from: hmjdrvpb.komuayw...</td>\n",
              "    </tr>\n",
              "    <tr>\n",
              "      <th>2</th>\n",
              "      <td>eylqgodm ybqkwiam</td>\n",
              "      <td>GRP_0</td>\n",
              "      <td>cant log in to vpn\\r\\n\\r\\nreceived from: eylqg...</td>\n",
              "    </tr>\n",
              "    <tr>\n",
              "      <th>3</th>\n",
              "      <td>xbkucsvz gcpydteq</td>\n",
              "      <td>GRP_0</td>\n",
              "      <td>unable to access hr_tool pageunable to access ...</td>\n",
              "    </tr>\n",
              "    <tr>\n",
              "      <th>4</th>\n",
              "      <td>owlgqjme qhcozdfx</td>\n",
              "      <td>GRP_0</td>\n",
              "      <td>skype error skype error</td>\n",
              "    </tr>\n",
              "  </tbody>\n",
              "</table>\n",
              "</div>"
            ],
            "text/plain": [
              "              Caller Groups                                               Text\n",
              "0  spxjnwir pjlcoqds  GRP_0  login issue-verified user details.(employee# &...\n",
              "1  hmjdrvpb komuaywn  GRP_0  outlook\\r\\n\\r\\nreceived from: hmjdrvpb.komuayw...\n",
              "2  eylqgodm ybqkwiam  GRP_0  cant log in to vpn\\r\\n\\r\\nreceived from: eylqg...\n",
              "3  xbkucsvz gcpydteq  GRP_0  unable to access hr_tool pageunable to access ...\n",
              "4  owlgqjme qhcozdfx  GRP_0                           skype error skype error "
            ]
          },
          "metadata": {
            "tags": []
          },
          "execution_count": 7
        }
      ]
    },
    {
      "cell_type": "code",
      "metadata": {
        "colab_type": "code",
        "id": "AJkSbUWm1C9D",
        "colab": {
          "base_uri": "https://localhost:8080/",
          "height": 87
        },
        "outputId": "287f08a5-caa4-4022-e95f-1c06c52f3ba7"
      },
      "source": [
        "# Check for null data\n",
        "print(capstoneNLP_DF.isnull().any(axis = 0))"
      ],
      "execution_count": null,
      "outputs": [
        {
          "output_type": "stream",
          "text": [
            "Caller    False\n",
            "Groups    False\n",
            "Text       True\n",
            "dtype: bool\n"
          ],
          "name": "stdout"
        }
      ]
    },
    {
      "cell_type": "code",
      "metadata": {
        "colab_type": "code",
        "id": "mWayCZBErM3l",
        "colab": {
          "base_uri": "https://localhost:8080/",
          "height": 247
        },
        "outputId": "c96a2066-6b65-4a13-f11a-53d9966a839c"
      },
      "source": [
        "# See how the Assignment group \"Groups\" stands as per number of count of records\n",
        "groupy = capstoneNLP_DF.groupby('Groups').size().sort_values(ascending=False)#[:60]\n",
        "groupy"
      ],
      "execution_count": null,
      "outputs": [
        {
          "output_type": "execute_result",
          "data": {
            "text/plain": [
              "Groups\n",
              "GRP_0     3976\n",
              "GRP_8      661\n",
              "GRP_24     289\n",
              "GRP_12     257\n",
              "GRP_9      252\n",
              "          ... \n",
              "GRP_67       1\n",
              "GRP_61       1\n",
              "GRP_73       1\n",
              "GRP_35       1\n",
              "GRP_70       1\n",
              "Length: 74, dtype: int64"
            ]
          },
          "metadata": {
            "tags": []
          },
          "execution_count": 9
        }
      ]
    },
    {
      "cell_type": "markdown",
      "metadata": {
        "colab_type": "text",
        "id": "oUCdOZa0rhef"
      },
      "source": [
        "#####**Observation:** \n",
        "We have 74 categories as shown above."
      ]
    },
    {
      "cell_type": "code",
      "metadata": {
        "colab_type": "code",
        "id": "CwcgP_2CrM-n",
        "colab": {
          "base_uri": "https://localhost:8080/",
          "height": 1000
        },
        "outputId": "81c79f10-8dc9-4110-e654-d141b5d4199c"
      },
      "source": [
        "# See how the Assignment group \"Groups\" stands as per number of count of records\n",
        "# In 60 GRP displays we have 11 single digit; that means the rest from 61 to 74 are single digits. we have 25 single digits (i.e. 25 Groups\n",
        "# have fewer incidents)\n",
        "groupy = capstoneNLP_DF.groupby('Groups').size().sort_values(ascending=False)[:60]\n",
        "groupy"
      ],
      "execution_count": null,
      "outputs": [
        {
          "output_type": "execute_result",
          "data": {
            "text/plain": [
              "Groups\n",
              "GRP_0     3976\n",
              "GRP_8      661\n",
              "GRP_24     289\n",
              "GRP_12     257\n",
              "GRP_9      252\n",
              "GRP_2      241\n",
              "GRP_19     215\n",
              "GRP_3      200\n",
              "GRP_6      184\n",
              "GRP_13     145\n",
              "GRP_10     140\n",
              "GRP_5      129\n",
              "GRP_14     118\n",
              "GRP_25     116\n",
              "GRP_33     107\n",
              "GRP_4      100\n",
              "GRP_29      97\n",
              "GRP_18      88\n",
              "GRP_16      85\n",
              "GRP_17      81\n",
              "GRP_31      69\n",
              "GRP_7       68\n",
              "GRP_34      62\n",
              "GRP_26      56\n",
              "GRP_40      45\n",
              "GRP_28      44\n",
              "GRP_41      40\n",
              "GRP_30      39\n",
              "GRP_15      39\n",
              "GRP_42      37\n",
              "GRP_20      36\n",
              "GRP_45      35\n",
              "GRP_22      31\n",
              "GRP_1       31\n",
              "GRP_11      30\n",
              "GRP_21      29\n",
              "GRP_47      27\n",
              "GRP_48      25\n",
              "GRP_23      25\n",
              "GRP_62      25\n",
              "GRP_60      20\n",
              "GRP_39      19\n",
              "GRP_27      18\n",
              "GRP_37      16\n",
              "GRP_44      15\n",
              "GRP_36      15\n",
              "GRP_50      14\n",
              "GRP_53      11\n",
              "GRP_65      11\n",
              "GRP_52       9\n",
              "GRP_55       8\n",
              "GRP_51       8\n",
              "GRP_49       6\n",
              "GRP_59       6\n",
              "GRP_46       6\n",
              "GRP_43       5\n",
              "GRP_32       4\n",
              "GRP_66       4\n",
              "GRP_38       3\n",
              "GRP_56       3\n",
              "dtype: int64"
            ]
          },
          "metadata": {
            "tags": []
          },
          "execution_count": 10
        }
      ]
    },
    {
      "cell_type": "code",
      "metadata": {
        "colab_type": "code",
        "id": "eWf8Jtn_rNEu",
        "colab": {
          "base_uri": "https://localhost:8080/",
          "height": 247
        },
        "outputId": "8fc89523-4341-4db4-9d12-bc2a85fa7b4b"
      },
      "source": [
        "# See how the 'caller' attribute stands as per number of count of records\n",
        "callers = capstoneNLP_DF.groupby('Caller').size().sort_values(ascending=False)#[:60]\n",
        "callers"
      ],
      "execution_count": null,
      "outputs": [
        {
          "output_type": "execute_result",
          "data": {
            "text/plain": [
              "Caller\n",
              "bpctwhsn kzqsbmtp    810\n",
              "ZkBogxib QsEJzdZO    151\n",
              "fumkcsji sarmtlhy    134\n",
              "rbozivdq gmlhrtvp     87\n",
              "rkupnshb gsmzfojw     71\n",
              "                    ... \n",
              "kcldufqe xghvrzoi      1\n",
              "kclhqspo xvugztyc      1\n",
              "tbloeczi gxlmeyph      1\n",
              "kcqzrgef awnjdlyr      1\n",
              "nhixruet elnjqdwg      1\n",
              "Length: 2950, dtype: int64"
            ]
          },
          "metadata": {
            "tags": []
          },
          "execution_count": 11
        }
      ]
    },
    {
      "cell_type": "code",
      "metadata": {
        "colab_type": "code",
        "id": "jyiHcxzNrNKN",
        "colab": {
          "base_uri": "https://localhost:8080/",
          "height": 1000
        },
        "outputId": "d058c5cd-e204-4904-d7c6-35ca7b17785c"
      },
      "source": [
        "# See how the 'caller' attribute stands as per number of count of records\n",
        "callers = capstoneNLP_DF.groupby('Caller').size().sort_values(ascending=False)[:60]\n",
        "callers"
      ],
      "execution_count": null,
      "outputs": [
        {
          "output_type": "execute_result",
          "data": {
            "text/plain": [
              "Caller\n",
              "bpctwhsn kzqsbmtp    810\n",
              "ZkBogxib QsEJzdZO    151\n",
              "fumkcsji sarmtlhy    134\n",
              "rbozivdq gmlhrtvp     87\n",
              "rkupnshb gsmzfojw     71\n",
              "jloygrwh acvztedi     64\n",
              "spxqmiry zpwgoqju     63\n",
              "oldrctiu bxurpsyi     57\n",
              "olckhmvx pcqobjnd     54\n",
              "dkmcfreg anwmfvlg     51\n",
              "jyoqwxhz clhxsoqy     51\n",
              "efbwiadp dicafxhv     45\n",
              "afkstcev utbnkyop     32\n",
              "gzhapcld fdigznbk     30\n",
              "mnlazfsr mtqrkhnx     28\n",
              "uvrbhlnt bjrmalzi     27\n",
              "entuakhp xrnhtdmk     25\n",
              "vzqomdgt jwoqbuml     24\n",
              "jionmpsf wnkpzcmv     24\n",
              "bozdftwx smylqejw     23\n",
              "rxoynvgi ntgdsehl     21\n",
              "qasdhyzm yuglsrwx     21\n",
              "utyeofsk rdyzpwhi     21\n",
              "vbwszcqn nlbqsuyv     19\n",
              "ugyothfz ugrmkdhx     17\n",
              "hbmwlprq ilfvyodx     17\n",
              "ughzilfm cfibdamq     16\n",
              "pfzxecbo ptygkvzl     16\n",
              "niptbwdq csenjruz     16\n",
              "vfrdxtqw jfbmsenz     16\n",
              "uxgrdjfc kqxdjeov     15\n",
              "mfeyouli ndobtzpw     15\n",
              "ctvaejbo mjcerqwo     14\n",
              "xwirzvda okhyipgr     14\n",
              "obanjrhg rnafleys     13\n",
              "aorthyme rnsuipbk     13\n",
              "wktesmbp lorjymef     13\n",
              "tqfnalpj qyoscnge     13\n",
              "zuxcfonv nyhpkrbe     12\n",
              "rdfjsawg zpmxgdcw     12\n",
              "qcfmxgid jvxanwre     12\n",
              "qcehailo wqynckxg     12\n",
              "kbnfxpsy gehxzayq     12\n",
              "ayrhcfxi zartupsw     12\n",
              "ijplstng juybetlo     12\n",
              "vkzwafuh tcjnuswg     12\n",
              "lwgytuxq qspdztiw     12\n",
              "wvngzrca sfmrzdth     12\n",
              "qftpazns fxpnytmk     12\n",
              "crkdjbot qiztrxne     11\n",
              "gzjtweph mnslwfqv     11\n",
              "atlwdyej vtlhzbix     11\n",
              "fdmaluyo tvecikxn     11\n",
              "eqzibjhw ymebpoih     11\n",
              "ugephfta hrbqkvij     11\n",
              "gjtyswkb dpvaymxr     11\n",
              "htsnaodb adjtmlzn     11\n",
              "gakceqyb edrjthvo     11\n",
              "mdbegvct dbvichlg     11\n",
              "wqfzjycu omleknjd     11\n",
              "dtype: int64"
            ]
          },
          "metadata": {
            "tags": []
          },
          "execution_count": 12
        }
      ]
    },
    {
      "cell_type": "code",
      "metadata": {
        "colab_type": "code",
        "id": "KmyvMz-VrNOA",
        "colab": {
          "base_uri": "https://localhost:8080/",
          "height": 528
        },
        "outputId": "9d127292-af15-4c72-ca7b-b912fb7c0acc"
      },
      "source": [
        "# Visualize the distribution in Group assignment (which is heavily skewed)\n",
        "import matplotlib.pyplot as plt\n",
        "plt.figure(figsize=[20,8])\n",
        "capstoneNLP_DF['Groups'].value_counts().plot(kind='bar')"
      ],
      "execution_count": null,
      "outputs": [
        {
          "output_type": "execute_result",
          "data": {
            "text/plain": [
              "<matplotlib.axes._subplots.AxesSubplot at 0x7faeceaa5e10>"
            ]
          },
          "metadata": {
            "tags": []
          },
          "execution_count": 13
        },
        {
          "output_type": "display_data",
          "data": {
            "image/png": "[encoded data removed]",
            "text/plain": [
              "<Figure size 1440x576 with 1 Axes>"
            ]
          },
          "metadata": {
            "tags": [],
            "needs_background": "light"
          }
        }
      ]
    },
    {
      "cell_type": "code",
      "metadata": {
        "colab_type": "code",
        "id": "-bcHRyk8rNIt",
        "colab": {
          "base_uri": "https://localhost:8080/",
          "height": 514
        },
        "outputId": "edb290bb-abb7-4b0f-8c14-513746e8d0ba"
      },
      "source": [
        "# Visualize the distribution in caller attribute (apart from the highers caller, we have about 15 more who are notable)\n",
        "import matplotlib.pyplot as plt\n",
        "fig, ax = plt.subplots(figsize=(20,8))\n",
        "capstoneNLP_DF.groupby(['Caller']).count()['Text'].plot(ax=ax)"
      ],
      "execution_count": null,
      "outputs": [
        {
          "output_type": "execute_result",
          "data": {
            "text/plain": [
              "<matplotlib.axes._subplots.AxesSubplot at 0x7faece91a630>"
            ]
          },
          "metadata": {
            "tags": []
          },
          "execution_count": 14
        },
        {
          "output_type": "display_data",
          "data": {
            "image/png": "[encoded data removed]",
            "text/plain": [
              "<Figure size 1440x576 with 1 Axes>"
            ]
          },
          "metadata": {
            "tags": [],
            "needs_background": "light"
          }
        }
      ]
    },
    {
      "cell_type": "code",
      "metadata": {
        "colab_type": "code",
        "id": "xXNDCNfQr3XV",
        "colab": {
          "base_uri": "https://localhost:8080/",
          "height": 535
        },
        "outputId": "59dd099e-5179-46a7-d6f4-77fc418fd6a9"
      },
      "source": [
        "# this histogram shows a little bit more about the groups\n",
        "plt.figure(figsize=[40,15])\n",
        "bins = [0, 1,\t2,\t3,\t4,\t5,\t6,\t7,\t8,\t9,\t10,\t11,\t12,\t13,\t14,\t15,\t16,\t17,\t18,\t19,\t20,\t21,\t22,\t23,\t24,\t25,\t26,\t27,\t28,\t29,\t30,\t31,\t32,\t33,\t34,\t35,\t36,\t37,\t38,\t39,\t40,\t41,\t42,\t43,\t44,\t45,\t46,\t47,\t48,\t49,\t50,\t51,\t52,\t53,\t54,\t55,\t56,\t57,\t58,\t59,\t60,\t61,\t62,\t63,\t64,\t65,\t66,\t67,\t68,\t69,\t70,\t71,\t72,\t73,\t74,\t75] # Representing the GRP_0 to GRP_70\n",
        "plt.hist(capstoneNLP_DF.Groups,bins, edgecolor = 'black')\n",
        "plt.show()"
      ],
      "execution_count": null,
      "outputs": [
        {
          "output_type": "display_data",
          "data": {
            "image/png": "[encoded data removed]",
            "text/plain": [
              "<Figure size 2880x1080 with 1 Axes>"
            ]
          },
          "metadata": {
            "tags": [],
            "needs_background": "light"
          }
        }
      ]
    },
    {
      "cell_type": "code",
      "metadata": {
        "colab_type": "code",
        "id": "GKkD-UgPr3oF",
        "colab": {
          "base_uri": "https://localhost:8080/",
          "height": 483
        },
        "outputId": "2613dc49-a7aa-41e8-b206-f1b236d39db5"
      },
      "source": [
        "\n",
        "# this histogram shows a little bit more about the callers\n",
        "plt.figure(figsize=[10,8])\n",
        "bins = [5,10,15,20,25,30,35,40,45,50,55,60,65,70,75] # Representing the caller\n",
        "plt.hist(capstoneNLP_DF.Caller,bins, edgecolor = 'black')\n",
        "plt.show()"
      ],
      "execution_count": null,
      "outputs": [
        {
          "output_type": "display_data",
          "data": {
            "image/png": "[encoded data removed]",
            "text/plain": [
              "<Figure size 720x576 with 1 Axes>"
            ]
          },
          "metadata": {
            "tags": [],
            "needs_background": "light"
          }
        }
      ]
    },
    {
      "cell_type": "markdown",
      "metadata": {
        "colab_type": "text",
        "id": "ek6U3gBcsm-r"
      },
      "source": [
        "#####**Observations:**\n",
        "GRP_0 greatly out weighs the rest.\n",
        "It is either:\n",
        "1. Process of Login is very difficult\n",
        "2. The user interface is not friendly \n",
        "3. The users are novices and need lots of help or they are first timers to this type of technology"
      ]
    },
    {
      "cell_type": "code",
      "metadata": {
        "colab_type": "code",
        "id": "Q7HC7xVdr32y",
        "colab": {
          "base_uri": "https://localhost:8080/",
          "height": 197
        },
        "outputId": "c1c219fb-79f5-4557-c338-27db72d72aa6"
      },
      "source": [
        "# Going forward we will drop the 'Caller' attribute, which we do not need for further work\n",
        "capstoneNLP_DF = capstoneNLP_DF.drop(['Caller'], 1)\n",
        "capstoneNLP_DF.head()"
      ],
      "execution_count": null,
      "outputs": [
        {
          "output_type": "execute_result",
          "data": {
            "text/html": [
              "<div>\n",
              "<style scoped>\n",
              "    .dataframe tbody tr th:only-of-type {\n",
              "        vertical-align: middle;\n",
              "    }\n",
              "\n",
              "    .dataframe tbody tr th {\n",
              "        vertical-align: top;\n",
              "    }\n",
              "\n",
              "    .dataframe thead th {\n",
              "        text-align: right;\n",
              "    }\n",
              "</style>\n",
              "<table border=\"1\" class=\"dataframe\">\n",
              "  <thead>\n",
              "    <tr style=\"text-align: right;\">\n",
              "      <th></th>\n",
              "      <th>Groups</th>\n",
              "      <th>Text</th>\n",
              "    </tr>\n",
              "  </thead>\n",
              "  <tbody>\n",
              "    <tr>\n",
              "      <th>0</th>\n",
              "      <td>GRP_0</td>\n",
              "      <td>login issue-verified user details.(employee# &amp;...</td>\n",
              "    </tr>\n",
              "    <tr>\n",
              "      <th>1</th>\n",
              "      <td>GRP_0</td>\n",
              "      <td>outlook\\r\\n\\r\\nreceived from: hmjdrvpb.komuayw...</td>\n",
              "    </tr>\n",
              "    <tr>\n",
              "      <th>2</th>\n",
              "      <td>GRP_0</td>\n",
              "      <td>cant log in to vpn\\r\\n\\r\\nreceived from: eylqg...</td>\n",
              "    </tr>\n",
              "    <tr>\n",
              "      <th>3</th>\n",
              "      <td>GRP_0</td>\n",
              "      <td>unable to access hr_tool pageunable to access ...</td>\n",
              "    </tr>\n",
              "    <tr>\n",
              "      <th>4</th>\n",
              "      <td>GRP_0</td>\n",
              "      <td>skype error skype error</td>\n",
              "    </tr>\n",
              "  </tbody>\n",
              "</table>\n",
              "</div>"
            ],
            "text/plain": [
              "  Groups                                               Text\n",
              "0  GRP_0  login issue-verified user details.(employee# &...\n",
              "1  GRP_0  outlook\\r\\n\\r\\nreceived from: hmjdrvpb.komuayw...\n",
              "2  GRP_0  cant log in to vpn\\r\\n\\r\\nreceived from: eylqg...\n",
              "3  GRP_0  unable to access hr_tool pageunable to access ...\n",
              "4  GRP_0                           skype error skype error "
            ]
          },
          "metadata": {
            "tags": []
          },
          "execution_count": 17
        }
      ]
    },
    {
      "cell_type": "code",
      "metadata": {
        "colab_type": "code",
        "id": "4nX4wKldr4Bj",
        "colab": {}
      },
      "source": [
        "###############   NLP Project Notes 1_Codes Ends Here ###############"
      ],
      "execution_count": null,
      "outputs": []
    },
    {
      "cell_type": "code",
      "metadata": {
        "id": "2glz2FAy1ByI",
        "colab_type": "code",
        "colab": {}
      },
      "source": [
        ""
      ],
      "execution_count": null,
      "outputs": []
    },
    {
      "cell_type": "code",
      "metadata": {
        "id": "ZLAskZps7J4D",
        "colab_type": "code",
        "colab": {}
      },
      "source": [
        ""
      ],
      "execution_count": null,
      "outputs": []
    },
    {
      "cell_type": "markdown",
      "metadata": {
        "colab_type": "text",
        "id": "da9U1j9csyIU"
      },
      "source": [
        "<h2>02-NLP Project Notes 2</h2>"
      ]
    },
    {
      "cell_type": "markdown",
      "metadata": {
        "colab_type": "text",
        "id": "81TTwRAXs5LJ"
      },
      "source": [
        "##**1) Model Building**\n",
        "###**a) ​Prepare the data for model building. Split data into train and validation sets.**"
      ]
    },
    {
      "cell_type": "code",
      "metadata": {
        "colab_type": "code",
        "id": "clh0vzXPLGWj",
        "colab": {}
      },
      "source": [
        "# Carry out onehot encoding of the target variable\n",
        "target = pd.get_dummies(capstoneNLP_DF['Groups'])\n",
        "target_labels = target.columns"
      ],
      "execution_count": null,
      "outputs": []
    },
    {
      "cell_type": "code",
      "metadata": {
        "colab_type": "code",
        "id": "8JvehMkjNjI0",
        "colab": {
          "base_uri": "https://localhost:8080/",
          "height": 217
        },
        "outputId": "e62d142a-92c4-4fe8-f90b-b8b0205e33fd"
      },
      "source": [
        "target.head()"
      ],
      "execution_count": null,
      "outputs": [
        {
          "output_type": "execute_result",
          "data": {
            "text/html": [
              "<div>\n",
              "<style scoped>\n",
              "    .dataframe tbody tr th:only-of-type {\n",
              "        vertical-align: middle;\n",
              "    }\n",
              "\n",
              "    .dataframe tbody tr th {\n",
              "        vertical-align: top;\n",
              "    }\n",
              "\n",
              "    .dataframe thead th {\n",
              "        text-align: right;\n",
              "    }\n",
              "</style>\n",
              "<table border=\"1\" class=\"dataframe\">\n",
              "  <thead>\n",
              "    <tr style=\"text-align: right;\">\n",
              "      <th></th>\n",
              "      <th>GRP_0</th>\n",
              "      <th>GRP_1</th>\n",
              "      <th>GRP_10</th>\n",
              "      <th>GRP_11</th>\n",
              "      <th>GRP_12</th>\n",
              "      <th>GRP_13</th>\n",
              "      <th>GRP_14</th>\n",
              "      <th>GRP_15</th>\n",
              "      <th>GRP_16</th>\n",
              "      <th>GRP_17</th>\n",
              "      <th>GRP_18</th>\n",
              "      <th>GRP_19</th>\n",
              "      <th>GRP_2</th>\n",
              "      <th>GRP_20</th>\n",
              "      <th>GRP_21</th>\n",
              "      <th>GRP_22</th>\n",
              "      <th>GRP_23</th>\n",
              "      <th>GRP_24</th>\n",
              "      <th>GRP_25</th>\n",
              "      <th>GRP_26</th>\n",
              "      <th>GRP_27</th>\n",
              "      <th>GRP_28</th>\n",
              "      <th>GRP_29</th>\n",
              "      <th>GRP_3</th>\n",
              "      <th>GRP_30</th>\n",
              "      <th>GRP_31</th>\n",
              "      <th>GRP_32</th>\n",
              "      <th>GRP_33</th>\n",
              "      <th>GRP_34</th>\n",
              "      <th>GRP_35</th>\n",
              "      <th>GRP_36</th>\n",
              "      <th>GRP_37</th>\n",
              "      <th>GRP_38</th>\n",
              "      <th>GRP_39</th>\n",
              "      <th>GRP_4</th>\n",
              "      <th>GRP_40</th>\n",
              "      <th>GRP_41</th>\n",
              "      <th>GRP_42</th>\n",
              "      <th>GRP_43</th>\n",
              "      <th>GRP_44</th>\n",
              "      <th>GRP_45</th>\n",
              "      <th>GRP_46</th>\n",
              "      <th>GRP_47</th>\n",
              "      <th>GRP_48</th>\n",
              "      <th>GRP_49</th>\n",
              "      <th>GRP_5</th>\n",
              "      <th>GRP_50</th>\n",
              "      <th>GRP_51</th>\n",
              "      <th>GRP_52</th>\n",
              "      <th>GRP_53</th>\n",
              "      <th>GRP_54</th>\n",
              "      <th>GRP_55</th>\n",
              "      <th>GRP_56</th>\n",
              "      <th>GRP_57</th>\n",
              "      <th>GRP_58</th>\n",
              "      <th>GRP_59</th>\n",
              "      <th>GRP_6</th>\n",
              "      <th>GRP_60</th>\n",
              "      <th>GRP_61</th>\n",
              "      <th>GRP_62</th>\n",
              "      <th>GRP_63</th>\n",
              "      <th>GRP_64</th>\n",
              "      <th>GRP_65</th>\n",
              "      <th>GRP_66</th>\n",
              "      <th>GRP_67</th>\n",
              "      <th>GRP_68</th>\n",
              "      <th>GRP_69</th>\n",
              "      <th>GRP_7</th>\n",
              "      <th>GRP_70</th>\n",
              "      <th>GRP_71</th>\n",
              "      <th>GRP_72</th>\n",
              "      <th>GRP_73</th>\n",
              "      <th>GRP_8</th>\n",
              "      <th>GRP_9</th>\n",
              "    </tr>\n",
              "  </thead>\n",
              "  <tbody>\n",
              "    <tr>\n",
              "      <th>0</th>\n",
              "      <td>1</td>\n",
              "      <td>0</td>\n",
              "      <td>0</td>\n",
              "      <td>0</td>\n",
              "      <td>0</td>\n",
              "      <td>0</td>\n",
              "      <td>0</td>\n",
              "      <td>0</td>\n",
              "      <td>0</td>\n",
              "      <td>0</td>\n",
              "      <td>0</td>\n",
              "      <td>0</td>\n",
              "      <td>0</td>\n",
              "      <td>0</td>\n",
              "      <td>0</td>\n",
              "      <td>0</td>\n",
              "      <td>0</td>\n",
              "      <td>0</td>\n",
              "      <td>0</td>\n",
              "      <td>0</td>\n",
              "      <td>0</td>\n",
              "      <td>0</td>\n",
              "      <td>0</td>\n",
              "      <td>0</td>\n",
              "      <td>0</td>\n",
              "      <td>0</td>\n",
              "      <td>0</td>\n",
              "      <td>0</td>\n",
              "      <td>0</td>\n",
              "      <td>0</td>\n",
              "      <td>0</td>\n",
              "      <td>0</td>\n",
              "      <td>0</td>\n",
              "      <td>0</td>\n",
              "      <td>0</td>\n",
              "      <td>0</td>\n",
              "      <td>0</td>\n",
              "      <td>0</td>\n",
              "      <td>0</td>\n",
              "      <td>0</td>\n",
              "      <td>0</td>\n",
              "      <td>0</td>\n",
              "      <td>0</td>\n",
              "      <td>0</td>\n",
              "      <td>0</td>\n",
              "      <td>0</td>\n",
              "      <td>0</td>\n",
              "      <td>0</td>\n",
              "      <td>0</td>\n",
              "      <td>0</td>\n",
              "      <td>0</td>\n",
              "      <td>0</td>\n",
              "      <td>0</td>\n",
              "      <td>0</td>\n",
              "      <td>0</td>\n",
              "      <td>0</td>\n",
              "      <td>0</td>\n",
              "      <td>0</td>\n",
              "      <td>0</td>\n",
              "      <td>0</td>\n",
              "      <td>0</td>\n",
              "      <td>0</td>\n",
              "      <td>0</td>\n",
              "      <td>0</td>\n",
              "      <td>0</td>\n",
              "      <td>0</td>\n",
              "      <td>0</td>\n",
              "      <td>0</td>\n",
              "      <td>0</td>\n",
              "      <td>0</td>\n",
              "      <td>0</td>\n",
              "      <td>0</td>\n",
              "      <td>0</td>\n",
              "      <td>0</td>\n",
              "    </tr>\n",
              "    <tr>\n",
              "      <th>1</th>\n",
              "      <td>1</td>\n",
              "      <td>0</td>\n",
              "      <td>0</td>\n",
              "      <td>0</td>\n",
              "      <td>0</td>\n",
              "      <td>0</td>\n",
              "      <td>0</td>\n",
              "      <td>0</td>\n",
              "      <td>0</td>\n",
              "      <td>0</td>\n",
              "      <td>0</td>\n",
              "      <td>0</td>\n",
              "      <td>0</td>\n",
              "      <td>0</td>\n",
              "      <td>0</td>\n",
              "      <td>0</td>\n",
              "      <td>0</td>\n",
              "      <td>0</td>\n",
              "      <td>0</td>\n",
              "      <td>0</td>\n",
              "      <td>0</td>\n",
              "      <td>0</td>\n",
              "      <td>0</td>\n",
              "      <td>0</td>\n",
              "      <td>0</td>\n",
              "      <td>0</td>\n",
              "      <td>0</td>\n",
              "      <td>0</td>\n",
              "      <td>0</td>\n",
              "      <td>0</td>\n",
              "      <td>0</td>\n",
              "      <td>0</td>\n",
              "      <td>0</td>\n",
              "      <td>0</td>\n",
              "      <td>0</td>\n",
              "      <td>0</td>\n",
              "      <td>0</td>\n",
              "      <td>0</td>\n",
              "      <td>0</td>\n",
              "      <td>0</td>\n",
              "      <td>0</td>\n",
              "      <td>0</td>\n",
              "      <td>0</td>\n",
              "      <td>0</td>\n",
              "      <td>0</td>\n",
              "      <td>0</td>\n",
              "      <td>0</td>\n",
              "      <td>0</td>\n",
              "      <td>0</td>\n",
              "      <td>0</td>\n",
              "      <td>0</td>\n",
              "      <td>0</td>\n",
              "      <td>0</td>\n",
              "      <td>0</td>\n",
              "      <td>0</td>\n",
              "      <td>0</td>\n",
              "      <td>0</td>\n",
              "      <td>0</td>\n",
              "      <td>0</td>\n",
              "      <td>0</td>\n",
              "      <td>0</td>\n",
              "      <td>0</td>\n",
              "      <td>0</td>\n",
              "      <td>0</td>\n",
              "      <td>0</td>\n",
              "      <td>0</td>\n",
              "      <td>0</td>\n",
              "      <td>0</td>\n",
              "      <td>0</td>\n",
              "      <td>0</td>\n",
              "      <td>0</td>\n",
              "      <td>0</td>\n",
              "      <td>0</td>\n",
              "      <td>0</td>\n",
              "    </tr>\n",
              "    <tr>\n",
              "      <th>2</th>\n",
              "      <td>1</td>\n",
              "      <td>0</td>\n",
              "      <td>0</td>\n",
              "      <td>0</td>\n",
              "      <td>0</td>\n",
              "      <td>0</td>\n",
              "      <td>0</td>\n",
              "      <td>0</td>\n",
              "      <td>0</td>\n",
              "      <td>0</td>\n",
              "      <td>0</td>\n",
              "      <td>0</td>\n",
              "      <td>0</td>\n",
              "      <td>0</td>\n",
              "      <td>0</td>\n",
              "      <td>0</td>\n",
              "      <td>0</td>\n",
              "      <td>0</td>\n",
              "      <td>0</td>\n",
              "      <td>0</td>\n",
              "      <td>0</td>\n",
              "      <td>0</td>\n",
              "      <td>0</td>\n",
              "      <td>0</td>\n",
              "      <td>0</td>\n",
              "      <td>0</td>\n",
              "      <td>0</td>\n",
              "      <td>0</td>\n",
              "      <td>0</td>\n",
              "      <td>0</td>\n",
              "      <td>0</td>\n",
              "      <td>0</td>\n",
              "      <td>0</td>\n",
              "      <td>0</td>\n",
              "      <td>0</td>\n",
              "      <td>0</td>\n",
              "      <td>0</td>\n",
              "      <td>0</td>\n",
              "      <td>0</td>\n",
              "      <td>0</td>\n",
              "      <td>0</td>\n",
              "      <td>0</td>\n",
              "      <td>0</td>\n",
              "      <td>0</td>\n",
              "      <td>0</td>\n",
              "      <td>0</td>\n",
              "      <td>0</td>\n",
              "      <td>0</td>\n",
              "      <td>0</td>\n",
              "      <td>0</td>\n",
              "      <td>0</td>\n",
              "      <td>0</td>\n",
              "      <td>0</td>\n",
              "      <td>0</td>\n",
              "      <td>0</td>\n",
              "      <td>0</td>\n",
              "      <td>0</td>\n",
              "      <td>0</td>\n",
              "      <td>0</td>\n",
              "      <td>0</td>\n",
              "      <td>0</td>\n",
              "      <td>0</td>\n",
              "      <td>0</td>\n",
              "      <td>0</td>\n",
              "      <td>0</td>\n",
              "      <td>0</td>\n",
              "      <td>0</td>\n",
              "      <td>0</td>\n",
              "      <td>0</td>\n",
              "      <td>0</td>\n",
              "      <td>0</td>\n",
              "      <td>0</td>\n",
              "      <td>0</td>\n",
              "      <td>0</td>\n",
              "    </tr>\n",
              "    <tr>\n",
              "      <th>3</th>\n",
              "      <td>1</td>\n",
              "      <td>0</td>\n",
              "      <td>0</td>\n",
              "      <td>0</td>\n",
              "      <td>0</td>\n",
              "      <td>0</td>\n",
              "      <td>0</td>\n",
              "      <td>0</td>\n",
              "      <td>0</td>\n",
              "      <td>0</td>\n",
              "      <td>0</td>\n",
              "      <td>0</td>\n",
              "      <td>0</td>\n",
              "      <td>0</td>\n",
              "      <td>0</td>\n",
              "      <td>0</td>\n",
              "      <td>0</td>\n",
              "      <td>0</td>\n",
              "      <td>0</td>\n",
              "      <td>0</td>\n",
              "      <td>0</td>\n",
              "      <td>0</td>\n",
              "      <td>0</td>\n",
              "      <td>0</td>\n",
              "      <td>0</td>\n",
              "      <td>0</td>\n",
              "      <td>0</td>\n",
              "      <td>0</td>\n",
              "      <td>0</td>\n",
              "      <td>0</td>\n",
              "      <td>0</td>\n",
              "      <td>0</td>\n",
              "      <td>0</td>\n",
              "      <td>0</td>\n",
              "      <td>0</td>\n",
              "      <td>0</td>\n",
              "      <td>0</td>\n",
              "      <td>0</td>\n",
              "      <td>0</td>\n",
              "      <td>0</td>\n",
              "      <td>0</td>\n",
              "      <td>0</td>\n",
              "      <td>0</td>\n",
              "      <td>0</td>\n",
              "      <td>0</td>\n",
              "      <td>0</td>\n",
              "      <td>0</td>\n",
              "      <td>0</td>\n",
              "      <td>0</td>\n",
              "      <td>0</td>\n",
              "      <td>0</td>\n",
              "      <td>0</td>\n",
              "      <td>0</td>\n",
              "      <td>0</td>\n",
              "      <td>0</td>\n",
              "      <td>0</td>\n",
              "      <td>0</td>\n",
              "      <td>0</td>\n",
              "      <td>0</td>\n",
              "      <td>0</td>\n",
              "      <td>0</td>\n",
              "      <td>0</td>\n",
              "      <td>0</td>\n",
              "      <td>0</td>\n",
              "      <td>0</td>\n",
              "      <td>0</td>\n",
              "      <td>0</td>\n",
              "      <td>0</td>\n",
              "      <td>0</td>\n",
              "      <td>0</td>\n",
              "      <td>0</td>\n",
              "      <td>0</td>\n",
              "      <td>0</td>\n",
              "      <td>0</td>\n",
              "    </tr>\n",
              "    <tr>\n",
              "      <th>4</th>\n",
              "      <td>1</td>\n",
              "      <td>0</td>\n",
              "      <td>0</td>\n",
              "      <td>0</td>\n",
              "      <td>0</td>\n",
              "      <td>0</td>\n",
              "      <td>0</td>\n",
              "      <td>0</td>\n",
              "      <td>0</td>\n",
              "      <td>0</td>\n",
              "      <td>0</td>\n",
              "      <td>0</td>\n",
              "      <td>0</td>\n",
              "      <td>0</td>\n",
              "      <td>0</td>\n",
              "      <td>0</td>\n",
              "      <td>0</td>\n",
              "      <td>0</td>\n",
              "      <td>0</td>\n",
              "      <td>0</td>\n",
              "      <td>0</td>\n",
              "      <td>0</td>\n",
              "      <td>0</td>\n",
              "      <td>0</td>\n",
              "      <td>0</td>\n",
              "      <td>0</td>\n",
              "      <td>0</td>\n",
              "      <td>0</td>\n",
              "      <td>0</td>\n",
              "      <td>0</td>\n",
              "      <td>0</td>\n",
              "      <td>0</td>\n",
              "      <td>0</td>\n",
              "      <td>0</td>\n",
              "      <td>0</td>\n",
              "      <td>0</td>\n",
              "      <td>0</td>\n",
              "      <td>0</td>\n",
              "      <td>0</td>\n",
              "      <td>0</td>\n",
              "      <td>0</td>\n",
              "      <td>0</td>\n",
              "      <td>0</td>\n",
              "      <td>0</td>\n",
              "      <td>0</td>\n",
              "      <td>0</td>\n",
              "      <td>0</td>\n",
              "      <td>0</td>\n",
              "      <td>0</td>\n",
              "      <td>0</td>\n",
              "      <td>0</td>\n",
              "      <td>0</td>\n",
              "      <td>0</td>\n",
              "      <td>0</td>\n",
              "      <td>0</td>\n",
              "      <td>0</td>\n",
              "      <td>0</td>\n",
              "      <td>0</td>\n",
              "      <td>0</td>\n",
              "      <td>0</td>\n",
              "      <td>0</td>\n",
              "      <td>0</td>\n",
              "      <td>0</td>\n",
              "      <td>0</td>\n",
              "      <td>0</td>\n",
              "      <td>0</td>\n",
              "      <td>0</td>\n",
              "      <td>0</td>\n",
              "      <td>0</td>\n",
              "      <td>0</td>\n",
              "      <td>0</td>\n",
              "      <td>0</td>\n",
              "      <td>0</td>\n",
              "      <td>0</td>\n",
              "    </tr>\n",
              "  </tbody>\n",
              "</table>\n",
              "</div>"
            ],
            "text/plain": [
              "   GRP_0  GRP_1  GRP_10  GRP_11  GRP_12  ...  GRP_71  GRP_72  GRP_73  GRP_8  GRP_9\n",
              "0      1      0       0       0       0  ...       0       0       0      0      0\n",
              "1      1      0       0       0       0  ...       0       0       0      0      0\n",
              "2      1      0       0       0       0  ...       0       0       0      0      0\n",
              "3      1      0       0       0       0  ...       0       0       0      0      0\n",
              "4      1      0       0       0       0  ...       0       0       0      0      0\n",
              "\n",
              "[5 rows x 74 columns]"
            ]
          },
          "metadata": {
            "tags": []
          },
          "execution_count": 20
        }
      ]
    },
    {
      "cell_type": "code",
      "metadata": {
        "colab_type": "code",
        "id": "OoeJ2hDcOCLv",
        "colab": {
          "base_uri": "https://localhost:8080/",
          "height": 230
        },
        "outputId": "8be8bf1b-cb62-4267-ed67-d06734c63983"
      },
      "source": [
        "target_labels"
      ],
      "execution_count": null,
      "outputs": [
        {
          "output_type": "execute_result",
          "data": {
            "text/plain": [
              "Index(['GRP_0', 'GRP_1', 'GRP_10', 'GRP_11', 'GRP_12', 'GRP_13', 'GRP_14',\n",
              "       'GRP_15', 'GRP_16', 'GRP_17', 'GRP_18', 'GRP_19', 'GRP_2', 'GRP_20',\n",
              "       'GRP_21', 'GRP_22', 'GRP_23', 'GRP_24', 'GRP_25', 'GRP_26', 'GRP_27',\n",
              "       'GRP_28', 'GRP_29', 'GRP_3', 'GRP_30', 'GRP_31', 'GRP_32', 'GRP_33',\n",
              "       'GRP_34', 'GRP_35', 'GRP_36', 'GRP_37', 'GRP_38', 'GRP_39', 'GRP_4',\n",
              "       'GRP_40', 'GRP_41', 'GRP_42', 'GRP_43', 'GRP_44', 'GRP_45', 'GRP_46',\n",
              "       'GRP_47', 'GRP_48', 'GRP_49', 'GRP_5', 'GRP_50', 'GRP_51', 'GRP_52',\n",
              "       'GRP_53', 'GRP_54', 'GRP_55', 'GRP_56', 'GRP_57', 'GRP_58', 'GRP_59',\n",
              "       'GRP_6', 'GRP_60', 'GRP_61', 'GRP_62', 'GRP_63', 'GRP_64', 'GRP_65',\n",
              "       'GRP_66', 'GRP_67', 'GRP_68', 'GRP_69', 'GRP_7', 'GRP_70', 'GRP_71',\n",
              "       'GRP_72', 'GRP_73', 'GRP_8', 'GRP_9'],\n",
              "      dtype='object')"
            ]
          },
          "metadata": {
            "tags": []
          },
          "execution_count": 21
        }
      ]
    },
    {
      "cell_type": "code",
      "metadata": {
        "colab_type": "code",
        "id": "3ZANvXpMJNd9",
        "colab": {
          "base_uri": "https://localhost:8080/",
          "height": 70
        },
        "outputId": "2b1c33e1-5f96-41ed-ff73-87f6c79aedb6"
      },
      "source": [
        "#Let's remove all the records where any row contain a null value or empty string.\n",
        "print(capstoneNLP_DF[\"Text\"][468])"
      ],
      "execution_count": null,
      "outputs": [
        {
          "output_type": "stream",
          "text": [
            "job Job_485 failed in job_scheduler at: 10/25/2016 02:33:00  received from: monitoring_tool@company.com\r\n",
            "\r\n",
            "job Job_485 failed in job_scheduler at: 10/25/2016 02:33:00\n"
          ],
          "name": "stdout"
        }
      ]
    },
    {
      "cell_type": "code",
      "metadata": {
        "colab_type": "code",
        "id": "pzEGa-0KKsI_",
        "colab": {
          "base_uri": "https://localhost:8080/",
          "height": 34
        },
        "outputId": "2c6bf580-0cf3-41fc-df56-6b5d902038b5"
      },
      "source": [
        "#Let's see the associated labels with this Text\n",
        "print(\"Group:\" + str(capstoneNLP_DF[\"Groups\"][468]))"
      ],
      "execution_count": null,
      "outputs": [
        {
          "output_type": "stream",
          "text": [
            "Group:GRP_8\n"
          ],
          "name": "stdout"
        }
      ]
    },
    {
      "cell_type": "markdown",
      "metadata": {
        "colab_type": "text",
        "id": "201UYi2RQGnl"
      },
      "source": [
        "#####**Creating Multi-label Text Classification Model**\n",
        "\n",
        "There are two ways to create multi-label classification models: Using single dense output layer and using multiple dense output layers(we have 74 dim, so we will use only single dense output)\n",
        "\n",
        "Using a single dense layer with 74 outputs with a sigmoid activation functions and binary cross entropy loss functions. Each neuron in the output dense layer will represent one of the 74 output labels. The sigmoid activation function will return a value between 0 and 1 for each neuron. If any neuron's output value is greater than 0.5, it is assumed that the description belongs to the class represented by that particular neuron."
      ]
    },
    {
      "cell_type": "markdown",
      "metadata": {
        "colab_type": "text",
        "id": "hUw-KvAXKn8K"
      },
      "source": [
        "#####**Text cleaning and preprocessing**"
      ]
    },
    {
      "cell_type": "code",
      "metadata": {
        "colab_type": "code",
        "id": "WNBpbpMdQHzb",
        "colab": {}
      },
      "source": [
        "# As always, the first step in the text classification model is to create a function responsible for cleaning the text\n",
        "\n",
        "def preprocess_text(sen):\n",
        "    # Remove punctuations and numbers\n",
        "    sentence = re.sub('[^a-zA-Z]', ' ', sen)\n",
        "\n",
        "    # Single character removal\n",
        "    sentence = re.sub(r\"\\s+[a-zA-Z]\\s+\", ' ', sentence)\n",
        "\n",
        "    # Removing multiple spaces\n",
        "    sentence = re.sub(r'\\s+', ' ', sentence)\n",
        "\n",
        "    return sentence"
      ],
      "execution_count": null,
      "outputs": []
    },
    {
      "cell_type": "code",
      "metadata": {
        "colab_type": "code",
        "id": "ZFTdX49zQ9Lv",
        "colab": {}
      },
      "source": [
        "X = []\n",
        "sentences = list(capstoneNLP_DF[\"Text\"])\n",
        "for sen in sentences:\n",
        "  X.append(preprocess_text(str(sen)))\n",
        "\n",
        "y = target.values"
      ],
      "execution_count": null,
      "outputs": []
    },
    {
      "cell_type": "markdown",
      "metadata": {
        "colab_type": "text",
        "id": "HcRGaJEWKzMB"
      },
      "source": [
        "#####**Dataset splitting and encoding**"
      ]
    },
    {
      "cell_type": "code",
      "metadata": {
        "colab_type": "code",
        "id": "1r1Zn4qRStAt",
        "colab": {}
      },
      "source": [
        "X_train, X_test, y_train, y_test = train_test_split(X, y, test_size=0.20, random_state=42, shuffle=True)"
      ],
      "execution_count": null,
      "outputs": []
    },
    {
      "cell_type": "code",
      "metadata": {
        "colab_type": "code",
        "id": "Bro3qOvwV_T8",
        "colab": {}
      },
      "source": [
        "# We need to convert text inputs into embedded vectors\n",
        "\n",
        "tokenizer = Tokenizer(num_words=5000)\n",
        "tokenizer.fit_on_texts(X_train)\n",
        "\n",
        "X_train = tokenizer.texts_to_sequences(X_train)\n",
        "X_test = tokenizer.texts_to_sequences(X_test)\n",
        "\n",
        "vocab_size = len(tokenizer.word_index) + 1\n",
        "\n",
        "maxlen = 200\n",
        "\n",
        "X_train = pad_sequences(X_train, padding='post', maxlen=maxlen)\n",
        "X_test = pad_sequences(X_test, padding='post', maxlen=maxlen)"
      ],
      "execution_count": null,
      "outputs": []
    },
    {
      "cell_type": "markdown",
      "metadata": {
        "colab_type": "text",
        "id": "rKxEgAltPH2B"
      },
      "source": [
        "###**b) ​Creating the network and compile the model. Print the model summary. Create the train and the validation generator and fit the model**"
      ]
    },
    {
      "cell_type": "markdown",
      "metadata": {
        "colab_type": "text",
        "id": "GWtblGczLOH_"
      },
      "source": [
        "#####**Get Glove Word Embeddings**\n",
        "Note: There are a lot of other encoding techniques available and may be applied depending on the type of problem — for example : CountVectorizer, tfidf vectorizer, word embeddings using pre-trained models like GloVe, Word2Vec etc.\n",
        "We are considering the complex encoding for this particular classification problem for the sake of not just examination of occurrences of words (which is what CountVectorizer would do) but of their relative order and position/context; therefore we are doing word embeddings using a downloaded GloVe on LSTM."
      ]
    },
    {
      "cell_type": "code",
      "metadata": {
        "colab_type": "code",
        "id": "_UAGmpDDXBEo",
        "colab": {}
      },
      "source": [
        "# We will be using GloVe word embeddings to convert text inputs to their numeric counterparts.\n",
        "\n",
        "from numpy import array\n",
        "from numpy import asarray\n",
        "from numpy import zeros\n",
        "\n",
        "embeddings_dictionary = dict()\n",
        "\n",
        "glove_file = open(project_path+'glove.6B.200d.txt', encoding=\"utf8\")\n",
        "\n",
        "for line in glove_file:\n",
        "    records = line.split()\n",
        "    word = records[0]\n",
        "    vector_dimensions = asarray(records[1:], dtype='float32')\n",
        "    embeddings_dictionary[word] = vector_dimensions\n",
        "glove_file.close()\n",
        "\n",
        "embedding_matrix = zeros((vocab_size, 200))\n",
        "for word, index in tokenizer.word_index.items():\n",
        "    embedding_vector = embeddings_dictionary.get(word)\n",
        "    if embedding_vector is not None:\n",
        "        embedding_matrix[index] = embedding_vector"
      ],
      "execution_count": null,
      "outputs": []
    },
    {
      "cell_type": "code",
      "metadata": {
        "colab_type": "code",
        "id": "TP-ca361X60x",
        "colab": {
          "base_uri": "https://localhost:8080/",
          "height": 34
        },
        "outputId": "e449f2a7-e47a-476c-a76b-02f23875f308"
      },
      "source": [
        "len(embeddings_dictionary.values())"
      ],
      "execution_count": null,
      "outputs": [
        {
          "output_type": "execute_result",
          "data": {
            "text/plain": [
              "400000"
            ]
          },
          "metadata": {
            "tags": []
          },
          "execution_count": 30
        }
      ]
    },
    {
      "cell_type": "markdown",
      "metadata": {
        "colab_type": "text",
        "id": "EOirMXvFYROk"
      },
      "source": [
        "The following script creates the model. Our model will have one input layer, one embedding layer, one LSTM layer with 128 neurons and one output layer with 74 neurons since we have 74 labels in the output."
      ]
    },
    {
      "cell_type": "markdown",
      "metadata": {
        "colab_type": "text",
        "id": "47-72lLmMNpV"
      },
      "source": [
        "#####**The Model**"
      ]
    },
    {
      "cell_type": "code",
      "metadata": {
        "colab_type": "code",
        "id": "GfHJEocJYcLY",
        "colab": {}
      },
      "source": [
        "deep_inputs = Input(shape=(maxlen,))\n",
        "embedding_layer = Embedding(vocab_size, 200, weights=[embedding_matrix], trainable=False)(deep_inputs)\n",
        "LSTM_Layer_1 = LSTM(128)(embedding_layer)\n",
        "dense_layer_1 = Dense(74, activation='sigmoid')(LSTM_Layer_1)\n",
        "model = Model(inputs=deep_inputs, outputs=dense_layer_1)\n",
        "\n",
        "model.compile(loss='binary_crossentropy', optimizer='adam', metrics=['acc'])"
      ],
      "execution_count": null,
      "outputs": []
    },
    {
      "cell_type": "code",
      "metadata": {
        "colab_type": "code",
        "id": "omRRj4shYSsH",
        "colab": {
          "base_uri": "https://localhost:8080/",
          "height": 318
        },
        "outputId": "5e10a84d-3bfe-46e9-9b78-0ad78cdf1e45"
      },
      "source": [
        "# Let's print the model summary:\n",
        "print(model.summary())"
      ],
      "execution_count": null,
      "outputs": [
        {
          "output_type": "stream",
          "text": [
            "Model: \"functional_1\"\n",
            "_________________________________________________________________\n",
            "Layer (type)                 Output Shape              Param #   \n",
            "=================================================================\n",
            "input_1 (InputLayer)         [(None, 200)]             0         \n",
            "_________________________________________________________________\n",
            "embedding (Embedding)        (None, 200, 200)          3081800   \n",
            "_________________________________________________________________\n",
            "lstm (LSTM)                  (None, 128)               168448    \n",
            "_________________________________________________________________\n",
            "dense (Dense)                (None, 74)                9546      \n",
            "=================================================================\n",
            "Total params: 3,259,794\n",
            "Trainable params: 177,994\n",
            "Non-trainable params: 3,081,800\n",
            "_________________________________________________________________\n",
            "None\n"
          ],
          "name": "stdout"
        }
      ]
    },
    {
      "cell_type": "markdown",
      "metadata": {
        "colab_type": "text",
        "id": "WccbyQtBMfxL"
      },
      "source": [
        "#####**The architecture of our LSTM network**"
      ]
    },
    {
      "cell_type": "code",
      "metadata": {
        "colab_type": "code",
        "id": "SpBe5QPBYLR9",
        "colab": {
          "base_uri": "https://localhost:8080/",
          "height": 422
        },
        "outputId": "798d4041-a68a-4948-e47b-682ab0e7960f"
      },
      "source": [
        "# The following script prints the architecture of our neural network:\n",
        "from keras.utils import plot_model\n",
        "plot_model(model, to_file='model_plot4a.png', show_shapes=True, show_layer_names=True)"
      ],
      "execution_count": null,
      "outputs": [
        {
          "output_type": "execute_result",
          "data": {
            "image/png": "[encoded data removed]",
            "text/plain": [
              "<IPython.core.display.Image object>"
            ]
          },
          "metadata": {
            "tags": []
          },
          "execution_count": 33
        }
      ]
    },
    {
      "cell_type": "code",
      "metadata": {
        "colab_type": "code",
        "id": "MLVkux1aZiGI",
        "colab": {
          "base_uri": "https://localhost:8080/",
          "height": 372
        },
        "outputId": "97da8e2f-3d7c-4226-f30d-f25972f063f8"
      },
      "source": [
        "# From the figure above, you can see that the output layer only contains 1 dense layer with 74 neurons. Let's now train our model:\n",
        "\n",
        "history = model.fit(X_train, y_train, batch_size=128, epochs=10, verbose=1, validation_split=0.2)"
      ],
      "execution_count": null,
      "outputs": [
        {
          "output_type": "stream",
          "text": [
            "Epoch 1/10\n",
            "43/43 [==============================] - 1s 33ms/step - loss: 0.2850 - acc: 0.3009 - val_loss: 0.0519 - val_acc: 0.4868\n",
            "Epoch 2/10\n",
            "43/43 [==============================] - 1s 24ms/step - loss: 0.0504 - acc: 0.4693 - val_loss: 0.0472 - val_acc: 0.4868\n",
            "Epoch 3/10\n",
            "43/43 [==============================] - 1s 23ms/step - loss: 0.0487 - acc: 0.4693 - val_loss: 0.0466 - val_acc: 0.4868\n",
            "Epoch 4/10\n",
            "43/43 [==============================] - 1s 24ms/step - loss: 0.0483 - acc: 0.4693 - val_loss: 0.0464 - val_acc: 0.4868\n",
            "Epoch 5/10\n",
            "43/43 [==============================] - 1s 24ms/step - loss: 0.0479 - acc: 0.4693 - val_loss: 0.0462 - val_acc: 0.4868\n",
            "Epoch 6/10\n",
            "43/43 [==============================] - 1s 23ms/step - loss: 0.0478 - acc: 0.4693 - val_loss: 0.0461 - val_acc: 0.4868\n",
            "Epoch 7/10\n",
            "43/43 [==============================] - 1s 24ms/step - loss: 0.0472 - acc: 0.4693 - val_loss: 0.0459 - val_acc: 0.4868\n",
            "Epoch 8/10\n",
            "43/43 [==============================] - 1s 24ms/step - loss: 0.0464 - acc: 0.4693 - val_loss: 0.0446 - val_acc: 0.4868\n",
            "Epoch 9/10\n",
            "43/43 [==============================] - 1s 23ms/step - loss: 0.0461 - acc: 0.4693 - val_loss: 0.0445 - val_acc: 0.4868\n",
            "Epoch 10/10\n",
            "43/43 [==============================] - 1s 23ms/step - loss: 0.0460 - acc: 0.4693 - val_loss: 0.0445 - val_acc: 0.4868\n"
          ],
          "name": "stdout"
        }
      ]
    },
    {
      "cell_type": "markdown",
      "metadata": {
        "colab_type": "text",
        "id": "Eatg1I0D7LKO"
      },
      "source": [
        "##**2)Model Evaluation**\n",
        "\n",
        "#####**a) ​Evaluating the model using the plots for the loss, accuracy and other metrics identified**"
      ]
    },
    {
      "cell_type": "code",
      "metadata": {
        "colab_type": "code",
        "id": "hUj__HAV7LKO",
        "colab": {
          "base_uri": "https://localhost:8080/",
          "height": 70
        },
        "outputId": "9b1f9a4f-e571-4ce6-b452-4492210503a6"
      },
      "source": [
        "# Let's now evaluate our model on the test set:\n",
        "\n",
        "score = model.evaluate(X_test, y_test, verbose=1)\n",
        "\n",
        "print(\"Test Score:\", score[0])\n",
        "print(\"Test Accuracy:\", score[1])"
      ],
      "execution_count": null,
      "outputs": [
        {
          "output_type": "stream",
          "text": [
            "54/54 [==============================] - 0s 6ms/step - loss: 0.0472 - acc: 0.4476\n",
            "Test Score: 0.0471595898270607\n",
            "Test Accuracy: 0.4476470649242401\n"
          ],
          "name": "stdout"
        }
      ]
    },
    {
      "cell_type": "markdown",
      "metadata": {
        "colab_type": "text",
        "id": "U8gOsCga7LKV"
      },
      "source": [
        "Our model achieves an accuracy of around 45% which is pretty poor."
      ]
    },
    {
      "cell_type": "code",
      "metadata": {
        "colab_type": "code",
        "id": "Ftb6yW5K7LKV",
        "colab": {
          "base_uri": "https://localhost:8080/",
          "height": 573
        },
        "outputId": "c0fd4026-388e-4c31-82a7-6a834aec0eae"
      },
      "source": [
        "# Finally, we will plot the loss and accuracy values for training and test sets to see what happened to our model\n",
        "\n",
        "import matplotlib.pyplot as plt\n",
        "\n",
        "plt.plot(history.history['acc'])\n",
        "plt.plot(history.history['val_acc'])\n",
        "\n",
        "plt.title('model accuracy')\n",
        "plt.ylabel('accuracy')\n",
        "plt.xlabel('epoch')\n",
        "plt.legend(['train','test'], loc='upper left')\n",
        "plt.show()\n",
        "\n",
        "plt.plot(history.history['loss'])\n",
        "plt.plot(history.history['val_loss'])\n",
        "\n",
        "plt.title('model loss')\n",
        "plt.ylabel('loss')\n",
        "plt.xlabel('epoch')\n",
        "plt.legend(['train','test'], loc='upper left')\n",
        "plt.show()"
      ],
      "execution_count": null,
      "outputs": [
        {
          "output_type": "display_data",
          "data": {
            "image/png": "[encoded data removed]",
            "text/plain": [
              "<Figure size 432x288 with 1 Axes>"
            ]
          },
          "metadata": {
            "tags": [],
            "needs_background": "light"
          }
        },
        {
          "output_type": "display_data",
          "data": {
            "image/png": "[encoded data removed]",
            "text/plain": [
              "<Figure size 432x288 with 1 Axes>"
            ]
          },
          "metadata": {
            "tags": [],
            "needs_background": "light"
          }
        }
      ]
    },
    {
      "cell_type": "markdown",
      "metadata": {
        "colab_type": "text",
        "id": "haXyBBIP7LKb"
      },
      "source": [
        "#####**Observation**\n",
        "\n",
        "From the output we can see that the accuracy for test (validation) set doesn't converge after the first epochs. Also, the difference between training and validation loss is very minimal. Therefore, the model starts to underfit after the first epochs and hence we get a poor performance on unseen test set"
      ]
    },
    {
      "cell_type": "markdown",
      "metadata": {
        "colab_type": "text",
        "id": "bRuWnrG_7LKc"
      },
      "source": [
        "#####**b) ​Predict on a batch of text descriptions. Identify the areas of improvement for the next iterations**"
      ]
    },
    {
      "cell_type": "code",
      "metadata": {
        "colab_type": "code",
        "id": "SfPNHT_47LKe",
        "colab": {
          "base_uri": "https://localhost:8080/",
          "height": 1000
        },
        "outputId": "f7446f79-c668-45fb-c908-b1e07a97239b"
      },
      "source": [
        "from sklearn.metrics import classification_report,confusion_matrix\n",
        "\n",
        "Y_pred = model.predict(X_test)\n",
        "y_pred = np.rint(Y_pred)\n",
        "#y_test = np.array(y_test)\n",
        "y_pred = np.argmax(Y_pred,axis=1)\n",
        "y_test = np.argmax(y_test,axis=1)\n",
        "print('  Classification Report:\\n',classification_report(y_test,y_pred),'\\n')"
      ],
      "execution_count": null,
      "outputs": [
        {
          "output_type": "stream",
          "text": [
            "  Classification Report:\n",
            "               precision    recall  f1-score   support\n",
            "\n",
            "           0       0.45      1.00      0.62       761\n",
            "           1       0.00      0.00      0.00         8\n",
            "           2       0.00      0.00      0.00        24\n",
            "           3       0.00      0.00      0.00         5\n",
            "           4       0.00      0.00      0.00        42\n",
            "           5       0.00      0.00      0.00        26\n",
            "           6       0.00      0.00      0.00        20\n",
            "           7       0.00      0.00      0.00         8\n",
            "           8       0.00      0.00      0.00        20\n",
            "           9       0.00      0.00      0.00        17\n",
            "          10       0.00      0.00      0.00        18\n",
            "          11       0.00      0.00      0.00        58\n",
            "          12       0.00      0.00      0.00        51\n",
            "          13       0.00      0.00      0.00         5\n",
            "          14       0.00      0.00      0.00         7\n",
            "          15       0.00      0.00      0.00         5\n",
            "          16       0.00      0.00      0.00         3\n",
            "          17       0.00      0.00      0.00        72\n",
            "          18       0.00      0.00      0.00        20\n",
            "          19       0.00      0.00      0.00        13\n",
            "          20       0.00      0.00      0.00         2\n",
            "          21       0.00      0.00      0.00         8\n",
            "          22       0.00      0.00      0.00        20\n",
            "          23       0.00      0.00      0.00        42\n",
            "          24       0.00      0.00      0.00         6\n",
            "          25       0.00      0.00      0.00        24\n",
            "          27       0.00      0.00      0.00        14\n",
            "          28       0.00      0.00      0.00        12\n",
            "          29       0.00      0.00      0.00         1\n",
            "          30       0.00      0.00      0.00         2\n",
            "          31       0.00      0.00      0.00         2\n",
            "          32       0.00      0.00      0.00         2\n",
            "          33       0.00      0.00      0.00         6\n",
            "          34       0.00      0.00      0.00        26\n",
            "          35       0.00      0.00      0.00         8\n",
            "          36       0.00      0.00      0.00        10\n",
            "          37       0.00      0.00      0.00         8\n",
            "          39       0.00      0.00      0.00         1\n",
            "          40       0.00      0.00      0.00        12\n",
            "          41       0.00      0.00      0.00         2\n",
            "          42       0.00      0.00      0.00         9\n",
            "          43       0.00      0.00      0.00         6\n",
            "          45       0.00      0.00      0.00        28\n",
            "          46       0.00      0.00      0.00         2\n",
            "          47       0.00      0.00      0.00         1\n",
            "          48       0.00      0.00      0.00         1\n",
            "          49       0.00      0.00      0.00         3\n",
            "          51       0.00      0.00      0.00         1\n",
            "          56       0.00      0.00      0.00        46\n",
            "          57       0.00      0.00      0.00         5\n",
            "          59       0.00      0.00      0.00         5\n",
            "          60       0.00      0.00      0.00         1\n",
            "          62       0.00      0.00      0.00         2\n",
            "          63       0.00      0.00      0.00         1\n",
            "          64       0.00      0.00      0.00         1\n",
            "          66       0.00      0.00      0.00         1\n",
            "          67       0.00      0.00      0.00        18\n",
            "          70       0.00      0.00      0.00         1\n",
            "          72       0.00      0.00      0.00       121\n",
            "          73       0.00      0.00      0.00        56\n",
            "\n",
            "    accuracy                           0.45      1700\n",
            "   macro avg       0.01      0.02      0.01      1700\n",
            "weighted avg       0.20      0.45      0.28      1700\n",
            " \n",
            "\n"
          ],
          "name": "stdout"
        },
        {
          "output_type": "stream",
          "text": [
            "/usr/local/lib/python3.6/dist-packages/sklearn/metrics/_classification.py:1272: UndefinedMetricWarning: Precision and F-score are ill-defined and being set to 0.0 in labels with no predicted samples. Use `zero_division` parameter to control this behavior.\n",
            "  _warn_prf(average, modifier, msg_start, len(result))\n"
          ],
          "name": "stderr"
        }
      ]
    },
    {
      "cell_type": "markdown",
      "metadata": {
        "colab_type": "text",
        "id": "FF_ZBITu7LKi"
      },
      "source": [
        "#####**Observation**\n",
        "The above warning means that some labels are only present in train data and some labels are only present in test dataset.\n",
        "This we should be handle via upsampling during further iterations (because some classes have only one record entry)"
      ]
    },
    {
      "cell_type": "markdown",
      "metadata": {
        "colab_type": "text",
        "id": "1P2lcAFmmqzI"
      },
      "source": [
        "#####**Areas of improvement for the next iterations will be:**\n",
        "\n",
        "1. We will try to normalize the data, using stemming or lematization and even remove stopwords\n",
        "2. There exist a great imbalance in the classes when we groupby the assigned group (GRP_0 count value is 3968 while a few others are 3 digits and majority are just 2 digits though we have also a single digit ). So we will try to handle the imbalance in the dataset\n",
        "3. We will also try another pre-trained word embedding Glove model with more word handling capabilities (e.g. higher than 400,000)\n",
        "4. We may increase the number of words in the tokenizer to see what happens\n",
        "5. The LSTM model will be made complex\n",
        "6. Then finally we will do more iterations (higher epochs)\n"
      ]
    },
    {
      "cell_type": "code",
      "metadata": {
        "colab_type": "code",
        "id": "2KfbBCTIcVik",
        "colab": {}
      },
      "source": [
        "###############   NLP Project Notes 2_Codes Ends Here ###############"
      ],
      "execution_count": null,
      "outputs": []
    },
    {
      "cell_type": "code",
      "metadata": {
        "id": "21tcDmFS1B_1",
        "colab_type": "code",
        "colab": {}
      },
      "source": [
        ""
      ],
      "execution_count": null,
      "outputs": []
    },
    {
      "cell_type": "code",
      "metadata": {
        "id": "hCrodYOXGEnf",
        "colab_type": "code",
        "colab": {}
      },
      "source": [
        ""
      ],
      "execution_count": null,
      "outputs": []
    },
    {
      "cell_type": "markdown",
      "metadata": {
        "colab_type": "text",
        "id": "kKNsw3Fw_Lzy"
      },
      "source": [
        "\n",
        "<h2>03-NLP Project Notes 3</h2>\n"
      ]
    },
    {
      "cell_type": "markdown",
      "metadata": {
        "colab_type": "text",
        "id": "mWW1XGFq6lMq"
      },
      "source": [
        "##**( 1 ) Fine-tuning the model​:** \n",
        "\n",
        "##**a. Reiterate the modelling process keeping in mind the areas of improvement**\n",
        "\n",
        "##**b. Highlight and provide commentary on the steps taken to arrive at the improved model**\n",
        " \n",
        "Please Note: We are going to try to simultaneously perform a and b. And we are going to number them as we proceed.\n",
        "Also keep in mind that in our milestone-2 our model had 45% performance \n",
        "###**Please Note: after some data handling techniques, model improvement via some hyper-parameter adjustments and several iterations; we achieved a performance of 97%**"
      ]
    },
    {
      "cell_type": "markdown",
      "metadata": {
        "colab_type": "text",
        "id": "bi7w0zKB1dQ0"
      },
      "source": [
        "###**We begin from here onward to enumerate what was done to improve on our model performance**"
      ]
    },
    {
      "cell_type": "markdown",
      "metadata": {
        "colab_type": "text",
        "id": "XDJXAZ7B1SLF"
      },
      "source": [
        "###**1. Tensorflow version 2.0.0 is installed, and because keras will not work with this out of the box, we have to use tensorflow keras libraries**"
      ]
    },
    {
      "cell_type": "markdown",
      "metadata": {
        "id": "NYM4-TH-Cbhc",
        "colab_type": "text"
      },
      "source": [
        "###**2. We reduced our classes by filtering out to what we call 'GRP_Others' those classes with very few samples (this is the help us when we are taking care of class imbalance, find the reason why in the imbalance treatment section below)**"
      ]
    },
    {
      "cell_type": "code",
      "metadata": {
        "colab_type": "code",
        "id": "rAX-aBcj8yMj",
        "colab": {}
      },
      "source": [
        "#We filter out classes with 1 - 6 samples\n",
        "capstoneNLP_DF_LTS = capstoneNLP_DF[capstoneNLP_DF['Grps'].map(capstoneNLP_DF['Grps'].value_counts()) < 7]"
      ],
      "execution_count": null,
      "outputs": []
    },
    {
      "cell_type": "code",
      "metadata": {
        "colab_type": "code",
        "id": "rjzgx7m88yNC",
        "colab": {}
      },
      "source": [
        "groupy2 = capstoneNLP_DF_LTS.groupby('Grps').size().sort_values(ascending=False)\n",
        "groupy2"
      ],
      "execution_count": null,
      "outputs": []
    },
    {
      "cell_type": "code",
      "metadata": {
        "colab_type": "code",
        "id": "xY6bi4FT8yNO",
        "colab": {}
      },
      "source": [
        "# Replacing the groups that are now seen in groupy2 anyhwere they are found in the main dataset (capstoneNLP_DF) calling them GRP_OTHERS\n",
        "\n",
        "capstoneNLP_DF_prep = capstoneNLP_DF.replace({'GRP_59':'GRP_OTHERS','GRP_46':'GRP_OTHERS','GRP_49':'GRP_OTHERS','GRP_43':'GRP_OTHERS','GRP_66':'GRP_OTHERS','GRP_32':'GRP_OTHERS','GRP_68':'GRP_OTHERS','GRP_63':'GRP_OTHERS','GRP_58':'GRP_OTHERS','GRP_56':'GRP_OTHERS','GRP_38':'GRP_OTHERS','GRP_72':'GRP_OTHERS','GRP_57':'GRP_OTHERS','GRP_54':'GRP_OTHERS','GRP_69':'GRP_OTHERS','GRP_71':'GRP_OTHERS','GRP_67':'GRP_OTHERS','GRP_64':'GRP_OTHERS','GRP_61':'GRP_OTHERS','GRP_70':'GRP_OTHERS','GRP_35':'GRP_OTHERS','GRP_73':'GRP_OTHERS'})\n",
        "\n",
        "# 'GRP_51':'GRP_OTHERS','GRP_55':'GRP_OTHERS','GRP_52':'GRP_OTHERS','GRP_53':'GRP_OTHERS','GRP_65':'GRP_OTHERS','GRP_50':'GRP_OTHERS','GRP_44':'GRP_OTHERS','GRP_36':'GRP_OTHERS',"
      ],
      "execution_count": null,
      "outputs": []
    },
    {
      "cell_type": "code",
      "metadata": {
        "colab_type": "code",
        "id": "osnw1a8C8yNd",
        "colab": {}
      },
      "source": [
        "capstoneNLP_DF_prep.tail()"
      ],
      "execution_count": null,
      "outputs": []
    },
    {
      "cell_type": "code",
      "metadata": {
        "colab_type": "code",
        "id": "x3K_C9X58yNl",
        "colab": {}
      },
      "source": [
        "# check and remove NAN\n",
        "print(capstoneNLP_DF_prep.isnull().any(axis = 0))"
      ],
      "execution_count": null,
      "outputs": []
    },
    {
      "cell_type": "code",
      "metadata": {
        "colab_type": "code",
        "id": "DAQ9gB1W8yNs",
        "colab": {}
      },
      "source": [
        "capstoneNLP_DF_prep = capstoneNLP_DF_prep.dropna()\n",
        "print(capstoneNLP_DF_prep.isnull().any(axis = 0))"
      ],
      "execution_count": null,
      "outputs": []
    },
    {
      "cell_type": "code",
      "metadata": {
        "id": "AaMvWlgaJMY8",
        "colab_type": "code",
        "colab": {}
      },
      "source": [
        "# Converting categrical labels to numerical format and call them 'Target'\n",
        "from sklearn import preprocessing\n",
        "le = preprocessing.LabelEncoder()\n",
        "le.fit(capstoneNLP_DF_prep['Grps'])\n",
        "capstoneNLP_DF_prep['Target'] = le.transform(capstoneNLP_DF_prep['Grps'])\n",
        "capstoneNLP_DF_prep.tail()"
      ],
      "execution_count": null,
      "outputs": []
    },
    {
      "cell_type": "markdown",
      "metadata": {
        "id": "B6jc0mnbEwOs",
        "colab_type": "text"
      },
      "source": [
        "###**3. Performing text pre-processing (by text lowering, noise/stopwards removal and normalization by stemming)**"
      ]
    },
    {
      "cell_type": "code",
      "metadata": {
        "id": "70nrILLQJMgt",
        "colab_type": "code",
        "colab": {}
      },
      "source": [
        "# text lower casing\n",
        "capstoneNLP_DF_prep['Desc']=[word.lower() for word in capstoneNLP_DF_prep['Desc']]"
      ],
      "execution_count": null,
      "outputs": []
    },
    {
      "cell_type": "code",
      "metadata": {
        "id": "Nfvl-fhnJMqI",
        "colab_type": "code",
        "colab": {}
      },
      "source": [
        "# Noise/ stopwords removal and stemming(which is normalization)\n",
        "stem_word =[]\n",
        "snow = nltk.stem.SnowballStemmer('english')\n",
        "\n",
        "\n",
        "for sentence in capstoneNLP_DF_prep['Desc']:\n",
        "  # remove noise\n",
        "  \n",
        "  sentence = re.sub(r'https?:\\/\\/.*[\\r\\n]*', '', sentence, flags=re.MULTILINE)\n",
        "  sentence = re.sub(r'<.*?>','', sentence)\n",
        "  sentence = re.sub(r'\\<a href', ' ', sentence)\n",
        "  sentence = re.sub(r'&amp;', '', sentence)\n",
        "  sentence = re.sub(r'[_\"\\-;%()|+&=*%.,!?:#$@\\[\\]/]', ' ', sentence)\n",
        "  sentence = re.sub(r'<br />', ' ', sentence)\n",
        "  sentence = re.sub(r'\\'', ' ', sentence)\n",
        "    \n",
        "  words = [snow.stem(word) for word in sentence.split() if word not in stopwords.words('english')]   # Stemming and removing stopwords\n",
        "  stem_word.append(words)\n",
        "    \n",
        "capstoneNLP_DF_prep['Desc'] = stem_word    "
      ],
      "execution_count": null,
      "outputs": []
    },
    {
      "cell_type": "code",
      "metadata": {
        "id": "gkfo_bkyJMyW",
        "colab_type": "code",
        "colab": {}
      },
      "source": [
        "#  Change short forms into expanded text (a form of normalization)\n",
        "\n",
        "contractions = { \n",
        "\"ain't\": \"am not / are not / is not / has not / have not\",\n",
        "\"aren't\": \"are not / am not\",\n",
        "\"can't\": \"cannot\",\n",
        "\"can't've\": \"cannot have\",\n",
        "\"'cause\": \"because\",\n",
        "\"could've\": \"could have\",\n",
        "\"couldn't\": \"could not\",\n",
        "\"couldn't've\": \"could not have\",\n",
        "\"didn't\": \"did not\",\n",
        "\"doesn't\": \"does not\",\n",
        "\"don't\": \"do not\",\n",
        "\"hadn't\": \"had not\",\n",
        "\"hadn't've\": \"had not have\",\n",
        "\"hasn't\": \"has not\",\n",
        "\"haven't\": \"have not\",\n",
        "\"he'd\": \"he had / he would\",\n",
        "\"he'd've\": \"he would have\",\n",
        "\"he'll\": \"he shall / he will\",\n",
        "\"he'll've\": \"he shall have / he will have\",\n",
        "\"he's\": \"he has / he is\",\n",
        "\"how'd\": \"how did\",\n",
        "\"how'd'y\": \"how do you\",\n",
        "\"how'll\": \"how will\",\n",
        "\"how's\": \"how has / how is / how does\",\n",
        "\"I'd\": \"I had / I would\",\n",
        "\"I'd've\": \"I would have\",\n",
        "\"I'll\": \"I shall / I will\",\n",
        "\"I'll've\": \"I shall have / I will have\",\n",
        "\"I'm\": \"I am\",\n",
        "\"I've\": \"I have\",\n",
        "\"isn't\": \"is not\",\n",
        "\"it'd\": \"it had / it would\",\n",
        "\"it'd've\": \"it would have\",\n",
        "\"it'll\": \"it shall / it will\",\n",
        "\"it'll've\": \"it shall have / it will have\",\n",
        "\"it's\": \"it has / it is\",\n",
        "\"let's\": \"let us\",\n",
        "\"ma'am\": \"madam\",\n",
        "\"mayn't\": \"may not\",\n",
        "\"might've\": \"might have\",\n",
        "\"mightn't\": \"might not\",\n",
        "\"mightn't've\": \"might not have\",\n",
        "\"must've\": \"must have\",\n",
        "\"mustn't\": \"must not\",\n",
        "\"mustn't've\": \"must not have\",\n",
        "\"needn't\": \"need not\",\n",
        "\"needn't've\": \"need not have\",\n",
        "\"o'clock\": \"of the clock\",\n",
        "\"oughtn't\": \"ought not\",\n",
        "\"oughtn't've\": \"ought not have\",\n",
        "\"shan't\": \"shall not\",\n",
        "\"sha'n't\": \"shall not\",\n",
        "\"shan't've\": \"shall not have\",\n",
        "\"she'd\": \"she had / she would\",\n",
        "\"she'd've\": \"she would have\",\n",
        "\"she'll\": \"she shall / she will\",\n",
        "\"she'll've\": \"she shall have / she will have\",\n",
        "\"she's\": \"she has / she is\",\n",
        "\"should've\": \"should have\",\n",
        "\"shouldn't\": \"should not\",\n",
        "\"shouldn't've\": \"should not have\",\n",
        "\"so've\": \"so have\",\n",
        "\"so's\": \"so as / so is\",\n",
        "\"that'd\": \"that would / that had\",\n",
        "\"that'd've\": \"that would have\",\n",
        "\"that's\": \"that has / that is\",\n",
        "\"there'd\": \"there had / there would\",\n",
        "\"there'd've\": \"there would have\",\n",
        "\"there's\": \"there has / there is\",\n",
        "\"they'd\": \"they had / they would\",\n",
        "\"they'd've\": \"they would have\",\n",
        "\"they'll\": \"they shall / they will\",\n",
        "\"they'll've\": \"they shall have / they will have\",\n",
        "\"they're\": \"they are\",\n",
        "\"they've\": \"they have\",\n",
        "\"to've\": \"to have\",\n",
        "\"wasn't\": \"was not\",\n",
        "\"we'd\": \"we had / we would\",\n",
        "\"we'd've\": \"we would have\",\n",
        "\"we'll\": \"we will\",\n",
        "\"we'll've\": \"we will have\",\n",
        "\"we're\": \"we are\",\n",
        "\"we've\": \"we have\",\n",
        "\"weren't\": \"were not\",\n",
        "\"what'll\": \"what shall / what will\",\n",
        "\"what'll've\": \"what shall have / what will have\",\n",
        "\"what're\": \"what are\",\n",
        "\"what's\": \"what has / what is\",\n",
        "\"what've\": \"what have\",\n",
        "\"when's\": \"when has / when is\",\n",
        "\"when've\": \"when have\",\n",
        "\"where'd\": \"where did\",\n",
        "\"where's\": \"where has / where is\",\n",
        "\"where've\": \"where have\",\n",
        "\"who'll\": \"who shall / who will\",\n",
        "\"who'll've\": \"who shall have / who will have\",\n",
        "\"who's\": \"who has / who is\",\n",
        "\"who've\": \"who have\",\n",
        "\"why's\": \"why has / why is\",\n",
        "\"why've\": \"why have\",\n",
        "\"will've\": \"will have\",\n",
        "\"won't\": \"will not\",\n",
        "\"won't've\": \"will not have\",\n",
        "\"would've\": \"would have\",\n",
        "\"wouldn't\": \"would not\",\n",
        "\"wouldn't've\": \"would not have\",\n",
        "\"y'all\": \"you all\",\n",
        "\"y'all'd\": \"you all would\",\n",
        "\"y'all'd've\": \"you all would have\",\n",
        "\"y'all're\": \"you all are\",\n",
        "\"y'all've\": \"you all have\",\n",
        "\"you'd\": \"you had / you would\",\n",
        "\"you'd've\": \"you would have\",\n",
        "\"you'll\": \"you shall / you will\",\n",
        "\"you'll've\": \"you shall have / you will have\",\n",
        "\"you're\": \"you are\",\n",
        "\"you've\": \"you have\"\n",
        "}"
      ],
      "execution_count": null,
      "outputs": []
    },
    {
      "cell_type": "code",
      "metadata": {
        "id": "OhFpI5lLMYQP",
        "colab_type": "code",
        "colab": {}
      },
      "source": [
        "# further Cleaning text and noise removal\n",
        "def clean_text(text, remove_stopwords=True):\n",
        "\n",
        "  # Convert words to lower case\n",
        "  #text = text.lower()\n",
        "  if True:\n",
        "    text = text.split()\n",
        "    new_text = []\n",
        "    for word in text:\n",
        "      if word in contractions:\n",
        "        new_text.append(contractions[word])\n",
        "      else:\n",
        "        new_text.append(word)\n",
        "      text = \" \".join(new_text)\n",
        "      text = re.sub(r'https?:\\/\\/.*[\\r\\n]*', '', text, flags=re.MULTILINE)\n",
        "      text = re.sub(r'\\<a href', ' ', text)\n",
        "      text = re.sub(r'&amp;', '', text)\n",
        "      text = re.sub(r'[_\"\\-;%()|+&=*%.,!?:#$@\\[\\]/]', ' ', text)\n",
        "      text = re.sub(r'<br />', ' ', text)\n",
        "      text = re.sub(r'\\'', ' ', text)\n",
        "      \n",
        "  return text\n"
      ],
      "execution_count": null,
      "outputs": []
    },
    {
      "cell_type": "code",
      "metadata": {
        "id": "Ge4MZvdnMxfy",
        "colab_type": "code",
        "colab": {}
      },
      "source": [
        "# Clean the texts and check to remove stopwords again\n",
        "\n",
        "clean_Texts = []\n",
        "for Text in capstoneNLP_DF_prep.Desc:\n",
        "  clean_Texts.append(clean_text(str(Text), remove_stopwords=True))\n",
        "print(\"Texts are complete.\")\n"
      ],
      "execution_count": null,
      "outputs": []
    },
    {
      "cell_type": "code",
      "metadata": {
        "id": "L-uuQP8gMyht",
        "colab_type": "code",
        "colab": {}
      },
      "source": [
        "# check out the clean text\n",
        "print(clean_Texts[0])"
      ],
      "execution_count": null,
      "outputs": []
    },
    {
      "cell_type": "code",
      "metadata": {
        "id": "ufNmMtMcMymK",
        "colab_type": "code",
        "colab": {}
      },
      "source": [
        "groups1 = list()\n",
        "for i, grp in enumerate(capstoneNLP_DF_prep.Grps):\n",
        "  groups1.append({'Desc': clean_Texts[i], 'Grps': grp})\n"
      ],
      "execution_count": null,
      "outputs": []
    },
    {
      "cell_type": "code",
      "metadata": {
        "id": "ag0Scij6Pkb0",
        "colab_type": "code",
        "colab": {}
      },
      "source": [
        "groups2 = list()\n",
        "for i, tar in enumerate(capstoneNLP_DF_prep.Target):\n",
        "  groups2.append({'Desc': clean_Texts[i], 'Target': tar})\n"
      ],
      "execution_count": null,
      "outputs": []
    },
    {
      "cell_type": "code",
      "metadata": {
        "id": "c13zVVwdPjA8",
        "colab_type": "code",
        "colab": {}
      },
      "source": [
        "# save to file\n",
        "dump(groups1, open(project_path+'capstoneNLP_dataset.pkl', 'wb'))\n",
        "dump(groups2, open(project_path+'capstoneNLP_dataset2.pkl', 'wb'))"
      ],
      "execution_count": null,
      "outputs": []
    },
    {
      "cell_type": "markdown",
      "metadata": {
        "id": "dBXw6_SgN-d3",
        "colab_type": "text"
      },
      "source": [
        "######**Load again the saved clean text**"
      ]
    },
    {
      "cell_type": "code",
      "metadata": {
        "id": "AqKeIDZzNj7E",
        "colab_type": "code",
        "colab": {
          "base_uri": "https://localhost:8080/",
          "height": 35
        },
        "outputId": "0323c8b3-9db2-4872-9fe8-2fd78b91804b"
      },
      "source": [
        "#Load groups1\n",
        "groups1 = load(open(project_path+'capstoneNLP_dataset.pkl', 'rb'))\n",
        "print('Loaded group1') # %d' % len(groups1))\n",
        "#print(type(groups1))"
      ],
      "execution_count": null,
      "outputs": [
        {
          "output_type": "stream",
          "text": [
            "Loaded group1\n"
          ],
          "name": "stdout"
        }
      ]
    },
    {
      "cell_type": "code",
      "metadata": {
        "id": "G_iZkmLfR6aX",
        "colab_type": "code",
        "colab": {
          "base_uri": "https://localhost:8080/",
          "height": 35
        },
        "outputId": "b1a045e9-d745-435f-bbc1-80ff7e0cafb8"
      },
      "source": [
        "#Load groups2\n",
        "groups2 = load(open(project_path+'capstoneNLP_dataset2.pkl', 'rb'))\n",
        "print('Loaded group2') #groups %d' % len(groups2))\n",
        "#print(type(groups2))"
      ],
      "execution_count": null,
      "outputs": [
        {
          "output_type": "stream",
          "text": [
            "Loaded group2\n"
          ],
          "name": "stdout"
        }
      ]
    },
    {
      "cell_type": "code",
      "metadata": {
        "id": "xZqn--dvNjRa",
        "colab_type": "code",
        "colab": {}
      },
      "source": [
        "capstoneNLP_DF = pd.DataFrame(groups1)\n",
        "capstoneNLP_DF2 = pd.DataFrame(groups2)"
      ],
      "execution_count": null,
      "outputs": []
    },
    {
      "cell_type": "code",
      "metadata": {
        "id": "fYiSabb5Mysj",
        "colab_type": "code",
        "colab": {
          "base_uri": "https://localhost:8080/",
          "height": 206
        },
        "outputId": "b261ec80-8051-4450-e444-59c4055927ca"
      },
      "source": [
        "# print out the header\n",
        "capstoneNLP_DF.tail()"
      ],
      "execution_count": null,
      "outputs": [
        {
          "output_type": "execute_result",
          "data": {
            "text/html": [
              "<div>\n",
              "<style scoped>\n",
              "    .dataframe tbody tr th:only-of-type {\n",
              "        vertical-align: middle;\n",
              "    }\n",
              "\n",
              "    .dataframe tbody tr th {\n",
              "        vertical-align: top;\n",
              "    }\n",
              "\n",
              "    .dataframe thead th {\n",
              "        text-align: right;\n",
              "    }\n",
              "</style>\n",
              "<table border=\"1\" class=\"dataframe\">\n",
              "  <thead>\n",
              "    <tr style=\"text-align: right;\">\n",
              "      <th></th>\n",
              "      <th>Desc</th>\n",
              "      <th>Grps</th>\n",
              "    </tr>\n",
              "  </thead>\n",
              "  <tbody>\n",
              "    <tr>\n",
              "      <th>8486</th>\n",
              "      <td>email    come    zz    mail    receiv    avg...</td>\n",
              "      <td>GRP_29</td>\n",
              "    </tr>\n",
              "    <tr>\n",
              "      <th>8487</th>\n",
              "      <td>telephoni    softwar    issuetelephoni    so...</td>\n",
              "      <td>GRP_0</td>\n",
              "    </tr>\n",
              "    <tr>\n",
              "      <th>8488</th>\n",
              "      <td>vip2    window    password    reset    tifpd...</td>\n",
              "      <td>GRP_0</td>\n",
              "    </tr>\n",
              "    <tr>\n",
              "      <th>8489</th>\n",
              "      <td>machin    nã£o    estã¡    funcionandoi    u...</td>\n",
              "      <td>GRP_62</td>\n",
              "    </tr>\n",
              "    <tr>\n",
              "      <th>8490</th>\n",
              "      <td>mehreren    pc`s    lassen    sich    versch...</td>\n",
              "      <td>GRP_OTHERS</td>\n",
              "    </tr>\n",
              "  </tbody>\n",
              "</table>\n",
              "</div>"
            ],
            "text/plain": [
              "                                                   Desc        Grps\n",
              "8486    email    come    zz    mail    receiv    avg...      GRP_29\n",
              "8487    telephoni    softwar    issuetelephoni    so...       GRP_0\n",
              "8488    vip2    window    password    reset    tifpd...       GRP_0\n",
              "8489    machin    nã£o    estã¡    funcionandoi    u...      GRP_62\n",
              "8490    mehreren    pc`s    lassen    sich    versch...  GRP_OTHERS"
            ]
          },
          "metadata": {
            "tags": []
          },
          "execution_count": 64
        }
      ]
    },
    {
      "cell_type": "code",
      "metadata": {
        "id": "Fs0-JnoiJMnh",
        "colab_type": "code",
        "colab": {
          "base_uri": "https://localhost:8080/",
          "height": 206
        },
        "outputId": "6d524ca6-f574-4c48-c9ab-e6959e7d9165"
      },
      "source": [
        "capstoneNLP_DF2.tail()"
      ],
      "execution_count": null,
      "outputs": [
        {
          "output_type": "execute_result",
          "data": {
            "text/html": [
              "<div>\n",
              "<style scoped>\n",
              "    .dataframe tbody tr th:only-of-type {\n",
              "        vertical-align: middle;\n",
              "    }\n",
              "\n",
              "    .dataframe tbody tr th {\n",
              "        vertical-align: top;\n",
              "    }\n",
              "\n",
              "    .dataframe thead th {\n",
              "        text-align: right;\n",
              "    }\n",
              "</style>\n",
              "<table border=\"1\" class=\"dataframe\">\n",
              "  <thead>\n",
              "    <tr style=\"text-align: right;\">\n",
              "      <th></th>\n",
              "      <th>Desc</th>\n",
              "      <th>Target</th>\n",
              "    </tr>\n",
              "  </thead>\n",
              "  <tbody>\n",
              "    <tr>\n",
              "      <th>8486</th>\n",
              "      <td>email    come    zz    mail    receiv    avg...</td>\n",
              "      <td>22</td>\n",
              "    </tr>\n",
              "    <tr>\n",
              "      <th>8487</th>\n",
              "      <td>telephoni    softwar    issuetelephoni    so...</td>\n",
              "      <td>0</td>\n",
              "    </tr>\n",
              "    <tr>\n",
              "      <th>8488</th>\n",
              "      <td>vip2    window    password    reset    tifpd...</td>\n",
              "      <td>0</td>\n",
              "    </tr>\n",
              "    <tr>\n",
              "      <th>8489</th>\n",
              "      <td>machin    nã£o    estã¡    funcionandoi    u...</td>\n",
              "      <td>47</td>\n",
              "    </tr>\n",
              "    <tr>\n",
              "      <th>8490</th>\n",
              "      <td>mehreren    pc`s    lassen    sich    versch...</td>\n",
              "      <td>52</td>\n",
              "    </tr>\n",
              "  </tbody>\n",
              "</table>\n",
              "</div>"
            ],
            "text/plain": [
              "                                                   Desc  Target\n",
              "8486    email    come    zz    mail    receiv    avg...      22\n",
              "8487    telephoni    softwar    issuetelephoni    so...       0\n",
              "8488    vip2    window    password    reset    tifpd...       0\n",
              "8489    machin    nã£o    estã¡    funcionandoi    u...      47\n",
              "8490    mehreren    pc`s    lassen    sich    versch...      52"
            ]
          },
          "metadata": {
            "tags": []
          },
          "execution_count": 65
        }
      ]
    },
    {
      "cell_type": "code",
      "metadata": {
        "id": "vYqxU8U-XVjV",
        "colab_type": "code",
        "colab": {}
      },
      "source": [
        "# Merge both datasets\n",
        "capstoneNLP_DF_prep = pd.merge(capstoneNLP_DF,\n",
        "                           capstoneNLP_DF2,\n",
        "                           on='Desc', \n",
        "                           how='left') "
      ],
      "execution_count": null,
      "outputs": []
    },
    {
      "cell_type": "code",
      "metadata": {
        "id": "eGn35k_eTYBW",
        "colab_type": "code",
        "colab": {
          "base_uri": "https://localhost:8080/",
          "height": 424
        },
        "outputId": "0daa209b-8ec2-433f-960a-51ca70903c8f"
      },
      "source": [
        "# drop duplicates, and reset index\n",
        "capstoneNLP_DF_prep.drop_duplicates(subset=\"Desc\", inplace=True)\n",
        "capstoneNLP_DF_prep.reset_index(drop=True, inplace=True)\n",
        "capstoneNLP_DF_prep"
      ],
      "execution_count": null,
      "outputs": [
        {
          "output_type": "execute_result",
          "data": {
            "text/html": [
              "<div>\n",
              "<style scoped>\n",
              "    .dataframe tbody tr th:only-of-type {\n",
              "        vertical-align: middle;\n",
              "    }\n",
              "\n",
              "    .dataframe tbody tr th {\n",
              "        vertical-align: top;\n",
              "    }\n",
              "\n",
              "    .dataframe thead th {\n",
              "        text-align: right;\n",
              "    }\n",
              "</style>\n",
              "<table border=\"1\" class=\"dataframe\">\n",
              "  <thead>\n",
              "    <tr style=\"text-align: right;\">\n",
              "      <th></th>\n",
              "      <th>Desc</th>\n",
              "      <th>Grps</th>\n",
              "      <th>Target</th>\n",
              "    </tr>\n",
              "  </thead>\n",
              "  <tbody>\n",
              "    <tr>\n",
              "      <th>0</th>\n",
              "      <td>login    issu    verifi    user    detail   ...</td>\n",
              "      <td>GRP_0</td>\n",
              "      <td>0</td>\n",
              "    </tr>\n",
              "    <tr>\n",
              "      <th>1</th>\n",
              "      <td>outlook    receiv    hmjdrvpb    komuaywn   ...</td>\n",
              "      <td>GRP_0</td>\n",
              "      <td>0</td>\n",
              "    </tr>\n",
              "    <tr>\n",
              "      <th>2</th>\n",
              "      <td>cant    log    vpn    receiv    eylqgodm    ...</td>\n",
              "      <td>GRP_0</td>\n",
              "      <td>0</td>\n",
              "    </tr>\n",
              "    <tr>\n",
              "      <th>3</th>\n",
              "      <td>unabl    access    hr    tool    pageun    a...</td>\n",
              "      <td>GRP_0</td>\n",
              "      <td>0</td>\n",
              "    </tr>\n",
              "    <tr>\n",
              "      <th>4</th>\n",
              "      <td>skype    error    skype    error</td>\n",
              "      <td>GRP_0</td>\n",
              "      <td>0</td>\n",
              "    </tr>\n",
              "    <tr>\n",
              "      <th>...</th>\n",
              "      <td>...</td>\n",
              "      <td>...</td>\n",
              "      <td>...</td>\n",
              "    </tr>\n",
              "    <tr>\n",
              "      <th>7773</th>\n",
              "      <td>email    come    zz    mail    receiv    avg...</td>\n",
              "      <td>GRP_29</td>\n",
              "      <td>22</td>\n",
              "    </tr>\n",
              "    <tr>\n",
              "      <th>7774</th>\n",
              "      <td>telephoni    softwar    issuetelephoni    so...</td>\n",
              "      <td>GRP_0</td>\n",
              "      <td>0</td>\n",
              "    </tr>\n",
              "    <tr>\n",
              "      <th>7775</th>\n",
              "      <td>vip2    window    password    reset    tifpd...</td>\n",
              "      <td>GRP_0</td>\n",
              "      <td>0</td>\n",
              "    </tr>\n",
              "    <tr>\n",
              "      <th>7776</th>\n",
              "      <td>machin    nã£o    estã¡    funcionandoi    u...</td>\n",
              "      <td>GRP_62</td>\n",
              "      <td>47</td>\n",
              "    </tr>\n",
              "    <tr>\n",
              "      <th>7777</th>\n",
              "      <td>mehreren    pc`s    lassen    sich    versch...</td>\n",
              "      <td>GRP_OTHERS</td>\n",
              "      <td>52</td>\n",
              "    </tr>\n",
              "  </tbody>\n",
              "</table>\n",
              "<p>7778 rows × 3 columns</p>\n",
              "</div>"
            ],
            "text/plain": [
              "                                                   Desc        Grps  Target\n",
              "0       login    issu    verifi    user    detail   ...       GRP_0       0\n",
              "1       outlook    receiv    hmjdrvpb    komuaywn   ...       GRP_0       0\n",
              "2       cant    log    vpn    receiv    eylqgodm    ...       GRP_0       0\n",
              "3       unabl    access    hr    tool    pageun    a...       GRP_0       0\n",
              "4                    skype    error    skype    error         GRP_0       0\n",
              "...                                                 ...         ...     ...\n",
              "7773    email    come    zz    mail    receiv    avg...      GRP_29      22\n",
              "7774    telephoni    softwar    issuetelephoni    so...       GRP_0       0\n",
              "7775    vip2    window    password    reset    tifpd...       GRP_0       0\n",
              "7776    machin    nã£o    estã¡    funcionandoi    u...      GRP_62      47\n",
              "7777    mehreren    pc`s    lassen    sich    versch...  GRP_OTHERS      52\n",
              "\n",
              "[7778 rows x 3 columns]"
            ]
          },
          "metadata": {
            "tags": []
          },
          "execution_count": 67
        }
      ]
    },
    {
      "cell_type": "code",
      "metadata": {
        "id": "Zn1RUrCgTYIy",
        "colab_type": "code",
        "colab": {
          "base_uri": "https://localhost:8080/",
          "height": 206
        },
        "outputId": "9bf36380-f007-4a23-f552-56320971919f"
      },
      "source": [
        "# Length of each description\n",
        "capstoneNLP_DF_prep['length'] = capstoneNLP_DF_prep['Desc'].apply(lambda x: len(x.split(\" \")))\n",
        "capstoneNLP_DF_prep.head()"
      ],
      "execution_count": null,
      "outputs": [
        {
          "output_type": "execute_result",
          "data": {
            "text/html": [
              "<div>\n",
              "<style scoped>\n",
              "    .dataframe tbody tr th:only-of-type {\n",
              "        vertical-align: middle;\n",
              "    }\n",
              "\n",
              "    .dataframe tbody tr th {\n",
              "        vertical-align: top;\n",
              "    }\n",
              "\n",
              "    .dataframe thead th {\n",
              "        text-align: right;\n",
              "    }\n",
              "</style>\n",
              "<table border=\"1\" class=\"dataframe\">\n",
              "  <thead>\n",
              "    <tr style=\"text-align: right;\">\n",
              "      <th></th>\n",
              "      <th>Desc</th>\n",
              "      <th>Grps</th>\n",
              "      <th>Target</th>\n",
              "      <th>length</th>\n",
              "    </tr>\n",
              "  </thead>\n",
              "  <tbody>\n",
              "    <tr>\n",
              "      <th>0</th>\n",
              "      <td>login    issu    verifi    user    detail   ...</td>\n",
              "      <td>GRP_0</td>\n",
              "      <td>0</td>\n",
              "      <td>97</td>\n",
              "    </tr>\n",
              "    <tr>\n",
              "      <th>1</th>\n",
              "      <td>outlook    receiv    hmjdrvpb    komuaywn   ...</td>\n",
              "      <td>GRP_0</td>\n",
              "      <td>0</td>\n",
              "      <td>81</td>\n",
              "    </tr>\n",
              "    <tr>\n",
              "      <th>2</th>\n",
              "      <td>cant    log    vpn    receiv    eylqgodm    ...</td>\n",
              "      <td>GRP_0</td>\n",
              "      <td>0</td>\n",
              "      <td>53</td>\n",
              "    </tr>\n",
              "    <tr>\n",
              "      <th>3</th>\n",
              "      <td>unabl    access    hr    tool    pageun    a...</td>\n",
              "      <td>GRP_0</td>\n",
              "      <td>0</td>\n",
              "      <td>37</td>\n",
              "    </tr>\n",
              "    <tr>\n",
              "      <th>4</th>\n",
              "      <td>skype    error    skype    error</td>\n",
              "      <td>GRP_0</td>\n",
              "      <td>0</td>\n",
              "      <td>17</td>\n",
              "    </tr>\n",
              "  </tbody>\n",
              "</table>\n",
              "</div>"
            ],
            "text/plain": [
              "                                                Desc   Grps  Target  length\n",
              "0    login    issu    verifi    user    detail   ...  GRP_0       0      97\n",
              "1    outlook    receiv    hmjdrvpb    komuaywn   ...  GRP_0       0      81\n",
              "2    cant    log    vpn    receiv    eylqgodm    ...  GRP_0       0      53\n",
              "3    unabl    access    hr    tool    pageun    a...  GRP_0       0      37\n",
              "4                 skype    error    skype    error    GRP_0       0      17"
            ]
          },
          "metadata": {
            "tags": []
          },
          "execution_count": 68
        }
      ]
    },
    {
      "cell_type": "code",
      "metadata": {
        "id": "gXSkQWN4Fq74",
        "colab_type": "code",
        "colab": {
          "base_uri": "https://localhost:8080/",
          "height": 35
        },
        "outputId": "60753596-8b8e-4cd8-e5dd-bfba27b4af09"
      },
      "source": [
        "capstoneNLP_DF_prep[\"length\"].mean()"
      ],
      "execution_count": null,
      "outputs": [
        {
          "output_type": "execute_result",
          "data": {
            "text/plain": [
              "122.83710465415274"
            ]
          },
          "metadata": {
            "tags": []
          },
          "execution_count": 69
        }
      ]
    },
    {
      "cell_type": "markdown",
      "metadata": {
        "id": "aqhHrO3uFsEh",
        "colab_type": "text"
      },
      "source": [
        "###**4. Adjusting the length of sentences(the maxlen hyper-parameter), keeping it low**"
      ]
    },
    {
      "cell_type": "code",
      "metadata": {
        "id": "WgZKiIiOqScz",
        "colab_type": "code",
        "colab": {}
      },
      "source": [
        "max_features = 10000\n",
        "maxlen = 30 # used the length mean (122) but the model was so poor, we have tried 53, 45 and now 30: the model is better able to work with \n",
        "            # descriptions that are shorter.\n",
        "embedding_size = 200"
      ],
      "execution_count": null,
      "outputs": []
    },
    {
      "cell_type": "code",
      "metadata": {
        "id": "1Ya03fBODL1n",
        "colab_type": "code",
        "colab": {
          "base_uri": "https://localhost:8080/",
          "height": 90
        },
        "outputId": "4009ff8c-ab0a-45a9-bd1c-eec355f2399e"
      },
      "source": [
        "#Apply Tokenizer and get indices for words\n",
        "tokenizer = Tokenizer(num_words=max_features)\n",
        "tokenizer.fit_on_texts(list(capstoneNLP_DF_prep['Desc']))\n",
        "X = tokenizer.texts_to_sequences(capstoneNLP_DF_prep['Desc'])\n",
        "print(\"Number of Samples:\", len(X))\n",
        "print(X[0])\n",
        "X = pad_sequences(X, maxlen = maxlen)\n",
        "y = np.asarray(capstoneNLP_DF_prep['Target'])\n",
        "print(\"Number of Labels: \", len(y))\n",
        "print(y[0])"
      ],
      "execution_count": null,
      "outputs": [
        {
          "output_type": "stream",
          "text": [
            "Number of Samples: 7778\n",
            "[46, 20, 230, 18, 169, 220, 48, 54, 82, 18, 54, 251, 23, 12, 300, 18, 46, 82, 608, 244, 79, 46, 20, 207]\n",
            "Number of Labels:  7778\n",
            "0\n"
          ],
          "name": "stdout"
        }
      ]
    },
    {
      "cell_type": "code",
      "metadata": {
        "id": "UGNhQKpgF2QC",
        "colab_type": "code",
        "colab": {
          "base_uri": "https://localhost:8080/",
          "height": 35
        },
        "outputId": "1ec99a6e-8f51-431b-b979-cd996823fc81"
      },
      "source": [
        "#Vocabulary size\n",
        "num_words = len(tokenizer.word_index) + 1\n",
        "vocab_size = num_words\n",
        "print(num_words)"
      ],
      "execution_count": null,
      "outputs": [
        {
          "output_type": "stream",
          "text": [
            "23676\n"
          ],
          "name": "stdout"
        }
      ]
    },
    {
      "cell_type": "code",
      "metadata": {
        "id": "qSdXgNBgF2Yt",
        "colab_type": "code",
        "colab": {}
      },
      "source": [
        "#Get Glove Word Embeddings\n",
        "EMBEDDING_FILE = project_path+'glove.6B.200d.txt'\n",
        "\n",
        "embeddings = {}\n",
        "for o in open(EMBEDDING_FILE):\n",
        "    word = o.split(\" \")[0]\n",
        "    # print(word)\n",
        "    embd = o.split(\" \")[1:]\n",
        "    embd = np.asarray(embd, dtype='float32')\n",
        "    # print(embd)\n",
        "    embeddings[word] = embd\n",
        "\n",
        "# create a weight matrix for words in training docs\n",
        "embedding_matrix = np.zeros((num_words, 200))\n",
        "\n",
        "for word, i in tokenizer.word_index.items():\n",
        "\tembedding_vector = embeddings.get(word)\n",
        "\tif embedding_vector is not None:\n",
        "\t\tembedding_matrix[i] = embedding_vector"
      ],
      "execution_count": null,
      "outputs": []
    },
    {
      "cell_type": "code",
      "metadata": {
        "id": "5Sbj7l9tF2cE",
        "colab_type": "code",
        "colab": {
          "base_uri": "https://localhost:8080/",
          "height": 35
        },
        "outputId": "c82ad60e-1a5e-44e7-d532-ea3e58224155"
      },
      "source": [
        "len(embeddings.values())"
      ],
      "execution_count": null,
      "outputs": [
        {
          "output_type": "execute_result",
          "data": {
            "text/plain": [
              "400000"
            ]
          },
          "metadata": {
            "tags": []
          },
          "execution_count": 79
        }
      ]
    },
    {
      "cell_type": "markdown",
      "metadata": {
        "id": "9ghEWf-tF_xd",
        "colab_type": "text"
      },
      "source": [
        "###**5. Taking care of the imbalance in the classes with RandomOverSampling**\n",
        "We found that undersampling gave us a model with accuracy in the fifties but oversampling gave over 90%. (I believe that in this case, not reducing the actual sample numbers in the classes with lots of samples gave the model the much needed strength. Just to be clearer, using SMOTE gave us about 70%, while RandomOverSampling did the magic by landing us in the Nineties region in model performance (because we have more trainable parameter).\n",
        "\n",
        "Just to explain why i prefered to filter 1 - 6 sampled Groups out, because the algorithm here has a parameter k_neighbors that is by default 5 (so any Group with samples less than 6 will hamper this algorithm except we manually adjust this parameter and that will compromise it's efficiency)"
      ]
    },
    {
      "cell_type": "code",
      "metadata": {
        "id": "bKE0kln3sB5y",
        "colab_type": "code",
        "colab": {}
      },
      "source": [
        "from imblearn.over_sampling import SMOTE\n",
        "from imblearn.under_sampling import RandomUnderSampler\n",
        "from imblearn.over_sampling import RandomOverSampler"
      ],
      "execution_count": null,
      "outputs": []
    },
    {
      "cell_type": "code",
      "metadata": {
        "id": "uNKMVEYoF2iv",
        "colab_type": "code",
        "colab": {
          "base_uri": "https://localhost:8080/",
          "height": 54
        },
        "outputId": "6cbc5d79-5ba8-4bda-e9b8-7821a8ba8cd0"
      },
      "source": [
        "# Dealing with imbalance in the classes\n",
        "\n",
        "#smote = SMOTE(ratio='minority', random_state=0)\n",
        "ros = RandomOverSampler(sampling_strategy='auto',random_state=0)\n",
        "X_sm, y_sm = ros.fit_sample(X, y)\n",
        "#rus = RandomUnderSampler(ratio='majority', random_state=0)\n",
        "#X_sm, y_sm = rus.fit_sample(X, y)"
      ],
      "execution_count": null,
      "outputs": [
        {
          "output_type": "stream",
          "text": [
            "/usr/local/lib/python3.6/dist-packages/sklearn/utils/deprecation.py:87: FutureWarning: Function safe_indexing is deprecated; safe_indexing is deprecated in version 0.22 and will be removed in version 0.24.\n",
            "  warnings.warn(msg, category=FutureWarning)\n"
          ],
          "name": "stderr"
        }
      ]
    },
    {
      "cell_type": "code",
      "metadata": {
        "id": "YV7UHPGAF2gz",
        "colab_type": "code",
        "colab": {
          "base_uri": "https://localhost:8080/",
          "height": 35
        },
        "outputId": "2b9fecc8-2ae0-43ac-83c3-51a864df2a28"
      },
      "source": [
        "zX = np.array(X_sm)\n",
        "print(zX.shape)"
      ],
      "execution_count": null,
      "outputs": [
        {
          "output_type": "stream",
          "text": [
            "(176437, 30)\n"
          ],
          "name": "stdout"
        }
      ]
    },
    {
      "cell_type": "code",
      "metadata": {
        "id": "lBLj3PbyIN-9",
        "colab_type": "code",
        "colab": {
          "base_uri": "https://localhost:8080/",
          "height": 35
        },
        "outputId": "232f8f63-fce4-410d-c7e9-df3bc2c115a2"
      },
      "source": [
        "zy = np.array(y_sm)\n",
        "print(zy.shape)"
      ],
      "execution_count": null,
      "outputs": [
        {
          "output_type": "stream",
          "text": [
            "(176437,)\n"
          ],
          "name": "stdout"
        }
      ]
    },
    {
      "cell_type": "code",
      "metadata": {
        "id": "Jo1bAKRAKP7G",
        "colab_type": "code",
        "colab": {}
      },
      "source": [
        "# onehot encoding the label\n",
        "num_classes = 53\n",
        "y_sm = to_categorical(y_sm, num_classes)"
      ],
      "execution_count": null,
      "outputs": []
    },
    {
      "cell_type": "code",
      "metadata": {
        "id": "5hWBRypUIoMd",
        "colab_type": "code",
        "colab": {}
      },
      "source": [
        "# Split dataset\n",
        "X_train, X_test, y_train, y_test = train_test_split(X_sm, y_sm, test_size=0.20, random_state=42)"
      ],
      "execution_count": null,
      "outputs": []
    },
    {
      "cell_type": "markdown",
      "metadata": {
        "id": "ih5xb827Huak",
        "colab_type": "text"
      },
      "source": [
        "###**6. Adding Early Stoping callback parameter gave the best number of iterations**"
      ]
    },
    {
      "cell_type": "code",
      "metadata": {
        "id": "K7zo6ufGAEEi",
        "colab_type": "code",
        "colab": {}
      },
      "source": [
        "#Initializing Early stopping and Model chekpoint callbacks \n",
        "#if the val_loss is not going to change even '0.001' for more than 10 continous epochs\n",
        "\n",
        "early_stopping = EarlyStopping(monitor='val_loss', min_delta=0.001, patience=10)"
      ],
      "execution_count": null,
      "outputs": []
    },
    {
      "cell_type": "markdown",
      "metadata": {
        "id": "jAuVvBG8YDdw",
        "colab_type": "text"
      },
      "source": [
        "###**7. Adding dropout to make the model a bit more complex**\n",
        "\n",
        "Binary_crossentropy loss was chosen because here we are not dealing with a multi-class classification problem ( i.e. at each iteration or ephoch we do not expect each sample to be classified into more than one class )"
      ]
    },
    {
      "cell_type": "code",
      "metadata": {
        "id": "AifRvo0oIoRl",
        "colab_type": "code",
        "colab": {
          "base_uri": "https://localhost:8080/",
          "height": 329
        },
        "outputId": "9296c8cd-10d5-490b-c09d-b6640c55fe69"
      },
      "source": [
        "#model building\n",
        "\n",
        "deep_inputs = Input(shape=(maxlen,))\n",
        "embedding_layer = Embedding(vocab_size, embedding_size, weights=[embedding_matrix], trainable=False)(deep_inputs)\n",
        "LSTM_Layer_1 = LSTM(128, dropout=0.2)(embedding_layer)\n",
        "dense_layer_1 = Dense(num_classes, activation='sigmoid')(LSTM_Layer_1)\n",
        "model = Model(inputs=deep_inputs, outputs=dense_layer_1)\n",
        "\n",
        "model.compile(loss='binary_crossentropy', optimizer='adam', metrics=['acc'])\n",
        "\n",
        "epochs = 100\n",
        "\n",
        "\n",
        "# Let's print the model summary:\n",
        "print(model.summary())"
      ],
      "execution_count": null,
      "outputs": [
        {
          "output_type": "stream",
          "text": [
            "Model: \"functional_15\"\n",
            "_________________________________________________________________\n",
            "Layer (type)                 Output Shape              Param #   \n",
            "=================================================================\n",
            "input_8 (InputLayer)         [(None, 30)]              0         \n",
            "_________________________________________________________________\n",
            "embedding_7 (Embedding)      (None, 30, 200)           4735200   \n",
            "_________________________________________________________________\n",
            "lstm_7 (LSTM)                (None, 128)               168448    \n",
            "_________________________________________________________________\n",
            "dense_7 (Dense)              (None, 53)                6837      \n",
            "=================================================================\n",
            "Total params: 4,910,485\n",
            "Trainable params: 175,285\n",
            "Non-trainable params: 4,735,200\n",
            "_________________________________________________________________\n",
            "None\n"
          ],
          "name": "stdout"
        }
      ]
    },
    {
      "cell_type": "code",
      "metadata": {
        "id": "xfYRTvnlIoWB",
        "colab_type": "code",
        "colab": {
          "base_uri": "https://localhost:8080/",
          "height": 422
        },
        "outputId": "6bdf8f0b-d727-4e96-8fbe-97f62c2b5a3f"
      },
      "source": [
        "# The following script prints the architecture of our neural network:\n",
        "from tensorflow.keras.utils import plot_model\n",
        "plot_model(model, to_file='model_plot4a.png', show_shapes=True, show_layer_names=True)"
      ],
      "execution_count": null,
      "outputs": [
        {
          "output_type": "execute_result",
          "data": {
            "image/png": "[encoded data removed]",
            "text/plain": [
              "<IPython.core.display.Image object>"
            ]
          },
          "metadata": {
            "tags": []
          },
          "execution_count": 108
        }
      ]
    },
    {
      "cell_type": "markdown",
      "metadata": {
        "id": "IMR8GPsoXnQD",
        "colab_type": "text"
      },
      "source": [
        "###**8. Increasing the ephochs hyper-parameter with a batch size of 64**"
      ]
    },
    {
      "cell_type": "code",
      "metadata": {
        "id": "hQeVBMGKIobd",
        "colab_type": "code",
        "colab": {
          "base_uri": "https://localhost:8080/",
          "height": 1000
        },
        "outputId": "5bea9d51-fa6d-4867-87a0-138d4917b0d2"
      },
      "source": [
        "# From the figure above, you can see that the output layer only contains 1 dense layer with 53 neurons. Let's now train our model:\n",
        "\n",
        "history = model.fit(X_train, y_train, batch_size=64, epochs=epochs, verbose=1, callbacks=early_stopping, validation_split=0.2)"
      ],
      "execution_count": null,
      "outputs": [
        {
          "output_type": "stream",
          "text": [
            "Epoch 1/100\n",
            "1765/1765 [==============================] - 10s 6ms/step - loss: 0.0753 - acc: 0.3041 - val_loss: 0.0451 - val_acc: 0.6096\n",
            "Epoch 2/100\n",
            "1765/1765 [==============================] - 10s 6ms/step - loss: 0.0322 - acc: 0.7340 - val_loss: 0.0193 - val_acc: 0.8555\n",
            "Epoch 3/100\n",
            "1765/1765 [==============================] - 10s 5ms/step - loss: 0.0168 - acc: 0.8687 - val_loss: 0.0112 - val_acc: 0.9107\n",
            "Epoch 4/100\n",
            "1765/1765 [==============================] - 10s 5ms/step - loss: 0.0112 - acc: 0.9134 - val_loss: 0.0080 - val_acc: 0.9337\n",
            "Epoch 5/100\n",
            "1765/1765 [==============================] - 10s 6ms/step - loss: 0.0084 - acc: 0.9341 - val_loss: 0.0066 - val_acc: 0.9407\n",
            "Epoch 6/100\n",
            "1765/1765 [==============================] - 9s 5ms/step - loss: 0.0069 - acc: 0.9442 - val_loss: 0.0054 - val_acc: 0.9523\n",
            "Epoch 7/100\n",
            "1765/1765 [==============================] - 10s 5ms/step - loss: 0.0059 - acc: 0.9502 - val_loss: 0.0048 - val_acc: 0.9534\n",
            "Epoch 8/100\n",
            "1765/1765 [==============================] - 10s 5ms/step - loss: 0.0054 - acc: 0.9537 - val_loss: 0.0045 - val_acc: 0.9546\n",
            "Epoch 9/100\n",
            "1765/1765 [==============================] - 10s 5ms/step - loss: 0.0049 - acc: 0.9567 - val_loss: 0.0042 - val_acc: 0.9593\n",
            "Epoch 10/100\n",
            "1765/1765 [==============================] - 10s 5ms/step - loss: 0.0045 - acc: 0.9602 - val_loss: 0.0040 - val_acc: 0.9605\n",
            "Epoch 11/100\n",
            "1765/1765 [==============================] - 9s 5ms/step - loss: 0.0043 - acc: 0.9614 - val_loss: 0.0038 - val_acc: 0.9612\n",
            "Epoch 12/100\n",
            "1765/1765 [==============================] - 10s 5ms/step - loss: 0.0040 - acc: 0.9627 - val_loss: 0.0036 - val_acc: 0.9640\n",
            "Epoch 13/100\n",
            "1765/1765 [==============================] - 10s 5ms/step - loss: 0.0038 - acc: 0.9648 - val_loss: 0.0036 - val_acc: 0.9631\n",
            "Epoch 14/100\n",
            "1765/1765 [==============================] - 10s 5ms/step - loss: 0.0037 - acc: 0.9657 - val_loss: 0.0036 - val_acc: 0.9642\n",
            "Epoch 15/100\n",
            "1765/1765 [==============================] - 9s 5ms/step - loss: 0.0036 - acc: 0.9659 - val_loss: 0.0033 - val_acc: 0.9670\n",
            "Epoch 16/100\n",
            "1765/1765 [==============================] - 9s 5ms/step - loss: 0.0034 - acc: 0.9675 - val_loss: 0.0033 - val_acc: 0.9640\n",
            "Epoch 17/100\n",
            "1765/1765 [==============================] - 9s 5ms/step - loss: 0.0033 - acc: 0.9679 - val_loss: 0.0033 - val_acc: 0.9652\n",
            "Epoch 18/100\n",
            "1765/1765 [==============================] - 10s 6ms/step - loss: 0.0032 - acc: 0.9690 - val_loss: 0.0033 - val_acc: 0.9644\n",
            "Epoch 19/100\n",
            "1765/1765 [==============================] - 10s 6ms/step - loss: 0.0031 - acc: 0.9694 - val_loss: 0.0031 - val_acc: 0.9660\n",
            "Epoch 20/100\n",
            "1765/1765 [==============================] - 9s 5ms/step - loss: 0.0030 - acc: 0.9694 - val_loss: 0.0034 - val_acc: 0.9638\n",
            "Epoch 21/100\n",
            "1765/1765 [==============================] - 10s 5ms/step - loss: 0.0030 - acc: 0.9700 - val_loss: 0.0031 - val_acc: 0.9677\n",
            "Epoch 22/100\n",
            "1765/1765 [==============================] - 10s 5ms/step - loss: 0.0030 - acc: 0.9703 - val_loss: 0.0032 - val_acc: 0.9679\n",
            "Epoch 23/100\n",
            "1765/1765 [==============================] - 9s 5ms/step - loss: 0.0029 - acc: 0.9710 - val_loss: 0.0032 - val_acc: 0.9665\n",
            "Epoch 24/100\n",
            "1765/1765 [==============================] - 10s 5ms/step - loss: 0.0028 - acc: 0.9710 - val_loss: 0.0033 - val_acc: 0.9652\n",
            "Epoch 25/100\n",
            "1765/1765 [==============================] - 10s 5ms/step - loss: 0.0028 - acc: 0.9713 - val_loss: 0.0031 - val_acc: 0.9682\n",
            "Epoch 26/100\n",
            "1765/1765 [==============================] - 9s 5ms/step - loss: 0.0027 - acc: 0.9712 - val_loss: 0.0031 - val_acc: 0.9689\n",
            "Epoch 27/100\n",
            "1765/1765 [==============================] - 9s 5ms/step - loss: 0.0027 - acc: 0.9715 - val_loss: 0.0031 - val_acc: 0.9684\n",
            "Epoch 28/100\n",
            "1765/1765 [==============================] - 9s 5ms/step - loss: 0.0027 - acc: 0.9719 - val_loss: 0.0031 - val_acc: 0.9685\n",
            "Epoch 29/100\n",
            "1765/1765 [==============================] - 9s 5ms/step - loss: 0.0027 - acc: 0.9719 - val_loss: 0.0031 - val_acc: 0.9671\n"
          ],
          "name": "stdout"
        }
      ]
    },
    {
      "cell_type": "markdown",
      "metadata": {
        "id": "JuZ7DN8rbZvF",
        "colab_type": "text"
      },
      "source": [
        "###**Summary:**\n",
        "######**The steps taken to improve the model are itemized below**\n",
        "\n",
        ">* Tensorflow version 2.0.0 is installed, and because keras will not work with this out of the box, we have to use tensorflow keras libraries\n",
        "\n",
        ">* We reduced our classes by filtering out to what we call 'GRP_Others' those classes with very few samples (this is the help us when we are taking care of class imbalance)\n",
        "\n",
        "\n",
        ">* Performing text pre-processing (by text lowering, noise/stopwards removal and normalization by stemming)\n",
        "\n",
        "\n",
        ">* Adjusting the length of sentences(the maxlen hyper-parameter), keeping it low\n",
        "\n",
        "\n",
        ">* Taking care of the imbalance in the classes with RandomOverSampling:\n",
        "\n",
        "We found that undersampling gave us a model with accuracy in the fifties but oversampling gave over 90%. ( I believe that in this case not reducing the actual sample numbers in the classes with lots of samples gave the model the much needed strength. Just to be clearer, using SMOTE gave us about 70%, while RandomOverSampling did the magic by landing us in the nineties region in model performance(because we have more trainable parameter).\n",
        "\n",
        "\n",
        ">* Adding Early Stoping callback parameter gave the best number of iterations\n",
        "\n",
        "\n",
        ">* Adding dropout to make the model a bit more complex\n",
        "\n",
        "\n",
        ">* Increasing the ephochs hyper-parameter with a batch size of 64"
      ]
    },
    {
      "cell_type": "code",
      "metadata": {
        "id": "sYUiyibVqSkQ",
        "colab_type": "code",
        "colab": {}
      },
      "source": [
        ""
      ],
      "execution_count": null,
      "outputs": []
    },
    {
      "cell_type": "code",
      "metadata": {
        "id": "OazZPDPAFpKL",
        "colab_type": "code",
        "colab": {}
      },
      "source": [
        ""
      ],
      "execution_count": null,
      "outputs": []
    },
    {
      "cell_type": "markdown",
      "metadata": {
        "colab_type": "text",
        "id": "XabOrhYgMyhC"
      },
      "source": [
        "##**( 2 ) Interpretation and Recommendations**\n",
        "\n",
        "###**a. Provide interpretations from the model and report the final model evaluation metrics**\n",
        "\n",
        "\n"
      ]
    },
    {
      "cell_type": "markdown",
      "metadata": {
        "id": "-jk6tHnWfp_X",
        "colab_type": "text"
      },
      "source": [
        "######**Model Evaluation and Plots**"
      ]
    },
    {
      "cell_type": "code",
      "metadata": {
        "colab_type": "code",
        "id": "TdKv79axaQCR",
        "colab": {
          "base_uri": "https://localhost:8080/",
          "height": 72
        },
        "outputId": "ad329505-fef8-4e40-e88d-1e9291017c43"
      },
      "source": [
        "# Let's now evaluate our model on the test set:\n",
        "\n",
        "score = model.evaluate(X_test, y_test, verbose=1)\n",
        "\n",
        "print(\"Test Score:\", score[0])\n",
        "print(\"Test Accuracy:\", score[1])"
      ],
      "execution_count": null,
      "outputs": [
        {
          "output_type": "stream",
          "text": [
            "1103/1103 [==============================] - 3s 3ms/step - loss: 0.0028 - acc: 0.9689\n",
            "Test Score: 0.002835427178069949\n",
            "Test Accuracy: 0.9689412713050842\n"
          ],
          "name": "stdout"
        }
      ]
    },
    {
      "cell_type": "markdown",
      "metadata": {
        "colab_type": "text",
        "id": "O_ey2cBSa0GO"
      },
      "source": [
        "Our model achieves an accuracy of about 97% which is pretty impressive"
      ]
    },
    {
      "cell_type": "code",
      "metadata": {
        "colab_type": "code",
        "id": "7FNODYaOa8us",
        "colab": {
          "base_uri": "https://localhost:8080/",
          "height": 573
        },
        "outputId": "1b8c86c5-f3ca-4027-c434-769980b5d9ec"
      },
      "source": [
        "# Finally, we will plot the loss and accuracy values for training and test sets to see what happened to our model\n",
        "\n",
        "import matplotlib.pyplot as plt\n",
        "\n",
        "plt.plot(history.history['acc'])\n",
        "plt.plot(history.history['val_acc'])\n",
        "\n",
        "plt.title('model accuracy')\n",
        "plt.ylabel('accuracy')\n",
        "plt.xlabel('epoch')\n",
        "plt.legend(['train','test'], loc='upper left')\n",
        "plt.show()\n",
        "\n",
        "plt.plot(history.history['loss'])\n",
        "plt.plot(history.history['val_loss'])\n",
        "\n",
        "plt.title('model loss')\n",
        "plt.ylabel('loss')\n",
        "plt.xlabel('epoch')\n",
        "plt.legend(['train','test'], loc='upper left')\n",
        "plt.show()"
      ],
      "execution_count": null,
      "outputs": [
        {
          "output_type": "display_data",
          "data": {
            "image/png": "[encoded data removed]",
            "text/plain": [
              "<Figure size 432x288 with 1 Axes>"
            ]
          },
          "metadata": {
            "tags": [],
            "needs_background": "light"
          }
        },
        {
          "output_type": "display_data",
          "data": {
            "image/png": "[encoded data removed]",
            "text/plain": [
              "<Figure size 432x288 with 1 Axes>"
            ]
          },
          "metadata": {
            "tags": [],
            "needs_background": "light"
          }
        }
      ]
    },
    {
      "cell_type": "markdown",
      "metadata": {
        "colab_type": "text",
        "id": "1c9eDJXbh6bB"
      },
      "source": [
        "######**Observation**\n",
        "\n",
        "As can be seen the model is not overfitting on the validation set. Therefore, the model should performance well on unseen data, it is a good fit"
      ]
    },
    {
      "cell_type": "markdown",
      "metadata": {
        "colab_type": "text",
        "id": "0Bblroe2N9bS"
      },
      "source": [
        "######**Predict and reporting**"
      ]
    },
    {
      "cell_type": "code",
      "metadata": {
        "colab_type": "code",
        "id": "JgN0KX-idbdl",
        "colab": {
          "base_uri": "https://localhost:8080/",
          "height": 1000
        },
        "outputId": "c9fecd7c-bd53-4d99-be79-2c620b8b0160"
      },
      "source": [
        "from sklearn.metrics import classification_report,confusion_matrix\n",
        "\n",
        "Y_pred = model.predict(X_test)\n",
        "y_pred = np.rint(Y_pred)\n",
        "y_pred = np.argmax(Y_pred,axis=1)\n",
        "y_test = np.argmax(y_test,axis=1)\n",
        "print('  Classification Report:\\n',classification_report(y_test,y_pred),'\\n')"
      ],
      "execution_count": null,
      "outputs": [
        {
          "output_type": "stream",
          "text": [
            "  Classification Report:\n",
            "               precision    recall  f1-score   support\n",
            "\n",
            "           0       1.00      0.74      0.85       687\n",
            "           1       1.00      1.00      1.00       621\n",
            "           2       0.99      1.00      0.99       636\n",
            "           3       1.00      1.00      1.00       661\n",
            "           4       0.97      0.97      0.97       624\n",
            "           5       0.99      1.00      0.99       656\n",
            "           6       1.00      0.98      0.99       633\n",
            "           7       1.00      1.00      1.00       701\n",
            "           8       0.99      1.00      1.00       709\n",
            "           9       1.00      1.00      1.00       672\n",
            "          10       1.00      1.00      1.00       648\n",
            "          11       0.96      1.00      0.98       674\n",
            "          12       0.98      0.99      0.98       665\n",
            "          13       1.00      0.97      0.98       671\n",
            "          14       1.00      1.00      1.00       663\n",
            "          15       0.99      1.00      1.00       645\n",
            "          16       0.99      1.00      1.00       665\n",
            "          17       0.99      0.97      0.98       703\n",
            "          18       0.99      1.00      1.00       667\n",
            "          19       0.99      1.00      1.00       633\n",
            "          20       1.00      1.00      1.00       667\n",
            "          21       0.93      1.00      0.96       675\n",
            "          22       0.99      1.00      0.99       671\n",
            "          23       0.97      0.97      0.97       676\n",
            "          24       0.47      1.00      0.64       679\n",
            "          25       0.98      0.87      0.92       646\n",
            "          26       0.98      0.99      0.99       662\n",
            "          27       0.99      0.96      0.97       639\n",
            "          28       1.00      0.93      0.96       665\n",
            "          29       1.00      1.00      1.00       672\n",
            "          30       1.00      1.00      1.00       640\n",
            "          31       0.95      0.97      0.96       641\n",
            "          32       1.00      1.00      1.00       683\n",
            "          33       1.00      1.00      1.00       701\n",
            "          34       1.00      0.98      0.99       648\n",
            "          35       1.00      1.00      1.00       662\n",
            "          36       0.98      1.00      0.99       674\n",
            "          37       1.00      1.00      1.00       685\n",
            "          38       0.98      0.18      0.31       641\n",
            "          39       0.99      0.98      0.99       677\n",
            "          40       1.00      1.00      1.00       695\n",
            "          41       1.00      1.00      1.00       636\n",
            "          42       1.00      1.00      1.00       698\n",
            "          43       1.00      1.00      1.00       676\n",
            "          44       0.99      1.00      1.00       740\n",
            "          45       1.00      1.00      1.00       632\n",
            "          46       1.00      1.00      1.00       642\n",
            "          47       1.00      0.96      0.98       704\n",
            "          48       1.00      1.00      1.00       678\n",
            "          49       1.00      1.00      1.00       626\n",
            "          50       0.97      0.93      0.95       674\n",
            "          51       1.00      1.00      1.00       676\n",
            "          52       1.00      0.99      0.99       673\n",
            "\n",
            "    accuracy                           0.97     35288\n",
            "   macro avg       0.98      0.97      0.97     35288\n",
            "weighted avg       0.98      0.97      0.97     35288\n",
            " \n",
            "\n"
          ],
          "name": "stdout"
        }
      ]
    },
    {
      "cell_type": "markdown",
      "metadata": {
        "colab_type": "text",
        "id": "qL8uZVmndEEu"
      },
      "source": [
        "######**Observation**\n",
        "From our classification report: \n",
        "\n",
        "1. Filtering Groups that have between 1 - 6 samples into GRP_Others, combined with random oversampling with focus on the minority classes the model could predict on all labels with over 90% in precisions (with some actually at a 100%). And the model accuracy and f1-score of 97% actually agrees to that (i.e. F1-score being the weighed average of our precision and recall)\n",
        "2. We did filtering between 1 - 15 samples into GRP_Others before now, the model was 96%\n",
        "\n",
        "It is worth noting that the last group label 52 is the number 53rd class which is GRP_Others \""
      ]
    },
    {
      "cell_type": "code",
      "metadata": {
        "id": "XtoQYhG1FjVc",
        "colab_type": "code",
        "colab": {}
      },
      "source": [
        ""
      ],
      "execution_count": null,
      "outputs": []
    },
    {
      "cell_type": "code",
      "metadata": {
        "id": "hEMK0u_JFjat",
        "colab_type": "code",
        "colab": {}
      },
      "source": [
        ""
      ],
      "execution_count": null,
      "outputs": []
    },
    {
      "cell_type": "markdown",
      "metadata": {
        "id": "Xc2f6bGujZtC",
        "colab_type": "text"
      },
      "source": [
        "###**b. Report the recommendations, summarize the project and mention identified next steps**"
      ]
    },
    {
      "cell_type": "markdown",
      "metadata": {
        "id": "qk1JkFaNkHJI",
        "colab_type": "text"
      },
      "source": [
        "######**Project Summary:**"
      ]
    },
    {
      "cell_type": "markdown",
      "metadata": {
        "id": "UE0VlN5olTnD",
        "colab_type": "text"
      },
      "source": [
        "######**i- Recommendation**\n",
        "In a production environment, I would recommend filtering Groups with 1 - 6 samples into 'GRP_Other' over higher filterings or using the whole 74 classes, as we have a balance of predictions on more labels and a good accuracy leaving only a few Groups are to be manually sorted out in 'GRP_Others'."
      ]
    },
    {
      "cell_type": "markdown",
      "metadata": {
        "id": "ftJZ8VMevXPx",
        "colab_type": "text"
      },
      "source": [
        " <h3><b>*This is wrong, please see a correction one at the end*</b></h3>\n",
        " \n",
        "######**ii- summarizing the project** \n",
        "In the business domain we were told that L1/L2 resolves about 54% of the incidents but before that they need to do the classification manually and this take them about 26day based on our calculation since they have to review about 30% of the incidents(this actually could be seen to be there accuracy, since there make lots of mis-classifications)\n",
        "\n",
        "But with the Machine Learning Classification and accuracy of 97%; by proportionality we can say if 30% manually accuracy attends to 30% of the total incidents in the dataset and it took 26days to classify them with so much errors, then our model's 97% accuracy can do a 97% incident classification and this will be in a few minutes with fewer errors.\n",
        "\n",
        "With the analogy above, out model will allow L1/L3 to concentrate on resolving the incidents rather than classification. \n",
        "Furthermore: If they were resolving 54% of the incidents when they were manually classifying 30%, now that the model is classifying 97%; by proportionality they should be resolving about 174.6% of incidents (this is practically not possible though, but theoretically, the point is they should resolve much more than before). And so, “Keep the lights on” to ensure there is no impact on the business operations."
      ]
    },
    {
      "cell_type": "markdown",
      "metadata": {
        "id": "jTWArPmd1W9U",
        "colab_type": "text"
      },
      "source": [
        "######**iii- Identifying next steps**\n",
        "\n",
        "The next identified step is to deploy the model, and the options are:\n",
        "\n",
        "1. As a standalone executable file - recommended for batch mode\n",
        "2. As an on-prem application exposed as an API (e.g. Flask)\n",
        "3. As a container based API in Azure or AWS container registry\n",
        "4. Implemented as an API built on Azure ML or AWS SageMaker\n",
        "\n",
        "\n",
        "To deploy in a production environment I would do the following using step 3 above:\n",
        "\n",
        "1. Train this NLP model (with a transformer LSTM Neural Network)\n",
        "2. Create a full-stack application using python rapper or Flask\n",
        "3. Containerize using docker and test locally\n",
        "4. Deploy app on Google Cloud using Kubernetes\n",
        "5. Create a CI/CD architecture to continually train model on live data\n",
        "\n",
        "\n"
      ]
    },
    {
      "cell_type": "code",
      "metadata": {
        "id": "bTZjlt8MmHVi",
        "colab_type": "code",
        "colab": {}
      },
      "source": [
        ""
      ],
      "execution_count": null,
      "outputs": []
    },
    {
      "cell_type": "code",
      "metadata": {
        "id": "dHk4EnQDGIP3",
        "colab_type": "code",
        "colab": {}
      },
      "source": [
        ""
      ],
      "execution_count": null,
      "outputs": []
    },
    {
      "cell_type": "markdown",
      "metadata": {
        "id": "sllaVyRf7rpE",
        "colab_type": "text"
      },
      "source": [
        "<h1> <b>FINAL PRESENTATION</b></h1>\n",
        "\n",
        "####**After the 3 submission (or Milestone 3); I realizes that the model is overfitting on the test data because the test data was also upsampled(i.e. dataset was oversampled before splitting). So, we will re-process our dataset and only oversample the training set.**\n",
        "\n"
      ]
    },
    {
      "cell_type": "markdown",
      "metadata": {
        "id": "yfdheHjnVZrU",
        "colab_type": "text"
      },
      "source": [
        "####**Let's build the model experimenting with various hyper-parameters and their values**\n",
        "Parameters like: optimisers, loss functions, epochs, learning rate, batch size, checkpointing, early stopping "
      ]
    },
    {
      "cell_type": "markdown",
      "metadata": {
        "id": "pyiOCb5qL3XL",
        "colab_type": "text"
      },
      "source": [
        "####**Loading data afresh**"
      ]
    },
    {
      "cell_type": "code",
      "metadata": {
        "colab_type": "code",
        "id": "D4jQYUPuKCoe",
        "colab": {}
      },
      "source": [
        "# Read data\n",
        "capstoneNLP_DF = pd.read_excel(project_path+'input_data.xlsx')"
      ],
      "execution_count": 95,
      "outputs": []
    },
    {
      "cell_type": "code",
      "metadata": {
        "id": "gn77msehV5Yp",
        "colab_type": "code",
        "colab": {
          "base_uri": "https://localhost:8080/",
          "height": 109
        },
        "outputId": "9860a64f-2fa8-4aad-e688-1992b7f2ef15"
      },
      "source": [
        "capstoneNLP_DF.dtypes"
      ],
      "execution_count": 96,
      "outputs": [
        {
          "output_type": "execute_result",
          "data": {
            "text/plain": [
              "Short description    object\n",
              "Description          object\n",
              "Caller               object\n",
              "Assignment group     object\n",
              "dtype: object"
            ]
          },
          "metadata": {
            "tags": []
          },
          "execution_count": 96
        }
      ]
    },
    {
      "cell_type": "code",
      "metadata": {
        "colab_type": "code",
        "id": "NuM4j9oTKCow",
        "colab": {
          "base_uri": "https://localhost:8080/",
          "height": 225
        },
        "outputId": "391842b9-6afe-4266-87aa-bb5638f64bfb"
      },
      "source": [
        "# Display shape and header\n",
        "\n",
        "print(capstoneNLP_DF.shape)\n",
        "capstoneNLP_DF.head()"
      ],
      "execution_count": 97,
      "outputs": [
        {
          "output_type": "stream",
          "text": [
            "(8500, 4)\n"
          ],
          "name": "stdout"
        },
        {
          "output_type": "execute_result",
          "data": {
            "text/html": [
              "<div>\n",
              "<style scoped>\n",
              "    .dataframe tbody tr th:only-of-type {\n",
              "        vertical-align: middle;\n",
              "    }\n",
              "\n",
              "    .dataframe tbody tr th {\n",
              "        vertical-align: top;\n",
              "    }\n",
              "\n",
              "    .dataframe thead th {\n",
              "        text-align: right;\n",
              "    }\n",
              "</style>\n",
              "<table border=\"1\" class=\"dataframe\">\n",
              "  <thead>\n",
              "    <tr style=\"text-align: right;\">\n",
              "      <th></th>\n",
              "      <th>Short description</th>\n",
              "      <th>Description</th>\n",
              "      <th>Caller</th>\n",
              "      <th>Assignment group</th>\n",
              "    </tr>\n",
              "  </thead>\n",
              "  <tbody>\n",
              "    <tr>\n",
              "      <th>0</th>\n",
              "      <td>login issue</td>\n",
              "      <td>-verified user details.(employee# &amp; manager na...</td>\n",
              "      <td>spxjnwir pjlcoqds</td>\n",
              "      <td>GRP_0</td>\n",
              "    </tr>\n",
              "    <tr>\n",
              "      <th>1</th>\n",
              "      <td>outlook</td>\n",
              "      <td>\\r\\n\\r\\nreceived from: hmjdrvpb.komuaywn@gmail...</td>\n",
              "      <td>hmjdrvpb komuaywn</td>\n",
              "      <td>GRP_0</td>\n",
              "    </tr>\n",
              "    <tr>\n",
              "      <th>2</th>\n",
              "      <td>cant log in to vpn</td>\n",
              "      <td>\\r\\n\\r\\nreceived from: eylqgodm.ybqkwiam@gmail...</td>\n",
              "      <td>eylqgodm ybqkwiam</td>\n",
              "      <td>GRP_0</td>\n",
              "    </tr>\n",
              "    <tr>\n",
              "      <th>3</th>\n",
              "      <td>unable to access hr_tool page</td>\n",
              "      <td>unable to access hr_tool page</td>\n",
              "      <td>xbkucsvz gcpydteq</td>\n",
              "      <td>GRP_0</td>\n",
              "    </tr>\n",
              "    <tr>\n",
              "      <th>4</th>\n",
              "      <td>skype error</td>\n",
              "      <td>skype error</td>\n",
              "      <td>owlgqjme qhcozdfx</td>\n",
              "      <td>GRP_0</td>\n",
              "    </tr>\n",
              "  </tbody>\n",
              "</table>\n",
              "</div>"
            ],
            "text/plain": [
              "               Short description  ... Assignment group\n",
              "0                    login issue  ...            GRP_0\n",
              "1                        outlook  ...            GRP_0\n",
              "2             cant log in to vpn  ...            GRP_0\n",
              "3  unable to access hr_tool page  ...            GRP_0\n",
              "4                   skype error   ...            GRP_0\n",
              "\n",
              "[5 rows x 4 columns]"
            ]
          },
          "metadata": {
            "tags": []
          },
          "execution_count": 97
        }
      ]
    },
    {
      "cell_type": "code",
      "metadata": {
        "colab_type": "code",
        "id": "-A2--iwQKCo7",
        "colab": {
          "base_uri": "https://localhost:8080/",
          "height": 175
        },
        "outputId": "d55e887d-b5fc-4533-d710-d5190769692d"
      },
      "source": [
        "# Descriptive statistics gives us a lot more insight, just like knowing that 2,948 Callers generated these 8,491 tickets\n",
        "capstoneNLP_DF.describe().T"
      ],
      "execution_count": 98,
      "outputs": [
        {
          "output_type": "execute_result",
          "data": {
            "text/html": [
              "<div>\n",
              "<style scoped>\n",
              "    .dataframe tbody tr th:only-of-type {\n",
              "        vertical-align: middle;\n",
              "    }\n",
              "\n",
              "    .dataframe tbody tr th {\n",
              "        vertical-align: top;\n",
              "    }\n",
              "\n",
              "    .dataframe thead th {\n",
              "        text-align: right;\n",
              "    }\n",
              "</style>\n",
              "<table border=\"1\" class=\"dataframe\">\n",
              "  <thead>\n",
              "    <tr style=\"text-align: right;\">\n",
              "      <th></th>\n",
              "      <th>count</th>\n",
              "      <th>unique</th>\n",
              "      <th>top</th>\n",
              "      <th>freq</th>\n",
              "    </tr>\n",
              "  </thead>\n",
              "  <tbody>\n",
              "    <tr>\n",
              "      <th>Short description</th>\n",
              "      <td>8492</td>\n",
              "      <td>7481</td>\n",
              "      <td>password reset</td>\n",
              "      <td>38</td>\n",
              "    </tr>\n",
              "    <tr>\n",
              "      <th>Description</th>\n",
              "      <td>8499</td>\n",
              "      <td>7817</td>\n",
              "      <td>the</td>\n",
              "      <td>56</td>\n",
              "    </tr>\n",
              "    <tr>\n",
              "      <th>Caller</th>\n",
              "      <td>8500</td>\n",
              "      <td>2950</td>\n",
              "      <td>bpctwhsn kzqsbmtp</td>\n",
              "      <td>810</td>\n",
              "    </tr>\n",
              "    <tr>\n",
              "      <th>Assignment group</th>\n",
              "      <td>8500</td>\n",
              "      <td>74</td>\n",
              "      <td>GRP_0</td>\n",
              "      <td>3976</td>\n",
              "    </tr>\n",
              "  </tbody>\n",
              "</table>\n",
              "</div>"
            ],
            "text/plain": [
              "                  count unique                top  freq\n",
              "Short description  8492   7481     password reset    38\n",
              "Description        8499   7817                the    56\n",
              "Caller             8500   2950  bpctwhsn kzqsbmtp   810\n",
              "Assignment group   8500     74              GRP_0  3976"
            ]
          },
          "metadata": {
            "tags": []
          },
          "execution_count": 98
        }
      ]
    },
    {
      "cell_type": "markdown",
      "metadata": {
        "colab_type": "text",
        "id": "2q-gUjbbKCpF"
      },
      "source": [
        "#####**Concatenate necessary fields and drop unnecessary ones**\n",
        "\n",
        "Not all the source text is important, so we need to concatenate the useful ones and drop the un-necessary ones."
      ]
    },
    {
      "cell_type": "code",
      "metadata": {
        "colab_type": "code",
        "id": "U81k8uO7KCpH",
        "colab": {
          "base_uri": "https://localhost:8080/",
          "height": 206
        },
        "outputId": "29f1eaf1-0620-4c02-f15f-629523e26dd1"
      },
      "source": [
        "# Concatenate fields\n",
        "capstoneNLP_DF['Text'] = capstoneNLP_DF['Short description'] + capstoneNLP_DF['Description']\n",
        "\n",
        "# Dropping unnecessary fields\n",
        "capstoneNLP_DF = capstoneNLP_DF.drop(['Short description','Description','Caller'], 1)\n",
        "\n",
        "# Renaming the \"Assignment group\" for ease of usage\n",
        "capstoneNLP_DF = capstoneNLP_DF.rename(columns = {\"Assignment group\": \"Groups\"})\n",
        "\n",
        "capstoneNLP_DF.head()"
      ],
      "execution_count": 99,
      "outputs": [
        {
          "output_type": "execute_result",
          "data": {
            "text/html": [
              "<div>\n",
              "<style scoped>\n",
              "    .dataframe tbody tr th:only-of-type {\n",
              "        vertical-align: middle;\n",
              "    }\n",
              "\n",
              "    .dataframe tbody tr th {\n",
              "        vertical-align: top;\n",
              "    }\n",
              "\n",
              "    .dataframe thead th {\n",
              "        text-align: right;\n",
              "    }\n",
              "</style>\n",
              "<table border=\"1\" class=\"dataframe\">\n",
              "  <thead>\n",
              "    <tr style=\"text-align: right;\">\n",
              "      <th></th>\n",
              "      <th>Groups</th>\n",
              "      <th>Text</th>\n",
              "    </tr>\n",
              "  </thead>\n",
              "  <tbody>\n",
              "    <tr>\n",
              "      <th>0</th>\n",
              "      <td>GRP_0</td>\n",
              "      <td>login issue-verified user details.(employee# &amp;...</td>\n",
              "    </tr>\n",
              "    <tr>\n",
              "      <th>1</th>\n",
              "      <td>GRP_0</td>\n",
              "      <td>outlook\\r\\n\\r\\nreceived from: hmjdrvpb.komuayw...</td>\n",
              "    </tr>\n",
              "    <tr>\n",
              "      <th>2</th>\n",
              "      <td>GRP_0</td>\n",
              "      <td>cant log in to vpn\\r\\n\\r\\nreceived from: eylqg...</td>\n",
              "    </tr>\n",
              "    <tr>\n",
              "      <th>3</th>\n",
              "      <td>GRP_0</td>\n",
              "      <td>unable to access hr_tool pageunable to access ...</td>\n",
              "    </tr>\n",
              "    <tr>\n",
              "      <th>4</th>\n",
              "      <td>GRP_0</td>\n",
              "      <td>skype error skype error</td>\n",
              "    </tr>\n",
              "  </tbody>\n",
              "</table>\n",
              "</div>"
            ],
            "text/plain": [
              "  Groups                                               Text\n",
              "0  GRP_0  login issue-verified user details.(employee# &...\n",
              "1  GRP_0  outlook\\r\\n\\r\\nreceived from: hmjdrvpb.komuayw...\n",
              "2  GRP_0  cant log in to vpn\\r\\n\\r\\nreceived from: eylqg...\n",
              "3  GRP_0  unable to access hr_tool pageunable to access ...\n",
              "4  GRP_0                           skype error skype error "
            ]
          },
          "metadata": {
            "tags": []
          },
          "execution_count": 99
        }
      ]
    },
    {
      "cell_type": "code",
      "metadata": {
        "colab_type": "code",
        "id": "diCgN9DFrMwq",
        "colab": {
          "base_uri": "https://localhost:8080/",
          "height": 72
        },
        "outputId": "a7eff954-088e-4cae-e3a0-4faaa5ac533d"
      },
      "source": [
        "# Check for null data\n",
        "print(capstoneNLP_DF.isnull().any(axis = 0))"
      ],
      "execution_count": 100,
      "outputs": [
        {
          "output_type": "stream",
          "text": [
            "Groups    False\n",
            "Text       True\n",
            "dtype: bool\n"
          ],
          "name": "stdout"
        }
      ]
    },
    {
      "cell_type": "code",
      "metadata": {
        "id": "HhHFYKV1KCq3",
        "colab_type": "code",
        "colab": {
          "base_uri": "https://localhost:8080/",
          "height": 316
        },
        "outputId": "d10cafc1-84f8-4c66-84dd-69091ca3f6a6"
      },
      "source": [
        "########### PREPROCESS, REMOVE: NOISE, NUMBERS, EMAIL, WEB LINKS, WHITESPACE, TRAILING/PRECEEDING SPACES, SPECIAL CHARACTERS. THEN NORMALISE\n",
        "import nltk\n",
        "from nltk.tokenize import RegexpTokenizer\n",
        "from nltk.stem import WordNetLemmatizer,PorterStemmer\n",
        "from nltk.corpus import stopwords\n",
        "\n",
        "nltk.download('stopwords')\n",
        "set(stopwords.words('english'))\n",
        "nltk.download('punkt')\n",
        "nltk.download('wordnet')\n",
        "\n",
        "import re\n",
        "lemmatizer = WordNetLemmatizer()\n",
        "stemmer = PorterStemmer() \n",
        "\n",
        "def preprocess(sentence):\n",
        "    sentence=str(sentence)\n",
        "    sentence = sentence.lower()\n",
        "    sentence=sentence.replace('{html}',\"\") \n",
        "    cleanr = re.compile('<.*?>')\n",
        "    cleantext = re.sub(cleanr, '', sentence)\n",
        "    rem_url=re.sub(r'http\\S+', '',cleantext)\n",
        "    rem_num = re.sub('[0-9]+', '', rem_url)\n",
        "    tokenizer = RegexpTokenizer(r'\\w+')\n",
        "    tokens = tokenizer.tokenize(rem_num)  \n",
        "    filtered_words = [w for w in tokens if len(w) > 2 if not w in stopwords.words('english')]\n",
        "    stem_words=[stemmer.stem(w) for w in filtered_words]\n",
        "    lemma_words=[lemmatizer.lemmatize(w) for w in stem_words]\n",
        "    return \" \".join(filtered_words)\n",
        "\n",
        "\n",
        "capstoneNLP_DF['cleanText']=capstoneNLP_DF['Text'].map(lambda s:preprocess(s))\n",
        "\n",
        "capstoneNLP_DF = capstoneNLP_DF.drop(['Text'], 1)\n",
        "\n",
        "capstoneNLP_DF.head()"
      ],
      "execution_count": 101,
      "outputs": [
        {
          "output_type": "stream",
          "text": [
            "[nltk_data] Downloading package stopwords to /root/nltk_data...\n",
            "[nltk_data]   Package stopwords is already up-to-date!\n",
            "[nltk_data] Downloading package punkt to /root/nltk_data...\n",
            "[nltk_data]   Package punkt is already up-to-date!\n",
            "[nltk_data] Downloading package wordnet to /root/nltk_data...\n",
            "[nltk_data]   Package wordnet is already up-to-date!\n"
          ],
          "name": "stdout"
        },
        {
          "output_type": "execute_result",
          "data": {
            "text/html": [
              "<div>\n",
              "<style scoped>\n",
              "    .dataframe tbody tr th:only-of-type {\n",
              "        vertical-align: middle;\n",
              "    }\n",
              "\n",
              "    .dataframe tbody tr th {\n",
              "        vertical-align: top;\n",
              "    }\n",
              "\n",
              "    .dataframe thead th {\n",
              "        text-align: right;\n",
              "    }\n",
              "</style>\n",
              "<table border=\"1\" class=\"dataframe\">\n",
              "  <thead>\n",
              "    <tr style=\"text-align: right;\">\n",
              "      <th></th>\n",
              "      <th>Groups</th>\n",
              "      <th>cleanText</th>\n",
              "    </tr>\n",
              "  </thead>\n",
              "  <tbody>\n",
              "    <tr>\n",
              "      <th>0</th>\n",
              "      <td>GRP_0</td>\n",
              "      <td>login issue verified user details employee man...</td>\n",
              "    </tr>\n",
              "    <tr>\n",
              "      <th>1</th>\n",
              "      <td>GRP_0</td>\n",
              "      <td>outlook received hmjdrvpb komuaywn gmail com h...</td>\n",
              "    </tr>\n",
              "    <tr>\n",
              "      <th>2</th>\n",
              "      <td>GRP_0</td>\n",
              "      <td>cant log vpn received eylqgodm ybqkwiam gmail ...</td>\n",
              "    </tr>\n",
              "    <tr>\n",
              "      <th>3</th>\n",
              "      <td>GRP_0</td>\n",
              "      <td>unable access hr_tool pageunable access hr_too...</td>\n",
              "    </tr>\n",
              "    <tr>\n",
              "      <th>4</th>\n",
              "      <td>GRP_0</td>\n",
              "      <td>skype error skype error</td>\n",
              "    </tr>\n",
              "  </tbody>\n",
              "</table>\n",
              "</div>"
            ],
            "text/plain": [
              "  Groups                                          cleanText\n",
              "0  GRP_0  login issue verified user details employee man...\n",
              "1  GRP_0  outlook received hmjdrvpb komuaywn gmail com h...\n",
              "2  GRP_0  cant log vpn received eylqgodm ybqkwiam gmail ...\n",
              "3  GRP_0  unable access hr_tool pageunable access hr_too...\n",
              "4  GRP_0                            skype error skype error"
            ]
          },
          "metadata": {
            "tags": []
          },
          "execution_count": 101
        }
      ]
    },
    {
      "cell_type": "code",
      "metadata": {
        "id": "h1ru9QNDxz5b",
        "colab_type": "code",
        "colab": {
          "base_uri": "https://localhost:8080/",
          "height": 72
        },
        "outputId": "b477898d-368d-4ce5-e215-4152d71ebaff"
      },
      "source": [
        "# Check for null data\n",
        "print(capstoneNLP_DF.isnull().any(axis = 0))"
      ],
      "execution_count": 102,
      "outputs": [
        {
          "output_type": "stream",
          "text": [
            "Groups       False\n",
            "cleanText    False\n",
            "dtype: bool\n"
          ],
          "name": "stdout"
        }
      ]
    },
    {
      "cell_type": "code",
      "metadata": {
        "id": "5hWc5o7Vxzwq",
        "colab_type": "code",
        "colab": {}
      },
      "source": [
        "# drop duplicates, and reset index\n",
        "#capstoneNLP_DF.drop_duplicates(subset=\"cleanText\", inplace=True)\n",
        "#capstoneNLP_DF.reset_index(drop=True, inplace=True)\n",
        "#capstoneNLP_DF"
      ],
      "execution_count": 103,
      "outputs": []
    },
    {
      "cell_type": "code",
      "metadata": {
        "id": "pB9rKXsQSd0b",
        "colab_type": "code",
        "colab": {
          "base_uri": "https://localhost:8080/",
          "height": 35
        },
        "outputId": "98b55fe1-0f54-4268-8950-f0a3c7857f7b"
      },
      "source": [
        "capstoneNLP_DF.shape"
      ],
      "execution_count": 104,
      "outputs": [
        {
          "output_type": "execute_result",
          "data": {
            "text/plain": [
              "(8500, 2)"
            ]
          },
          "metadata": {
            "tags": []
          },
          "execution_count": 104
        }
      ]
    },
    {
      "cell_type": "code",
      "metadata": {
        "id": "jepDMTDPkqTF",
        "colab_type": "code",
        "colab": {
          "base_uri": "https://localhost:8080/",
          "height": 256
        },
        "outputId": "7913e68f-d159-4b5b-851f-056715fbbf18"
      },
      "source": [
        "### we have 74 classes\n",
        "\n",
        "groupy2 = capstoneNLP_DF.groupby('Groups').size().sort_values(ascending=False)\n",
        "groupy2"
      ],
      "execution_count": 105,
      "outputs": [
        {
          "output_type": "execute_result",
          "data": {
            "text/plain": [
              "Groups\n",
              "GRP_0     3976\n",
              "GRP_8      661\n",
              "GRP_24     289\n",
              "GRP_12     257\n",
              "GRP_9      252\n",
              "          ... \n",
              "GRP_67       1\n",
              "GRP_61       1\n",
              "GRP_73       1\n",
              "GRP_35       1\n",
              "GRP_70       1\n",
              "Length: 74, dtype: int64"
            ]
          },
          "metadata": {
            "tags": []
          },
          "execution_count": 105
        }
      ]
    },
    {
      "cell_type": "code",
      "metadata": {
        "colab_type": "code",
        "id": "2ruolumIKCqB",
        "colab": {}
      },
      "source": [
        "#We filter out classes with 1 - 6 samples\n",
        "capstoneNLP_DF_LTS = capstoneNLP_DF[capstoneNLP_DF['Groups'].map(capstoneNLP_DF['Groups'].value_counts()) < 7]"
      ],
      "execution_count": 106,
      "outputs": []
    },
    {
      "cell_type": "code",
      "metadata": {
        "colab_type": "code",
        "id": "udn-YqA9KCqH",
        "colab": {
          "base_uri": "https://localhost:8080/",
          "height": 458
        },
        "outputId": "d015a504-1b89-4e25-b74d-702d6ff4d71f"
      },
      "source": [
        "groupy2 = capstoneNLP_DF_LTS.groupby('Groups').size().sort_values(ascending=False)\n",
        "groupy2"
      ],
      "execution_count": 107,
      "outputs": [
        {
          "output_type": "execute_result",
          "data": {
            "text/plain": [
              "Groups\n",
              "GRP_59    6\n",
              "GRP_46    6\n",
              "GRP_49    6\n",
              "GRP_43    5\n",
              "GRP_66    4\n",
              "GRP_32    4\n",
              "GRP_68    3\n",
              "GRP_63    3\n",
              "GRP_58    3\n",
              "GRP_56    3\n",
              "GRP_38    3\n",
              "GRP_72    2\n",
              "GRP_57    2\n",
              "GRP_54    2\n",
              "GRP_69    2\n",
              "GRP_71    2\n",
              "GRP_67    1\n",
              "GRP_64    1\n",
              "GRP_61    1\n",
              "GRP_70    1\n",
              "GRP_35    1\n",
              "GRP_73    1\n",
              "dtype: int64"
            ]
          },
          "metadata": {
            "tags": []
          },
          "execution_count": 107
        }
      ]
    },
    {
      "cell_type": "code",
      "metadata": {
        "colab_type": "code",
        "id": "yUxsS9NaKCqO",
        "colab": {}
      },
      "source": [
        "# Replacing the groups that are now seen in groupy2 anyhwere they are found in the main dataset (capstoneNLP_DF) calling them GRP_OTHERS\n",
        "\n",
        "capstoneNLP_DF_prep = capstoneNLP_DF.replace({'GRP_59':'GRP_OTHERS','GRP_46':'GRP_OTHERS','GRP_49':'GRP_OTHERS','GRP_43':'GRP_OTHERS','GRP_66':'GRP_OTHERS','GRP_32':'GRP_OTHERS','GRP_68':'GRP_OTHERS','GRP_63':'GRP_OTHERS','GRP_58':'GRP_OTHERS','GRP_56':'GRP_OTHERS','GRP_38':'GRP_OTHERS','GRP_72':'GRP_OTHERS','GRP_57':'GRP_OTHERS','GRP_54':'GRP_OTHERS','GRP_69':'GRP_OTHERS','GRP_71':'GRP_OTHERS','GRP_67':'GRP_OTHERS','GRP_64':'GRP_OTHERS','GRP_61':'GRP_OTHERS','GRP_70':'GRP_OTHERS','GRP_35':'GRP_OTHERS','GRP_73':'GRP_OTHERS'})\n",
        "\n",
        "# 'GRP_51':'GRP_OTHERS','GRP_55':'GRP_OTHERS','GRP_52':'GRP_OTHERS','GRP_53':'GRP_OTHERS','GRP_65':'GRP_OTHERS','GRP_50':'GRP_OTHERS','GRP_44':'GRP_OTHERS','GRP_36':'GRP_OTHERS',"
      ],
      "execution_count": 108,
      "outputs": []
    },
    {
      "cell_type": "code",
      "metadata": {
        "colab_type": "code",
        "id": "LX85c143KCqU",
        "colab": {
          "base_uri": "https://localhost:8080/",
          "height": 206
        },
        "outputId": "088846a6-c91e-4d48-e94c-997b4f44a1e4"
      },
      "source": [
        "capstoneNLP_DF_prep.tail()"
      ],
      "execution_count": 109,
      "outputs": [
        {
          "output_type": "execute_result",
          "data": {
            "text/html": [
              "<div>\n",
              "<style scoped>\n",
              "    .dataframe tbody tr th:only-of-type {\n",
              "        vertical-align: middle;\n",
              "    }\n",
              "\n",
              "    .dataframe tbody tr th {\n",
              "        vertical-align: top;\n",
              "    }\n",
              "\n",
              "    .dataframe thead th {\n",
              "        text-align: right;\n",
              "    }\n",
              "</style>\n",
              "<table border=\"1\" class=\"dataframe\">\n",
              "  <thead>\n",
              "    <tr style=\"text-align: right;\">\n",
              "      <th></th>\n",
              "      <th>Groups</th>\n",
              "      <th>cleanText</th>\n",
              "    </tr>\n",
              "  </thead>\n",
              "  <tbody>\n",
              "    <tr>\n",
              "      <th>8495</th>\n",
              "      <td>GRP_29</td>\n",
              "      <td>emails coming mail received avglmrts vhqmtiua ...</td>\n",
              "    </tr>\n",
              "    <tr>\n",
              "      <th>8496</th>\n",
              "      <td>GRP_0</td>\n",
              "      <td>telephony_software issuetelephony_software issue</td>\n",
              "    </tr>\n",
              "    <tr>\n",
              "      <th>8497</th>\n",
              "      <td>GRP_0</td>\n",
              "      <td>vip windows password reset tifpdchb pedxruyfvi...</td>\n",
              "    </tr>\n",
              "    <tr>\n",
              "      <th>8498</th>\n",
              "      <td>GRP_62</td>\n",
              "      <td>machine estã funcionandoi unable access machin...</td>\n",
              "    </tr>\n",
              "    <tr>\n",
              "      <th>8499</th>\n",
              "      <td>GRP_OTHERS</td>\n",
              "      <td>mehreren lassen sich verschiedene prgramdntyme...</td>\n",
              "    </tr>\n",
              "  </tbody>\n",
              "</table>\n",
              "</div>"
            ],
            "text/plain": [
              "          Groups                                          cleanText\n",
              "8495      GRP_29  emails coming mail received avglmrts vhqmtiua ...\n",
              "8496       GRP_0   telephony_software issuetelephony_software issue\n",
              "8497       GRP_0  vip windows password reset tifpdchb pedxruyfvi...\n",
              "8498      GRP_62  machine estã funcionandoi unable access machin...\n",
              "8499  GRP_OTHERS  mehreren lassen sich verschiedene prgramdntyme..."
            ]
          },
          "metadata": {
            "tags": []
          },
          "execution_count": 109
        }
      ]
    },
    {
      "cell_type": "code",
      "metadata": {
        "id": "UUYTk0RnmXE9",
        "colab_type": "code",
        "colab": {
          "base_uri": "https://localhost:8080/",
          "height": 206
        },
        "outputId": "5a8f1401-b407-4e30-cd7a-ec47901cfff4"
      },
      "source": [
        "# Length of each cleanText\n",
        "capstoneNLP_DF_prep['length'] = capstoneNLP_DF_prep['cleanText'].apply(lambda x: len(x.split(\" \")))\n",
        "capstoneNLP_DF_prep.head()"
      ],
      "execution_count": 110,
      "outputs": [
        {
          "output_type": "execute_result",
          "data": {
            "text/html": [
              "<div>\n",
              "<style scoped>\n",
              "    .dataframe tbody tr th:only-of-type {\n",
              "        vertical-align: middle;\n",
              "    }\n",
              "\n",
              "    .dataframe tbody tr th {\n",
              "        vertical-align: top;\n",
              "    }\n",
              "\n",
              "    .dataframe thead th {\n",
              "        text-align: right;\n",
              "    }\n",
              "</style>\n",
              "<table border=\"1\" class=\"dataframe\">\n",
              "  <thead>\n",
              "    <tr style=\"text-align: right;\">\n",
              "      <th></th>\n",
              "      <th>Groups</th>\n",
              "      <th>cleanText</th>\n",
              "      <th>length</th>\n",
              "    </tr>\n",
              "  </thead>\n",
              "  <tbody>\n",
              "    <tr>\n",
              "      <th>0</th>\n",
              "      <td>GRP_0</td>\n",
              "      <td>login issue verified user details employee man...</td>\n",
              "      <td>23</td>\n",
              "    </tr>\n",
              "    <tr>\n",
              "      <th>1</th>\n",
              "      <td>GRP_0</td>\n",
              "      <td>outlook received hmjdrvpb komuaywn gmail com h...</td>\n",
              "      <td>20</td>\n",
              "    </tr>\n",
              "    <tr>\n",
              "      <th>2</th>\n",
              "      <td>GRP_0</td>\n",
              "      <td>cant log vpn received eylqgodm ybqkwiam gmail ...</td>\n",
              "      <td>12</td>\n",
              "    </tr>\n",
              "    <tr>\n",
              "      <th>3</th>\n",
              "      <td>GRP_0</td>\n",
              "      <td>unable access hr_tool pageunable access hr_too...</td>\n",
              "      <td>7</td>\n",
              "    </tr>\n",
              "    <tr>\n",
              "      <th>4</th>\n",
              "      <td>GRP_0</td>\n",
              "      <td>skype error skype error</td>\n",
              "      <td>4</td>\n",
              "    </tr>\n",
              "  </tbody>\n",
              "</table>\n",
              "</div>"
            ],
            "text/plain": [
              "  Groups                                          cleanText  length\n",
              "0  GRP_0  login issue verified user details employee man...      23\n",
              "1  GRP_0  outlook received hmjdrvpb komuaywn gmail com h...      20\n",
              "2  GRP_0  cant log vpn received eylqgodm ybqkwiam gmail ...      12\n",
              "3  GRP_0  unable access hr_tool pageunable access hr_too...       7\n",
              "4  GRP_0                            skype error skype error       4"
            ]
          },
          "metadata": {
            "tags": []
          },
          "execution_count": 110
        }
      ]
    },
    {
      "cell_type": "code",
      "metadata": {
        "id": "Yx4bC1Ia-9jK",
        "colab_type": "code",
        "colab": {
          "base_uri": "https://localhost:8080/",
          "height": 206
        },
        "outputId": "a59fdf2c-7f6d-4251-8a7c-a4c3de239b8f"
      },
      "source": [
        "# Converting categorical labels to numerical format and call them 'Target'\n",
        "from sklearn import preprocessing\n",
        "le = preprocessing.LabelEncoder()\n",
        "le.fit(capstoneNLP_DF_prep['Groups'])\n",
        "capstoneNLP_DF_prep['Target'] = le.transform(capstoneNLP_DF_prep['Groups'])\n",
        "capstoneNLP_DF_prep.tail()"
      ],
      "execution_count": 111,
      "outputs": [
        {
          "output_type": "execute_result",
          "data": {
            "text/html": [
              "<div>\n",
              "<style scoped>\n",
              "    .dataframe tbody tr th:only-of-type {\n",
              "        vertical-align: middle;\n",
              "    }\n",
              "\n",
              "    .dataframe tbody tr th {\n",
              "        vertical-align: top;\n",
              "    }\n",
              "\n",
              "    .dataframe thead th {\n",
              "        text-align: right;\n",
              "    }\n",
              "</style>\n",
              "<table border=\"1\" class=\"dataframe\">\n",
              "  <thead>\n",
              "    <tr style=\"text-align: right;\">\n",
              "      <th></th>\n",
              "      <th>Groups</th>\n",
              "      <th>cleanText</th>\n",
              "      <th>length</th>\n",
              "      <th>Target</th>\n",
              "    </tr>\n",
              "  </thead>\n",
              "  <tbody>\n",
              "    <tr>\n",
              "      <th>8495</th>\n",
              "      <td>GRP_29</td>\n",
              "      <td>emails coming mail received avglmrts vhqmtiua ...</td>\n",
              "      <td>16</td>\n",
              "      <td>22</td>\n",
              "    </tr>\n",
              "    <tr>\n",
              "      <th>8496</th>\n",
              "      <td>GRP_0</td>\n",
              "      <td>telephony_software issuetelephony_software issue</td>\n",
              "      <td>3</td>\n",
              "      <td>0</td>\n",
              "    </tr>\n",
              "    <tr>\n",
              "      <th>8497</th>\n",
              "      <td>GRP_0</td>\n",
              "      <td>vip windows password reset tifpdchb pedxruyfvi...</td>\n",
              "      <td>11</td>\n",
              "      <td>0</td>\n",
              "    </tr>\n",
              "    <tr>\n",
              "      <th>8498</th>\n",
              "      <td>GRP_62</td>\n",
              "      <td>machine estã funcionandoi unable access machin...</td>\n",
              "      <td>12</td>\n",
              "      <td>47</td>\n",
              "    </tr>\n",
              "    <tr>\n",
              "      <th>8499</th>\n",
              "      <td>GRP_OTHERS</td>\n",
              "      <td>mehreren lassen sich verschiedene prgramdntyme...</td>\n",
              "      <td>16</td>\n",
              "      <td>52</td>\n",
              "    </tr>\n",
              "  </tbody>\n",
              "</table>\n",
              "</div>"
            ],
            "text/plain": [
              "          Groups  ... Target\n",
              "8495      GRP_29  ...     22\n",
              "8496       GRP_0  ...      0\n",
              "8497       GRP_0  ...      0\n",
              "8498      GRP_62  ...     47\n",
              "8499  GRP_OTHERS  ...     52\n",
              "\n",
              "[5 rows x 4 columns]"
            ]
          },
          "metadata": {
            "tags": []
          },
          "execution_count": 111
        }
      ]
    },
    {
      "cell_type": "code",
      "metadata": {
        "id": "HiFAU4HumXCV",
        "colab_type": "code",
        "colab": {
          "base_uri": "https://localhost:8080/",
          "height": 35
        },
        "outputId": "301d7c0b-7661-4d67-ebfd-f2aa07cc9147"
      },
      "source": [
        "capstoneNLP_DF_prep[\"length\"].mean()"
      ],
      "execution_count": 112,
      "outputs": [
        {
          "output_type": "execute_result",
          "data": {
            "text/plain": [
              "21.93094117647059"
            ]
          },
          "metadata": {
            "tags": []
          },
          "execution_count": 112
        }
      ]
    },
    {
      "cell_type": "markdown",
      "metadata": {
        "id": "o6WNMP5oUO60",
        "colab_type": "text"
      },
      "source": [
        "####**Saved cleaned dataset**"
      ]
    },
    {
      "cell_type": "code",
      "metadata": {
        "id": "M8_yvXpqR48o",
        "colab_type": "code",
        "colab": {}
      },
      "source": [
        "#capstoneNLP_DF_prep.to_csv(project_path+\"capstoneNLP_DF.csv\", index=False)"
      ],
      "execution_count": 113,
      "outputs": []
    },
    {
      "cell_type": "markdown",
      "metadata": {
        "id": "Flq_vnsaUc9o",
        "colab_type": "text"
      },
      "source": [
        "####**Load cleaned dataset again**"
      ]
    },
    {
      "cell_type": "code",
      "metadata": {
        "id": "kHhTlGxgUbVd",
        "colab_type": "code",
        "colab": {}
      },
      "source": [
        "#capstoneNLP_DF_prep = pd.read_csv(project_path+\"capstoneNLP_DF.csv\")\n",
        "#capstoneNLP_DF_prep.tail()"
      ],
      "execution_count": 114,
      "outputs": []
    },
    {
      "cell_type": "code",
      "metadata": {
        "id": "z9P8efHLViQQ",
        "colab_type": "code",
        "colab": {
          "base_uri": "https://localhost:8080/",
          "height": 109
        },
        "outputId": "ec14b5f5-72b9-4d84-b826-8058d99db307"
      },
      "source": [
        "capstoneNLP_DF_prep.dtypes"
      ],
      "execution_count": 115,
      "outputs": [
        {
          "output_type": "execute_result",
          "data": {
            "text/plain": [
              "Groups       object\n",
              "cleanText    object\n",
              "length        int64\n",
              "Target        int64\n",
              "dtype: object"
            ]
          },
          "metadata": {
            "tags": []
          },
          "execution_count": 115
        }
      ]
    },
    {
      "cell_type": "code",
      "metadata": {
        "id": "GmSvfOxeP8I9",
        "colab_type": "code",
        "colab": {}
      },
      "source": [
        "###################### Hyper-parameters and their values###############\n",
        "\n",
        "num_classes = 53\n",
        "epochs = 1000\n",
        "batch_size = 64\n",
        "\n",
        "\n",
        "feature = 5000\n",
        "embedding_size = 300\n",
        "maxlen = 25 # Max Lenth of sentence to pad to\n",
        "trunc_type = 'post'\n",
        "padding_type = 'post'\n",
        "oov_tok = '<OOV>'\n",
        "training_portion = .8"
      ],
      "execution_count": 116,
      "outputs": []
    },
    {
      "cell_type": "code",
      "metadata": {
        "id": "Cufibk7sPfUA",
        "colab_type": "code",
        "colab": {
          "base_uri": "https://localhost:8080/",
          "height": 274
        },
        "outputId": "fcd7bfa0-f7d9-4d11-b864-3aac23732e02"
      },
      "source": [
        "#Apply Tokenizer and get indices for words\n",
        "tokenizer = Tokenizer(num_words=feature, oov_token=oov_tok)\n",
        "tokenizer.fit_on_texts(list(capstoneNLP_DF_prep['cleanText']))\n",
        "X = tokenizer.texts_to_sequences(capstoneNLP_DF_prep['cleanText'])\n",
        "print(\"Number of Samples:\", len(X))\n",
        "print(X[0])\n",
        "X = pad_sequences(X, maxlen = maxlen, padding=padding_type, truncating=trunc_type)\n",
        "y = np.asarray(capstoneNLP_DF_prep['Target'])\n",
        "print(\"Number of Labels: \", len(y))\n",
        "print(y[0])\n",
        "\n",
        "word_index = tokenizer.word_index\n",
        "dict(list(word_index.items())[0:10])"
      ],
      "execution_count": 117,
      "outputs": [
        {
          "output_type": "stream",
          "text": [
            "Number of Samples: 8500\n",
            "[28, 18, 167, 15, 153, 176, 80, 36, 338, 15, 36, 17, 7, 516, 15, 28, 75, 310, 248, 46, 28, 18, 250]\n",
            "Number of Labels:  8500\n",
            "0\n"
          ],
          "name": "stdout"
        },
        {
          "output_type": "execute_result",
          "data": {
            "text/plain": [
              "{'<OOV>': 1,\n",
              " 'com': 3,\n",
              " 'company': 4,\n",
              " 'job': 2,\n",
              " 'password': 7,\n",
              " 'please': 8,\n",
              " 'received': 6,\n",
              " 'scheduler': 10,\n",
              " 'tool': 5,\n",
              " 'yes': 9}"
            ]
          },
          "metadata": {
            "tags": []
          },
          "execution_count": 117
        }
      ]
    },
    {
      "cell_type": "markdown",
      "metadata": {
        "id": "BCoTDZOLEdmr",
        "colab_type": "text"
      },
      "source": [
        "The tokenizer encouter some upseen words in our corpus or features of 5000 words and those words are converted to <OOV> and according to the priority above <OOV>:1 means there are common"
      ]
    },
    {
      "cell_type": "code",
      "metadata": {
        "id": "ERA2EzjFD-yf",
        "colab_type": "code",
        "colab": {
          "base_uri": "https://localhost:8080/",
          "height": 72
        },
        "outputId": "180ed7ef-40ff-4a19-b317-286bd6764030"
      },
      "source": [
        "# Let see our clean_text number 11th; before and after padding\n",
        "reverse_word_index = dict([(value, key) for (key, value) in word_index.items()])\n",
        "\n",
        "def decode_article(text):\n",
        "    return ' '.join([reverse_word_index.get(i, '?') for i in text])\n",
        "print(decode_article(X[10]))\n",
        "print('---------------------')\n",
        "print(capstoneNLP_DF_prep['cleanText'][10])"
      ],
      "execution_count": 118,
      "outputs": [
        {
          "output_type": "stream",
          "text": [
            "engineering tool says connected unable submit <OOV> tool says connected unable submit reports ? ? ? ? ? ? ? ? ? ? ? ?\n",
            "---------------------\n",
            "engineering tool says connected unable submit reportsengineering tool says connected unable submit reports\n"
          ],
          "name": "stdout"
        }
      ]
    },
    {
      "cell_type": "markdown",
      "metadata": {
        "id": "w4b1yBshFKps",
        "colab_type": "text"
      },
      "source": [
        "See that some unseen word has been replaced with <OOV> and pre/post padding done with '?' at the begining or ending of the sentence"
      ]
    },
    {
      "cell_type": "code",
      "metadata": {
        "colab_type": "code",
        "id": "DaEPzPpiZ5g2",
        "colab": {
          "base_uri": "https://localhost:8080/",
          "height": 35
        },
        "outputId": "47b11315-cc86-45f9-f651-08864d8d4e98"
      },
      "source": [
        "#Actual Vocabulary size and number of words\n",
        "num_words = len(tokenizer.word_index) + 1\n",
        "vocab_size = num_words\n",
        "print(num_words)"
      ],
      "execution_count": 119,
      "outputs": [
        {
          "output_type": "stream",
          "text": [
            "17754\n"
          ],
          "name": "stdout"
        }
      ]
    },
    {
      "cell_type": "code",
      "metadata": {
        "colab_type": "code",
        "id": "08OZd4CCZsrN",
        "colab": {}
      },
      "source": [
        "#Get Glove Word Embeddings\n",
        "EMBEDDING_FILE = project_path+'glove.6B.300d.txt'\n",
        "\n",
        "embeddings = {}\n",
        "for o in open(EMBEDDING_FILE):\n",
        "    word = o.split(\" \")[0]\n",
        "    # print(word)\n",
        "    embd = o.split(\" \")[1:]\n",
        "    embd = np.asarray(embd, dtype='float32')\n",
        "    # print(embd)\n",
        "    embeddings[word] = embd\n",
        "\n",
        "# create a weight matrix for words in training docs\n",
        "embedding_matrix = np.zeros((num_words, 300))\n",
        "\n",
        "for word, i in tokenizer.word_index.items():\n",
        "\tembedding_vector = embeddings.get(word)\n",
        "\tif embedding_vector is not None:\n",
        "\t\tembedding_matrix[i] = embedding_vector"
      ],
      "execution_count": 120,
      "outputs": []
    },
    {
      "cell_type": "code",
      "metadata": {
        "colab_type": "code",
        "id": "-S-aM8dBZsrd",
        "colab": {
          "base_uri": "https://localhost:8080/",
          "height": 35
        },
        "outputId": "01674952-793b-42e9-afe6-9bf94d98d405"
      },
      "source": [
        "len(embeddings.values())"
      ],
      "execution_count": 121,
      "outputs": [
        {
          "output_type": "execute_result",
          "data": {
            "text/plain": [
              "400000"
            ]
          },
          "metadata": {
            "tags": []
          },
          "execution_count": 121
        }
      ]
    },
    {
      "cell_type": "code",
      "metadata": {
        "id": "H0GHX6ytAU8x",
        "colab_type": "code",
        "colab": {}
      },
      "source": [
        ""
      ],
      "execution_count": null,
      "outputs": []
    },
    {
      "cell_type": "code",
      "metadata": {
        "id": "7ISVAJ5zndKM",
        "colab_type": "code",
        "colab": {}
      },
      "source": [
        "#########-----To run SMOTE model skip at this point to SMOTE below"
      ],
      "execution_count": null,
      "outputs": []
    },
    {
      "cell_type": "code",
      "metadata": {
        "id": "vaCLb2AxAVm7",
        "colab_type": "code",
        "colab": {}
      },
      "source": [
        ""
      ],
      "execution_count": null,
      "outputs": []
    },
    {
      "cell_type": "markdown",
      "metadata": {
        "id": "SklR6bMGHF1C",
        "colab_type": "text"
      },
      "source": [
        "####**Dealing with imbalance in the classes using RamdomOversampling**\n",
        "RandomOverSampling runs so slowly perhaps because of the much number of samples, so we will run just one iteration with it and thereafter use SMOTE to do all other iterations"
      ]
    },
    {
      "cell_type": "markdown",
      "metadata": {
        "id": "o0hpQwiY8rSk",
        "colab_type": "text"
      },
      "source": [
        "Splitting our X and y datasets"
      ]
    },
    {
      "cell_type": "code",
      "metadata": {
        "id": "1t3S-4ac8Wkl",
        "colab_type": "code",
        "colab": {}
      },
      "source": [
        "X_train, X_test, y_train, y_test = train_test_split(X, y, test_size=0.20, random_state=13, stratify=y)"
      ],
      "execution_count": 61,
      "outputs": []
    },
    {
      "cell_type": "code",
      "metadata": {
        "id": "8sBwOXHW9Qyj",
        "colab_type": "code",
        "colab": {
          "base_uri": "https://localhost:8080/",
          "height": 74
        },
        "outputId": "aa99234f-2d99-4408-8cd8-5ea419ae0c4e"
      },
      "source": [
        "\n",
        "ros = RandomOverSampler(sampling_strategy='auto',random_state=0)\n",
        "X_train, y_train = ros.fit_sample(X_train, y_train)\n"
      ],
      "execution_count": 63,
      "outputs": [
        {
          "output_type": "stream",
          "text": [
            "/usr/local/lib/python3.6/dist-packages/sklearn/utils/deprecation.py:87: FutureWarning: Function safe_indexing is deprecated; safe_indexing is deprecated in version 0.22 and will be removed in version 0.24.\n",
            "  warnings.warn(msg, category=FutureWarning)\n"
          ],
          "name": "stderr"
        }
      ]
    },
    {
      "cell_type": "code",
      "metadata": {
        "id": "cniWSsDW-AnW",
        "colab_type": "code",
        "colab": {}
      },
      "source": [
        "# onehot encoding the upsampled test label\n",
        "#y_train = to_categorical(y_train, num_classes)\n",
        "\n",
        "y_train = pd.get_dummies(y_train)\n",
        "#y_train_labels = y_train.columns"
      ],
      "execution_count": 64,
      "outputs": []
    },
    {
      "cell_type": "code",
      "metadata": {
        "id": "44oisqLIjw9K",
        "colab_type": "code",
        "colab": {}
      },
      "source": [
        "# Checkpoint Best Neural Network Model Only\n",
        "from tensorflow.keras.callbacks import ModelCheckpoint\n",
        "filepath= project_path+\"weights.bestRANDOM.hdf5\"\n",
        "checkpoint = ModelCheckpoint(filepath, monitor='val_acc', verbose=1, save_best_only=True, mode='max')\n",
        "callbacks_list = [checkpoint]"
      ],
      "execution_count": 65,
      "outputs": []
    },
    {
      "cell_type": "code",
      "metadata": {
        "id": "ZZJaQcdmZXK8",
        "colab_type": "code",
        "colab": {}
      },
      "source": [
        "# implementing early stopping of the model fitting process\n",
        "early_stopping = EarlyStopping(monitor='val_loss', min_delta=0.001, patience=10)"
      ],
      "execution_count": null,
      "outputs": []
    },
    {
      "cell_type": "code",
      "metadata": {
        "id": "GxuQEONooTf1",
        "colab_type": "code",
        "colab": {
          "base_uri": "https://localhost:8080/",
          "height": 329
        },
        "outputId": "dac6fbda-cca4-4881-a95e-e07a889ac278"
      },
      "source": [
        "#model building\n",
        "import tensorflow as tf\n",
        "deep_inputs = Input(shape=(maxlen,))\n",
        "embedding_layer = Embedding(vocab_size, embedding_size, weights=[embedding_matrix], trainable=False)(deep_inputs)\n",
        "LSTM_Layer_1 = LSTM(128, dropout=0.2)(embedding_layer)\n",
        "dense_layer_1 = Dense(num_classes, activation='sigmoid')(LSTM_Layer_1)\n",
        "model = Model(inputs=deep_inputs, outputs=dense_layer_1)\n",
        "\n",
        "model.compile(loss='binary_crossentropy', optimizer='adam', metrics=['acc'])\n",
        "\n",
        "\n",
        "# Let's print the model summary:\n",
        "print(model.summary())"
      ],
      "execution_count": 73,
      "outputs": [
        {
          "output_type": "stream",
          "text": [
            "Model: \"functional_1\"\n",
            "_________________________________________________________________\n",
            "Layer (type)                 Output Shape              Param #   \n",
            "=================================================================\n",
            "input_2 (InputLayer)         [(None, 22)]              0         \n",
            "_________________________________________________________________\n",
            "embedding (Embedding)        (None, 22, 200)           3550600   \n",
            "_________________________________________________________________\n",
            "lstm (LSTM)                  (None, 128)               168448    \n",
            "_________________________________________________________________\n",
            "dense (Dense)                (None, 53)                6837      \n",
            "=================================================================\n",
            "Total params: 3,725,885\n",
            "Trainable params: 175,285\n",
            "Non-trainable params: 3,550,600\n",
            "_________________________________________________________________\n",
            "None\n"
          ],
          "name": "stdout"
        }
      ]
    },
    {
      "cell_type": "code",
      "metadata": {
        "id": "v6i9CK0l-AtJ",
        "colab_type": "code",
        "colab": {
          "base_uri": "https://localhost:8080/",
          "height": 1000
        },
        "outputId": "7b7b9bda-4e5e-48fd-f6ca-40f8f20fd14f"
      },
      "source": [
        "history = model.fit(X_train, y_train, batch_size=64, epochs=epochs, verbose=0, callbacks=[early_stopping,callbacks_list], validation_split=0.2)"
      ],
      "execution_count": 74,
      "outputs": [
        {
          "output_type": "stream",
          "text": [
            "\n",
            "Epoch 00001: val_acc improved from -inf to 0.00000, saving model to /content/drive/My Drive/AIML/CapstoneProjectNLP/weights.bestRANDOM.hdf5\n",
            "\n",
            "Epoch 00002: val_acc improved from 0.00000 to 0.07634, saving model to /content/drive/My Drive/AIML/CapstoneProjectNLP/weights.bestRANDOM.hdf5\n",
            "\n",
            "Epoch 00003: val_acc improved from 0.07634 to 0.09535, saving model to /content/drive/My Drive/AIML/CapstoneProjectNLP/weights.bestRANDOM.hdf5\n",
            "\n",
            "Epoch 00004: val_acc improved from 0.09535 to 0.09644, saving model to /content/drive/My Drive/AIML/CapstoneProjectNLP/weights.bestRANDOM.hdf5\n",
            "\n",
            "Epoch 00005: val_acc improved from 0.09644 to 0.10846, saving model to /content/drive/My Drive/AIML/CapstoneProjectNLP/weights.bestRANDOM.hdf5\n",
            "\n",
            "Epoch 00006: val_acc improved from 0.10846 to 0.11065, saving model to /content/drive/My Drive/AIML/CapstoneProjectNLP/weights.bestRANDOM.hdf5\n",
            "\n",
            "Epoch 00007: val_acc improved from 0.11065 to 0.12542, saving model to /content/drive/My Drive/AIML/CapstoneProjectNLP/weights.bestRANDOM.hdf5\n",
            "\n",
            "Epoch 00008: val_acc improved from 0.12542 to 0.13283, saving model to /content/drive/My Drive/AIML/CapstoneProjectNLP/weights.bestRANDOM.hdf5\n",
            "\n",
            "Epoch 00009: val_acc improved from 0.13283 to 0.17934, saving model to /content/drive/My Drive/AIML/CapstoneProjectNLP/weights.bestRANDOM.hdf5\n",
            "\n",
            "Epoch 00010: val_acc did not improve from 0.17934\n",
            "\n",
            "Epoch 00011: val_acc improved from 0.17934 to 0.22806, saving model to /content/drive/My Drive/AIML/CapstoneProjectNLP/weights.bestRANDOM.hdf5\n",
            "\n",
            "Epoch 00012: val_acc improved from 0.22806 to 0.25484, saving model to /content/drive/My Drive/AIML/CapstoneProjectNLP/weights.bestRANDOM.hdf5\n",
            "\n",
            "Epoch 00013: val_acc improved from 0.25484 to 0.28933, saving model to /content/drive/My Drive/AIML/CapstoneProjectNLP/weights.bestRANDOM.hdf5\n",
            "\n",
            "Epoch 00014: val_acc improved from 0.28933 to 0.30852, saving model to /content/drive/My Drive/AIML/CapstoneProjectNLP/weights.bestRANDOM.hdf5\n",
            "\n",
            "Epoch 00015: val_acc improved from 0.30852 to 0.36081, saving model to /content/drive/My Drive/AIML/CapstoneProjectNLP/weights.bestRANDOM.hdf5\n",
            "\n",
            "Epoch 00016: val_acc did not improve from 0.36081\n",
            "\n",
            "Epoch 00017: val_acc did not improve from 0.36081\n",
            "\n",
            "Epoch 00018: val_acc improved from 0.36081 to 0.40645, saving model to /content/drive/My Drive/AIML/CapstoneProjectNLP/weights.bestRANDOM.hdf5\n",
            "\n",
            "Epoch 00019: val_acc improved from 0.40645 to 0.41128, saving model to /content/drive/My Drive/AIML/CapstoneProjectNLP/weights.bestRANDOM.hdf5\n",
            "\n",
            "Epoch 00020: val_acc improved from 0.41128 to 0.45425, saving model to /content/drive/My Drive/AIML/CapstoneProjectNLP/weights.bestRANDOM.hdf5\n",
            "\n",
            "Epoch 00021: val_acc did not improve from 0.45425\n",
            "\n",
            "Epoch 00022: val_acc improved from 0.45425 to 0.50378, saving model to /content/drive/My Drive/AIML/CapstoneProjectNLP/weights.bestRANDOM.hdf5\n",
            "\n",
            "Epoch 00023: val_acc improved from 0.50378 to 0.54809, saving model to /content/drive/My Drive/AIML/CapstoneProjectNLP/weights.bestRANDOM.hdf5\n",
            "\n",
            "Epoch 00024: val_acc improved from 0.54809 to 0.55194, saving model to /content/drive/My Drive/AIML/CapstoneProjectNLP/weights.bestRANDOM.hdf5\n",
            "\n",
            "Epoch 00025: val_acc did not improve from 0.55194\n",
            "\n",
            "Epoch 00026: val_acc improved from 0.55194 to 0.60008, saving model to /content/drive/My Drive/AIML/CapstoneProjectNLP/weights.bestRANDOM.hdf5\n",
            "\n",
            "Epoch 00027: val_acc did not improve from 0.60008\n",
            "\n",
            "Epoch 00028: val_acc did not improve from 0.60008\n",
            "\n",
            "Epoch 00029: val_acc improved from 0.60008 to 0.64910, saving model to /content/drive/My Drive/AIML/CapstoneProjectNLP/weights.bestRANDOM.hdf5\n",
            "\n",
            "Epoch 00030: val_acc improved from 0.64910 to 0.72710, saving model to /content/drive/My Drive/AIML/CapstoneProjectNLP/weights.bestRANDOM.hdf5\n",
            "\n",
            "Epoch 00031: val_acc improved from 0.72710 to 0.73899, saving model to /content/drive/My Drive/AIML/CapstoneProjectNLP/weights.bestRANDOM.hdf5\n",
            "\n",
            "Epoch 00032: val_acc did not improve from 0.73899\n",
            "\n",
            "Epoch 00033: val_acc did not improve from 0.73899\n",
            "\n",
            "Epoch 00034: val_acc did not improve from 0.73899\n",
            "\n",
            "Epoch 00035: val_acc did not improve from 0.73899\n",
            "\n",
            "Epoch 00036: val_acc improved from 0.73899 to 0.74489, saving model to /content/drive/My Drive/AIML/CapstoneProjectNLP/weights.bestRANDOM.hdf5\n",
            "\n",
            "Epoch 00037: val_acc did not improve from 0.74489\n",
            "\n",
            "Epoch 00038: val_acc improved from 0.74489 to 0.74599, saving model to /content/drive/My Drive/AIML/CapstoneProjectNLP/weights.bestRANDOM.hdf5\n",
            "\n",
            "Epoch 00039: val_acc did not improve from 0.74599\n",
            "\n",
            "Epoch 00040: val_acc improved from 0.74599 to 0.75726, saving model to /content/drive/My Drive/AIML/CapstoneProjectNLP/weights.bestRANDOM.hdf5\n",
            "\n",
            "Epoch 00041: val_acc did not improve from 0.75726\n",
            "\n",
            "Epoch 00042: val_acc improved from 0.75726 to 0.77790, saving model to /content/drive/My Drive/AIML/CapstoneProjectNLP/weights.bestRANDOM.hdf5\n",
            "\n",
            "Epoch 00043: val_acc improved from 0.77790 to 0.77799, saving model to /content/drive/My Drive/AIML/CapstoneProjectNLP/weights.bestRANDOM.hdf5\n",
            "\n",
            "Epoch 00044: val_acc did not improve from 0.77799\n",
            "\n",
            "Epoch 00045: val_acc did not improve from 0.77799\n",
            "\n",
            "Epoch 00046: val_acc did not improve from 0.77799\n",
            "\n",
            "Epoch 00047: val_acc did not improve from 0.77799\n",
            "\n",
            "Epoch 00048: val_acc did not improve from 0.77799\n",
            "\n",
            "Epoch 00049: val_acc did not improve from 0.77799\n",
            "\n",
            "Epoch 00050: val_acc improved from 0.77799 to 0.77823, saving model to /content/drive/My Drive/AIML/CapstoneProjectNLP/weights.bestRANDOM.hdf5\n",
            "\n",
            "Epoch 00051: val_acc did not improve from 0.77823\n",
            "\n",
            "Epoch 00052: val_acc did not improve from 0.77823\n"
          ],
          "name": "stdout"
        }
      ]
    },
    {
      "cell_type": "code",
      "metadata": {
        "id": "fkZLIoyO_6o_",
        "colab_type": "code",
        "colab": {}
      },
      "source": [
        "# Let's now evaluate our model on the test set that was not oversampled:\n",
        "# But we need to first onehot encode the test label\n",
        "\n",
        "# num_classes = 53\n",
        "#y_test = to_categorical(y_test, num_classes)\n",
        "\n",
        "\n",
        "y_test = pd.get_dummies(y_test)\n",
        "#y_test_labels = y_test.columns"
      ],
      "execution_count": 75,
      "outputs": []
    },
    {
      "cell_type": "code",
      "metadata": {
        "id": "DO0ykR7Rqh8J",
        "colab_type": "code",
        "colab": {
          "base_uri": "https://localhost:8080/",
          "height": 72
        },
        "outputId": "5023a66b-42ca-4c45-87cb-2e4bf3415150"
      },
      "source": [
        "# evaluate\n",
        "score = model.evaluate(X_test, y_test, verbose=1)\n",
        "\n",
        "print(\"Test Score:\", score[0])\n",
        "print(\"Test Accuracy:\", score[1])"
      ],
      "execution_count": 76,
      "outputs": [
        {
          "output_type": "stream",
          "text": [
            "54/54 [==============================] - 1s 13ms/step - loss: 0.1008 - acc: 0.5818\n",
            "Test Score: 0.10078877210617065\n",
            "Test Accuracy: 0.5817646980285645\n"
          ],
          "name": "stdout"
        }
      ]
    },
    {
      "cell_type": "code",
      "metadata": {
        "id": "d-vNoGGAq5kz",
        "colab_type": "code",
        "colab": {}
      },
      "source": [
        ""
      ],
      "execution_count": null,
      "outputs": []
    },
    {
      "cell_type": "markdown",
      "metadata": {
        "id": "xHppsYvlG2ZQ",
        "colab_type": "text"
      },
      "source": [
        "####**Dealing with imbalance in the classes using SMOTE**\n",
        "SMOTE trains faster, so we will do our numerous iterations and adjustment of hyper-parameters here"
      ]
    },
    {
      "cell_type": "code",
      "metadata": {
        "id": "n9ANMv0PC-1L",
        "colab_type": "code",
        "colab": {
          "base_uri": "https://localhost:8080/",
          "height": 74
        },
        "outputId": "eed07717-73c2-4766-a3fa-6ab1d54c9135"
      },
      "source": [
        "\n",
        "X_train, X_test, y_train, y_test = train_test_split(X, y, test_size=0.20, random_state=13, stratify=y)\n",
        "\n",
        "\n",
        "smote = SMOTE(ratio='minority', random_state=0)\n",
        "#smote = SMOTE(sampling_strategy='auto', random_state=0)\n",
        "X_train, y_train = smote.fit_sample(X_train, y_train)"
      ],
      "execution_count": 122,
      "outputs": [
        {
          "output_type": "stream",
          "text": [
            "/usr/local/lib/python3.6/dist-packages/sklearn/utils/deprecation.py:87: FutureWarning: Function safe_indexing is deprecated; safe_indexing is deprecated in version 0.22 and will be removed in version 0.24.\n",
            "  warnings.warn(msg, category=FutureWarning)\n"
          ],
          "name": "stderr"
        }
      ]
    },
    {
      "cell_type": "code",
      "metadata": {
        "id": "U1Tbf57LFaab",
        "colab_type": "code",
        "colab": {}
      },
      "source": [
        "# onehot encoding the upsampled test label\n",
        "#y_train = to_categorical(y_train, num_classes)\n",
        "\n",
        "y_train = pd.get_dummies(y_train)"
      ],
      "execution_count": 123,
      "outputs": []
    },
    {
      "cell_type": "code",
      "metadata": {
        "id": "EUm6wdGcjcN4",
        "colab_type": "code",
        "colab": {}
      },
      "source": [
        "# Checkpoint Best Neural Network Model Only\n",
        "from tensorflow.keras.callbacks import ModelCheckpoint\n",
        "filepath= project_path+\"weights.bestSMOTE.hdf5\"\n",
        "checkpoint = ModelCheckpoint(filepath, monitor='val_acc', verbose=1, save_best_only=True, mode='max')\n",
        "callbacks_list = [checkpoint]"
      ],
      "execution_count": 124,
      "outputs": []
    },
    {
      "cell_type": "code",
      "metadata": {
        "id": "HXMS7OQDpGW_",
        "colab_type": "code",
        "colab": {}
      },
      "source": [
        "# early stopping implementating\n",
        "early_stopping = EarlyStopping(monitor='val_loss', min_delta=0.001, patience=20)"
      ],
      "execution_count": 125,
      "outputs": []
    },
    {
      "cell_type": "code",
      "metadata": {
        "id": "C-j1y6RDpQVA",
        "colab_type": "code",
        "colab": {
          "base_uri": "https://localhost:8080/",
          "height": 329
        },
        "outputId": "3b92c121-3624-4ecf-a53d-a5d6e3932a0b"
      },
      "source": [
        "#model building\n",
        "import tensorflow as tf\n",
        "deep_inputs = Input(shape=(maxlen,))\n",
        "embedding_layer = Embedding(vocab_size, embedding_size, weights=[embedding_matrix], trainable=False)(deep_inputs)\n",
        "LSTM_Layer_1 = LSTM(128, dropout=0.5)(embedding_layer)\n",
        "dense_layer_1 = Dense(num_classes, activation='softmax')(LSTM_Layer_1)\n",
        "model = Model(inputs=deep_inputs, outputs=dense_layer_1)\n",
        "\n",
        "#adam = tf.keras.optimizers.Adam(lr=0.01, beta_1=0.9, beta_2=0.999, epsilon=1e-8) ------ defining our learning rate gave us a poor model about 44%\n",
        "\n",
        "\n",
        "# Scheduler did not work well in this problem, the model performace was zero\n",
        "# Learning rate decay / scheduling \n",
        "#lr_schedule = tf.keras.optimizers.schedules.ExponentialDecay(\n",
        "#    initial_learning_rate=1e-2,\n",
        "#    decay_steps=10000,\n",
        "#    decay_rate=0.9)\n",
        "#optimizer = tf.keras.optimizers.SGD(learning_rate=lr_schedule)\n",
        "\n",
        "# we resorted to using inbuild optimizers (they have a better adaptive learning)\n",
        "model.compile(loss='categorical_crossentropy', optimizer='adam', metrics=['acc'])  # adam is performing better than rmsprop, so we stay on adam\n",
        "\n",
        "# Let's print the model summary:\n",
        "print(model.summary())"
      ],
      "execution_count": 126,
      "outputs": [
        {
          "output_type": "stream",
          "text": [
            "Model: \"functional_9\"\n",
            "_________________________________________________________________\n",
            "Layer (type)                 Output Shape              Param #   \n",
            "=================================================================\n",
            "input_5 (InputLayer)         [(None, 25)]              0         \n",
            "_________________________________________________________________\n",
            "embedding_4 (Embedding)      (None, 25, 300)           5326200   \n",
            "_________________________________________________________________\n",
            "lstm_4 (LSTM)                (None, 128)               219648    \n",
            "_________________________________________________________________\n",
            "dense_4 (Dense)              (None, 53)                6837      \n",
            "=================================================================\n",
            "Total params: 5,552,685\n",
            "Trainable params: 226,485\n",
            "Non-trainable params: 5,326,200\n",
            "_________________________________________________________________\n",
            "None\n"
          ],
          "name": "stdout"
        }
      ]
    },
    {
      "cell_type": "code",
      "metadata": {
        "id": "_qK9nQZdFagf",
        "colab_type": "code",
        "colab": {
          "base_uri": "https://localhost:8080/",
          "height": 1000
        },
        "outputId": "355b7865-120b-405f-c377-ae9bfa3cc2a8"
      },
      "source": [
        "# fit model\n",
        "history = model.fit(X_train, y_train, batch_size=64, epochs=epochs, verbose=0, callbacks=[early_stopping,callbacks_list], validation_split=0.2)\n",
        "\n",
        "# Let's now evaluate our model on the test set that was not oversampled, but we need to first onehot encode the test label\n",
        "#y_test = to_categorical(y_test, num_classes)\n",
        "y_test = pd.get_dummies(y_test)\n",
        "\n",
        "score = model.evaluate(X_test, y_test, verbose=1)\n",
        "\n",
        "print(\"Test Score:\", score[0])\n",
        "print(\"Test Accuracy:\", score[1])"
      ],
      "execution_count": 127,
      "outputs": [
        {
          "output_type": "stream",
          "text": [
            "\n",
            "Epoch 00001: val_acc improved from -inf to 0.88521, saving model to /content/drive/My Drive/AIML/CapstoneProjectNLP/weights.bestSMOTE.hdf5\n",
            "\n",
            "Epoch 00002: val_acc improved from 0.88521 to 0.94486, saving model to /content/drive/My Drive/AIML/CapstoneProjectNLP/weights.bestSMOTE.hdf5\n",
            "\n",
            "Epoch 00003: val_acc improved from 0.94486 to 0.97343, saving model to /content/drive/My Drive/AIML/CapstoneProjectNLP/weights.bestSMOTE.hdf5\n",
            "\n",
            "Epoch 00004: val_acc did not improve from 0.97343\n",
            "\n",
            "Epoch 00005: val_acc did not improve from 0.97343\n",
            "\n",
            "Epoch 00006: val_acc did not improve from 0.97343\n",
            "\n",
            "Epoch 00007: val_acc did not improve from 0.97343\n",
            "\n",
            "Epoch 00008: val_acc did not improve from 0.97343\n",
            "\n",
            "Epoch 00009: val_acc did not improve from 0.97343\n",
            "\n",
            "Epoch 00010: val_acc did not improve from 0.97343\n",
            "\n",
            "Epoch 00011: val_acc did not improve from 0.97343\n",
            "\n",
            "Epoch 00012: val_acc did not improve from 0.97343\n",
            "\n",
            "Epoch 00013: val_acc did not improve from 0.97343\n",
            "\n",
            "Epoch 00014: val_acc did not improve from 0.97343\n",
            "\n",
            "Epoch 00015: val_acc did not improve from 0.97343\n",
            "\n",
            "Epoch 00016: val_acc did not improve from 0.97343\n",
            "\n",
            "Epoch 00017: val_acc did not improve from 0.97343\n",
            "\n",
            "Epoch 00018: val_acc did not improve from 0.97343\n",
            "\n",
            "Epoch 00019: val_acc did not improve from 0.97343\n",
            "\n",
            "Epoch 00020: val_acc did not improve from 0.97343\n",
            "\n",
            "Epoch 00021: val_acc did not improve from 0.97343\n",
            "\n",
            "Epoch 00022: val_acc did not improve from 0.97343\n",
            "\n",
            "Epoch 00023: val_acc improved from 0.97343 to 0.97694, saving model to /content/drive/My Drive/AIML/CapstoneProjectNLP/weights.bestSMOTE.hdf5\n",
            "\n",
            "Epoch 00024: val_acc did not improve from 0.97694\n",
            "\n",
            "Epoch 00025: val_acc improved from 0.97694 to 0.97845, saving model to /content/drive/My Drive/AIML/CapstoneProjectNLP/weights.bestSMOTE.hdf5\n",
            "\n",
            "Epoch 00026: val_acc did not improve from 0.97845\n",
            "\n",
            "Epoch 00027: val_acc did not improve from 0.97845\n",
            "\n",
            "Epoch 00028: val_acc did not improve from 0.97845\n",
            "\n",
            "Epoch 00029: val_acc did not improve from 0.97845\n",
            "\n",
            "Epoch 00030: val_acc did not improve from 0.97845\n",
            "\n",
            "Epoch 00031: val_acc did not improve from 0.97845\n",
            "\n",
            "Epoch 00032: val_acc improved from 0.97845 to 0.97945, saving model to /content/drive/My Drive/AIML/CapstoneProjectNLP/weights.bestSMOTE.hdf5\n",
            "\n",
            "Epoch 00033: val_acc did not improve from 0.97945\n",
            "\n",
            "Epoch 00034: val_acc did not improve from 0.97945\n",
            "\n",
            "Epoch 00035: val_acc did not improve from 0.97945\n",
            "\n",
            "Epoch 00036: val_acc did not improve from 0.97945\n",
            "\n",
            "Epoch 00037: val_acc did not improve from 0.97945\n",
            "\n",
            "Epoch 00038: val_acc did not improve from 0.97945\n",
            "\n",
            "Epoch 00039: val_acc did not improve from 0.97945\n",
            "\n",
            "Epoch 00040: val_acc did not improve from 0.97945\n",
            "\n",
            "Epoch 00041: val_acc did not improve from 0.97945\n",
            "\n",
            "Epoch 00042: val_acc did not improve from 0.97945\n",
            "\n",
            "Epoch 00043: val_acc did not improve from 0.97945\n",
            "\n",
            "Epoch 00044: val_acc did not improve from 0.97945\n",
            "\n",
            "Epoch 00045: val_acc did not improve from 0.97945\n",
            "\n",
            "Epoch 00046: val_acc did not improve from 0.97945\n",
            "\n",
            "Epoch 00047: val_acc did not improve from 0.97945\n",
            "\n",
            "Epoch 00048: val_acc improved from 0.97945 to 0.98546, saving model to /content/drive/My Drive/AIML/CapstoneProjectNLP/weights.bestSMOTE.hdf5\n",
            "\n",
            "Epoch 00049: val_acc did not improve from 0.98546\n",
            "\n",
            "Epoch 00050: val_acc did not improve from 0.98546\n",
            "\n",
            "Epoch 00051: val_acc did not improve from 0.98546\n",
            "\n",
            "Epoch 00052: val_acc did not improve from 0.98546\n",
            "\n",
            "Epoch 00053: val_acc did not improve from 0.98546\n",
            "\n",
            "Epoch 00054: val_acc did not improve from 0.98546\n",
            "\n",
            "Epoch 00055: val_acc did not improve from 0.98546\n",
            "\n",
            "Epoch 00056: val_acc did not improve from 0.98546\n",
            "\n",
            "Epoch 00057: val_acc did not improve from 0.98546\n",
            "\n",
            "Epoch 00058: val_acc did not improve from 0.98546\n",
            "\n",
            "Epoch 00059: val_acc did not improve from 0.98546\n",
            "\n",
            "Epoch 00060: val_acc did not improve from 0.98546\n",
            "\n",
            "Epoch 00061: val_acc did not improve from 0.98546\n",
            "\n",
            "Epoch 00062: val_acc did not improve from 0.98546\n",
            "\n",
            "Epoch 00063: val_acc did not improve from 0.98546\n",
            "\n",
            "Epoch 00064: val_acc did not improve from 0.98546\n",
            "\n",
            "Epoch 00065: val_acc did not improve from 0.98546\n",
            "\n",
            "Epoch 00066: val_acc did not improve from 0.98546\n",
            "\n",
            "Epoch 00067: val_acc did not improve from 0.98546\n",
            "\n",
            "Epoch 00068: val_acc did not improve from 0.98546\n",
            "54/54 [==============================] - 0s 3ms/step - loss: 1.7710 - acc: 0.6459\n",
            "Test Score: 1.7709993124008179\n",
            "Test Accuracy: 0.6458823680877686\n"
          ],
          "name": "stdout"
        }
      ]
    },
    {
      "cell_type": "code",
      "metadata": {
        "colab_type": "code",
        "id": "quZ8ujuvGWl3",
        "colab": {}
      },
      "source": [
        ""
      ],
      "execution_count": 127,
      "outputs": []
    },
    {
      "cell_type": "code",
      "metadata": {
        "id": "xBYhp1fscFrA",
        "colab_type": "code",
        "colab": {}
      },
      "source": [
        "#### VARIOUS ITERATION RESULTS on Model performance\n",
        "\n",
        "####-1  loss = binary_crossentropy , more complex model (dropout =0.5)(with early stopping patience=10) \n",
        "#===========================================================================================\n",
        "\n",
        "### Batch size = 128 ----Maxlen-22\n",
        "#-------------------\n",
        "#rmsprop optimizer gave 63% \n",
        "#adam optimizer gave 59%\n",
        "#adam optimizer gave 65% ----(with post padding, and unseen words in our corpus replaceed) , early stopping patience=20 \n",
        "#sgd optimizer gave 44% \n",
        "#adadelta optimizer gave 38% \n",
        "\n",
        "\n",
        "### Batch size = 100 ---Maxlen-22\n",
        "#------------------\n",
        "#rmsprop optimizer gave 65.8 ----(with post padding, and unseen words in our corpus replaceed), early stopping patience = 20\n",
        "#rmsprop optimizer gave 62%\n",
        "#adam optimizer gave 61%\n",
        "#adam optimizer gave 64.2% ----(with post padding, and unseen words in our corpus replaceed) , early stopping patience=20\n",
        "#sgd optimizer gave 44% \n",
        "#adadelta optimizer gave 38% \n",
        "\n",
        "\n",
        "\n",
        "### Batch size = 64 ---Maxlen-22\n",
        "#------------------\n",
        "#rmsprop optimizer gave 62% \n",
        "#rmsprop optimizer gave 64.7% ----(with post padding, and unseen words in our corpus replaceed) , early stopping patience=20\n",
        "#adam optimizer gave 66.2% ----(with post padding, and unseen words in our corpus replaceed) , early stopping patience=20\n",
        "#adam optimizer gave 61% \n",
        "#sgd optimizer gave 44% \n",
        "#adadelta optimizer gave 3% \n",
        "\n",
        "\n",
        "\n",
        "### Batch size = 32 (with early stopping patience=20) ----Maxlen-22\n",
        "#-------------------\n",
        "#rmsprop optimizer gave 64% \n",
        "#rmsprop optimizer gave 63.5% ----(with post padding, and unseen words in our corpus replaceed) \n",
        "#adam optimizer gave 63% \n",
        "#adam optimizer gave 64.8% ----(with post padding, and unseen words in our corpus replaceed) \n",
        "#adam optimizer gave 62.7% ----(with pre padding, and unseen words in our corpus replaceed) \n",
        "\n",
        "\n",
        "### Batch size = 10 ---Maxlen-22\n",
        "#-------------------\n",
        "#adam optimizer gave 59%\n",
        "\n",
        "\n",
        "### Batch size = 64 (the best) , post padding, and unseen words in our corpus replaceed\n",
        "#--------------------\n",
        "#adam optimizer gave 64.8% ---Maxlen = 50\n",
        "#adam optimizer gave 62.9% ---Maxlen = 30\n",
        "#adam optimizer gave 65.1% ---Maxlen = 25\n",
        "#adam optimizer gave 64.9% ---Maxlen = 20\n",
        "#adam optimizer gave 64.3% ---Maxlen = 22 (The first time was 66.2%)\n",
        "#adam optimizer gave 64.5% ---Maxlen = 22 (Embeddings file with 300 dim, all other iterations were done with 200 dim)\n",
        "#adam optimizer gave 65.7% ---Maxlen = 25 (Embeddings file with 300 dim)\n",
        "\n",
        "\n",
        "####-2 loss = categorical_crossentropy, more complex model (dropout =0.5), relu activation, increased early stopping patience(15)\n",
        "#=======================================================================================================================================\n",
        "### Batch size = 128 ---Maxlen-22\n",
        "#-------------------\n",
        "#rmsprop gave 59.5% \n",
        "#adam gave 59.1% \n",
        "\n",
        "### Batch size = 64 ---Maxlen-22\n",
        "#------------------\n",
        "#rmsprop optimizer gave 60.8%\n",
        "#adam optimizer gave 59.4%\n",
        "#adam optimizer gave 64.6% ---Maxlen = 25 (Embeddings file with 300 dim), post padding (no relu, early stopping patiience= 20)\n",
        "\n",
        "\n",
        "#### OBSERVATION:\n",
        "# With Maxlen (maximum length of sentence allow) increased to 150, the model performed so poorly, and didnot even learn "
      ],
      "execution_count": 128,
      "outputs": []
    },
    {
      "cell_type": "code",
      "metadata": {
        "id": "0ljyhnGzcFiX",
        "colab_type": "code",
        "colab": {}
      },
      "source": [
        ""
      ],
      "execution_count": 128,
      "outputs": []
    },
    {
      "cell_type": "markdown",
      "metadata": {
        "id": "5j-64sayIMrM",
        "colab_type": "text"
      },
      "source": [
        "OBSERVATION: \n",
        "\n",
        "The true accuracy of the model when evaluated with the test set that has not been tampered with yielded a performance of about 65%"
      ]
    },
    {
      "cell_type": "code",
      "metadata": {
        "id": "NXZBONCwGV1z",
        "colab_type": "code",
        "colab": {}
      },
      "source": [
        ""
      ],
      "execution_count": 128,
      "outputs": []
    },
    {
      "cell_type": "code",
      "metadata": {
        "id": "WqEfk_GLGV7i",
        "colab_type": "code",
        "colab": {
          "base_uri": "https://localhost:8080/",
          "height": 573
        },
        "outputId": "df54b69e-21fb-45b0-d29a-081b8abeb681"
      },
      "source": [
        "# So, we plot the loss and accuracy values for training and test sets to see what happened to our model\n",
        "\n",
        "import matplotlib.pyplot as plt\n",
        "\n",
        "plt.plot(history.history['acc'])\n",
        "plt.plot(history.history['val_acc'])\n",
        "\n",
        "plt.title('model accuracy')\n",
        "plt.ylabel('accuracy')\n",
        "plt.xlabel('epoch')\n",
        "plt.legend(['train','test'], loc='upper left')\n",
        "plt.show()\n",
        "\n",
        "plt.plot(history.history['loss'])\n",
        "plt.plot(history.history['val_loss'])\n",
        "\n",
        "plt.title('model loss')\n",
        "plt.ylabel('loss')\n",
        "plt.xlabel('epoch')\n",
        "plt.legend(['train','test'], loc='upper left')\n",
        "plt.show()"
      ],
      "execution_count": 129,
      "outputs": [
        {
          "output_type": "display_data",
          "data": {
            "image/png": "[encoded data removed]",
            "text/plain": [
              "<Figure size 432x288 with 1 Axes>"
            ]
          },
          "metadata": {
            "tags": [],
            "needs_background": "light"
          }
        },
        {
          "output_type": "display_data",
          "data": {
            "image/png": "[encoded data removed]",
            "text/plain": [
              "<Figure size 432x288 with 1 Axes>"
            ]
          },
          "metadata": {
            "tags": [],
            "needs_background": "light"
          }
        }
      ]
    },
    {
      "cell_type": "markdown",
      "metadata": {
        "id": "oG3zTAKSJNjd",
        "colab_type": "text"
      },
      "source": [
        "As can be seen the model generalized well on the training set(since it was upsampled), such that it didn't generalize but predicted well the unseen test set (that is few and un-sampled).\n",
        "\n",
        "The loss eventually closes lower than what it began with showing that the model improved as it trained, the test loss is lower than the training's meaning that the model improved on the test set"
      ]
    },
    {
      "cell_type": "code",
      "metadata": {
        "id": "OLMOyFzIGWAA",
        "colab_type": "code",
        "colab": {
          "base_uri": "https://localhost:8080/",
          "height": 1000
        },
        "outputId": "c530bf46-c862-4739-9682-873fe32b1c61"
      },
      "source": [
        "from sklearn.metrics import classification_report,confusion_matrix\n",
        "\n",
        "Y_pred = model.predict(X_test)\n",
        "y_pred = np.rint(Y_pred)\n",
        "#y_pred = np.argmax(Y_pred,axis=1)\n",
        "#y_test = np.argmax(y_test, axis=1)\n",
        "print('  Classification Report:\\n',classification_report(y_test,y_pred),'\\n')"
      ],
      "execution_count": 130,
      "outputs": [
        {
          "output_type": "stream",
          "text": [
            "  Classification Report:\n",
            "               precision    recall  f1-score   support\n",
            "\n",
            "           0       0.81      0.87      0.84       795\n",
            "           1       0.33      0.17      0.22         6\n",
            "           2       0.82      0.32      0.46        28\n",
            "           3       0.29      0.33      0.31         6\n",
            "           4       0.61      0.55      0.58        51\n",
            "           5       0.50      0.45      0.47        29\n",
            "           6       0.54      0.29      0.38        24\n",
            "           7       0.40      0.25      0.31         8\n",
            "           8       0.40      0.35      0.38        17\n",
            "           9       0.89      1.00      0.94        16\n",
            "          10       0.31      0.28      0.29        18\n",
            "          11       0.45      0.33      0.38        43\n",
            "          12       0.58      0.58      0.58        48\n",
            "          13       0.00      0.00      0.00         7\n",
            "          14       1.00      0.33      0.50         6\n",
            "          15       0.00      0.00      0.00         6\n",
            "          16       0.25      0.20      0.22         5\n",
            "          17       0.78      0.84      0.81        58\n",
            "          18       0.58      0.30      0.40        23\n",
            "          19       0.20      0.18      0.19        11\n",
            "          20       0.00      0.00      0.00         4\n",
            "          21       0.17      0.11      0.13         9\n",
            "          22       0.62      0.42      0.50        19\n",
            "          23       0.46      0.30      0.36        40\n",
            "          24       0.00      0.00      0.00         8\n",
            "          25       0.62      0.36      0.45        14\n",
            "          26       0.47      0.33      0.39        21\n",
            "          27       0.27      0.25      0.26        12\n",
            "          28       0.00      0.00      0.00         3\n",
            "          29       0.00      0.00      0.00         3\n",
            "          30       0.00      0.00      0.00         4\n",
            "          31       0.30      0.15      0.20        20\n",
            "          32       0.60      0.33      0.43         9\n",
            "          33       1.00      0.38      0.55         8\n",
            "          34       0.00      0.00      0.00         7\n",
            "          35       0.00      0.00      0.00         3\n",
            "          36       0.67      0.29      0.40         7\n",
            "          37       1.00      0.20      0.33         5\n",
            "          38       0.00      0.00      0.00         5\n",
            "          39       0.77      0.38      0.51        26\n",
            "          40       0.00      0.00      0.00         3\n",
            "          41       0.00      0.00      0.00         2\n",
            "          42       0.00      0.00      0.00         2\n",
            "          43       0.00      0.00      0.00         2\n",
            "          44       0.00      0.00      0.00         2\n",
            "          45       0.80      0.54      0.65        37\n",
            "          46       1.00      0.50      0.67         4\n",
            "          47       1.00      0.20      0.33         5\n",
            "          48       0.00      0.00      0.00         2\n",
            "          49       0.56      0.36      0.43        14\n",
            "          50       0.79      0.49      0.61       132\n",
            "          51       0.46      0.12      0.19        51\n",
            "          52       0.00      0.00      0.00        12\n",
            "\n",
            "   micro avg       0.71      0.61      0.66      1700\n",
            "   macro avg       0.40      0.25      0.30      1700\n",
            "weighted avg       0.68      0.61      0.63      1700\n",
            " samples avg       0.61      0.61      0.61      1700\n",
            " \n",
            "\n"
          ],
          "name": "stdout"
        },
        {
          "output_type": "stream",
          "text": [
            "/usr/local/lib/python3.6/dist-packages/sklearn/metrics/_classification.py:1272: UndefinedMetricWarning: Precision and F-score are ill-defined and being set to 0.0 in labels with no predicted samples. Use `zero_division` parameter to control this behavior.\n",
            "  _warn_prf(average, modifier, msg_start, len(result))\n",
            "/usr/local/lib/python3.6/dist-packages/sklearn/metrics/_classification.py:1272: UndefinedMetricWarning: Precision and F-score are ill-defined and being set to 0.0 in samples with no predicted labels. Use `zero_division` parameter to control this behavior.\n",
            "  _warn_prf(average, modifier, msg_start, len(result))\n"
          ],
          "name": "stderr"
        }
      ]
    },
    {
      "cell_type": "markdown",
      "metadata": {
        "id": "ufXNC0JnKWaZ",
        "colab_type": "text"
      },
      "source": [
        "The model was not able to predict on some classes because of insufficient \n",
        "samples.\n",
        "Those Classes for which this model could not predict on, (perhaps before of the overwhelming influence of the more populated classes) Can be filtered out and another criterial used to model them.\n",
        "However the F1 score is encouragingly 66% for a dataset that was be-deviled with lots of flaws)\n",
        "\n",
        "And my model summary will essentially stay the same, only that some figures will change; as shown below"
      ]
    },
    {
      "cell_type": "code",
      "metadata": {
        "id": "1__K36PVpqUi",
        "colab_type": "code",
        "colab": {}
      },
      "source": [
        ""
      ],
      "execution_count": 185,
      "outputs": []
    },
    {
      "cell_type": "markdown",
      "metadata": {
        "id": "hyq-VrPdCXvQ",
        "colab_type": "text"
      },
      "source": [
        "Relevance And implementability of the conclusions and recommendations\n",
        "----------------------------------------------------------------------\n",
        "\n",
        "Relevance to the project:\n",
        "-------------------------\n",
        "In the business domain we were told that L1/L2 resolves about 54% of the incidents but before that they need to do the classification manually and this take them more than 26days to classify the whole data set based on our calculation. Since they have to review about 30% of the incidents (a little over 2000 incidents) and each takes 15mins(this actually could be seen to be there accuracy, since they make lots of mis-classifications\n",
        "But with the Machine Learning Classification accuracy was 65%; by proportionality we can say if 30% manual accuracy, attends to 30% of the total incidents in the dataset and it took 26days to classify them with so much errors, then our model’s 65% accuracy can do a 65% incident classification and this will be in a few minutes with fewer errors.\n",
        "With the analogy above, out model will allow L1/L2 to concentrate on resolving the incidents rather than classification, and that goes for L3 too. Furthermore: If they were resolving 54% of the incidents when they were manually classifying 30%, now that the model is classifying at 65%; by proportionality they should be resolving about 117% of incidents (this is practically not possible though, but theoretically, the point is they should resolve much more than before). And so, “Keep the lights on” to ensure there is no impact on the business operations.\n",
        "\n",
        "Implementability:\n",
        "-----------------\n",
        "We can deploy our saved model in real time so that the classification goes on when the users are sending in the incidents and the technical teams are busy trying to resolve them, we can make it :\n",
        "1.\tAs a standalone executable file - recommended for batch mode\n",
        "2.\tAs an on-prem application exposed as an API (e.g. Flask)\n",
        "3.\tAs a container based API in Azure or AWS container registry\n",
        "4.\tImplemented as an API built on Azure ML or AWS SageMaker\n",
        "\n",
        "But logically I will:\n",
        "1.\tTrain this NLP model (with a transformer LSTM Neural Network)\n",
        "2.\tCreate a full-stack application using python rapper or Flask\n",
        "3.\tContainerize using docker and test locally\n",
        "4.\tDeploy app on Google Cloud using Kubernetes\n",
        "5.\tCreate a CI/CD architecture to continually train model on live data.\n",
        "\n",
        "While the main model is been deployed, a smaller consisting of those classes that were not predicted in the main model, can be trained and deploy in real time along side the main model a technical team can be put together to classify manually GRP_OTHERS and to quickly address those services representing the classes with volumes of incidents; like doing a user friendly how-to manuals, or a video documentary of how to self resolve simpler issues"
      ]
    },
    {
      "cell_type": "markdown",
      "metadata": {
        "id": "Imq4F95PAV-n",
        "colab_type": "text"
      },
      "source": [
        "![image.png](data:image/png;base64,iVBORw0KGgoAAAANSUhEUgAADbYAAABRCAYAAAC0JRE5AAAFKklEQVR4nO3bMQEAMAyAsPo3vbpgRxMFGGAeAAAAAAAAAAAAAAAAAITmdwAAAAAAAAAAAAAAAAAAtxjbAAAAAAAAAAAAAAAAAEgZ2wAAAAAAAAAAAAAAAABIGdsAAAAAAAAAAAAAAAAASBnbAAAAAAAAAAAAAAAAAEgZ2wAAAAAAAAAAAAAAAABIGdsAAAAAAAAAAAAAAAAASBnbAAAAAAAAAAAAAAAAAEgZ2wAAAAAAAAAAAAAAAABIGdsAAAAAAAAAAAAAAAAASBnbAAAAAAAAAAAAAAAAAEgZ2wAAAAAAAAAAAAAAAABIGdsAAAAAAAAAAAAAAAAASBnbAAAAAAAAAAAAAAAAAEgZ2wAAAAAAAAAAAAAAAABIGdsAAAAAAAAAAAAAAAAASBnbAAAAAAAAAAAAAAAAAEgZ2wAAAAAAAAAAAAAAAABIGdsAAAAAAAAAAAAAAAAASBnbAAAAAAAAAAAAAAAAAEgZ2wAAAAAAAAAAAAAAAABIGdsAAAAAAAAAAAAAAAAASBnbAAAAAAAAAAAAAAAAAEgZ2wAAAAAAAAAAAAAAAABIGdsAAAAAAAAAAAAAAAAASBnbAAAAAAAAAAAAAAAAAEgZ2wAAAAAAAAAAAAAAAABIGdsAAAAAAAAAAAAAAAAASBnbAAAAAAAAAAAAAAAAAEgZ2wAAAAAAAAAAAAAAAABIGdsAAAAAAAAAAAAAAAAASBnbAAAAAAAAAAAAAAAAAEgZ2wAAAAAAAAAAAAAAAABIGdsAAAAAAAAAAAAAAAAASBnbAAAAAAAAAAAAAAAAAEgZ2wAAAAAAAAAAAAAAAABIGdsAAAAAAAAAAAAAAAAASBnbAAAAAAAAAAAAAAAAAEgZ2wAAAAAAAAAAAAAAAABIGdsAAAAAAAAAAAAAAAAASBnbAAAAAAAAAAAAAAAAAEgZ2wAAAAAAAAAAAAAAAABIGdsAAAAAAAAAAAAAAAAASBnbAAAAAAAAAAAAAAAAAEgZ2wAAAAAAAAAAAAAAAABIGdsAAAAAAAAAAAAAAAAASBnbAAAAAAAAAAAAAAAAAEgZ2wAAAAAAAAAAAAAAAABIGdsAAAAAAAAAAAAAAAAASBnbAAAAAAAAAAAAAAAAAEgZ2wAAAAAAAAAAAAAAAABIGdsAAAAAAAAAAAAAAAAASBnbAAAAAAAAAAAAAAAAAEgZ2wAAAAAAAAAAAAAAAABIGdsAAAAAAAAAAAAAAAAASBnbAAAAAAAAAAAAAAAAAEgZ2wAAAAAAAAAAAAAAAABIGdsAAAAAAAAAAAAAAAAASBnbAAAAAAAAAAAAAAAAAEgZ2wAAAAAAAAAAAAAAAABIGdsAAAAAAAAAAAAAAAAASBnbAAAAAAAAAAAAAAAAAEgZ2wAAAAAAAAAAAAAAAABIGdsAAAAAAAAAAAAAAAAASBnbAAAAAAAAAAAAAAAAAEgZ2wAAAAAAAAAAAAAAAABIGdsAAAAAAAAAAAAAAAAASBnbAAAAAAAAAAAAAAAAAEgZ2wAAAAAAAAAAAAAAAABIGdsAAAAAAAAAAAAAAAAASBnbAAAAAAAAAAAAAAAAAEgZ2wAAAAAAAAAAAAAAAABIGdsAAAAAAAAAAAAAAAAASBnbAAAAAAAAAAAAAAAAAEgZ2wAAAAAAAAAAAAAAAABIGdsAAAAAAAAAAAAAAAAASBnbAAAAAAAAAAAAAAAAAEgZ2wAAAAAAAAAAAAAAAABIGdsAAAAAAAAAAAAAAAAASBnbAAAAAAAAAAAAAAAAAEgt1qMA/+3P5JkAAAAASUVORK5CYII=)"
      ]
    }
  ]
}