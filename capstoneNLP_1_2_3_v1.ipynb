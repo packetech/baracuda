{
  "nbformat": 4,
  "nbformat_minor": 0,
  "metadata": {
    "accelerator": "GPU",
    "colab": {
      "name": "capstoneNLP_1_2_3_v1.ipynb",
      "provenance": [],
      "collapsed_sections": [],
      "include_colab_link": true
    },
    "kernelspec": {
      "display_name": "Python 3",
      "language": "python",
      "name": "python3"
    },
    "language_info": {
      "codemirror_mode": {
        "name": "ipython",
        "version": 3
      },
      "file_extension": ".py",
      "mimetype": "text/x-python",
      "name": "python",
      "nbconvert_exporter": "python",
      "pygments_lexer": "ipython3",
      "version": "3.7.6"
    }
  },
  "cells": [
    {
      "cell_type": "markdown",
      "metadata": {
        "id": "view-in-github",
        "colab_type": "text"
      },
      "source": [
        "<a href=\"https://colab.research.google.com/github/packetech/baracuda/blob/master/capstoneNLP_1_2_3_v1.ipynb\" target=\"_parent\"><img src=\"https://colab.research.google.com/assets/colab-badge.svg\" alt=\"Open In Colab\"/></a>"
      ]
    },
    {
      "cell_type": "markdown",
      "metadata": {
        "colab_type": "text",
        "id": "DJuuW4iDpBK2"
      },
      "source": [
        "<H1>**Capstone Project NLP**</H1>\n",
        "<b>Automatic Incident Management Ticket Sorting"
      ]
    },
    {
      "cell_type": "markdown",
      "metadata": {
        "colab_type": "text",
        "id": "72qF7iZlpJZl"
      },
      "source": [
        "\n",
        "<h2>03-NLP Project Notes 3</h2>\n"
      ]
    },
    {
      "cell_type": "code",
      "metadata": {
        "id": "4vCvzlvPFvLm",
        "colab_type": "code",
        "colab": {}
      },
      "source": [
        ""
      ],
      "execution_count": null,
      "outputs": []
    },
    {
      "cell_type": "markdown",
      "metadata": {
        "id": "58yP8QSqAh3w",
        "colab_type": "text"
      },
      "source": [
        "##**( 1 ) Fine-tuning the model​:** \n",
        "\n",
        "##**a. Reiterate the modelling process keeping in mind the areas of improvement**\n",
        "\n",
        "##**b. Highlight and provide commentary on the steps taken to arrive at the improved model**\n",
        " \n",
        "Please Note: We are going to try to simultaneously perform a and b. And we are going to number them as we proceed.\n",
        "Also keep in mind that in our milestone-2 our model had 45% performance \n",
        "###**Please Note: after some data handling techniques, model improvement via some hyper-parameter adjustments and several iterations; we archieved a performance of 97%**"
      ]
    },
    {
      "cell_type": "code",
      "metadata": {
        "id": "igvupGnNFtwL",
        "colab_type": "code",
        "colab": {}
      },
      "source": [
        ""
      ],
      "execution_count": null,
      "outputs": []
    },
    {
      "cell_type": "code",
      "metadata": {
        "colab_type": "code",
        "id": "KIvpQKsNo803",
        "colab": {
          "base_uri": "https://localhost:8080/",
          "height": 129
        },
        "outputId": "98c10f0a-4c27-4b2c-c754-e81ed2b1e48f"
      },
      "source": [
        "# Connect to google drive\n",
        "from google.colab import drive\n",
        "drive.mount('/content/drive/')"
      ],
      "execution_count": 2,
      "outputs": [
        {
          "output_type": "stream",
          "text": [
            "Go to this URL in a browser: https://accounts.google.com/o/oauth2/auth?client_id=947318989803-6bn6qk8qdgf4n4g3pfee6491hc0brc4i.apps.googleusercontent.com&redirect_uri=urn%3aietf%3awg%3aoauth%3a2.0%3aoob&scope=email%20https%3a%2f%2fwww.googleapis.com%2fauth%2fdocs.test%20https%3a%2f%2fwww.googleapis.com%2fauth%2fdrive%20https%3a%2f%2fwww.googleapis.com%2fauth%2fdrive.photos.readonly%20https%3a%2f%2fwww.googleapis.com%2fauth%2fpeopleapi.readonly&response_type=code\n",
            "\n",
            "Enter your authorization code:\n",
            "··········\n",
            "Mounted at /content/drive/\n"
          ],
          "name": "stdout"
        }
      ]
    },
    {
      "cell_type": "markdown",
      "metadata": {
        "id": "IyFTqyYirApe",
        "colab_type": "text"
      },
      "source": [
        "###**We begin from here onward to enumerate what was done to improve on our model performance**"
      ]
    },
    {
      "cell_type": "markdown",
      "metadata": {
        "id": "Flzya-RSrRhu",
        "colab_type": "text"
      },
      "source": [
        "###**1. Tensorflow version 2.0.0 is installed, and because keras will not work with this out of the box, we have to use tensorflow keras libraries**"
      ]
    },
    {
      "cell_type": "markdown",
      "metadata": {
        "colab_type": "text",
        "id": "R1YNJ9qspVSP"
      },
      "source": [
        "######**Exploratory Data Analysis**\n",
        "\n",
        "Read the DataSet file \"input_data.xlsx\". Explore the data and get some insights about the data"
      ]
    },
    {
      "cell_type": "code",
      "metadata": {
        "id": "YR6wJkyQ0Rf6",
        "colab_type": "code",
        "colab": {}
      },
      "source": [
        "#!pip uninstall tensorflow"
      ],
      "execution_count": null,
      "outputs": []
    },
    {
      "cell_type": "code",
      "metadata": {
        "id": "YOJR3i9G0Yf4",
        "colab_type": "code",
        "colab": {}
      },
      "source": [
        "#!pip install tensorflow==2.0.0"
      ],
      "execution_count": null,
      "outputs": []
    },
    {
      "cell_type": "code",
      "metadata": {
        "colab_type": "code",
        "id": "8LieP5yjIPok",
        "colab": {
          "base_uri": "https://localhost:8080/",
          "height": 202
        },
        "outputId": "12695fc6-a5db-4c80-e370-bf13fb0e9773"
      },
      "source": [
        "# Load required libraries\n",
        "\n",
        "import pandas as pd\n",
        "import numpy as np\n",
        "from numpy import array\n",
        "import seaborn as sns\n",
        "\n",
        "from tensorflow.keras.preprocessing.text import Tokenizer\n",
        "from tensorflow.keras.preprocessing.sequence import pad_sequences\n",
        "from tensorflow.keras.layers import Dense, Input, LSTM, Embedding, Dropout, Activation, Flatten, Bidirectional, GlobalMaxPool1D\n",
        "from tensorflow.keras.models import Model, Sequential\n",
        "from tensorflow.keras.layers import Input\n",
        "from tensorflow.keras.layers import concatenate\n",
        "\n",
        "from tensorflow.keras.callbacks import ModelCheckpoint, EarlyStopping\n",
        "\n",
        "from tensorflow.keras.utils import to_categorical\n",
        "\n",
        "from sklearn.model_selection import train_test_split\n",
        "\n",
        "import re\n",
        "\n",
        "from pickle import dump, load\n",
        "\n",
        "import matplotlib.pyplot as plt\n",
        "\n",
        "from nltk.tokenize import word_tokenize \n",
        "from nltk.stem import WordNetLemmatizer\n",
        "\n",
        "import nltk\n",
        "from nltk.corpus import stopwords\n",
        "\n",
        "nltk.download('stopwords')\n",
        "set(stopwords.words('english'))\n",
        "nltk.download('punkt')\n",
        "nltk.download('wordnet')\n"
      ],
      "execution_count": 3,
      "outputs": [
        {
          "output_type": "stream",
          "text": [
            "/usr/local/lib/python3.6/dist-packages/statsmodels/tools/_testing.py:19: FutureWarning: pandas.util.testing is deprecated. Use the functions in the public API at pandas.testing instead.\n",
            "  import pandas.util.testing as tm\n"
          ],
          "name": "stderr"
        },
        {
          "output_type": "stream",
          "text": [
            "[nltk_data] Downloading package stopwords to /root/nltk_data...\n",
            "[nltk_data]   Unzipping corpora/stopwords.zip.\n",
            "[nltk_data] Downloading package punkt to /root/nltk_data...\n",
            "[nltk_data]   Unzipping tokenizers/punkt.zip.\n",
            "[nltk_data] Downloading package wordnet to /root/nltk_data...\n",
            "[nltk_data]   Unzipping corpora/wordnet.zip.\n"
          ],
          "name": "stdout"
        },
        {
          "output_type": "execute_result",
          "data": {
            "text/plain": [
              "True"
            ]
          },
          "metadata": {
            "tags": []
          },
          "execution_count": 3
        }
      ]
    },
    {
      "cell_type": "code",
      "metadata": {
        "colab_type": "code",
        "id": "Aa_TEw-yIbZd",
        "colab": {}
      },
      "source": [
        "#Set project path \n",
        "project_path = \"/content/drive/My Drive/AIML/CapstoneProjectNLP/\""
      ],
      "execution_count": 4,
      "outputs": []
    },
    {
      "cell_type": "code",
      "metadata": {
        "colab_type": "code",
        "id": "ozm8Q-d4IfuA",
        "colab": {}
      },
      "source": [
        "# Read data\n",
        "capstoneNLP_DF = pd.read_excel(project_path+'input_data.xlsx')"
      ],
      "execution_count": null,
      "outputs": []
    },
    {
      "cell_type": "code",
      "metadata": {
        "colab_type": "code",
        "id": "2w77quxkItqI",
        "colab": {
          "base_uri": "https://localhost:8080/",
          "height": 225
        },
        "outputId": "5095ffdb-94a4-41f1-877b-6fdcfe9aa07b"
      },
      "source": [
        "# Display shape and header\n",
        "\n",
        "print(capstoneNLP_DF.shape)\n",
        "capstoneNLP_DF.head()"
      ],
      "execution_count": null,
      "outputs": [
        {
          "output_type": "stream",
          "text": [
            "(8500, 4)\n"
          ],
          "name": "stdout"
        },
        {
          "output_type": "execute_result",
          "data": {
            "text/html": [
              "<div>\n",
              "<style scoped>\n",
              "    .dataframe tbody tr th:only-of-type {\n",
              "        vertical-align: middle;\n",
              "    }\n",
              "\n",
              "    .dataframe tbody tr th {\n",
              "        vertical-align: top;\n",
              "    }\n",
              "\n",
              "    .dataframe thead th {\n",
              "        text-align: right;\n",
              "    }\n",
              "</style>\n",
              "<table border=\"1\" class=\"dataframe\">\n",
              "  <thead>\n",
              "    <tr style=\"text-align: right;\">\n",
              "      <th></th>\n",
              "      <th>Short description</th>\n",
              "      <th>Description</th>\n",
              "      <th>Caller</th>\n",
              "      <th>Assignment group</th>\n",
              "    </tr>\n",
              "  </thead>\n",
              "  <tbody>\n",
              "    <tr>\n",
              "      <th>0</th>\n",
              "      <td>login issue</td>\n",
              "      <td>-verified user details.(employee# &amp; manager na...</td>\n",
              "      <td>spxjnwir pjlcoqds</td>\n",
              "      <td>GRP_0</td>\n",
              "    </tr>\n",
              "    <tr>\n",
              "      <th>1</th>\n",
              "      <td>outlook</td>\n",
              "      <td>\\r\\n\\r\\nreceived from: hmjdrvpb.komuaywn@gmail...</td>\n",
              "      <td>hmjdrvpb komuaywn</td>\n",
              "      <td>GRP_0</td>\n",
              "    </tr>\n",
              "    <tr>\n",
              "      <th>2</th>\n",
              "      <td>cant log in to vpn</td>\n",
              "      <td>\\r\\n\\r\\nreceived from: eylqgodm.ybqkwiam@gmail...</td>\n",
              "      <td>eylqgodm ybqkwiam</td>\n",
              "      <td>GRP_0</td>\n",
              "    </tr>\n",
              "    <tr>\n",
              "      <th>3</th>\n",
              "      <td>unable to access hr_tool page</td>\n",
              "      <td>unable to access hr_tool page</td>\n",
              "      <td>xbkucsvz gcpydteq</td>\n",
              "      <td>GRP_0</td>\n",
              "    </tr>\n",
              "    <tr>\n",
              "      <th>4</th>\n",
              "      <td>skype error</td>\n",
              "      <td>skype error</td>\n",
              "      <td>owlgqjme qhcozdfx</td>\n",
              "      <td>GRP_0</td>\n",
              "    </tr>\n",
              "  </tbody>\n",
              "</table>\n",
              "</div>"
            ],
            "text/plain": [
              "               Short description  ... Assignment group\n",
              "0                    login issue  ...            GRP_0\n",
              "1                        outlook  ...            GRP_0\n",
              "2             cant log in to vpn  ...            GRP_0\n",
              "3  unable to access hr_tool page  ...            GRP_0\n",
              "4                   skype error   ...            GRP_0\n",
              "\n",
              "[5 rows x 4 columns]"
            ]
          },
          "metadata": {
            "tags": []
          },
          "execution_count": 341
        }
      ]
    },
    {
      "cell_type": "code",
      "metadata": {
        "colab_type": "code",
        "id": "QOSqnlLUq5IY",
        "colab": {
          "base_uri": "https://localhost:8080/",
          "height": 175
        },
        "outputId": "77c665cc-3eaf-4504-ccb3-8bf965c752d0"
      },
      "source": [
        "# Descriptive statistics gives us a lot more insight, just like knowing that 2,948 Callers generated these 8,491 tickets\n",
        "capstoneNLP_DF.describe().T"
      ],
      "execution_count": null,
      "outputs": [
        {
          "output_type": "execute_result",
          "data": {
            "text/html": [
              "<div>\n",
              "<style scoped>\n",
              "    .dataframe tbody tr th:only-of-type {\n",
              "        vertical-align: middle;\n",
              "    }\n",
              "\n",
              "    .dataframe tbody tr th {\n",
              "        vertical-align: top;\n",
              "    }\n",
              "\n",
              "    .dataframe thead th {\n",
              "        text-align: right;\n",
              "    }\n",
              "</style>\n",
              "<table border=\"1\" class=\"dataframe\">\n",
              "  <thead>\n",
              "    <tr style=\"text-align: right;\">\n",
              "      <th></th>\n",
              "      <th>count</th>\n",
              "      <th>unique</th>\n",
              "      <th>top</th>\n",
              "      <th>freq</th>\n",
              "    </tr>\n",
              "  </thead>\n",
              "  <tbody>\n",
              "    <tr>\n",
              "      <th>Short description</th>\n",
              "      <td>8492</td>\n",
              "      <td>7481</td>\n",
              "      <td>password reset</td>\n",
              "      <td>38</td>\n",
              "    </tr>\n",
              "    <tr>\n",
              "      <th>Description</th>\n",
              "      <td>8499</td>\n",
              "      <td>7817</td>\n",
              "      <td>the</td>\n",
              "      <td>56</td>\n",
              "    </tr>\n",
              "    <tr>\n",
              "      <th>Caller</th>\n",
              "      <td>8500</td>\n",
              "      <td>2950</td>\n",
              "      <td>bpctwhsn kzqsbmtp</td>\n",
              "      <td>810</td>\n",
              "    </tr>\n",
              "    <tr>\n",
              "      <th>Assignment group</th>\n",
              "      <td>8500</td>\n",
              "      <td>74</td>\n",
              "      <td>GRP_0</td>\n",
              "      <td>3976</td>\n",
              "    </tr>\n",
              "  </tbody>\n",
              "</table>\n",
              "</div>"
            ],
            "text/plain": [
              "                  count unique                top  freq\n",
              "Short description  8492   7481     password reset    38\n",
              "Description        8499   7817                the    56\n",
              "Caller             8500   2950  bpctwhsn kzqsbmtp   810\n",
              "Assignment group   8500     74              GRP_0  3976"
            ]
          },
          "metadata": {
            "tags": []
          },
          "execution_count": 342
        }
      ]
    },
    {
      "cell_type": "markdown",
      "metadata": {
        "colab_type": "text",
        "id": "23L3L7yYrCCG"
      },
      "source": [
        "######**Concatenate necessary fields and drop unnecessary ones**\n",
        "\n",
        "Not all the source text is important, so we need to concatenate the useful ones and drop the un-necessary ones."
      ]
    },
    {
      "cell_type": "code",
      "metadata": {
        "colab_type": "code",
        "id": "KE_azEY3JKLh",
        "colab": {
          "base_uri": "https://localhost:8080/",
          "height": 206
        },
        "outputId": "f3b63885-e5d5-4232-d0de-94541c4d62b2"
      },
      "source": [
        "# Combine similar fields and call it 'Desc'\n",
        "capstoneNLP_DF['Desc'] = capstoneNLP_DF['Short description'] + capstoneNLP_DF['Description']\n",
        "\n",
        "# Dropping unnecessary fields\n",
        "capstoneNLP_DF = capstoneNLP_DF.drop(['Short description','Description','Caller'], 1)\n",
        "\n",
        "# Renaming the \"Assignment group\" for ease of usage\n",
        "capstoneNLP_DF = capstoneNLP_DF.rename(columns = {\"Assignment group\": \"Grps\"})\n",
        "\n",
        "capstoneNLP_DF.head()"
      ],
      "execution_count": null,
      "outputs": [
        {
          "output_type": "execute_result",
          "data": {
            "text/html": [
              "<div>\n",
              "<style scoped>\n",
              "    .dataframe tbody tr th:only-of-type {\n",
              "        vertical-align: middle;\n",
              "    }\n",
              "\n",
              "    .dataframe tbody tr th {\n",
              "        vertical-align: top;\n",
              "    }\n",
              "\n",
              "    .dataframe thead th {\n",
              "        text-align: right;\n",
              "    }\n",
              "</style>\n",
              "<table border=\"1\" class=\"dataframe\">\n",
              "  <thead>\n",
              "    <tr style=\"text-align: right;\">\n",
              "      <th></th>\n",
              "      <th>Grps</th>\n",
              "      <th>Desc</th>\n",
              "    </tr>\n",
              "  </thead>\n",
              "  <tbody>\n",
              "    <tr>\n",
              "      <th>0</th>\n",
              "      <td>GRP_0</td>\n",
              "      <td>login issue-verified user details.(employee# &amp;...</td>\n",
              "    </tr>\n",
              "    <tr>\n",
              "      <th>1</th>\n",
              "      <td>GRP_0</td>\n",
              "      <td>outlook\\r\\n\\r\\nreceived from: hmjdrvpb.komuayw...</td>\n",
              "    </tr>\n",
              "    <tr>\n",
              "      <th>2</th>\n",
              "      <td>GRP_0</td>\n",
              "      <td>cant log in to vpn\\r\\n\\r\\nreceived from: eylqg...</td>\n",
              "    </tr>\n",
              "    <tr>\n",
              "      <th>3</th>\n",
              "      <td>GRP_0</td>\n",
              "      <td>unable to access hr_tool pageunable to access ...</td>\n",
              "    </tr>\n",
              "    <tr>\n",
              "      <th>4</th>\n",
              "      <td>GRP_0</td>\n",
              "      <td>skype error skype error</td>\n",
              "    </tr>\n",
              "  </tbody>\n",
              "</table>\n",
              "</div>"
            ],
            "text/plain": [
              "    Grps                                               Desc\n",
              "0  GRP_0  login issue-verified user details.(employee# &...\n",
              "1  GRP_0  outlook\\r\\n\\r\\nreceived from: hmjdrvpb.komuayw...\n",
              "2  GRP_0  cant log in to vpn\\r\\n\\r\\nreceived from: eylqg...\n",
              "3  GRP_0  unable to access hr_tool pageunable to access ...\n",
              "4  GRP_0                           skype error skype error "
            ]
          },
          "metadata": {
            "tags": []
          },
          "execution_count": 343
        }
      ]
    },
    {
      "cell_type": "markdown",
      "metadata": {
        "id": "NYM4-TH-Cbhc",
        "colab_type": "text"
      },
      "source": [
        "###**2. We reduced our classes by filtering out to what we call 'GRP_Others' those classes with very few samples (this is the help us when we are taking care of class imbalance)**"
      ]
    },
    {
      "cell_type": "code",
      "metadata": {
        "colab_type": "code",
        "id": "rAX-aBcj8yMj",
        "colab": {}
      },
      "source": [
        "#We filter out classes with 1 - 6 samples\n",
        "capstoneNLP_DF_LTS = capstoneNLP_DF[capstoneNLP_DF['Grps'].map(capstoneNLP_DF['Grps'].value_counts()) < 7]"
      ],
      "execution_count": null,
      "outputs": []
    },
    {
      "cell_type": "code",
      "metadata": {
        "colab_type": "code",
        "id": "rjzgx7m88yNC",
        "colab": {
          "base_uri": "https://localhost:8080/",
          "height": 461
        },
        "outputId": "326eecac-9a9b-47a9-8c65-c229efe591b0"
      },
      "source": [
        "groupy2 = capstoneNLP_DF_LTS.groupby('Grps').size().sort_values(ascending=False)\n",
        "groupy2"
      ],
      "execution_count": null,
      "outputs": [
        {
          "output_type": "execute_result",
          "data": {
            "text/plain": [
              "Grps\n",
              "GRP_59    6\n",
              "GRP_46    6\n",
              "GRP_49    6\n",
              "GRP_43    5\n",
              "GRP_66    4\n",
              "GRP_32    4\n",
              "GRP_68    3\n",
              "GRP_63    3\n",
              "GRP_58    3\n",
              "GRP_56    3\n",
              "GRP_38    3\n",
              "GRP_72    2\n",
              "GRP_57    2\n",
              "GRP_54    2\n",
              "GRP_69    2\n",
              "GRP_71    2\n",
              "GRP_67    1\n",
              "GRP_64    1\n",
              "GRP_61    1\n",
              "GRP_70    1\n",
              "GRP_35    1\n",
              "GRP_73    1\n",
              "dtype: int64"
            ]
          },
          "metadata": {
            "tags": []
          },
          "execution_count": 345
        }
      ]
    },
    {
      "cell_type": "code",
      "metadata": {
        "colab_type": "code",
        "id": "xY6bi4FT8yNO",
        "colab": {}
      },
      "source": [
        "# Replacing the groups that are now seen in groupy2 anyhwere they are found in the main dataset (capstoneNLP_DF) calling them GRP_OTHERS\n",
        "\n",
        "capstoneNLP_DF_prep = capstoneNLP_DF.replace({'GRP_59':'GRP_OTHERS','GRP_46':'GRP_OTHERS','GRP_49':'GRP_OTHERS','GRP_43':'GRP_OTHERS','GRP_66':'GRP_OTHERS','GRP_32':'GRP_OTHERS','GRP_68':'GRP_OTHERS','GRP_63':'GRP_OTHERS','GRP_58':'GRP_OTHERS','GRP_56':'GRP_OTHERS','GRP_38':'GRP_OTHERS','GRP_72':'GRP_OTHERS','GRP_57':'GRP_OTHERS','GRP_54':'GRP_OTHERS','GRP_69':'GRP_OTHERS','GRP_71':'GRP_OTHERS','GRP_67':'GRP_OTHERS','GRP_64':'GRP_OTHERS','GRP_61':'GRP_OTHERS','GRP_70':'GRP_OTHERS','GRP_35':'GRP_OTHERS','GRP_73':'GRP_OTHERS'})\n",
        "\n",
        "# 'GRP_51':'GRP_OTHERS','GRP_55':'GRP_OTHERS','GRP_52':'GRP_OTHERS','GRP_53':'GRP_OTHERS','GRP_65':'GRP_OTHERS','GRP_50':'GRP_OTHERS','GRP_44':'GRP_OTHERS','GRP_36':'GRP_OTHERS',"
      ],
      "execution_count": null,
      "outputs": []
    },
    {
      "cell_type": "code",
      "metadata": {
        "colab_type": "code",
        "id": "osnw1a8C8yNd",
        "colab": {
          "base_uri": "https://localhost:8080/",
          "height": 206
        },
        "outputId": "6e1ce1ef-ea0e-48e8-b887-82c97b36ab1d"
      },
      "source": [
        "capstoneNLP_DF_prep.tail()"
      ],
      "execution_count": null,
      "outputs": [
        {
          "output_type": "execute_result",
          "data": {
            "text/html": [
              "<div>\n",
              "<style scoped>\n",
              "    .dataframe tbody tr th:only-of-type {\n",
              "        vertical-align: middle;\n",
              "    }\n",
              "\n",
              "    .dataframe tbody tr th {\n",
              "        vertical-align: top;\n",
              "    }\n",
              "\n",
              "    .dataframe thead th {\n",
              "        text-align: right;\n",
              "    }\n",
              "</style>\n",
              "<table border=\"1\" class=\"dataframe\">\n",
              "  <thead>\n",
              "    <tr style=\"text-align: right;\">\n",
              "      <th></th>\n",
              "      <th>Grps</th>\n",
              "      <th>Desc</th>\n",
              "    </tr>\n",
              "  </thead>\n",
              "  <tbody>\n",
              "    <tr>\n",
              "      <th>8495</th>\n",
              "      <td>GRP_29</td>\n",
              "      <td>emails not coming in from zz mail\\r\\n\\r\\nrecei...</td>\n",
              "    </tr>\n",
              "    <tr>\n",
              "      <th>8496</th>\n",
              "      <td>GRP_0</td>\n",
              "      <td>telephony_software issuetelephony_software issue</td>\n",
              "    </tr>\n",
              "    <tr>\n",
              "      <th>8497</th>\n",
              "      <td>GRP_0</td>\n",
              "      <td>vip2: windows password reset for tifpdchb pedx...</td>\n",
              "    </tr>\n",
              "    <tr>\n",
              "      <th>8498</th>\n",
              "      <td>GRP_62</td>\n",
              "      <td>machine nÃ£o estÃ¡ funcionandoi am unable to a...</td>\n",
              "    </tr>\n",
              "    <tr>\n",
              "      <th>8499</th>\n",
              "      <td>GRP_OTHERS</td>\n",
              "      <td>an mehreren pc`s lassen sich verschiedene prgr...</td>\n",
              "    </tr>\n",
              "  </tbody>\n",
              "</table>\n",
              "</div>"
            ],
            "text/plain": [
              "            Grps                                               Desc\n",
              "8495      GRP_29  emails not coming in from zz mail\\r\\n\\r\\nrecei...\n",
              "8496       GRP_0   telephony_software issuetelephony_software issue\n",
              "8497       GRP_0  vip2: windows password reset for tifpdchb pedx...\n",
              "8498      GRP_62  machine nÃ£o estÃ¡ funcionandoi am unable to a...\n",
              "8499  GRP_OTHERS  an mehreren pc`s lassen sich verschiedene prgr..."
            ]
          },
          "metadata": {
            "tags": []
          },
          "execution_count": 347
        }
      ]
    },
    {
      "cell_type": "code",
      "metadata": {
        "colab_type": "code",
        "id": "x3K_C9X58yNl",
        "colab": {
          "base_uri": "https://localhost:8080/",
          "height": 72
        },
        "outputId": "df6e47e0-44d5-4473-919c-02e40ff032cc"
      },
      "source": [
        "# check and remove NAN\n",
        "print(capstoneNLP_DF_prep.isnull().any(axis = 0))"
      ],
      "execution_count": null,
      "outputs": [
        {
          "output_type": "stream",
          "text": [
            "Grps    False\n",
            "Desc     True\n",
            "dtype: bool\n"
          ],
          "name": "stdout"
        }
      ]
    },
    {
      "cell_type": "code",
      "metadata": {
        "colab_type": "code",
        "id": "DAQ9gB1W8yNs",
        "colab": {
          "base_uri": "https://localhost:8080/",
          "height": 72
        },
        "outputId": "74371b70-41e6-4d8b-8bb5-e8d4c8993119"
      },
      "source": [
        "capstoneNLP_DF_prep = capstoneNLP_DF_prep.dropna()\n",
        "print(capstoneNLP_DF_prep.isnull().any(axis = 0))"
      ],
      "execution_count": null,
      "outputs": [
        {
          "output_type": "stream",
          "text": [
            "Grps    False\n",
            "Desc    False\n",
            "dtype: bool\n"
          ],
          "name": "stdout"
        }
      ]
    },
    {
      "cell_type": "code",
      "metadata": {
        "id": "AaMvWlgaJMY8",
        "colab_type": "code",
        "colab": {
          "base_uri": "https://localhost:8080/",
          "height": 206
        },
        "outputId": "0b397626-cc75-40ba-ef6c-2ab50de73155"
      },
      "source": [
        "# Converting categrical labels to numerical format and call them 'Target'\n",
        "from sklearn import preprocessing\n",
        "le = preprocessing.LabelEncoder()\n",
        "le.fit(capstoneNLP_DF_prep['Grps'])\n",
        "capstoneNLP_DF_prep['Target'] = le.transform(capstoneNLP_DF_prep['Grps'])\n",
        "capstoneNLP_DF_prep.tail()"
      ],
      "execution_count": null,
      "outputs": [
        {
          "output_type": "execute_result",
          "data": {
            "text/html": [
              "<div>\n",
              "<style scoped>\n",
              "    .dataframe tbody tr th:only-of-type {\n",
              "        vertical-align: middle;\n",
              "    }\n",
              "\n",
              "    .dataframe tbody tr th {\n",
              "        vertical-align: top;\n",
              "    }\n",
              "\n",
              "    .dataframe thead th {\n",
              "        text-align: right;\n",
              "    }\n",
              "</style>\n",
              "<table border=\"1\" class=\"dataframe\">\n",
              "  <thead>\n",
              "    <tr style=\"text-align: right;\">\n",
              "      <th></th>\n",
              "      <th>Grps</th>\n",
              "      <th>Desc</th>\n",
              "      <th>Target</th>\n",
              "    </tr>\n",
              "  </thead>\n",
              "  <tbody>\n",
              "    <tr>\n",
              "      <th>8495</th>\n",
              "      <td>GRP_29</td>\n",
              "      <td>emails not coming in from zz mail\\r\\n\\r\\nrecei...</td>\n",
              "      <td>22</td>\n",
              "    </tr>\n",
              "    <tr>\n",
              "      <th>8496</th>\n",
              "      <td>GRP_0</td>\n",
              "      <td>telephony_software issuetelephony_software issue</td>\n",
              "      <td>0</td>\n",
              "    </tr>\n",
              "    <tr>\n",
              "      <th>8497</th>\n",
              "      <td>GRP_0</td>\n",
              "      <td>vip2: windows password reset for tifpdchb pedx...</td>\n",
              "      <td>0</td>\n",
              "    </tr>\n",
              "    <tr>\n",
              "      <th>8498</th>\n",
              "      <td>GRP_62</td>\n",
              "      <td>machine nÃ£o estÃ¡ funcionandoi am unable to a...</td>\n",
              "      <td>47</td>\n",
              "    </tr>\n",
              "    <tr>\n",
              "      <th>8499</th>\n",
              "      <td>GRP_OTHERS</td>\n",
              "      <td>an mehreren pc`s lassen sich verschiedene prgr...</td>\n",
              "      <td>52</td>\n",
              "    </tr>\n",
              "  </tbody>\n",
              "</table>\n",
              "</div>"
            ],
            "text/plain": [
              "            Grps                                               Desc  Target\n",
              "8495      GRP_29  emails not coming in from zz mail\\r\\n\\r\\nrecei...      22\n",
              "8496       GRP_0   telephony_software issuetelephony_software issue       0\n",
              "8497       GRP_0  vip2: windows password reset for tifpdchb pedx...       0\n",
              "8498      GRP_62  machine nÃ£o estÃ¡ funcionandoi am unable to a...      47\n",
              "8499  GRP_OTHERS  an mehreren pc`s lassen sich verschiedene prgr...      52"
            ]
          },
          "metadata": {
            "tags": []
          },
          "execution_count": 350
        }
      ]
    },
    {
      "cell_type": "markdown",
      "metadata": {
        "id": "B6jc0mnbEwOs",
        "colab_type": "text"
      },
      "source": [
        "###**3. Performing text pre-processing (by text lowering, noise/stopwards removal and normalization by stemming)**"
      ]
    },
    {
      "cell_type": "code",
      "metadata": {
        "id": "70nrILLQJMgt",
        "colab_type": "code",
        "colab": {}
      },
      "source": [
        "# text lower casing\n",
        "capstoneNLP_DF_prep['Desc']=[word.lower() for word in capstoneNLP_DF_prep['Desc']]"
      ],
      "execution_count": null,
      "outputs": []
    },
    {
      "cell_type": "code",
      "metadata": {
        "id": "Nfvl-fhnJMqI",
        "colab_type": "code",
        "colab": {}
      },
      "source": [
        "# Noise/ stopwords removal and stemming(which is normalization)\n",
        "stem_word =[]\n",
        "snow = nltk.stem.SnowballStemmer('english')\n",
        "\n",
        "\n",
        "for sentence in capstoneNLP_DF_prep['Desc']:\n",
        "  # remove noise\n",
        "  \n",
        "  sentence = re.sub(r'https?:\\/\\/.*[\\r\\n]*', '', sentence, flags=re.MULTILINE)\n",
        "  sentence = re.sub(r'<.*?>','', sentence)\n",
        "  sentence = re.sub(r'\\<a href', ' ', sentence)\n",
        "  sentence = re.sub(r'&amp;', '', sentence)\n",
        "  sentence = re.sub(r'[_\"\\-;%()|+&=*%.,!?:#$@\\[\\]/]', ' ', sentence)\n",
        "  sentence = re.sub(r'<br />', ' ', sentence)\n",
        "  sentence = re.sub(r'\\'', ' ', sentence)\n",
        "    \n",
        "  words = [snow.stem(word) for word in sentence.split() if word not in stopwords.words('english')]   # Stemming and removing stopwords\n",
        "  stem_word.append(words)\n",
        "    \n",
        "capstoneNLP_DF_prep['Desc'] = stem_word    "
      ],
      "execution_count": null,
      "outputs": []
    },
    {
      "cell_type": "code",
      "metadata": {
        "id": "gkfo_bkyJMyW",
        "colab_type": "code",
        "colab": {}
      },
      "source": [
        "#  Change short forms into expanded text (a form of normalization)\n",
        "\n",
        "contractions = { \n",
        "\"ain't\": \"am not / are not / is not / has not / have not\",\n",
        "\"aren't\": \"are not / am not\",\n",
        "\"can't\": \"cannot\",\n",
        "\"can't've\": \"cannot have\",\n",
        "\"'cause\": \"because\",\n",
        "\"could've\": \"could have\",\n",
        "\"couldn't\": \"could not\",\n",
        "\"couldn't've\": \"could not have\",\n",
        "\"didn't\": \"did not\",\n",
        "\"doesn't\": \"does not\",\n",
        "\"don't\": \"do not\",\n",
        "\"hadn't\": \"had not\",\n",
        "\"hadn't've\": \"had not have\",\n",
        "\"hasn't\": \"has not\",\n",
        "\"haven't\": \"have not\",\n",
        "\"he'd\": \"he had / he would\",\n",
        "\"he'd've\": \"he would have\",\n",
        "\"he'll\": \"he shall / he will\",\n",
        "\"he'll've\": \"he shall have / he will have\",\n",
        "\"he's\": \"he has / he is\",\n",
        "\"how'd\": \"how did\",\n",
        "\"how'd'y\": \"how do you\",\n",
        "\"how'll\": \"how will\",\n",
        "\"how's\": \"how has / how is / how does\",\n",
        "\"I'd\": \"I had / I would\",\n",
        "\"I'd've\": \"I would have\",\n",
        "\"I'll\": \"I shall / I will\",\n",
        "\"I'll've\": \"I shall have / I will have\",\n",
        "\"I'm\": \"I am\",\n",
        "\"I've\": \"I have\",\n",
        "\"isn't\": \"is not\",\n",
        "\"it'd\": \"it had / it would\",\n",
        "\"it'd've\": \"it would have\",\n",
        "\"it'll\": \"it shall / it will\",\n",
        "\"it'll've\": \"it shall have / it will have\",\n",
        "\"it's\": \"it has / it is\",\n",
        "\"let's\": \"let us\",\n",
        "\"ma'am\": \"madam\",\n",
        "\"mayn't\": \"may not\",\n",
        "\"might've\": \"might have\",\n",
        "\"mightn't\": \"might not\",\n",
        "\"mightn't've\": \"might not have\",\n",
        "\"must've\": \"must have\",\n",
        "\"mustn't\": \"must not\",\n",
        "\"mustn't've\": \"must not have\",\n",
        "\"needn't\": \"need not\",\n",
        "\"needn't've\": \"need not have\",\n",
        "\"o'clock\": \"of the clock\",\n",
        "\"oughtn't\": \"ought not\",\n",
        "\"oughtn't've\": \"ought not have\",\n",
        "\"shan't\": \"shall not\",\n",
        "\"sha'n't\": \"shall not\",\n",
        "\"shan't've\": \"shall not have\",\n",
        "\"she'd\": \"she had / she would\",\n",
        "\"she'd've\": \"she would have\",\n",
        "\"she'll\": \"she shall / she will\",\n",
        "\"she'll've\": \"she shall have / she will have\",\n",
        "\"she's\": \"she has / she is\",\n",
        "\"should've\": \"should have\",\n",
        "\"shouldn't\": \"should not\",\n",
        "\"shouldn't've\": \"should not have\",\n",
        "\"so've\": \"so have\",\n",
        "\"so's\": \"so as / so is\",\n",
        "\"that'd\": \"that would / that had\",\n",
        "\"that'd've\": \"that would have\",\n",
        "\"that's\": \"that has / that is\",\n",
        "\"there'd\": \"there had / there would\",\n",
        "\"there'd've\": \"there would have\",\n",
        "\"there's\": \"there has / there is\",\n",
        "\"they'd\": \"they had / they would\",\n",
        "\"they'd've\": \"they would have\",\n",
        "\"they'll\": \"they shall / they will\",\n",
        "\"they'll've\": \"they shall have / they will have\",\n",
        "\"they're\": \"they are\",\n",
        "\"they've\": \"they have\",\n",
        "\"to've\": \"to have\",\n",
        "\"wasn't\": \"was not\",\n",
        "\"we'd\": \"we had / we would\",\n",
        "\"we'd've\": \"we would have\",\n",
        "\"we'll\": \"we will\",\n",
        "\"we'll've\": \"we will have\",\n",
        "\"we're\": \"we are\",\n",
        "\"we've\": \"we have\",\n",
        "\"weren't\": \"were not\",\n",
        "\"what'll\": \"what shall / what will\",\n",
        "\"what'll've\": \"what shall have / what will have\",\n",
        "\"what're\": \"what are\",\n",
        "\"what's\": \"what has / what is\",\n",
        "\"what've\": \"what have\",\n",
        "\"when's\": \"when has / when is\",\n",
        "\"when've\": \"when have\",\n",
        "\"where'd\": \"where did\",\n",
        "\"where's\": \"where has / where is\",\n",
        "\"where've\": \"where have\",\n",
        "\"who'll\": \"who shall / who will\",\n",
        "\"who'll've\": \"who shall have / who will have\",\n",
        "\"who's\": \"who has / who is\",\n",
        "\"who've\": \"who have\",\n",
        "\"why's\": \"why has / why is\",\n",
        "\"why've\": \"why have\",\n",
        "\"will've\": \"will have\",\n",
        "\"won't\": \"will not\",\n",
        "\"won't've\": \"will not have\",\n",
        "\"would've\": \"would have\",\n",
        "\"wouldn't\": \"would not\",\n",
        "\"wouldn't've\": \"would not have\",\n",
        "\"y'all\": \"you all\",\n",
        "\"y'all'd\": \"you all would\",\n",
        "\"y'all'd've\": \"you all would have\",\n",
        "\"y'all're\": \"you all are\",\n",
        "\"y'all've\": \"you all have\",\n",
        "\"you'd\": \"you had / you would\",\n",
        "\"you'd've\": \"you would have\",\n",
        "\"you'll\": \"you shall / you will\",\n",
        "\"you'll've\": \"you shall have / you will have\",\n",
        "\"you're\": \"you are\",\n",
        "\"you've\": \"you have\"\n",
        "}"
      ],
      "execution_count": null,
      "outputs": []
    },
    {
      "cell_type": "code",
      "metadata": {
        "id": "OhFpI5lLMYQP",
        "colab_type": "code",
        "colab": {}
      },
      "source": [
        "# further Cleaning text and noise removal\n",
        "def clean_text(text, remove_stopwords=True):\n",
        "\n",
        "  # Convert words to lower case\n",
        "  #text = text.lower()\n",
        "  if True:\n",
        "    text = text.split()\n",
        "    new_text = []\n",
        "    for word in text:\n",
        "      if word in contractions:\n",
        "        new_text.append(contractions[word])\n",
        "      else:\n",
        "        new_text.append(word)\n",
        "      text = \" \".join(new_text)\n",
        "      text = re.sub(r'https?:\\/\\/.*[\\r\\n]*', '', text, flags=re.MULTILINE)\n",
        "      text = re.sub(r'\\<a href', ' ', text)\n",
        "      text = re.sub(r'&amp;', '', text)\n",
        "      text = re.sub(r'[_\"\\-;%()|+&=*%.,!?:#$@\\[\\]/]', ' ', text)\n",
        "      text = re.sub(r'<br />', ' ', text)\n",
        "      text = re.sub(r'\\'', ' ', text)\n",
        "      \n",
        "  return text\n"
      ],
      "execution_count": null,
      "outputs": []
    },
    {
      "cell_type": "code",
      "metadata": {
        "id": "Ge4MZvdnMxfy",
        "colab_type": "code",
        "colab": {
          "base_uri": "https://localhost:8080/",
          "height": 35
        },
        "outputId": "737476bf-9235-43b5-cd98-7c052968c663"
      },
      "source": [
        "# Clean the texts and check to remove stopwords again\n",
        "\n",
        "clean_Texts = []\n",
        "for Text in capstoneNLP_DF_prep.Desc:\n",
        "  clean_Texts.append(clean_text(str(Text), remove_stopwords=True))\n",
        "print(\"Texts are complete.\")\n"
      ],
      "execution_count": null,
      "outputs": [
        {
          "output_type": "stream",
          "text": [
            "Texts are complete.\n"
          ],
          "name": "stdout"
        }
      ]
    },
    {
      "cell_type": "code",
      "metadata": {
        "id": "L-uuQP8gMyht",
        "colab_type": "code",
        "colab": {
          "base_uri": "https://localhost:8080/",
          "height": 35
        },
        "outputId": "9e9cc7bd-a76c-4514-e56e-ec847c99fbbc"
      },
      "source": [
        "# check out the clean text\n",
        "print(clean_Texts[0])"
      ],
      "execution_count": null,
      "outputs": [
        {
          "output_type": "stream",
          "text": [
            "  login    issu    verifi    user    detail    employe    manag    name    check    user    name    ad    reset    password    advis    user    login    check    caller    confirm    abl    login    issu    resolv  \n"
          ],
          "name": "stdout"
        }
      ]
    },
    {
      "cell_type": "code",
      "metadata": {
        "id": "ufNmMtMcMymK",
        "colab_type": "code",
        "colab": {}
      },
      "source": [
        "groups1 = list()\n",
        "for i, grp in enumerate(capstoneNLP_DF_prep.Grps):\n",
        "  groups1.append({'Desc': clean_Texts[i], 'Grps': grp})\n"
      ],
      "execution_count": null,
      "outputs": []
    },
    {
      "cell_type": "code",
      "metadata": {
        "id": "ag0Scij6Pkb0",
        "colab_type": "code",
        "colab": {}
      },
      "source": [
        "groups2 = list()\n",
        "for i, tar in enumerate(capstoneNLP_DF_prep.Target):\n",
        "  groups2.append({'Desc': clean_Texts[i], 'Target': tar})\n"
      ],
      "execution_count": null,
      "outputs": []
    },
    {
      "cell_type": "code",
      "metadata": {
        "id": "c13zVVwdPjA8",
        "colab_type": "code",
        "colab": {}
      },
      "source": [
        "# save to file\n",
        "dump(groups1, open(project_path+'capstoneNLP_dataset.pkl', 'wb'))\n",
        "dump(groups2, open(project_path+'capstoneNLP_dataset2.pkl', 'wb'))"
      ],
      "execution_count": null,
      "outputs": []
    },
    {
      "cell_type": "markdown",
      "metadata": {
        "id": "dBXw6_SgN-d3",
        "colab_type": "text"
      },
      "source": [
        "######**Load again the saved clean text**"
      ]
    },
    {
      "cell_type": "code",
      "metadata": {
        "id": "AqKeIDZzNj7E",
        "colab_type": "code",
        "colab": {
          "base_uri": "https://localhost:8080/",
          "height": 35
        },
        "outputId": "3571b869-63e3-4cb2-a905-d598cf591c16"
      },
      "source": [
        "#Load groups1\n",
        "groups1 = load(open(project_path+'capstoneNLP_dataset.pkl', 'rb'))\n",
        "print('Loaded group1') # %d' % len(groups1))\n",
        "#print(type(groups1))"
      ],
      "execution_count": 5,
      "outputs": [
        {
          "output_type": "stream",
          "text": [
            "Loaded group1\n"
          ],
          "name": "stdout"
        }
      ]
    },
    {
      "cell_type": "code",
      "metadata": {
        "id": "G_iZkmLfR6aX",
        "colab_type": "code",
        "colab": {
          "base_uri": "https://localhost:8080/",
          "height": 35
        },
        "outputId": "f870fe75-0591-4b4c-db89-3c2e958e8ab8"
      },
      "source": [
        "#Load groups2\n",
        "groups2 = load(open(project_path+'capstoneNLP_dataset2.pkl', 'rb'))\n",
        "print('Loaded group2') #groups %d' % len(groups2))\n",
        "#print(type(groups2))"
      ],
      "execution_count": 6,
      "outputs": [
        {
          "output_type": "stream",
          "text": [
            "Loaded group2\n"
          ],
          "name": "stdout"
        }
      ]
    },
    {
      "cell_type": "code",
      "metadata": {
        "id": "xZqn--dvNjRa",
        "colab_type": "code",
        "colab": {}
      },
      "source": [
        "capstoneNLP_DF = pd.DataFrame(groups1)\n",
        "capstoneNLP_DF2 = pd.DataFrame(groups2)"
      ],
      "execution_count": 7,
      "outputs": []
    },
    {
      "cell_type": "code",
      "metadata": {
        "id": "fYiSabb5Mysj",
        "colab_type": "code",
        "colab": {
          "base_uri": "https://localhost:8080/",
          "height": 206
        },
        "outputId": "3857eadf-2d6f-4a5b-9065-161ff8031da3"
      },
      "source": [
        "# print out the header\n",
        "capstoneNLP_DF.tail()"
      ],
      "execution_count": 8,
      "outputs": [
        {
          "output_type": "execute_result",
          "data": {
            "text/html": [
              "<div>\n",
              "<style scoped>\n",
              "    .dataframe tbody tr th:only-of-type {\n",
              "        vertical-align: middle;\n",
              "    }\n",
              "\n",
              "    .dataframe tbody tr th {\n",
              "        vertical-align: top;\n",
              "    }\n",
              "\n",
              "    .dataframe thead th {\n",
              "        text-align: right;\n",
              "    }\n",
              "</style>\n",
              "<table border=\"1\" class=\"dataframe\">\n",
              "  <thead>\n",
              "    <tr style=\"text-align: right;\">\n",
              "      <th></th>\n",
              "      <th>Desc</th>\n",
              "      <th>Grps</th>\n",
              "    </tr>\n",
              "  </thead>\n",
              "  <tbody>\n",
              "    <tr>\n",
              "      <th>8486</th>\n",
              "      <td>email    come    zz    mail    receiv    avg...</td>\n",
              "      <td>GRP_29</td>\n",
              "    </tr>\n",
              "    <tr>\n",
              "      <th>8487</th>\n",
              "      <td>telephoni    softwar    issuetelephoni    so...</td>\n",
              "      <td>GRP_0</td>\n",
              "    </tr>\n",
              "    <tr>\n",
              "      <th>8488</th>\n",
              "      <td>vip2    window    password    reset    tifpd...</td>\n",
              "      <td>GRP_0</td>\n",
              "    </tr>\n",
              "    <tr>\n",
              "      <th>8489</th>\n",
              "      <td>machin    nã£o    estã¡    funcionandoi    u...</td>\n",
              "      <td>GRP_62</td>\n",
              "    </tr>\n",
              "    <tr>\n",
              "      <th>8490</th>\n",
              "      <td>mehreren    pc`s    lassen    sich    versch...</td>\n",
              "      <td>GRP_OTHERS</td>\n",
              "    </tr>\n",
              "  </tbody>\n",
              "</table>\n",
              "</div>"
            ],
            "text/plain": [
              "                                                   Desc        Grps\n",
              "8486    email    come    zz    mail    receiv    avg...      GRP_29\n",
              "8487    telephoni    softwar    issuetelephoni    so...       GRP_0\n",
              "8488    vip2    window    password    reset    tifpd...       GRP_0\n",
              "8489    machin    nã£o    estã¡    funcionandoi    u...      GRP_62\n",
              "8490    mehreren    pc`s    lassen    sich    versch...  GRP_OTHERS"
            ]
          },
          "metadata": {
            "tags": []
          },
          "execution_count": 8
        }
      ]
    },
    {
      "cell_type": "code",
      "metadata": {
        "id": "Fs0-JnoiJMnh",
        "colab_type": "code",
        "colab": {
          "base_uri": "https://localhost:8080/",
          "height": 206
        },
        "outputId": "3a3d2a62-a293-43b0-8178-17ab1fa9a88d"
      },
      "source": [
        "capstoneNLP_DF2.tail()"
      ],
      "execution_count": 9,
      "outputs": [
        {
          "output_type": "execute_result",
          "data": {
            "text/html": [
              "<div>\n",
              "<style scoped>\n",
              "    .dataframe tbody tr th:only-of-type {\n",
              "        vertical-align: middle;\n",
              "    }\n",
              "\n",
              "    .dataframe tbody tr th {\n",
              "        vertical-align: top;\n",
              "    }\n",
              "\n",
              "    .dataframe thead th {\n",
              "        text-align: right;\n",
              "    }\n",
              "</style>\n",
              "<table border=\"1\" class=\"dataframe\">\n",
              "  <thead>\n",
              "    <tr style=\"text-align: right;\">\n",
              "      <th></th>\n",
              "      <th>Desc</th>\n",
              "      <th>Target</th>\n",
              "    </tr>\n",
              "  </thead>\n",
              "  <tbody>\n",
              "    <tr>\n",
              "      <th>8486</th>\n",
              "      <td>email    come    zz    mail    receiv    avg...</td>\n",
              "      <td>22</td>\n",
              "    </tr>\n",
              "    <tr>\n",
              "      <th>8487</th>\n",
              "      <td>telephoni    softwar    issuetelephoni    so...</td>\n",
              "      <td>0</td>\n",
              "    </tr>\n",
              "    <tr>\n",
              "      <th>8488</th>\n",
              "      <td>vip2    window    password    reset    tifpd...</td>\n",
              "      <td>0</td>\n",
              "    </tr>\n",
              "    <tr>\n",
              "      <th>8489</th>\n",
              "      <td>machin    nã£o    estã¡    funcionandoi    u...</td>\n",
              "      <td>47</td>\n",
              "    </tr>\n",
              "    <tr>\n",
              "      <th>8490</th>\n",
              "      <td>mehreren    pc`s    lassen    sich    versch...</td>\n",
              "      <td>52</td>\n",
              "    </tr>\n",
              "  </tbody>\n",
              "</table>\n",
              "</div>"
            ],
            "text/plain": [
              "                                                   Desc  Target\n",
              "8486    email    come    zz    mail    receiv    avg...      22\n",
              "8487    telephoni    softwar    issuetelephoni    so...       0\n",
              "8488    vip2    window    password    reset    tifpd...       0\n",
              "8489    machin    nã£o    estã¡    funcionandoi    u...      47\n",
              "8490    mehreren    pc`s    lassen    sich    versch...      52"
            ]
          },
          "metadata": {
            "tags": []
          },
          "execution_count": 9
        }
      ]
    },
    {
      "cell_type": "code",
      "metadata": {
        "id": "vYqxU8U-XVjV",
        "colab_type": "code",
        "colab": {}
      },
      "source": [
        "# Merge both datasets\n",
        "capstoneNLP_DF_prep = pd.merge(capstoneNLP_DF,\n",
        "                           capstoneNLP_DF2,\n",
        "                           on='Desc', \n",
        "                           how='left') "
      ],
      "execution_count": 10,
      "outputs": []
    },
    {
      "cell_type": "code",
      "metadata": {
        "id": "eGn35k_eTYBW",
        "colab_type": "code",
        "colab": {
          "base_uri": "https://localhost:8080/",
          "height": 424
        },
        "outputId": "bbd809ab-363b-4b27-fa6f-0ec2324f4ab9"
      },
      "source": [
        "# drop duplicates, and reset index\n",
        "capstoneNLP_DF_prep.drop_duplicates(subset=\"Desc\", inplace=True)\n",
        "capstoneNLP_DF_prep.reset_index(drop=True, inplace=True)\n",
        "capstoneNLP_DF_prep"
      ],
      "execution_count": 11,
      "outputs": [
        {
          "output_type": "execute_result",
          "data": {
            "text/html": [
              "<div>\n",
              "<style scoped>\n",
              "    .dataframe tbody tr th:only-of-type {\n",
              "        vertical-align: middle;\n",
              "    }\n",
              "\n",
              "    .dataframe tbody tr th {\n",
              "        vertical-align: top;\n",
              "    }\n",
              "\n",
              "    .dataframe thead th {\n",
              "        text-align: right;\n",
              "    }\n",
              "</style>\n",
              "<table border=\"1\" class=\"dataframe\">\n",
              "  <thead>\n",
              "    <tr style=\"text-align: right;\">\n",
              "      <th></th>\n",
              "      <th>Desc</th>\n",
              "      <th>Grps</th>\n",
              "      <th>Target</th>\n",
              "    </tr>\n",
              "  </thead>\n",
              "  <tbody>\n",
              "    <tr>\n",
              "      <th>0</th>\n",
              "      <td>login    issu    verifi    user    detail   ...</td>\n",
              "      <td>GRP_0</td>\n",
              "      <td>0</td>\n",
              "    </tr>\n",
              "    <tr>\n",
              "      <th>1</th>\n",
              "      <td>outlook    receiv    hmjdrvpb    komuaywn   ...</td>\n",
              "      <td>GRP_0</td>\n",
              "      <td>0</td>\n",
              "    </tr>\n",
              "    <tr>\n",
              "      <th>2</th>\n",
              "      <td>cant    log    vpn    receiv    eylqgodm    ...</td>\n",
              "      <td>GRP_0</td>\n",
              "      <td>0</td>\n",
              "    </tr>\n",
              "    <tr>\n",
              "      <th>3</th>\n",
              "      <td>unabl    access    hr    tool    pageun    a...</td>\n",
              "      <td>GRP_0</td>\n",
              "      <td>0</td>\n",
              "    </tr>\n",
              "    <tr>\n",
              "      <th>4</th>\n",
              "      <td>skype    error    skype    error</td>\n",
              "      <td>GRP_0</td>\n",
              "      <td>0</td>\n",
              "    </tr>\n",
              "    <tr>\n",
              "      <th>...</th>\n",
              "      <td>...</td>\n",
              "      <td>...</td>\n",
              "      <td>...</td>\n",
              "    </tr>\n",
              "    <tr>\n",
              "      <th>7773</th>\n",
              "      <td>email    come    zz    mail    receiv    avg...</td>\n",
              "      <td>GRP_29</td>\n",
              "      <td>22</td>\n",
              "    </tr>\n",
              "    <tr>\n",
              "      <th>7774</th>\n",
              "      <td>telephoni    softwar    issuetelephoni    so...</td>\n",
              "      <td>GRP_0</td>\n",
              "      <td>0</td>\n",
              "    </tr>\n",
              "    <tr>\n",
              "      <th>7775</th>\n",
              "      <td>vip2    window    password    reset    tifpd...</td>\n",
              "      <td>GRP_0</td>\n",
              "      <td>0</td>\n",
              "    </tr>\n",
              "    <tr>\n",
              "      <th>7776</th>\n",
              "      <td>machin    nã£o    estã¡    funcionandoi    u...</td>\n",
              "      <td>GRP_62</td>\n",
              "      <td>47</td>\n",
              "    </tr>\n",
              "    <tr>\n",
              "      <th>7777</th>\n",
              "      <td>mehreren    pc`s    lassen    sich    versch...</td>\n",
              "      <td>GRP_OTHERS</td>\n",
              "      <td>52</td>\n",
              "    </tr>\n",
              "  </tbody>\n",
              "</table>\n",
              "<p>7778 rows × 3 columns</p>\n",
              "</div>"
            ],
            "text/plain": [
              "                                                   Desc        Grps  Target\n",
              "0       login    issu    verifi    user    detail   ...       GRP_0       0\n",
              "1       outlook    receiv    hmjdrvpb    komuaywn   ...       GRP_0       0\n",
              "2       cant    log    vpn    receiv    eylqgodm    ...       GRP_0       0\n",
              "3       unabl    access    hr    tool    pageun    a...       GRP_0       0\n",
              "4                    skype    error    skype    error         GRP_0       0\n",
              "...                                                 ...         ...     ...\n",
              "7773    email    come    zz    mail    receiv    avg...      GRP_29      22\n",
              "7774    telephoni    softwar    issuetelephoni    so...       GRP_0       0\n",
              "7775    vip2    window    password    reset    tifpd...       GRP_0       0\n",
              "7776    machin    nã£o    estã¡    funcionandoi    u...      GRP_62      47\n",
              "7777    mehreren    pc`s    lassen    sich    versch...  GRP_OTHERS      52\n",
              "\n",
              "[7778 rows x 3 columns]"
            ]
          },
          "metadata": {
            "tags": []
          },
          "execution_count": 11
        }
      ]
    },
    {
      "cell_type": "code",
      "metadata": {
        "id": "Zn1RUrCgTYIy",
        "colab_type": "code",
        "colab": {
          "base_uri": "https://localhost:8080/",
          "height": 206
        },
        "outputId": "7d623d62-b7ab-4f5b-d769-3e988f87c327"
      },
      "source": [
        "# Length of each description\n",
        "capstoneNLP_DF_prep['length'] = capstoneNLP_DF_prep['Desc'].apply(lambda x: len(x.split(\" \")))\n",
        "capstoneNLP_DF_prep.head()"
      ],
      "execution_count": 12,
      "outputs": [
        {
          "output_type": "execute_result",
          "data": {
            "text/html": [
              "<div>\n",
              "<style scoped>\n",
              "    .dataframe tbody tr th:only-of-type {\n",
              "        vertical-align: middle;\n",
              "    }\n",
              "\n",
              "    .dataframe tbody tr th {\n",
              "        vertical-align: top;\n",
              "    }\n",
              "\n",
              "    .dataframe thead th {\n",
              "        text-align: right;\n",
              "    }\n",
              "</style>\n",
              "<table border=\"1\" class=\"dataframe\">\n",
              "  <thead>\n",
              "    <tr style=\"text-align: right;\">\n",
              "      <th></th>\n",
              "      <th>Desc</th>\n",
              "      <th>Grps</th>\n",
              "      <th>Target</th>\n",
              "      <th>length</th>\n",
              "    </tr>\n",
              "  </thead>\n",
              "  <tbody>\n",
              "    <tr>\n",
              "      <th>0</th>\n",
              "      <td>login    issu    verifi    user    detail   ...</td>\n",
              "      <td>GRP_0</td>\n",
              "      <td>0</td>\n",
              "      <td>97</td>\n",
              "    </tr>\n",
              "    <tr>\n",
              "      <th>1</th>\n",
              "      <td>outlook    receiv    hmjdrvpb    komuaywn   ...</td>\n",
              "      <td>GRP_0</td>\n",
              "      <td>0</td>\n",
              "      <td>81</td>\n",
              "    </tr>\n",
              "    <tr>\n",
              "      <th>2</th>\n",
              "      <td>cant    log    vpn    receiv    eylqgodm    ...</td>\n",
              "      <td>GRP_0</td>\n",
              "      <td>0</td>\n",
              "      <td>53</td>\n",
              "    </tr>\n",
              "    <tr>\n",
              "      <th>3</th>\n",
              "      <td>unabl    access    hr    tool    pageun    a...</td>\n",
              "      <td>GRP_0</td>\n",
              "      <td>0</td>\n",
              "      <td>37</td>\n",
              "    </tr>\n",
              "    <tr>\n",
              "      <th>4</th>\n",
              "      <td>skype    error    skype    error</td>\n",
              "      <td>GRP_0</td>\n",
              "      <td>0</td>\n",
              "      <td>17</td>\n",
              "    </tr>\n",
              "  </tbody>\n",
              "</table>\n",
              "</div>"
            ],
            "text/plain": [
              "                                                Desc   Grps  Target  length\n",
              "0    login    issu    verifi    user    detail   ...  GRP_0       0      97\n",
              "1    outlook    receiv    hmjdrvpb    komuaywn   ...  GRP_0       0      81\n",
              "2    cant    log    vpn    receiv    eylqgodm    ...  GRP_0       0      53\n",
              "3    unabl    access    hr    tool    pageun    a...  GRP_0       0      37\n",
              "4                 skype    error    skype    error    GRP_0       0      17"
            ]
          },
          "metadata": {
            "tags": []
          },
          "execution_count": 12
        }
      ]
    },
    {
      "cell_type": "code",
      "metadata": {
        "id": "gXSkQWN4Fq74",
        "colab_type": "code",
        "colab": {
          "base_uri": "https://localhost:8080/",
          "height": 35
        },
        "outputId": "130a3bbe-d51f-4be9-d339-7fb636835084"
      },
      "source": [
        "capstoneNLP_DF_prep[\"length\"].mean()"
      ],
      "execution_count": 13,
      "outputs": [
        {
          "output_type": "execute_result",
          "data": {
            "text/plain": [
              "122.83710465415274"
            ]
          },
          "metadata": {
            "tags": []
          },
          "execution_count": 13
        }
      ]
    },
    {
      "cell_type": "markdown",
      "metadata": {
        "id": "aqhHrO3uFsEh",
        "colab_type": "text"
      },
      "source": [
        "###**4. Adjusting the length of sentences(the maxlen hyper-parameter), keeping it low**"
      ]
    },
    {
      "cell_type": "code",
      "metadata": {
        "id": "WgZKiIiOqScz",
        "colab_type": "code",
        "colab": {}
      },
      "source": [
        "max_features = 7000\n",
        "maxlen = 30 # used the length mean (122) but the model was so poor, we have tried 53, 45 and now 30: the model is better able to work with \n",
        "            # descriptions that are shorter.\n",
        "embedding_size = 200"
      ],
      "execution_count": 14,
      "outputs": []
    },
    {
      "cell_type": "code",
      "metadata": {
        "id": "1Ya03fBODL1n",
        "colab_type": "code",
        "colab": {
          "base_uri": "https://localhost:8080/",
          "height": 90
        },
        "outputId": "1978a796-bdd9-41ce-bcfb-91fe1a6c594a"
      },
      "source": [
        "#Apply Tokenizer and get indices for words\n",
        "tokenizer = Tokenizer(num_words=max_features)\n",
        "tokenizer.fit_on_texts(list(capstoneNLP_DF_prep['Desc']))\n",
        "X = tokenizer.texts_to_sequences(capstoneNLP_DF_prep['Desc'])\n",
        "print(\"Number of Samples:\", len(X))\n",
        "print(X[0])\n",
        "X = pad_sequences(X, maxlen = maxlen)\n",
        "y = np.asarray(capstoneNLP_DF_prep['Target'])\n",
        "print(\"Number of Labels: \", len(y))\n",
        "print(y[0])"
      ],
      "execution_count": 15,
      "outputs": [
        {
          "output_type": "stream",
          "text": [
            "Number of Samples: 7778\n",
            "[46, 20, 230, 18, 169, 220, 48, 54, 82, 18, 54, 251, 23, 12, 300, 18, 46, 82, 608, 244, 79, 46, 20, 207]\n",
            "Number of Labels:  7778\n",
            "0\n"
          ],
          "name": "stdout"
        }
      ]
    },
    {
      "cell_type": "code",
      "metadata": {
        "id": "UGNhQKpgF2QC",
        "colab_type": "code",
        "colab": {
          "base_uri": "https://localhost:8080/",
          "height": 35
        },
        "outputId": "a273b608-a3a3-4451-ca62-2ec7c741a12f"
      },
      "source": [
        "#Vocabulary size\n",
        "num_words = len(tokenizer.word_index) + 1\n",
        "vocab_size = num_words\n",
        "print(num_words)"
      ],
      "execution_count": 16,
      "outputs": [
        {
          "output_type": "stream",
          "text": [
            "23676\n"
          ],
          "name": "stdout"
        }
      ]
    },
    {
      "cell_type": "code",
      "metadata": {
        "id": "qSdXgNBgF2Yt",
        "colab_type": "code",
        "colab": {}
      },
      "source": [
        "#Get Glove Word Embeddings\n",
        "EMBEDDING_FILE = project_path+'glove.6B.200d.txt'\n",
        "\n",
        "embeddings = {}\n",
        "for o in open(EMBEDDING_FILE):\n",
        "    word = o.split(\" \")[0]\n",
        "    # print(word)\n",
        "    embd = o.split(\" \")[1:]\n",
        "    embd = np.asarray(embd, dtype='float32')\n",
        "    # print(embd)\n",
        "    embeddings[word] = embd\n",
        "\n",
        "# create a weight matrix for words in training docs\n",
        "embedding_matrix = np.zeros((num_words, 200))\n",
        "\n",
        "for word, i in tokenizer.word_index.items():\n",
        "\tembedding_vector = embeddings.get(word)\n",
        "\tif embedding_vector is not None:\n",
        "\t\tembedding_matrix[i] = embedding_vector"
      ],
      "execution_count": 17,
      "outputs": []
    },
    {
      "cell_type": "code",
      "metadata": {
        "id": "5Sbj7l9tF2cE",
        "colab_type": "code",
        "colab": {
          "base_uri": "https://localhost:8080/",
          "height": 35
        },
        "outputId": "e8da6d0e-2863-4ade-9d7f-42172267bf9f"
      },
      "source": [
        "len(embeddings.values())"
      ],
      "execution_count": 18,
      "outputs": [
        {
          "output_type": "execute_result",
          "data": {
            "text/plain": [
              "400000"
            ]
          },
          "metadata": {
            "tags": []
          },
          "execution_count": 18
        }
      ]
    },
    {
      "cell_type": "markdown",
      "metadata": {
        "id": "9ghEWf-tF_xd",
        "colab_type": "text"
      },
      "source": [
        "###**5. Taking care of the imbalance in the classes with RandomOverSampling**\n",
        "We found that undersampling gave us a model with accuracy in the fifties but oversampling gave over 90%. (I believe that in this case, not reducing the actual sample numbers in the classes with lots of samples gave the model the much needed strength. Just to be clearer, using SMOTE gave us about 70%, while RandomOverSampling did the magic by landing us in the Nineties region in model performance (because we have more trainable parameter).\n",
        "\n",
        "Just to explain why i prefered to filter 1 - 6 sampled Groups out, because the algorithm here has a parameter k_neighbors that is by default 5 (so any Group with samples less than 6 will hamper this algorithm except we manually adjust this parameter and that will compromise it's efficiency)"
      ]
    },
    {
      "cell_type": "code",
      "metadata": {
        "id": "bKE0kln3sB5y",
        "colab_type": "code",
        "colab": {}
      },
      "source": [
        "from imblearn.over_sampling import SMOTE\n",
        "from imblearn.under_sampling import RandomUnderSampler\n",
        "from imblearn.over_sampling import RandomOverSampler"
      ],
      "execution_count": 19,
      "outputs": []
    },
    {
      "cell_type": "code",
      "metadata": {
        "id": "uNKMVEYoF2iv",
        "colab_type": "code",
        "colab": {
          "base_uri": "https://localhost:8080/",
          "height": 74
        },
        "outputId": "3b7eaf46-a90f-4eb3-fd00-1c22ac660fba"
      },
      "source": [
        "# Dealing with imbalance in the classes\n",
        "\n",
        "#smote = SMOTE(ratio='minority', random_state=0)\n",
        "ros = RandomOverSampler(sampling_strategy='auto',random_state=0)\n",
        "X_sm, y_sm = ros.fit_sample(X, y)\n",
        "#rus = RandomUnderSampler(ratio='majority', random_state=0)\n",
        "#X_sm, y_sm = rus.fit_sample(X, y)"
      ],
      "execution_count": 20,
      "outputs": [
        {
          "output_type": "stream",
          "text": [
            "/usr/local/lib/python3.6/dist-packages/sklearn/utils/deprecation.py:87: FutureWarning: Function safe_indexing is deprecated; safe_indexing is deprecated in version 0.22 and will be removed in version 0.24.\n",
            "  warnings.warn(msg, category=FutureWarning)\n"
          ],
          "name": "stderr"
        }
      ]
    },
    {
      "cell_type": "code",
      "metadata": {
        "id": "YV7UHPGAF2gz",
        "colab_type": "code",
        "colab": {
          "base_uri": "https://localhost:8080/",
          "height": 35
        },
        "outputId": "f00a805d-203f-4973-d61d-f717d78dd4f6"
      },
      "source": [
        "zX = np.array(X_sm)\n",
        "print(zX.shape)"
      ],
      "execution_count": 21,
      "outputs": [
        {
          "output_type": "stream",
          "text": [
            "(176437, 30)\n"
          ],
          "name": "stdout"
        }
      ]
    },
    {
      "cell_type": "code",
      "metadata": {
        "id": "lBLj3PbyIN-9",
        "colab_type": "code",
        "colab": {
          "base_uri": "https://localhost:8080/",
          "height": 35
        },
        "outputId": "e2082419-1f39-4074-8202-8c3d168cd2b0"
      },
      "source": [
        "zy = np.array(y_sm)\n",
        "print(zy.shape)"
      ],
      "execution_count": 22,
      "outputs": [
        {
          "output_type": "stream",
          "text": [
            "(176437,)\n"
          ],
          "name": "stdout"
        }
      ]
    },
    {
      "cell_type": "code",
      "metadata": {
        "id": "Jo1bAKRAKP7G",
        "colab_type": "code",
        "colab": {}
      },
      "source": [
        "# onehot encoding the label\n",
        "num_classes = 53\n",
        "y_sm = to_categorical(y_sm, num_classes)"
      ],
      "execution_count": 23,
      "outputs": []
    },
    {
      "cell_type": "code",
      "metadata": {
        "id": "5hWBRypUIoMd",
        "colab_type": "code",
        "colab": {}
      },
      "source": [
        "# Split dataset\n",
        "X_train, X_test, y_train, y_test = train_test_split(X_sm, y_sm, test_size=0.20, random_state=42)"
      ],
      "execution_count": 24,
      "outputs": []
    },
    {
      "cell_type": "markdown",
      "metadata": {
        "id": "ih5xb827Huak",
        "colab_type": "text"
      },
      "source": [
        "###**6. Adding Early Stoping callback parameter gave the best number of iterations**"
      ]
    },
    {
      "cell_type": "code",
      "metadata": {
        "id": "K7zo6ufGAEEi",
        "colab_type": "code",
        "colab": {}
      },
      "source": [
        "#Initializing Early stopping and Model chekpoint callbacks \n",
        "#if the val_loss is not going to change even '0.001' for more than 10 continous epochs\n",
        "\n",
        "early_stopping = EarlyStopping(monitor='val_loss', min_delta=0.001, patience=10)"
      ],
      "execution_count": 25,
      "outputs": []
    },
    {
      "cell_type": "markdown",
      "metadata": {
        "id": "jAuVvBG8YDdw",
        "colab_type": "text"
      },
      "source": [
        "###**7. Adding dropout to make the model a bit more complex**\n",
        "\n",
        "Binary_crossentropy loss was chosen because here we are not dealing with a multi-class classification problem ( i.e. at each iteration or ephoch we do not expect each sample to be classified into more than one class )"
      ]
    },
    {
      "cell_type": "code",
      "metadata": {
        "id": "AifRvo0oIoRl",
        "colab_type": "code",
        "colab": {
          "base_uri": "https://localhost:8080/",
          "height": 329
        },
        "outputId": "bc918727-39d3-47d1-eaac-80a8bd61dcef"
      },
      "source": [
        "#model building\n",
        "\n",
        "deep_inputs = Input(shape=(maxlen,))\n",
        "embedding_layer = Embedding(vocab_size, embedding_size, weights=[embedding_matrix], trainable=False)(deep_inputs)\n",
        "LSTM_Layer_1 = LSTM(128, dropout=0.2)(embedding_layer)\n",
        "dense_layer_1 = Dense(num_classes, activation='sigmoid')(LSTM_Layer_1)\n",
        "model = Model(inputs=deep_inputs, outputs=dense_layer_1)\n",
        "\n",
        "model.compile(loss='binary_crossentropy', optimizer='adam', metrics=['acc'])\n",
        "\n",
        "epochs = 100\n",
        "\n",
        "\n",
        "# Let's print the model summary:\n",
        "print(model.summary())"
      ],
      "execution_count": 26,
      "outputs": [
        {
          "output_type": "stream",
          "text": [
            "Model: \"functional_1\"\n",
            "_________________________________________________________________\n",
            "Layer (type)                 Output Shape              Param #   \n",
            "=================================================================\n",
            "input_1 (InputLayer)         [(None, 30)]              0         \n",
            "_________________________________________________________________\n",
            "embedding (Embedding)        (None, 30, 200)           4735200   \n",
            "_________________________________________________________________\n",
            "lstm (LSTM)                  (None, 128)               168448    \n",
            "_________________________________________________________________\n",
            "dense (Dense)                (None, 53)                6837      \n",
            "=================================================================\n",
            "Total params: 4,910,485\n",
            "Trainable params: 175,285\n",
            "Non-trainable params: 4,735,200\n",
            "_________________________________________________________________\n",
            "None\n"
          ],
          "name": "stdout"
        }
      ]
    },
    {
      "cell_type": "code",
      "metadata": {
        "id": "xfYRTvnlIoWB",
        "colab_type": "code",
        "colab": {
          "base_uri": "https://localhost:8080/",
          "height": 422
        },
        "outputId": "ca9a4d71-28a2-4c4e-beb3-2488e0a85e1e"
      },
      "source": [
        "# The following script prints the architecture of our neural network:\n",
        "from tensorflow.keras.utils import plot_model\n",
        "plot_model(model, to_file='model_plot4a.png', show_shapes=True, show_layer_names=True)"
      ],
      "execution_count": 27,
      "outputs": [
        {
          "output_type": "execute_result",
          "data": {
            "image/png": "[encoded data removed]",
            "text/plain": [
              "<IPython.core.display.Image object>"
            ]
          },
          "metadata": {
            "tags": []
          },
          "execution_count": 27
        }
      ]
    },
    {
      "cell_type": "markdown",
      "metadata": {
        "id": "IMR8GPsoXnQD",
        "colab_type": "text"
      },
      "source": [
        "###**8. Increasing the ephochs hyper-parameter with a batch size of 64**"
      ]
    },
    {
      "cell_type": "code",
      "metadata": {
        "id": "hQeVBMGKIobd",
        "colab_type": "code",
        "colab": {
          "base_uri": "https://localhost:8080/",
          "height": 935
        },
        "outputId": "78575538-d141-4a79-8ac2-a3bba5c53eb3"
      },
      "source": [
        "# From the figure above, you can see that the output layer only contains 1 dense layer with 53 neurons. Let's now train our model:\n",
        "\n",
        "history = model.fit(X_train, y_train, batch_size=64, epochs=epochs, verbose=1, callbacks=early_stopping, validation_split=0.2)"
      ],
      "execution_count": 28,
      "outputs": [
        {
          "output_type": "stream",
          "text": [
            "Epoch 1/100\n",
            "1765/1765 [==============================] - 11s 6ms/step - loss: 0.0764 - acc: 0.2859 - val_loss: 0.0503 - val_acc: 0.5424\n",
            "Epoch 2/100\n",
            "1765/1765 [==============================] - 10s 6ms/step - loss: 0.0354 - acc: 0.7048 - val_loss: 0.0214 - val_acc: 0.8310\n",
            "Epoch 3/100\n",
            "1765/1765 [==============================] - 10s 6ms/step - loss: 0.0177 - acc: 0.8618 - val_loss: 0.0121 - val_acc: 0.9005\n",
            "Epoch 4/100\n",
            "1765/1765 [==============================] - 10s 6ms/step - loss: 0.0114 - acc: 0.9109 - val_loss: 0.0082 - val_acc: 0.9317\n",
            "Epoch 5/100\n",
            "1765/1765 [==============================] - 10s 6ms/step - loss: 0.0085 - acc: 0.9318 - val_loss: 0.0066 - val_acc: 0.9412\n",
            "Epoch 6/100\n",
            "1765/1765 [==============================] - 10s 6ms/step - loss: 0.0070 - acc: 0.9426 - val_loss: 0.0055 - val_acc: 0.9480\n",
            "Epoch 7/100\n",
            "1765/1765 [==============================] - 10s 6ms/step - loss: 0.0059 - acc: 0.9498 - val_loss: 0.0048 - val_acc: 0.9543\n",
            "Epoch 8/100\n",
            "1765/1765 [==============================] - 11s 6ms/step - loss: 0.0053 - acc: 0.9544 - val_loss: 0.0045 - val_acc: 0.9570\n",
            "Epoch 9/100\n",
            "1765/1765 [==============================] - 10s 6ms/step - loss: 0.0048 - acc: 0.9575 - val_loss: 0.0041 - val_acc: 0.9605\n",
            "Epoch 10/100\n",
            "1765/1765 [==============================] - 10s 6ms/step - loss: 0.0045 - acc: 0.9603 - val_loss: 0.0040 - val_acc: 0.9607\n",
            "Epoch 11/100\n",
            "1765/1765 [==============================] - 10s 6ms/step - loss: 0.0042 - acc: 0.9623 - val_loss: 0.0037 - val_acc: 0.9622\n",
            "Epoch 12/100\n",
            "1765/1765 [==============================] - 10s 6ms/step - loss: 0.0039 - acc: 0.9638 - val_loss: 0.0036 - val_acc: 0.9644\n",
            "Epoch 13/100\n",
            "1765/1765 [==============================] - 10s 6ms/step - loss: 0.0037 - acc: 0.9650 - val_loss: 0.0037 - val_acc: 0.9635\n",
            "Epoch 14/100\n",
            "1765/1765 [==============================] - 10s 6ms/step - loss: 0.0036 - acc: 0.9664 - val_loss: 0.0035 - val_acc: 0.9651\n",
            "Epoch 15/100\n",
            "1765/1765 [==============================] - 10s 6ms/step - loss: 0.0034 - acc: 0.9668 - val_loss: 0.0034 - val_acc: 0.9647\n",
            "Epoch 16/100\n",
            "1765/1765 [==============================] - 10s 6ms/step - loss: 0.0033 - acc: 0.9679 - val_loss: 0.0034 - val_acc: 0.9652\n",
            "Epoch 17/100\n",
            "1765/1765 [==============================] - 10s 6ms/step - loss: 0.0032 - acc: 0.9691 - val_loss: 0.0033 - val_acc: 0.9639\n",
            "Epoch 18/100\n",
            "1765/1765 [==============================] - 10s 6ms/step - loss: 0.0032 - acc: 0.9689 - val_loss: 0.0034 - val_acc: 0.9661\n",
            "Epoch 19/100\n",
            "1765/1765 [==============================] - 10s 6ms/step - loss: 0.0030 - acc: 0.9704 - val_loss: 0.0033 - val_acc: 0.9655\n",
            "Epoch 20/100\n",
            "1765/1765 [==============================] - 10s 6ms/step - loss: 0.0030 - acc: 0.9703 - val_loss: 0.0031 - val_acc: 0.9673\n",
            "Epoch 21/100\n",
            "1765/1765 [==============================] - 10s 6ms/step - loss: 0.0030 - acc: 0.9698 - val_loss: 0.0032 - val_acc: 0.9674\n",
            "Epoch 22/100\n",
            "1765/1765 [==============================] - 10s 6ms/step - loss: 0.0029 - acc: 0.9705 - val_loss: 0.0032 - val_acc: 0.9673\n",
            "Epoch 23/100\n",
            "1765/1765 [==============================] - 10s 6ms/step - loss: 0.0028 - acc: 0.9711 - val_loss: 0.0032 - val_acc: 0.9673\n",
            "Epoch 24/100\n",
            "1765/1765 [==============================] - 10s 6ms/step - loss: 0.0027 - acc: 0.9711 - val_loss: 0.0031 - val_acc: 0.9686\n",
            "Epoch 25/100\n",
            "1765/1765 [==============================] - 10s 6ms/step - loss: 0.0028 - acc: 0.9711 - val_loss: 0.0031 - val_acc: 0.9680\n"
          ],
          "name": "stdout"
        }
      ]
    },
    {
      "cell_type": "markdown",
      "metadata": {
        "id": "JuZ7DN8rbZvF",
        "colab_type": "text"
      },
      "source": [
        "###**Summary:**\n",
        "######**The steps taken to improve the model are itemized below**\n",
        "\n",
        "1. Tensorflow version 2.0.0 is installed, and because keras will not work with this out of the box, we have to use tensorflow keras libraries\n",
        "\n",
        "2. We reduced our classes by filtering out to what we call 'GRP_Others' those classes with very few samples (this is the help us when we are taking care of class imbalance)\n",
        "\n",
        "\n",
        "3. Performing text pre-processing (by text lowering, noise/stopwards removal and normalization by stemming)\n",
        "\n",
        "\n",
        "4. Adjusting the length of sentences(the maxlen hyper-parameter), keeping it low\n",
        "\n",
        "\n",
        "5. Taking care of the imbalance in the classes with RandomOverSampling\n",
        "\n",
        "   We found that undersampling gave us a model with accuracy in the fifties but oversampling gave over 90%. ( I believe that in this case not reducing the actual sample numbers in the classes with lots of samples gave the model the much needed strength. Just to be clearer, using SMOTE gave us about 70%, while RandomOverSampling did the magic by landing us in the nineties region in model performance(because we have more trainable parameter).\n",
        "\n",
        "\n",
        "6. Adding Early Stoping callback parameter gave the best number of iterations\n",
        "\n",
        "\n",
        "7. Adding dropout to make the model a bit more complex\n",
        "\n",
        "\n",
        "8. Increasing the ephochs hyper-parameter with a batch size of 64"
      ]
    },
    {
      "cell_type": "code",
      "metadata": {
        "id": "sYUiyibVqSkQ",
        "colab_type": "code",
        "colab": {}
      },
      "source": [
        ""
      ],
      "execution_count": null,
      "outputs": []
    },
    {
      "cell_type": "code",
      "metadata": {
        "id": "OazZPDPAFpKL",
        "colab_type": "code",
        "colab": {}
      },
      "source": [
        ""
      ],
      "execution_count": null,
      "outputs": []
    },
    {
      "cell_type": "markdown",
      "metadata": {
        "colab_type": "text",
        "id": "XabOrhYgMyhC"
      },
      "source": [
        "##**( 2 ) Interpretation and Recommendations**\n",
        "\n",
        "###**a. Provide interpretations from the model and report the final model evaluation metrics**\n",
        "\n",
        "\n"
      ]
    },
    {
      "cell_type": "markdown",
      "metadata": {
        "id": "-jk6tHnWfp_X",
        "colab_type": "text"
      },
      "source": [
        "######**Model Evaluation and Plots**"
      ]
    },
    {
      "cell_type": "code",
      "metadata": {
        "colab_type": "code",
        "id": "TdKv79axaQCR",
        "colab": {
          "base_uri": "https://localhost:8080/",
          "height": 72
        },
        "outputId": "707b1cd5-a1fb-4aeb-d074-5a1ed5af2c04"
      },
      "source": [
        "# Let's now evaluate our model on the test set:\n",
        "\n",
        "score = model.evaluate(X_test, y_test, verbose=1)\n",
        "\n",
        "print(\"Test Score:\", score[0])\n",
        "print(\"Test Accuracy:\", score[1])"
      ],
      "execution_count": 29,
      "outputs": [
        {
          "output_type": "stream",
          "text": [
            "1103/1103 [==============================] - 3s 3ms/step - loss: 0.0028 - acc: 0.9705\n",
            "Test Score: 0.00283292168751359\n",
            "Test Accuracy: 0.9704715609550476\n"
          ],
          "name": "stdout"
        }
      ]
    },
    {
      "cell_type": "markdown",
      "metadata": {
        "colab_type": "text",
        "id": "O_ey2cBSa0GO"
      },
      "source": [
        "Our model achieves an accuracy of about 97% which is pretty impressive"
      ]
    },
    {
      "cell_type": "code",
      "metadata": {
        "colab_type": "code",
        "id": "7FNODYaOa8us",
        "colab": {
          "base_uri": "https://localhost:8080/",
          "height": 573
        },
        "outputId": "677579ad-8889-436b-bf49-39ddc7840ab4"
      },
      "source": [
        "# Finally, we will plot the loss and accuracy values for training and test sets to see what happened to our model\n",
        "\n",
        "import matplotlib.pyplot as plt\n",
        "\n",
        "plt.plot(history.history['acc'])\n",
        "plt.plot(history.history['val_acc'])\n",
        "\n",
        "plt.title('model accuracy')\n",
        "plt.ylabel('accuracy')\n",
        "plt.xlabel('epoch')\n",
        "plt.legend(['train','test'], loc='upper left')\n",
        "plt.show()\n",
        "\n",
        "plt.plot(history.history['loss'])\n",
        "plt.plot(history.history['val_loss'])\n",
        "\n",
        "plt.title('model loss')\n",
        "plt.ylabel('loss')\n",
        "plt.xlabel('epoch')\n",
        "plt.legend(['train','test'], loc='upper left')\n",
        "plt.show()"
      ],
      "execution_count": 30,
      "outputs": [
        {
          "output_type": "display_data",
          "data": {
            "image/png": "[encoded data removed]",
            "text/plain": [
              "<Figure size 432x288 with 1 Axes>"
            ]
          },
          "metadata": {
            "tags": [],
            "needs_background": "light"
          }
        },
        {
          "output_type": "display_data",
          "data": {
            "image/png": "[encoded data removed]",
            "text/plain": [
              "<Figure size 432x288 with 1 Axes>"
            ]
          },
          "metadata": {
            "tags": [],
            "needs_background": "light"
          }
        }
      ]
    },
    {
      "cell_type": "markdown",
      "metadata": {
        "colab_type": "text",
        "id": "1c9eDJXbh6bB"
      },
      "source": [
        "######**Observation**\n",
        "\n",
        "As can be seen the model is not overfitting on the validation set. Therefore, the model should performance well on unseen data, it is a good fit"
      ]
    },
    {
      "cell_type": "markdown",
      "metadata": {
        "colab_type": "text",
        "id": "0Bblroe2N9bS"
      },
      "source": [
        "######**Predict and reporting**"
      ]
    },
    {
      "cell_type": "code",
      "metadata": {
        "colab_type": "code",
        "id": "JgN0KX-idbdl",
        "colab": {
          "base_uri": "https://localhost:8080/",
          "height": 1000
        },
        "outputId": "f0eecf79-f905-4c82-9f4d-ec6e054a4c45"
      },
      "source": [
        "from sklearn.metrics import classification_report,confusion_matrix\n",
        "\n",
        "Y_pred = model.predict(X_test)\n",
        "y_pred = np.rint(Y_pred)\n",
        "y_pred = np.argmax(Y_pred,axis=1)\n",
        "y_test = np.argmax(y_test,axis=1)\n",
        "print('  Classification Report:\\n',classification_report(y_test,y_pred),'\\n')"
      ],
      "execution_count": 31,
      "outputs": [
        {
          "output_type": "stream",
          "text": [
            "  Classification Report:\n",
            "               precision    recall  f1-score   support\n",
            "\n",
            "           0       1.00      0.74      0.85       687\n",
            "           1       1.00      1.00      1.00       621\n",
            "           2       0.98      1.00      0.99       636\n",
            "           3       1.00      1.00      1.00       661\n",
            "           4       0.99      0.96      0.97       624\n",
            "           5       0.99      1.00      1.00       656\n",
            "           6       0.99      0.98      0.98       633\n",
            "           7       1.00      1.00      1.00       701\n",
            "           8       0.99      1.00      1.00       709\n",
            "           9       1.00      1.00      1.00       672\n",
            "          10       0.99      1.00      1.00       648\n",
            "          11       0.96      1.00      0.98       674\n",
            "          12       0.96      0.99      0.98       665\n",
            "          13       1.00      0.97      0.98       671\n",
            "          14       1.00      1.00      1.00       663\n",
            "          15       1.00      1.00      1.00       645\n",
            "          16       0.99      1.00      1.00       665\n",
            "          17       1.00      0.97      0.98       703\n",
            "          18       0.99      1.00      1.00       667\n",
            "          19       0.99      1.00      0.99       633\n",
            "          20       1.00      1.00      1.00       667\n",
            "          21       0.93      1.00      0.96       675\n",
            "          22       1.00      1.00      1.00       671\n",
            "          23       0.99      0.97      0.98       676\n",
            "          24       0.99      0.29      0.45       679\n",
            "          25       0.98      0.87      0.92       646\n",
            "          26       0.99      0.98      0.99       662\n",
            "          27       0.98      0.96      0.97       639\n",
            "          28       1.00      0.93      0.96       665\n",
            "          29       1.00      1.00      1.00       672\n",
            "          30       1.00      1.00      1.00       640\n",
            "          31       0.98      0.95      0.97       641\n",
            "          32       0.99      1.00      1.00       683\n",
            "          33       1.00      1.00      1.00       701\n",
            "          34       1.00      0.98      0.99       648\n",
            "          35       1.00      1.00      1.00       662\n",
            "          36       0.99      1.00      0.99       674\n",
            "          37       1.00      1.00      1.00       685\n",
            "          38       0.48      1.00      0.65       641\n",
            "          39       0.97      1.00      0.99       677\n",
            "          40       1.00      1.00      1.00       695\n",
            "          41       1.00      1.00      1.00       636\n",
            "          42       1.00      1.00      1.00       698\n",
            "          43       1.00      1.00      1.00       676\n",
            "          44       0.99      1.00      1.00       740\n",
            "          45       0.99      1.00      1.00       632\n",
            "          46       1.00      1.00      1.00       642\n",
            "          47       1.00      0.96      0.98       704\n",
            "          48       1.00      1.00      1.00       678\n",
            "          49       0.99      1.00      1.00       626\n",
            "          50       0.94      0.94      0.94       674\n",
            "          51       0.99      1.00      0.99       676\n",
            "          52       0.97      1.00      0.98       673\n",
            "\n",
            "    accuracy                           0.97     35288\n",
            "   macro avg       0.98      0.97      0.97     35288\n",
            "weighted avg       0.98      0.97      0.97     35288\n",
            " \n",
            "\n"
          ],
          "name": "stdout"
        }
      ]
    },
    {
      "cell_type": "markdown",
      "metadata": {
        "colab_type": "text",
        "id": "qL8uZVmndEEu"
      },
      "source": [
        "######**Observation**\n",
        "From our classification report: \n",
        "\n",
        "1. Filtering Groups that have between 1 - 6 samples into GRP_Others, combined with random oversampling with focus on the minority classes the model could predict on all labels with over 90% in precisions (with some actually at a 100%). And the model accuracy and f1-score of 97% actually agrees to that (i.e. F1-score being the weighed average of our precision and recall)\n",
        "2. We did filtering between 1 - 15 samples into GRP_Others before now, the model was 96%\n",
        "\n",
        "It is worth noting that the last group label 52 is the number 53rd class which is GRP_Others \""
      ]
    },
    {
      "cell_type": "code",
      "metadata": {
        "id": "XtoQYhG1FjVc",
        "colab_type": "code",
        "colab": {}
      },
      "source": [
        ""
      ],
      "execution_count": null,
      "outputs": []
    },
    {
      "cell_type": "code",
      "metadata": {
        "id": "hEMK0u_JFjat",
        "colab_type": "code",
        "colab": {}
      },
      "source": [
        ""
      ],
      "execution_count": null,
      "outputs": []
    },
    {
      "cell_type": "markdown",
      "metadata": {
        "id": "Xc2f6bGujZtC",
        "colab_type": "text"
      },
      "source": [
        "###**b. Report the recommendations, summarize the project and mention identified next steps**"
      ]
    },
    {
      "cell_type": "markdown",
      "metadata": {
        "id": "a4lqYD8agdJX",
        "colab_type": "text"
      },
      "source": [
        "######**Save model**"
      ]
    },
    {
      "cell_type": "code",
      "metadata": {
        "id": "HhHFYKV1KCq3",
        "colab_type": "code",
        "colab": {}
      },
      "source": [
        "# Save the trained weights and model in h5 files\n",
        "model.save(project_path+'capstoneNLP_ITSM.h5')\n",
        "model.save_weights(project_path+'capstoneNLP_ITSM_weights.h5')"
      ],
      "execution_count": 32,
      "outputs": []
    },
    {
      "cell_type": "markdown",
      "metadata": {
        "id": "qk1JkFaNkHJI",
        "colab_type": "text"
      },
      "source": [
        "######**Project Summary:**"
      ]
    },
    {
      "cell_type": "markdown",
      "metadata": {
        "id": "UE0VlN5olTnD",
        "colab_type": "text"
      },
      "source": [
        "######**i- Recommendation**\n",
        "In a production environment, I would recommend filtering Groups with 1 - 6 samples into 'GRP_Other' over higher filterings or using the whole 74 classes, as we have a balance of predictions on more labels and a good accuracy leaving only a few Groups are to be manually sorted out in 'GRP_Others'."
      ]
    },
    {
      "cell_type": "markdown",
      "metadata": {
        "id": "ftJZ8VMevXPx",
        "colab_type": "text"
      },
      "source": [
        "######**ii- summarizing the project**\n",
        "In the business domain we were told that L1/L2 resolves about 54% of the incidents but before that they need to do the classification manually and this take them about 26day based on our calculation since they have to review about 30% of the incidents(this actually could be seen to be there accuracy, since there make lots of mis-classifications)\n",
        "\n",
        "But with the Machine Learning Classification and accuracy of 97%; by proportionality we can say if 30% manually accuracy attents to 30% of the total incidents in the dataset and it took 26days to classify them with so much errors, then our model's 97% accuracy can do a 97% incident classification and this will be in a few minutes with fewer errors.\n",
        "\n",
        "With the analogy above, out model will allow L1/L3 to concentrate on resolving the incidents rather than classification. \n",
        "Furthermore: If they were resolving 54% of the incidents when they were manually classifying 30%, now that the model is classifying 97%; by proportionality they should be resolving about 174.6% of incidents (this is practically not possible though, but theoretically, the point is they should resolve much more than before). And so, “Keep the lights on” to ensure there is no impact on the business operations."
      ]
    },
    {
      "cell_type": "markdown",
      "metadata": {
        "id": "jTWArPmd1W9U",
        "colab_type": "text"
      },
      "source": [
        "######**iii- Identifying next steps**\n",
        "\n",
        "The next identified step is to deploy the model, and the options are:\n",
        "\n",
        "1. As a standalone executable file - recommended for batch mode\n",
        "2. As an on-prem application exposed as an API (e.g. Flask)\n",
        "3. As a container based API in Azure or AWS container registry\n",
        "4. Implemented as an API built on Azure ML or AWS SageMaker\n",
        "\n",
        "\n",
        "To deploy in a production environment I would do the following using step 3 above:\n",
        "\n",
        "1. Train this NLP model (with a transformer LSTM Neural Network)\n",
        "2. Create a full-stack application using python rapper or Flask\n",
        "3. Containerize using docker and test locally\n",
        "4. Deploy app on Google Cloud using Kubernetes\n",
        "5. Create a CI/CD architecture to continually train model on live data\n",
        "\n",
        "\n"
      ]
    },
    {
      "cell_type": "code",
      "metadata": {
        "id": "bTZjlt8MmHVi",
        "colab_type": "code",
        "colab": {}
      },
      "source": [
        ""
      ],
      "execution_count": null,
      "outputs": []
    }
  ]
}