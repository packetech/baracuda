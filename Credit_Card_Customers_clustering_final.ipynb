{
  "nbformat": 4,
  "nbformat_minor": 0,
  "metadata": {
    "kernelspec": {
      "display_name": "Python 3",
      "language": "python",
      "name": "python3"
    },
    "language_info": {
      "codemirror_mode": {
        "name": "ipython",
        "version": 3
      },
      "file_extension": ".py",
      "mimetype": "text/x-python",
      "name": "python",
      "nbconvert_exporter": "python",
      "pygments_lexer": "ipython3",
      "version": "3.7.3"
    },
    "toc": {
      "base_numbering": 1,
      "nav_menu": {},
      "number_sections": true,
      "sideBar": true,
      "skip_h1_title": false,
      "title_cell": "Table of Contents",
      "title_sidebar": "Contents",
      "toc_cell": false,
      "toc_position": {
        "height": "calc(100% - 180px)",
        "left": "10px",
        "top": "150px",
        "width": "273.2px"
      },
      "toc_section_display": true,
      "toc_window_display": true
    },
    "colab": {
      "name": "Credit_Card_Customers_clustering -final.ipynb",
      "provenance": [],
      "include_colab_link": true
    }
  },
  "cells": [
    {
      "cell_type": "markdown",
      "metadata": {
        "id": "view-in-github",
        "colab_type": "text"
      },
      "source": [
        "<a href=\"https://colab.research.google.com/github/packetech/baracuda/blob/master/Credit_Card_Customers_clustering_final.ipynb\" target=\"_parent\"><img src=\"https://colab.research.google.com/assets/colab-badge.svg\" alt=\"Open In Colab\"/></a>"
      ]
    },
    {
      "cell_type": "markdown",
      "metadata": {
        "id": "YwcMxWN5MPbA",
        "colab_type": "text"
      },
      "source": [
        "<b><font size=\"6\" color=\"black\">AllLife Credit Card Customer Segmentation</font></b>\n",
        "\n",
        "### Objective: \n",
        "To identify different segments in the existing customer based on their spending patterns as well as past interaction with the bank. \n",
        "\n",
        "### Key Questions:\n",
        "1.\tHow many different segments of customers are there?\n",
        "2.\tHow are these segments different from each other?\n",
        "3.\tWhat are your recommendations to the bank on how to better market to and service these customers?\n"
      ]
    },
    {
      "cell_type": "code",
      "metadata": {
        "id": "seRrVwMWMPbE",
        "colab_type": "code",
        "colab": {}
      },
      "source": [
        "%matplotlib inline\n",
        "import numpy as np\n",
        "import pandas as pd\n",
        "import seaborn as sns\n",
        "from matplotlib import pyplot as plt\n",
        "from sklearn.cluster import KMeans\n",
        "from scipy.stats import zscore"
      ],
      "execution_count": null,
      "outputs": []
    },
    {
      "cell_type": "markdown",
      "metadata": {
        "id": "o5Jq9j0XMPbh",
        "colab_type": "text"
      },
      "source": [
        "## Exploratory Data Analysis "
      ]
    },
    {
      "cell_type": "code",
      "metadata": {
        "id": "4xZ4JpBKMPbo",
        "colab_type": "code",
        "colab": {},
        "outputId": "a5f048b4-acd0-4819-ef5c-8cd2d04fe14a"
      },
      "source": [
        "AllLife_df = pd.read_csv(\"Credit_Card_Customers_data.csv\")\n",
        "AllLife_df.dtypes"
      ],
      "execution_count": null,
      "outputs": [
        {
          "output_type": "execute_result",
          "data": {
            "text/plain": [
              "Sl_No                  int64\n",
              "Customer Key           int64\n",
              "Avg_Credit_Limit       int64\n",
              "Total_Credit_Cards     int64\n",
              "Total_visits_bank      int64\n",
              "Total_visits_online    int64\n",
              "Total_calls_made       int64\n",
              "dtype: object"
            ]
          },
          "metadata": {
            "tags": []
          },
          "execution_count": 88
        }
      ]
    },
    {
      "cell_type": "code",
      "metadata": {
        "id": "a7SDY8-MMPb0",
        "colab_type": "code",
        "colab": {},
        "outputId": "7220a699-78ee-4ebd-865b-05781a5ca8f8"
      },
      "source": [
        "AllLife_df.shape"
      ],
      "execution_count": null,
      "outputs": [
        {
          "output_type": "execute_result",
          "data": {
            "text/plain": [
              "(660, 7)"
            ]
          },
          "metadata": {
            "tags": []
          },
          "execution_count": 89
        }
      ]
    },
    {
      "cell_type": "code",
      "metadata": {
        "id": "GrBt3c0sMPb8",
        "colab_type": "code",
        "colab": {},
        "outputId": "b1afd265-90ea-4977-bf0e-9e9b774509a3"
      },
      "source": [
        "AllLife_df.head()"
      ],
      "execution_count": null,
      "outputs": [
        {
          "output_type": "execute_result",
          "data": {
            "text/html": [
              "<div>\n",
              "<style scoped>\n",
              "    .dataframe tbody tr th:only-of-type {\n",
              "        vertical-align: middle;\n",
              "    }\n",
              "\n",
              "    .dataframe tbody tr th {\n",
              "        vertical-align: top;\n",
              "    }\n",
              "\n",
              "    .dataframe thead th {\n",
              "        text-align: right;\n",
              "    }\n",
              "</style>\n",
              "<table border=\"1\" class=\"dataframe\">\n",
              "  <thead>\n",
              "    <tr style=\"text-align: right;\">\n",
              "      <th></th>\n",
              "      <th>Sl_No</th>\n",
              "      <th>Customer Key</th>\n",
              "      <th>Avg_Credit_Limit</th>\n",
              "      <th>Total_Credit_Cards</th>\n",
              "      <th>Total_visits_bank</th>\n",
              "      <th>Total_visits_online</th>\n",
              "      <th>Total_calls_made</th>\n",
              "    </tr>\n",
              "  </thead>\n",
              "  <tbody>\n",
              "    <tr>\n",
              "      <th>0</th>\n",
              "      <td>1</td>\n",
              "      <td>87073</td>\n",
              "      <td>100000</td>\n",
              "      <td>2</td>\n",
              "      <td>1</td>\n",
              "      <td>1</td>\n",
              "      <td>0</td>\n",
              "    </tr>\n",
              "    <tr>\n",
              "      <th>1</th>\n",
              "      <td>2</td>\n",
              "      <td>38414</td>\n",
              "      <td>50000</td>\n",
              "      <td>3</td>\n",
              "      <td>0</td>\n",
              "      <td>10</td>\n",
              "      <td>9</td>\n",
              "    </tr>\n",
              "    <tr>\n",
              "      <th>2</th>\n",
              "      <td>3</td>\n",
              "      <td>17341</td>\n",
              "      <td>50000</td>\n",
              "      <td>7</td>\n",
              "      <td>1</td>\n",
              "      <td>3</td>\n",
              "      <td>4</td>\n",
              "    </tr>\n",
              "    <tr>\n",
              "      <th>3</th>\n",
              "      <td>4</td>\n",
              "      <td>40496</td>\n",
              "      <td>30000</td>\n",
              "      <td>5</td>\n",
              "      <td>1</td>\n",
              "      <td>1</td>\n",
              "      <td>4</td>\n",
              "    </tr>\n",
              "    <tr>\n",
              "      <th>4</th>\n",
              "      <td>5</td>\n",
              "      <td>47437</td>\n",
              "      <td>100000</td>\n",
              "      <td>6</td>\n",
              "      <td>0</td>\n",
              "      <td>12</td>\n",
              "      <td>3</td>\n",
              "    </tr>\n",
              "  </tbody>\n",
              "</table>\n",
              "</div>"
            ],
            "text/plain": [
              "   Sl_No  Customer Key  Avg_Credit_Limit  Total_Credit_Cards  \\\n",
              "0      1         87073            100000                   2   \n",
              "1      2         38414             50000                   3   \n",
              "2      3         17341             50000                   7   \n",
              "3      4         40496             30000                   5   \n",
              "4      5         47437            100000                   6   \n",
              "\n",
              "   Total_visits_bank  Total_visits_online  Total_calls_made  \n",
              "0                  1                    1                 0  \n",
              "1                  0                   10                 9  \n",
              "2                  1                    3                 4  \n",
              "3                  1                    1                 4  \n",
              "4                  0                   12                 3  "
            ]
          },
          "metadata": {
            "tags": []
          },
          "execution_count": 90
        }
      ]
    },
    {
      "cell_type": "code",
      "metadata": {
        "id": "jQbZEr32MPcG",
        "colab_type": "code",
        "colab": {}
      },
      "source": [
        "# dropping Serial number column, it has no bearing on customer spending pattern \n",
        "# dropping Customer key column, it has no bearing on spending pattern, since this appears to be a \n",
        "# randomly generated banking key for the customers transactions \n",
        "\n",
        "#AllLife_df = AllLife_df.drop(labels='Sl_No',axis=1) \n",
        "\n",
        "AllLife_df = AllLife_df.iloc[:,2:]"
      ],
      "execution_count": null,
      "outputs": []
    },
    {
      "cell_type": "code",
      "metadata": {
        "id": "_fIUoqppMPcR",
        "colab_type": "code",
        "colab": {}
      },
      "source": [
        "\n",
        "\n",
        "#AllLife_df = AllLife_df.drop(labels='Customer Key',axis=1) "
      ],
      "execution_count": null,
      "outputs": []
    },
    {
      "cell_type": "code",
      "metadata": {
        "id": "sM8yVmqgMPcZ",
        "colab_type": "code",
        "colab": {},
        "outputId": "562c549d-da29-4645-b800-6aaed8334e15"
      },
      "source": [
        "AllLife_df.head()"
      ],
      "execution_count": null,
      "outputs": [
        {
          "output_type": "execute_result",
          "data": {
            "text/html": [
              "<div>\n",
              "<style scoped>\n",
              "    .dataframe tbody tr th:only-of-type {\n",
              "        vertical-align: middle;\n",
              "    }\n",
              "\n",
              "    .dataframe tbody tr th {\n",
              "        vertical-align: top;\n",
              "    }\n",
              "\n",
              "    .dataframe thead th {\n",
              "        text-align: right;\n",
              "    }\n",
              "</style>\n",
              "<table border=\"1\" class=\"dataframe\">\n",
              "  <thead>\n",
              "    <tr style=\"text-align: right;\">\n",
              "      <th></th>\n",
              "      <th>Avg_Credit_Limit</th>\n",
              "      <th>Total_Credit_Cards</th>\n",
              "      <th>Total_visits_bank</th>\n",
              "      <th>Total_visits_online</th>\n",
              "      <th>Total_calls_made</th>\n",
              "    </tr>\n",
              "  </thead>\n",
              "  <tbody>\n",
              "    <tr>\n",
              "      <th>0</th>\n",
              "      <td>100000</td>\n",
              "      <td>2</td>\n",
              "      <td>1</td>\n",
              "      <td>1</td>\n",
              "      <td>0</td>\n",
              "    </tr>\n",
              "    <tr>\n",
              "      <th>1</th>\n",
              "      <td>50000</td>\n",
              "      <td>3</td>\n",
              "      <td>0</td>\n",
              "      <td>10</td>\n",
              "      <td>9</td>\n",
              "    </tr>\n",
              "    <tr>\n",
              "      <th>2</th>\n",
              "      <td>50000</td>\n",
              "      <td>7</td>\n",
              "      <td>1</td>\n",
              "      <td>3</td>\n",
              "      <td>4</td>\n",
              "    </tr>\n",
              "    <tr>\n",
              "      <th>3</th>\n",
              "      <td>30000</td>\n",
              "      <td>5</td>\n",
              "      <td>1</td>\n",
              "      <td>1</td>\n",
              "      <td>4</td>\n",
              "    </tr>\n",
              "    <tr>\n",
              "      <th>4</th>\n",
              "      <td>100000</td>\n",
              "      <td>6</td>\n",
              "      <td>0</td>\n",
              "      <td>12</td>\n",
              "      <td>3</td>\n",
              "    </tr>\n",
              "  </tbody>\n",
              "</table>\n",
              "</div>"
            ],
            "text/plain": [
              "   Avg_Credit_Limit  Total_Credit_Cards  Total_visits_bank  \\\n",
              "0            100000                   2                  1   \n",
              "1             50000                   3                  0   \n",
              "2             50000                   7                  1   \n",
              "3             30000                   5                  1   \n",
              "4            100000                   6                  0   \n",
              "\n",
              "   Total_visits_online  Total_calls_made  \n",
              "0                    1                 0  \n",
              "1                   10                 9  \n",
              "2                    3                 4  \n",
              "3                    1                 4  \n",
              "4                   12                 3  "
            ]
          },
          "metadata": {
            "tags": []
          },
          "execution_count": 93
        }
      ]
    },
    {
      "cell_type": "code",
      "metadata": {
        "id": "VTuwONW-MPci",
        "colab_type": "code",
        "colab": {},
        "outputId": "4dd8e510-493d-41bb-bd7c-b6b916aadd91"
      },
      "source": [
        "AllLife_df.describe()"
      ],
      "execution_count": null,
      "outputs": [
        {
          "output_type": "execute_result",
          "data": {
            "text/html": [
              "<div>\n",
              "<style scoped>\n",
              "    .dataframe tbody tr th:only-of-type {\n",
              "        vertical-align: middle;\n",
              "    }\n",
              "\n",
              "    .dataframe tbody tr th {\n",
              "        vertical-align: top;\n",
              "    }\n",
              "\n",
              "    .dataframe thead th {\n",
              "        text-align: right;\n",
              "    }\n",
              "</style>\n",
              "<table border=\"1\" class=\"dataframe\">\n",
              "  <thead>\n",
              "    <tr style=\"text-align: right;\">\n",
              "      <th></th>\n",
              "      <th>Avg_Credit_Limit</th>\n",
              "      <th>Total_Credit_Cards</th>\n",
              "      <th>Total_visits_bank</th>\n",
              "      <th>Total_visits_online</th>\n",
              "      <th>Total_calls_made</th>\n",
              "    </tr>\n",
              "  </thead>\n",
              "  <tbody>\n",
              "    <tr>\n",
              "      <th>count</th>\n",
              "      <td>660.000000</td>\n",
              "      <td>660.000000</td>\n",
              "      <td>660.000000</td>\n",
              "      <td>660.000000</td>\n",
              "      <td>660.000000</td>\n",
              "    </tr>\n",
              "    <tr>\n",
              "      <th>mean</th>\n",
              "      <td>34574.242424</td>\n",
              "      <td>4.706061</td>\n",
              "      <td>2.403030</td>\n",
              "      <td>2.606061</td>\n",
              "      <td>3.583333</td>\n",
              "    </tr>\n",
              "    <tr>\n",
              "      <th>std</th>\n",
              "      <td>37625.487804</td>\n",
              "      <td>2.167835</td>\n",
              "      <td>1.631813</td>\n",
              "      <td>2.935724</td>\n",
              "      <td>2.865317</td>\n",
              "    </tr>\n",
              "    <tr>\n",
              "      <th>min</th>\n",
              "      <td>3000.000000</td>\n",
              "      <td>1.000000</td>\n",
              "      <td>0.000000</td>\n",
              "      <td>0.000000</td>\n",
              "      <td>0.000000</td>\n",
              "    </tr>\n",
              "    <tr>\n",
              "      <th>25%</th>\n",
              "      <td>10000.000000</td>\n",
              "      <td>3.000000</td>\n",
              "      <td>1.000000</td>\n",
              "      <td>1.000000</td>\n",
              "      <td>1.000000</td>\n",
              "    </tr>\n",
              "    <tr>\n",
              "      <th>50%</th>\n",
              "      <td>18000.000000</td>\n",
              "      <td>5.000000</td>\n",
              "      <td>2.000000</td>\n",
              "      <td>2.000000</td>\n",
              "      <td>3.000000</td>\n",
              "    </tr>\n",
              "    <tr>\n",
              "      <th>75%</th>\n",
              "      <td>48000.000000</td>\n",
              "      <td>6.000000</td>\n",
              "      <td>4.000000</td>\n",
              "      <td>4.000000</td>\n",
              "      <td>5.000000</td>\n",
              "    </tr>\n",
              "    <tr>\n",
              "      <th>max</th>\n",
              "      <td>200000.000000</td>\n",
              "      <td>10.000000</td>\n",
              "      <td>5.000000</td>\n",
              "      <td>15.000000</td>\n",
              "      <td>10.000000</td>\n",
              "    </tr>\n",
              "  </tbody>\n",
              "</table>\n",
              "</div>"
            ],
            "text/plain": [
              "       Avg_Credit_Limit  Total_Credit_Cards  Total_visits_bank  \\\n",
              "count        660.000000          660.000000         660.000000   \n",
              "mean       34574.242424            4.706061           2.403030   \n",
              "std        37625.487804            2.167835           1.631813   \n",
              "min         3000.000000            1.000000           0.000000   \n",
              "25%        10000.000000            3.000000           1.000000   \n",
              "50%        18000.000000            5.000000           2.000000   \n",
              "75%        48000.000000            6.000000           4.000000   \n",
              "max       200000.000000           10.000000           5.000000   \n",
              "\n",
              "       Total_visits_online  Total_calls_made  \n",
              "count           660.000000        660.000000  \n",
              "mean              2.606061          3.583333  \n",
              "std               2.935724          2.865317  \n",
              "min               0.000000          0.000000  \n",
              "25%               1.000000          1.000000  \n",
              "50%               2.000000          3.000000  \n",
              "75%               4.000000          5.000000  \n",
              "max              15.000000         10.000000  "
            ]
          },
          "metadata": {
            "tags": []
          },
          "execution_count": 94
        }
      ]
    },
    {
      "cell_type": "markdown",
      "metadata": {
        "id": "JOqr8YiDMPco",
        "colab_type": "text"
      },
      "source": [
        "The dataset looks ok, it is normal to have  zero counts"
      ]
    },
    {
      "cell_type": "code",
      "metadata": {
        "id": "o8j3RueYMPcp",
        "colab_type": "code",
        "colab": {}
      },
      "source": [
        "# Univariate plots"
      ],
      "execution_count": null,
      "outputs": []
    },
    {
      "cell_type": "code",
      "metadata": {
        "id": "0J-lOe4_MPcv",
        "colab_type": "code",
        "colab": {},
        "outputId": "bab00e5a-9042-4645-c9dc-dc1e3142d4c7"
      },
      "source": [
        "sns.distplot(AllLife_df['Avg_Credit_Limit']) # what looks like 4 divisions or clusters are seen\n",
        "                                            # we see that a lot of customers fell below 50,000 average credit limit given \n",
        "                                            # by the bank, this could only mean as the plot shows that lesser people were \n",
        "                                            # given more credits, showing that perhaps they had specialized jobs or are top\n",
        "                                            # executives who have higher earning power"
      ],
      "execution_count": null,
      "outputs": [
        {
          "output_type": "execute_result",
          "data": {
            "text/plain": [
              "<matplotlib.axes._subplots.AxesSubplot at 0x2047206c630>"
            ]
          },
          "metadata": {
            "tags": []
          },
          "execution_count": 96
        },
        {
          "output_type": "display_data",
          "data": {
            "image/png": "[encoded data removed]",
            "text/plain": [
              "<Figure size 432x288 with 1 Axes>"
            ]
          },
          "metadata": {
            "tags": [],
            "needs_background": "light"
          }
        }
      ]
    },
    {
      "cell_type": "code",
      "metadata": {
        "id": "KRIki5rBMPc6",
        "colab_type": "code",
        "colab": {},
        "outputId": "5d830160-69e0-40eb-bc7a-c32aba30b471"
      },
      "source": [
        "sns.distplot(AllLife_df['Total_Credit_Cards']) # 5 peaks are visible"
      ],
      "execution_count": null,
      "outputs": [
        {
          "output_type": "execute_result",
          "data": {
            "text/plain": [
              "<matplotlib.axes._subplots.AxesSubplot at 0x20471e3eda0>"
            ]
          },
          "metadata": {
            "tags": []
          },
          "execution_count": 97
        },
        {
          "output_type": "display_data",
          "data": {
            "image/png": "[encoded data removed]",
            "text/plain": [
              "<Figure size 432x288 with 1 Axes>"
            ]
          },
          "metadata": {
            "tags": [],
            "needs_background": "light"
          }
        }
      ]
    },
    {
      "cell_type": "code",
      "metadata": {
        "id": "Y2kA3Ic6MPdE",
        "colab_type": "code",
        "colab": {},
        "outputId": "7337473c-d74c-4f90-d375-02b4d6128377"
      },
      "source": [
        "sns.distplot(AllLife_df['Total_visits_bank']) # The visits to bank are in 3 categories and shows that quite a lot \n",
        "                                              # did not visit the bank at all "
      ],
      "execution_count": null,
      "outputs": [
        {
          "output_type": "execute_result",
          "data": {
            "text/plain": [
              "<matplotlib.axes._subplots.AxesSubplot at 0x20471ecfc18>"
            ]
          },
          "metadata": {
            "tags": []
          },
          "execution_count": 98
        },
        {
          "output_type": "display_data",
          "data": {
            "image/png": "[encoded data removed]",
            "text/plain": [
              "<Figure size 432x288 with 1 Axes>"
            ]
          },
          "metadata": {
            "tags": [],
            "needs_background": "light"
          }
        }
      ]
    },
    {
      "cell_type": "code",
      "metadata": {
        "id": "WB4G9bmiMPdL",
        "colab_type": "code",
        "colab": {},
        "outputId": "d11b7e6a-d862-4b85-a7a1-84d1758475c9"
      },
      "source": [
        "sns.distplot(AllLife_df['Total_visits_online']) # we have dwindling degrees of online visit, but clearly more people \n",
        "                                                # either do not visit or visits less, could mean that either they have poor\n",
        "                                                # internet services in that region or few were online literate or people \n",
        "                                                # were outrightly careless or too over worked to do anything online"
      ],
      "execution_count": null,
      "outputs": [
        {
          "output_type": "execute_result",
          "data": {
            "text/plain": [
              "<matplotlib.axes._subplots.AxesSubplot at 0x20471f43390>"
            ]
          },
          "metadata": {
            "tags": []
          },
          "execution_count": 99
        },
        {
          "output_type": "display_data",
          "data": {
            "image/png": "[encoded data removed]",
            "text/plain": [
              "<Figure size 432x288 with 1 Axes>"
            ]
          },
          "metadata": {
            "tags": [],
            "needs_background": "light"
          }
        }
      ]
    },
    {
      "cell_type": "code",
      "metadata": {
        "id": "WySq6ylRMPdR",
        "colab_type": "code",
        "colab": {},
        "outputId": "ebee000a-d4fe-42de-eec5-f07d524a73b6"
      },
      "source": [
        "sns.distplot(AllLife_df['Total_calls_made']) # About 2 clusters are seen"
      ],
      "execution_count": null,
      "outputs": [
        {
          "output_type": "execute_result",
          "data": {
            "text/plain": [
              "<matplotlib.axes._subplots.AxesSubplot at 0x20471fec048>"
            ]
          },
          "metadata": {
            "tags": []
          },
          "execution_count": 100
        },
        {
          "output_type": "display_data",
          "data": {
            "image/png": "[encoded data removed]",
            "text/plain": [
              "<Figure size 432x288 with 1 Axes>"
            ]
          },
          "metadata": {
            "tags": [],
            "needs_background": "light"
          }
        }
      ]
    },
    {
      "cell_type": "code",
      "metadata": {
        "id": "kThC47rNMPdX",
        "colab_type": "code",
        "colab": {},
        "outputId": "f5d462a7-4eb0-40d0-fb36-72a2b1dd3339"
      },
      "source": [
        "sns.boxplot(AllLife_df.Avg_Credit_Limit) #exploring futher  Avg_Credit_Limit  and   Total_visits_online for outliers \n",
        "                                         # based on how their histogram plots appears"
      ],
      "execution_count": null,
      "outputs": [
        {
          "output_type": "execute_result",
          "data": {
            "text/plain": [
              "<matplotlib.axes._subplots.AxesSubplot at 0x20473380860>"
            ]
          },
          "metadata": {
            "tags": []
          },
          "execution_count": 101
        },
        {
          "output_type": "display_data",
          "data": {
            "image/png": "[encoded data removed]",
            "text/plain": [
              "<Figure size 432x288 with 1 Axes>"
            ]
          },
          "metadata": {
            "tags": [],
            "needs_background": "light"
          }
        }
      ]
    },
    {
      "cell_type": "code",
      "metadata": {
        "id": "TcBeIz2FMPdd",
        "colab_type": "code",
        "colab": {},
        "outputId": "98b018ce-6fea-4072-f908-e11e93b6bd7c"
      },
      "source": [
        "sns.boxplot(AllLife_df.Total_visits_online)"
      ],
      "execution_count": null,
      "outputs": [
        {
          "output_type": "execute_result",
          "data": {
            "text/plain": [
              "<matplotlib.axes._subplots.AxesSubplot at 0x2047334eda0>"
            ]
          },
          "metadata": {
            "tags": []
          },
          "execution_count": 102
        },
        {
          "output_type": "display_data",
          "data": {
            "image/png": "[encoded data removed]",
            "text/plain": [
              "<Figure size 432x288 with 1 Axes>"
            ]
          },
          "metadata": {
            "tags": [],
            "needs_background": "light"
          }
        }
      ]
    },
    {
      "cell_type": "markdown",
      "metadata": {
        "id": "BaCRXxFhMPdg",
        "colab_type": "text"
      },
      "source": [
        "OBSERVATIONS: \n",
        "\n",
        "1. Average credit limit and Total visits online have extreme  and lots of outliers and should be taken care of to clean up the dataset"
      ]
    },
    {
      "cell_type": "code",
      "metadata": {
        "id": "iWXsvIqzMPdh",
        "colab_type": "code",
        "colab": {}
      },
      "source": [
        ""
      ],
      "execution_count": null,
      "outputs": []
    },
    {
      "cell_type": "code",
      "metadata": {
        "id": "K09JgS4SMPdo",
        "colab_type": "code",
        "colab": {}
      },
      "source": [
        "# Replacing outliers in Avg_Credit_Limit, using the descriptive analysis values\n",
        "\n",
        "q3 = 48000.000000\n",
        "q1 = 10000.000000\n",
        "iqr = q3-q1 #inter quatile range\n",
        "ub = q3+1.5*iqr #upper boundary\n",
        "lb = q1-1.5*iqr #lower boundary\n",
        "median = float(AllLife_df['Avg_Credit_Limit'].median())\n",
        "\n",
        "AllLife_df[\"Avg_Credit_Limit\"] = np.where(AllLife_df[\"Avg_Credit_Limit\"] > ub, median, AllLife_df['Avg_Credit_Limit'])\n",
        "AllLife_df[\"Avg_Credit_Limit\"] = np.where(AllLife_df[\"Avg_Credit_Limit\"] < lb, median, AllLife_df['Avg_Credit_Limit'])\n"
      ],
      "execution_count": null,
      "outputs": []
    },
    {
      "cell_type": "code",
      "metadata": {
        "id": "G4rB_CUGMPdt",
        "colab_type": "code",
        "colab": {}
      },
      "source": [
        "# Replacing outliers in Total_visits_online, using the descriptive analysis values\n",
        "\n",
        "q3 = 4.000000\n",
        "q1 = 1.000000\n",
        "iqr = q3-q1 #inter quatile range\n",
        "ub = q3+1.5*iqr #upper boundary\n",
        "lb = q1-1.5*iqr #lower boundary\n",
        "median = float(AllLife_df['Total_visits_online'].median())\n",
        "\n",
        "AllLife_df[\"Total_visits_online\"] = np.where(AllLife_df[\"Total_visits_online\"] > ub, median, AllLife_df['Total_visits_online'])\n",
        "AllLife_df[\"Total_visits_online\"] = np.where(AllLife_df[\"Total_visits_online\"] < lb, median, AllLife_df['Total_visits_online'])\n"
      ],
      "execution_count": null,
      "outputs": []
    },
    {
      "cell_type": "code",
      "metadata": {
        "id": "FGDT-wQFMPdw",
        "colab_type": "code",
        "colab": {},
        "outputId": "9d4e9361-fe20-402b-95f9-9783e92df318"
      },
      "source": [
        "sns.boxplot(AllLife_df.Avg_Credit_Limit) # Still have some outliers but better than before"
      ],
      "execution_count": null,
      "outputs": [
        {
          "output_type": "execute_result",
          "data": {
            "text/plain": [
              "<matplotlib.axes._subplots.AxesSubplot at 0x20473439160>"
            ]
          },
          "metadata": {
            "tags": []
          },
          "execution_count": 105
        },
        {
          "output_type": "display_data",
          "data": {
            "image/png": "[encoded data removed]",
            "text/plain": [
              "<Figure size 432x288 with 1 Axes>"
            ]
          },
          "metadata": {
            "tags": [],
            "needs_background": "light"
          }
        }
      ]
    },
    {
      "cell_type": "code",
      "metadata": {
        "id": "Oer6KCN-MPd3",
        "colab_type": "code",
        "colab": {},
        "outputId": "0bc22509-61a8-49f5-d394-cdf66e17360a"
      },
      "source": [
        "sns.boxplot(AllLife_df.Total_visits_online)"
      ],
      "execution_count": null,
      "outputs": [
        {
          "output_type": "execute_result",
          "data": {
            "text/plain": [
              "<matplotlib.axes._subplots.AxesSubplot at 0x204734958d0>"
            ]
          },
          "metadata": {
            "tags": []
          },
          "execution_count": 106
        },
        {
          "output_type": "display_data",
          "data": {
            "image/png": "[encoded data removed]",
            "text/plain": [
              "<Figure size 432x288 with 1 Axes>"
            ]
          },
          "metadata": {
            "tags": [],
            "needs_background": "light"
          }
        }
      ]
    },
    {
      "cell_type": "code",
      "metadata": {
        "id": "r1JTIIDPMPd9",
        "colab_type": "code",
        "colab": {},
        "outputId": "fa945e27-2954-4b95-ec7d-ea6bbb0164bd"
      },
      "source": [
        "# Doing pairplot to see the kernel density in the diagonals to have an idea of number of clusters\n",
        "\n",
        "sns.pairplot(AllLife_df, diag_kind='kde')"
      ],
      "execution_count": null,
      "outputs": [
        {
          "output_type": "execute_result",
          "data": {
            "text/plain": [
              "<seaborn.axisgrid.PairGrid at 0x204734617b8>"
            ]
          },
          "metadata": {
            "tags": []
          },
          "execution_count": 107
        },
        {
          "output_type": "display_data",
          "data": {
            "image/png": "[encoded data removed]",
            "text/plain": [
              "<Figure size 900x900 with 30 Axes>"
            ]
          },
          "metadata": {
            "tags": [],
            "needs_background": "light"
          }
        }
      ]
    },
    {
      "cell_type": "markdown",
      "metadata": {
        "id": "PjHpN-ASMPeA",
        "colab_type": "text"
      },
      "source": [
        "### OBSERVATIONS\n",
        "1. We can see about 3 clusters (that may be what we should be looking for, we don't know for sure)\n",
        "2. This dataset is very good since the variables are all independent of each other"
      ]
    },
    {
      "cell_type": "code",
      "metadata": {
        "id": "etEJV6Z9MPeC",
        "colab_type": "code",
        "colab": {}
      },
      "source": [
        ""
      ],
      "execution_count": null,
      "outputs": []
    },
    {
      "cell_type": "markdown",
      "metadata": {
        "id": "FUhdmcBWMPeI",
        "colab_type": "text"
      },
      "source": [
        "The dataset contains columns with different matrics e.g. amount in currency and counts (so we need to scale the dataset so one column will not dominate others"
      ]
    },
    {
      "cell_type": "code",
      "metadata": {
        "id": "7ZEmP8fDMPeJ",
        "colab_type": "code",
        "colab": {}
      },
      "source": [
        "AllLife_dfScaled =AllLife_df.apply(zscore)"
      ],
      "execution_count": null,
      "outputs": []
    },
    {
      "cell_type": "code",
      "metadata": {
        "id": "mqDDgyaBMPeO",
        "colab_type": "code",
        "colab": {},
        "outputId": "319c7312-bb93-4835-f259-c15791ae9672"
      },
      "source": [
        "AllLife_dfScaled.head()"
      ],
      "execution_count": null,
      "outputs": [
        {
          "output_type": "execute_result",
          "data": {
            "text/html": [
              "<div>\n",
              "<style scoped>\n",
              "    .dataframe tbody tr th:only-of-type {\n",
              "        vertical-align: middle;\n",
              "    }\n",
              "\n",
              "    .dataframe tbody tr th {\n",
              "        vertical-align: top;\n",
              "    }\n",
              "\n",
              "    .dataframe thead th {\n",
              "        text-align: right;\n",
              "    }\n",
              "</style>\n",
              "<table border=\"1\" class=\"dataframe\">\n",
              "  <thead>\n",
              "    <tr style=\"text-align: right;\">\n",
              "      <th></th>\n",
              "      <th>Avg_Credit_Limit</th>\n",
              "      <th>Total_Credit_Cards</th>\n",
              "      <th>Total_visits_bank</th>\n",
              "      <th>Total_visits_online</th>\n",
              "      <th>Total_calls_made</th>\n",
              "    </tr>\n",
              "  </thead>\n",
              "  <tbody>\n",
              "    <tr>\n",
              "      <th>0</th>\n",
              "      <td>3.359885</td>\n",
              "      <td>-1.249225</td>\n",
              "      <td>-0.860451</td>\n",
              "      <td>-0.609464</td>\n",
              "      <td>-1.251537</td>\n",
              "    </tr>\n",
              "    <tr>\n",
              "      <th>1</th>\n",
              "      <td>1.073448</td>\n",
              "      <td>-0.787585</td>\n",
              "      <td>-1.473731</td>\n",
              "      <td>-0.019660</td>\n",
              "      <td>1.891859</td>\n",
              "    </tr>\n",
              "    <tr>\n",
              "      <th>2</th>\n",
              "      <td>1.073448</td>\n",
              "      <td>1.058973</td>\n",
              "      <td>-0.860451</td>\n",
              "      <td>0.570144</td>\n",
              "      <td>0.145528</td>\n",
              "    </tr>\n",
              "    <tr>\n",
              "      <th>3</th>\n",
              "      <td>0.158873</td>\n",
              "      <td>0.135694</td>\n",
              "      <td>-0.860451</td>\n",
              "      <td>-0.609464</td>\n",
              "      <td>0.145528</td>\n",
              "    </tr>\n",
              "    <tr>\n",
              "      <th>4</th>\n",
              "      <td>3.359885</td>\n",
              "      <td>0.597334</td>\n",
              "      <td>-1.473731</td>\n",
              "      <td>-0.019660</td>\n",
              "      <td>-0.203739</td>\n",
              "    </tr>\n",
              "  </tbody>\n",
              "</table>\n",
              "</div>"
            ],
            "text/plain": [
              "   Avg_Credit_Limit  Total_Credit_Cards  Total_visits_bank  \\\n",
              "0          3.359885           -1.249225          -0.860451   \n",
              "1          1.073448           -0.787585          -1.473731   \n",
              "2          1.073448            1.058973          -0.860451   \n",
              "3          0.158873            0.135694          -0.860451   \n",
              "4          3.359885            0.597334          -1.473731   \n",
              "\n",
              "   Total_visits_online  Total_calls_made  \n",
              "0            -0.609464         -1.251537  \n",
              "1            -0.019660          1.891859  \n",
              "2             0.570144          0.145528  \n",
              "3            -0.609464          0.145528  \n",
              "4            -0.019660         -0.203739  "
            ]
          },
          "metadata": {
            "tags": []
          },
          "execution_count": 109
        }
      ]
    },
    {
      "cell_type": "code",
      "metadata": {
        "id": "jkHMK8CXMPeS",
        "colab_type": "code",
        "colab": {}
      },
      "source": [
        ""
      ],
      "execution_count": null,
      "outputs": []
    },
    {
      "cell_type": "code",
      "metadata": {
        "id": "AIzcQJx6MPeZ",
        "colab_type": "code",
        "colab": {}
      },
      "source": [
        ""
      ],
      "execution_count": null,
      "outputs": []
    },
    {
      "cell_type": "markdown",
      "metadata": {
        "id": "dU50YQrGMPee",
        "colab_type": "text"
      },
      "source": [
        "## Grouping Data into similar clusters -using KMeans Clustering\n",
        "\n",
        "Using K-Means clustering to group data base on their attributes, but we need to know the optimal number of groups. For this we need to do the elbow best to know where it appears"
      ]
    },
    {
      "cell_type": "code",
      "metadata": {
        "id": "X1Ahdr32MPef",
        "colab_type": "code",
        "colab": {},
        "outputId": "a9686ccc-65b9-45ac-bbc0-69a2b234d6fa"
      },
      "source": [
        "#Finding optimal no. of clusters\n",
        "from scipy.spatial.distance import cdist\n",
        "clusters=range(1,10)\n",
        "meanDistortions=[] # we are looking for mean distortion for k one at a time\n",
        "\n",
        "for k in clusters:\n",
        "    model=KMeans(n_clusters=k)\n",
        "    model.fit(AllLife_dfScaled)\n",
        "    prediction=model.predict(AllLife_dfScaled)\n",
        "    meanDistortions.append(sum(np.min(cdist(AllLife_dfScaled, model.cluster_centers_, 'euclidean'), axis=1)) / AllLife_dfScaled.shape[0])\n",
        "\n",
        "\n",
        "plt.plot(clusters, meanDistortions, 'bx-')\n",
        "plt.xlabel('k')\n",
        "plt.ylabel('Average distortion')\n",
        "plt.title('Selecting k with the Elbow Method')"
      ],
      "execution_count": null,
      "outputs": [
        {
          "output_type": "execute_result",
          "data": {
            "text/plain": [
              "Text(0.5, 1.0, 'Selecting k with the Elbow Method')"
            ]
          },
          "metadata": {
            "tags": []
          },
          "execution_count": 110
        },
        {
          "output_type": "display_data",
          "data": {
            "image/png": "[encoded data removed]",
            "text/plain": [
              "<Figure size 432x288 with 1 Axes>"
            ]
          },
          "metadata": {
            "tags": [],
            "needs_background": "light"
          }
        }
      ]
    },
    {
      "cell_type": "code",
      "metadata": {
        "id": "aDl_ezB5MPek",
        "colab_type": "code",
        "colab": {},
        "outputId": "432eb31a-df7b-4d32-e2ee-b6ce20caa403"
      },
      "source": [
        "# we can see an elbow at 2 and 3\n",
        "\n",
        "# Let us first start with K = 2 (by fittng a model and doing a prediction)\n",
        "final_model=KMeans(2)\n",
        "final_model.fit(AllLife_dfScaled) \n",
        "prediction=final_model.predict(AllLife_dfScaled)\n",
        "\n",
        "\n",
        "# lets make new variables work for kmean2\n",
        "AllLife_dfKMeans2 = AllLife_df.iloc[:,0:5] \n",
        "AllLife_dfScaledKMeans2 = AllLife_dfScaled.iloc[:,0:5]\n",
        "\n",
        "#Append the prediction to our original and scaled dataset tables\n",
        "AllLife_dfKMeans2[\"GROUP\"] = prediction\n",
        "AllLife_dfScaledKMeans2[\"GROUP\"] = prediction\n",
        "print(\"Groups Assigned : \\n\")\n",
        "AllLife_dfKMeans2.head()"
      ],
      "execution_count": null,
      "outputs": [
        {
          "output_type": "stream",
          "text": [
            "Groups Assigned : \n",
            "\n"
          ],
          "name": "stdout"
        },
        {
          "output_type": "stream",
          "text": [
            "C:\\Users\\n.okorie\\AppData\\Local\\Continuum\\anaconda3\\lib\\site-packages\\ipykernel_launcher.py:15: SettingWithCopyWarning: \n",
            "A value is trying to be set on a copy of a slice from a DataFrame.\n",
            "Try using .loc[row_indexer,col_indexer] = value instead\n",
            "\n",
            "See the caveats in the documentation: http://pandas.pydata.org/pandas-docs/stable/indexing.html#indexing-view-versus-copy\n",
            "  from ipykernel import kernelapp as app\n"
          ],
          "name": "stderr"
        },
        {
          "output_type": "execute_result",
          "data": {
            "text/html": [
              "<div>\n",
              "<style scoped>\n",
              "    .dataframe tbody tr th:only-of-type {\n",
              "        vertical-align: middle;\n",
              "    }\n",
              "\n",
              "    .dataframe tbody tr th {\n",
              "        vertical-align: top;\n",
              "    }\n",
              "\n",
              "    .dataframe thead th {\n",
              "        text-align: right;\n",
              "    }\n",
              "</style>\n",
              "<table border=\"1\" class=\"dataframe\">\n",
              "  <thead>\n",
              "    <tr style=\"text-align: right;\">\n",
              "      <th></th>\n",
              "      <th>Avg_Credit_Limit</th>\n",
              "      <th>Total_Credit_Cards</th>\n",
              "      <th>Total_visits_bank</th>\n",
              "      <th>Total_visits_online</th>\n",
              "      <th>Total_calls_made</th>\n",
              "      <th>GROUP</th>\n",
              "    </tr>\n",
              "  </thead>\n",
              "  <tbody>\n",
              "    <tr>\n",
              "      <th>0</th>\n",
              "      <td>100000.0</td>\n",
              "      <td>2</td>\n",
              "      <td>1</td>\n",
              "      <td>1.0</td>\n",
              "      <td>0</td>\n",
              "      <td>1</td>\n",
              "    </tr>\n",
              "    <tr>\n",
              "      <th>1</th>\n",
              "      <td>50000.0</td>\n",
              "      <td>3</td>\n",
              "      <td>0</td>\n",
              "      <td>2.0</td>\n",
              "      <td>9</td>\n",
              "      <td>0</td>\n",
              "    </tr>\n",
              "    <tr>\n",
              "      <th>2</th>\n",
              "      <td>50000.0</td>\n",
              "      <td>7</td>\n",
              "      <td>1</td>\n",
              "      <td>3.0</td>\n",
              "      <td>4</td>\n",
              "      <td>1</td>\n",
              "    </tr>\n",
              "    <tr>\n",
              "      <th>3</th>\n",
              "      <td>30000.0</td>\n",
              "      <td>5</td>\n",
              "      <td>1</td>\n",
              "      <td>1.0</td>\n",
              "      <td>4</td>\n",
              "      <td>1</td>\n",
              "    </tr>\n",
              "    <tr>\n",
              "      <th>4</th>\n",
              "      <td>100000.0</td>\n",
              "      <td>6</td>\n",
              "      <td>0</td>\n",
              "      <td>2.0</td>\n",
              "      <td>3</td>\n",
              "      <td>1</td>\n",
              "    </tr>\n",
              "  </tbody>\n",
              "</table>\n",
              "</div>"
            ],
            "text/plain": [
              "   Avg_Credit_Limit  Total_Credit_Cards  Total_visits_bank  \\\n",
              "0          100000.0                   2                  1   \n",
              "1           50000.0                   3                  0   \n",
              "2           50000.0                   7                  1   \n",
              "3           30000.0                   5                  1   \n",
              "4          100000.0                   6                  0   \n",
              "\n",
              "   Total_visits_online  Total_calls_made  GROUP  \n",
              "0                  1.0                 0      1  \n",
              "1                  2.0                 9      0  \n",
              "2                  3.0                 4      1  \n",
              "3                  1.0                 4      1  \n",
              "4                  2.0                 3      1  "
            ]
          },
          "metadata": {
            "tags": []
          },
          "execution_count": 111
        }
      ]
    },
    {
      "cell_type": "markdown",
      "metadata": {
        "id": "rzTuLQjlMPep",
        "colab_type": "text"
      },
      "source": [
        "<b> Analyze the distribution of the data among the two groups (K = 2). One of the most informative visual tool is boxplot.</b>"
      ]
    },
    {
      "cell_type": "code",
      "metadata": {
        "id": "5L4WDMZeMPep",
        "colab_type": "code",
        "colab": {},
        "outputId": "ab498f30-0179-478e-dd1f-413d8ed4b65f"
      },
      "source": [
        "# using original dataset for better interpretation\n",
        "\n",
        "AllLife_dfKMeans2 = AllLife_dfKMeans2.groupby(['GROUP'])\n",
        "AllLife_dfKMeans2.mean()"
      ],
      "execution_count": null,
      "outputs": [
        {
          "output_type": "execute_result",
          "data": {
            "text/html": [
              "<div>\n",
              "<style scoped>\n",
              "    .dataframe tbody tr th:only-of-type {\n",
              "        vertical-align: middle;\n",
              "    }\n",
              "\n",
              "    .dataframe tbody tr th {\n",
              "        vertical-align: top;\n",
              "    }\n",
              "\n",
              "    .dataframe thead th {\n",
              "        text-align: right;\n",
              "    }\n",
              "</style>\n",
              "<table border=\"1\" class=\"dataframe\">\n",
              "  <thead>\n",
              "    <tr style=\"text-align: right;\">\n",
              "      <th></th>\n",
              "      <th>Avg_Credit_Limit</th>\n",
              "      <th>Total_Credit_Cards</th>\n",
              "      <th>Total_visits_bank</th>\n",
              "      <th>Total_visits_online</th>\n",
              "      <th>Total_calls_made</th>\n",
              "    </tr>\n",
              "    <tr>\n",
              "      <th>GROUP</th>\n",
              "      <th></th>\n",
              "      <th></th>\n",
              "      <th></th>\n",
              "      <th></th>\n",
              "      <th></th>\n",
              "    </tr>\n",
              "  </thead>\n",
              "  <tbody>\n",
              "    <tr>\n",
              "      <th>0</th>\n",
              "      <td>12412.017167</td>\n",
              "      <td>2.656652</td>\n",
              "      <td>0.927039</td>\n",
              "      <td>3.695279</td>\n",
              "      <td>6.639485</td>\n",
              "    </tr>\n",
              "    <tr>\n",
              "      <th>1</th>\n",
              "      <td>34227.166276</td>\n",
              "      <td>5.824356</td>\n",
              "      <td>3.208431</td>\n",
              "      <td>1.126464</td>\n",
              "      <td>1.915691</td>\n",
              "    </tr>\n",
              "  </tbody>\n",
              "</table>\n",
              "</div>"
            ],
            "text/plain": [
              "       Avg_Credit_Limit  Total_Credit_Cards  Total_visits_bank  \\\n",
              "GROUP                                                            \n",
              "0          12412.017167            2.656652           0.927039   \n",
              "1          34227.166276            5.824356           3.208431   \n",
              "\n",
              "       Total_visits_online  Total_calls_made  \n",
              "GROUP                                         \n",
              "0                 3.695279          6.639485  \n",
              "1                 1.126464          1.915691  "
            ]
          },
          "metadata": {
            "tags": []
          },
          "execution_count": 112
        }
      ]
    },
    {
      "cell_type": "markdown",
      "metadata": {
        "id": "8gXO7OiGMPeu",
        "colab_type": "text"
      },
      "source": [
        "### OBSERVATIONS\n",
        "    \n",
        "    1. Those who fall into group 0 obviously are high earning, hence the bank gives them higher average credit limits and\n",
        "       there own about 5 credit cards and they have physical collaborations with the bank more\n",
        "    \n",
        "    2. But the group 1 even though they have more online visits and phone calls, it doesn't yield much for them.\n",
        "    \n",
        "    3. The group 0, i suppose have more transactions with the back since they are high earner and as such that may \n",
        "       warrant them visiting the bannk physically and have more bonding and authenticity with the bank"
      ]
    },
    {
      "cell_type": "code",
      "metadata": {
        "id": "m3qMGHDVMPeu",
        "colab_type": "code",
        "colab": {},
        "outputId": "0799865e-9d9f-4af9-d69f-222cb6af6844"
      },
      "source": [
        "# now lets use the scaled data to do a box plot becase we need variables that are equally weighed on the x-axis\n",
        "\n",
        "AllLife_dfScaledKMeans2.boxplot(by='GROUP', layout = (2,4),figsize=(15,10))"
      ],
      "execution_count": null,
      "outputs": [
        {
          "output_type": "execute_result",
          "data": {
            "text/plain": [
              "array([[<matplotlib.axes._subplots.AxesSubplot object at 0x00000204744ED710>,\n",
              "        <matplotlib.axes._subplots.AxesSubplot object at 0x00000204745112E8>,\n",
              "        <matplotlib.axes._subplots.AxesSubplot object at 0x0000020474543550>,\n",
              "        <matplotlib.axes._subplots.AxesSubplot object at 0x00000204745767F0>],\n",
              "       [<matplotlib.axes._subplots.AxesSubplot object at 0x00000204745A9A90>,\n",
              "        <matplotlib.axes._subplots.AxesSubplot object at 0x00000204745DED30>,\n",
              "        <matplotlib.axes._subplots.AxesSubplot object at 0x000002047461B320>,\n",
              "        <matplotlib.axes._subplots.AxesSubplot object at 0x000002047464A908>]],\n",
              "      dtype=object)"
            ]
          },
          "metadata": {
            "tags": []
          },
          "execution_count": 113
        },
        {
          "output_type": "display_data",
          "data": {
            "image/png": "[encoded data removed]",
            "text/plain": [
              "<Figure size 1080x720 with 8 Axes>"
            ]
          },
          "metadata": {
            "tags": [],
            "needs_background": "light"
          }
        }
      ]
    },
    {
      "cell_type": "code",
      "metadata": {
        "id": "_4ns4gXiMPey",
        "colab_type": "code",
        "colab": {}
      },
      "source": [
        "# This visual plot shows graphically what the grouping above showed"
      ],
      "execution_count": null,
      "outputs": []
    },
    {
      "cell_type": "code",
      "metadata": {
        "id": "9DFeoN0EMPe1",
        "colab_type": "code",
        "colab": {}
      },
      "source": [
        ""
      ],
      "execution_count": null,
      "outputs": []
    },
    {
      "cell_type": "code",
      "metadata": {
        "id": "ZzYVjhkSMPe7",
        "colab_type": "code",
        "colab": {}
      },
      "source": [
        ""
      ],
      "execution_count": null,
      "outputs": []
    },
    {
      "cell_type": "code",
      "metadata": {
        "id": "JDXLgoOEMPe-",
        "colab_type": "code",
        "colab": {},
        "outputId": "b26ea5aa-e7bc-4dc2-8d2a-ebcb1ad03765"
      },
      "source": [
        "#  Let us next try with K = 3, the next elbow point\n",
        "\n",
        "# But Running the commands after running for k=2 generates error, so to overcome this, I had to run this notebook again \n",
        "# from begining, but skip running the k=2 commands\n",
        "\n",
        "final_model=KMeans(3)\n",
        "final_model.fit(AllLife_dfScaled) \n",
        "prediction=final_model.predict(AllLife_dfScaled)\n",
        "\n",
        "# lets make new variables work for kmean3\n",
        "AllLife_dfKMeans3 = AllLife_df.iloc[:,0:5] \n",
        "AllLife_dfScaledKMeans3 = AllLife_dfScaled.iloc[:,0:5]\n",
        "\n",
        "#Append the prediction to our original and scaled dataset tables\n",
        "AllLife_dfKMeans3[\"GROUP\"] = prediction\n",
        "AllLife_dfScaledKMeans3[\"GROUP\"] = prediction\n",
        "print(\"Groups Assigned : \\n\")\n",
        "AllLife_dfKMeans3.head()"
      ],
      "execution_count": null,
      "outputs": [
        {
          "output_type": "stream",
          "text": [
            "Groups Assigned : \n",
            "\n"
          ],
          "name": "stdout"
        },
        {
          "output_type": "stream",
          "text": [
            "C:\\Users\\n.okorie\\AppData\\Local\\Continuum\\anaconda3\\lib\\site-packages\\ipykernel_launcher.py:16: SettingWithCopyWarning: \n",
            "A value is trying to be set on a copy of a slice from a DataFrame.\n",
            "Try using .loc[row_indexer,col_indexer] = value instead\n",
            "\n",
            "See the caveats in the documentation: http://pandas.pydata.org/pandas-docs/stable/indexing.html#indexing-view-versus-copy\n",
            "  app.launch_new_instance()\n"
          ],
          "name": "stderr"
        },
        {
          "output_type": "execute_result",
          "data": {
            "text/html": [
              "<div>\n",
              "<style scoped>\n",
              "    .dataframe tbody tr th:only-of-type {\n",
              "        vertical-align: middle;\n",
              "    }\n",
              "\n",
              "    .dataframe tbody tr th {\n",
              "        vertical-align: top;\n",
              "    }\n",
              "\n",
              "    .dataframe thead th {\n",
              "        text-align: right;\n",
              "    }\n",
              "</style>\n",
              "<table border=\"1\" class=\"dataframe\">\n",
              "  <thead>\n",
              "    <tr style=\"text-align: right;\">\n",
              "      <th></th>\n",
              "      <th>Avg_Credit_Limit</th>\n",
              "      <th>Total_Credit_Cards</th>\n",
              "      <th>Total_visits_bank</th>\n",
              "      <th>Total_visits_online</th>\n",
              "      <th>Total_calls_made</th>\n",
              "      <th>GROUP</th>\n",
              "    </tr>\n",
              "  </thead>\n",
              "  <tbody>\n",
              "    <tr>\n",
              "      <th>0</th>\n",
              "      <td>100000.0</td>\n",
              "      <td>2</td>\n",
              "      <td>1</td>\n",
              "      <td>1.0</td>\n",
              "      <td>0</td>\n",
              "      <td>1</td>\n",
              "    </tr>\n",
              "    <tr>\n",
              "      <th>1</th>\n",
              "      <td>50000.0</td>\n",
              "      <td>3</td>\n",
              "      <td>0</td>\n",
              "      <td>2.0</td>\n",
              "      <td>9</td>\n",
              "      <td>0</td>\n",
              "    </tr>\n",
              "    <tr>\n",
              "      <th>2</th>\n",
              "      <td>50000.0</td>\n",
              "      <td>7</td>\n",
              "      <td>1</td>\n",
              "      <td>3.0</td>\n",
              "      <td>4</td>\n",
              "      <td>1</td>\n",
              "    </tr>\n",
              "    <tr>\n",
              "      <th>3</th>\n",
              "      <td>30000.0</td>\n",
              "      <td>5</td>\n",
              "      <td>1</td>\n",
              "      <td>1.0</td>\n",
              "      <td>4</td>\n",
              "      <td>2</td>\n",
              "    </tr>\n",
              "    <tr>\n",
              "      <th>4</th>\n",
              "      <td>100000.0</td>\n",
              "      <td>6</td>\n",
              "      <td>0</td>\n",
              "      <td>2.0</td>\n",
              "      <td>3</td>\n",
              "      <td>1</td>\n",
              "    </tr>\n",
              "  </tbody>\n",
              "</table>\n",
              "</div>"
            ],
            "text/plain": [
              "   Avg_Credit_Limit  Total_Credit_Cards  Total_visits_bank  \\\n",
              "0          100000.0                   2                  1   \n",
              "1           50000.0                   3                  0   \n",
              "2           50000.0                   7                  1   \n",
              "3           30000.0                   5                  1   \n",
              "4          100000.0                   6                  0   \n",
              "\n",
              "   Total_visits_online  Total_calls_made  GROUP  \n",
              "0                  1.0                 0      1  \n",
              "1                  2.0                 9      0  \n",
              "2                  3.0                 4      1  \n",
              "3                  1.0                 4      2  \n",
              "4                  2.0                 3      1  "
            ]
          },
          "metadata": {
            "tags": []
          },
          "execution_count": 115
        }
      ]
    },
    {
      "cell_type": "code",
      "metadata": {
        "id": "4rIttrIjMPfJ",
        "colab_type": "code",
        "colab": {},
        "outputId": "5fdbbff3-fee6-49d0-b939-0b9b796e8467"
      },
      "source": [
        "# using original dataset for better interpretation\n",
        "\n",
        "AllLife_dfKMeans3 = AllLife_dfKMeans3.groupby(['GROUP'])\n",
        "AllLife_dfKMeans3.mean()"
      ],
      "execution_count": null,
      "outputs": [
        {
          "output_type": "execute_result",
          "data": {
            "text/html": [
              "<div>\n",
              "<style scoped>\n",
              "    .dataframe tbody tr th:only-of-type {\n",
              "        vertical-align: middle;\n",
              "    }\n",
              "\n",
              "    .dataframe tbody tr th {\n",
              "        vertical-align: top;\n",
              "    }\n",
              "\n",
              "    .dataframe thead th {\n",
              "        text-align: right;\n",
              "    }\n",
              "</style>\n",
              "<table border=\"1\" class=\"dataframe\">\n",
              "  <thead>\n",
              "    <tr style=\"text-align: right;\">\n",
              "      <th></th>\n",
              "      <th>Avg_Credit_Limit</th>\n",
              "      <th>Total_Credit_Cards</th>\n",
              "      <th>Total_visits_bank</th>\n",
              "      <th>Total_visits_online</th>\n",
              "      <th>Total_calls_made</th>\n",
              "    </tr>\n",
              "    <tr>\n",
              "      <th>GROUP</th>\n",
              "      <th></th>\n",
              "      <th></th>\n",
              "      <th></th>\n",
              "      <th></th>\n",
              "      <th></th>\n",
              "    </tr>\n",
              "  </thead>\n",
              "  <tbody>\n",
              "    <tr>\n",
              "      <th>0</th>\n",
              "      <td>12262.222222</td>\n",
              "      <td>2.471111</td>\n",
              "      <td>0.920000</td>\n",
              "      <td>3.591111</td>\n",
              "      <td>6.835556</td>\n",
              "    </tr>\n",
              "    <tr>\n",
              "      <th>1</th>\n",
              "      <td>62033.333333</td>\n",
              "      <td>5.733333</td>\n",
              "      <td>3.080000</td>\n",
              "      <td>1.040000</td>\n",
              "      <td>1.993333</td>\n",
              "    </tr>\n",
              "    <tr>\n",
              "      <th>2</th>\n",
              "      <td>19098.245614</td>\n",
              "      <td>5.929825</td>\n",
              "      <td>3.217544</td>\n",
              "      <td>1.326316</td>\n",
              "      <td>1.852632</td>\n",
              "    </tr>\n",
              "  </tbody>\n",
              "</table>\n",
              "</div>"
            ],
            "text/plain": [
              "       Avg_Credit_Limit  Total_Credit_Cards  Total_visits_bank  \\\n",
              "GROUP                                                            \n",
              "0          12262.222222            2.471111           0.920000   \n",
              "1          62033.333333            5.733333           3.080000   \n",
              "2          19098.245614            5.929825           3.217544   \n",
              "\n",
              "       Total_visits_online  Total_calls_made  \n",
              "GROUP                                         \n",
              "0                 3.591111          6.835556  \n",
              "1                 1.040000          1.993333  \n",
              "2                 1.326316          1.852632  "
            ]
          },
          "metadata": {
            "tags": []
          },
          "execution_count": 116
        }
      ]
    },
    {
      "cell_type": "code",
      "metadata": {
        "id": "oFgl6mcXMPfP",
        "colab_type": "code",
        "colab": {}
      },
      "source": [
        "# It still shows that those who visit the bank most have more total credit cards"
      ],
      "execution_count": null,
      "outputs": []
    },
    {
      "cell_type": "code",
      "metadata": {
        "id": "idEx7QxWMPfS",
        "colab_type": "code",
        "colab": {},
        "outputId": "8121eb94-fae0-4d83-cd14-523b6ec7d2a5"
      },
      "source": [
        "# now lets use the scaled data to do a box plot becase we need variables that are equally weighed on the x-axis\n",
        "\n",
        "AllLife_dfScaledKMeans3.boxplot(by='GROUP', layout = (2,4),figsize=(15,10))"
      ],
      "execution_count": null,
      "outputs": [
        {
          "output_type": "execute_result",
          "data": {
            "text/plain": [
              "array([[<matplotlib.axes._subplots.AxesSubplot object at 0x0000020473E3E2E8>,\n",
              "        <matplotlib.axes._subplots.AxesSubplot object at 0x0000020474BB54E0>,\n",
              "        <matplotlib.axes._subplots.AxesSubplot object at 0x00000204747DF748>,\n",
              "        <matplotlib.axes._subplots.AxesSubplot object at 0x00000204748129E8>],\n",
              "       [<matplotlib.axes._subplots.AxesSubplot object at 0x0000020474847C88>,\n",
              "        <matplotlib.axes._subplots.AxesSubplot object at 0x0000020474879EB8>,\n",
              "        <matplotlib.axes._subplots.AxesSubplot object at 0x00000204748B84A8>,\n",
              "        <matplotlib.axes._subplots.AxesSubplot object at 0x00000204748EAA90>]],\n",
              "      dtype=object)"
            ]
          },
          "metadata": {
            "tags": []
          },
          "execution_count": 118
        },
        {
          "output_type": "display_data",
          "data": {
            "image/png": "[encoded data removed]",
            "text/plain": [
              "<Figure size 1080x720 with 8 Axes>"
            ]
          },
          "metadata": {
            "tags": [],
            "needs_background": "light"
          }
        }
      ]
    },
    {
      "cell_type": "code",
      "metadata": {
        "id": "WbMxNk2kMPfV",
        "colab_type": "code",
        "colab": {}
      },
      "source": [
        "# The lowest point of avg_credit_limit is higher that other groups, showing that each group is quite different from others"
      ],
      "execution_count": null,
      "outputs": []
    },
    {
      "cell_type": "markdown",
      "metadata": {
        "id": "I6dkMvDPMPfZ",
        "colab_type": "text"
      },
      "source": [
        "## Lets try out Hierarchical Clustering (cophenet indexing and Dendrogram)"
      ]
    },
    {
      "cell_type": "code",
      "metadata": {
        "id": "VSWOG4-kMPfa",
        "colab_type": "code",
        "colab": {}
      },
      "source": [
        "from sklearn.cluster import AgglomerativeClustering \n",
        "#lets work by the 2 and 3 clusters that are identified\n",
        "\n",
        "model = AgglomerativeClustering(n_clusters=3, affinity='euclidean',  linkage='average')"
      ],
      "execution_count": null,
      "outputs": []
    },
    {
      "cell_type": "code",
      "metadata": {
        "id": "0h-OEl77MPfd",
        "colab_type": "code",
        "colab": {},
        "outputId": "35c6e906-45ab-4c5c-8f04-641ea4efb710"
      },
      "source": [
        "AllLife_df.head() #Original dataset"
      ],
      "execution_count": null,
      "outputs": [
        {
          "output_type": "execute_result",
          "data": {
            "text/html": [
              "<div>\n",
              "<style scoped>\n",
              "    .dataframe tbody tr th:only-of-type {\n",
              "        vertical-align: middle;\n",
              "    }\n",
              "\n",
              "    .dataframe tbody tr th {\n",
              "        vertical-align: top;\n",
              "    }\n",
              "\n",
              "    .dataframe thead th {\n",
              "        text-align: right;\n",
              "    }\n",
              "</style>\n",
              "<table border=\"1\" class=\"dataframe\">\n",
              "  <thead>\n",
              "    <tr style=\"text-align: right;\">\n",
              "      <th></th>\n",
              "      <th>Avg_Credit_Limit</th>\n",
              "      <th>Total_Credit_Cards</th>\n",
              "      <th>Total_visits_bank</th>\n",
              "      <th>Total_visits_online</th>\n",
              "      <th>Total_calls_made</th>\n",
              "    </tr>\n",
              "  </thead>\n",
              "  <tbody>\n",
              "    <tr>\n",
              "      <th>0</th>\n",
              "      <td>100000.0</td>\n",
              "      <td>2</td>\n",
              "      <td>1</td>\n",
              "      <td>1.0</td>\n",
              "      <td>0</td>\n",
              "    </tr>\n",
              "    <tr>\n",
              "      <th>1</th>\n",
              "      <td>50000.0</td>\n",
              "      <td>3</td>\n",
              "      <td>0</td>\n",
              "      <td>2.0</td>\n",
              "      <td>9</td>\n",
              "    </tr>\n",
              "    <tr>\n",
              "      <th>2</th>\n",
              "      <td>50000.0</td>\n",
              "      <td>7</td>\n",
              "      <td>1</td>\n",
              "      <td>3.0</td>\n",
              "      <td>4</td>\n",
              "    </tr>\n",
              "    <tr>\n",
              "      <th>3</th>\n",
              "      <td>30000.0</td>\n",
              "      <td>5</td>\n",
              "      <td>1</td>\n",
              "      <td>1.0</td>\n",
              "      <td>4</td>\n",
              "    </tr>\n",
              "    <tr>\n",
              "      <th>4</th>\n",
              "      <td>100000.0</td>\n",
              "      <td>6</td>\n",
              "      <td>0</td>\n",
              "      <td>2.0</td>\n",
              "      <td>3</td>\n",
              "    </tr>\n",
              "  </tbody>\n",
              "</table>\n",
              "</div>"
            ],
            "text/plain": [
              "   Avg_Credit_Limit  Total_Credit_Cards  Total_visits_bank  \\\n",
              "0          100000.0                   2                  1   \n",
              "1           50000.0                   3                  0   \n",
              "2           50000.0                   7                  1   \n",
              "3           30000.0                   5                  1   \n",
              "4          100000.0                   6                  0   \n",
              "\n",
              "   Total_visits_online  Total_calls_made  \n",
              "0                  1.0                 0  \n",
              "1                  2.0                 9  \n",
              "2                  3.0                 4  \n",
              "3                  1.0                 4  \n",
              "4                  2.0                 3  "
            ]
          },
          "metadata": {
            "tags": []
          },
          "execution_count": 121
        }
      ]
    },
    {
      "cell_type": "code",
      "metadata": {
        "scrolled": true,
        "id": "lXNmWX8PMPfh",
        "colab_type": "code",
        "colab": {},
        "outputId": "8c4da674-1056-4421-9b18-8dc6db7a6a6c"
      },
      "source": [
        "AllLife_dfScaled.head()  #scaled dataset"
      ],
      "execution_count": null,
      "outputs": [
        {
          "output_type": "execute_result",
          "data": {
            "text/html": [
              "<div>\n",
              "<style scoped>\n",
              "    .dataframe tbody tr th:only-of-type {\n",
              "        vertical-align: middle;\n",
              "    }\n",
              "\n",
              "    .dataframe tbody tr th {\n",
              "        vertical-align: top;\n",
              "    }\n",
              "\n",
              "    .dataframe thead th {\n",
              "        text-align: right;\n",
              "    }\n",
              "</style>\n",
              "<table border=\"1\" class=\"dataframe\">\n",
              "  <thead>\n",
              "    <tr style=\"text-align: right;\">\n",
              "      <th></th>\n",
              "      <th>Avg_Credit_Limit</th>\n",
              "      <th>Total_Credit_Cards</th>\n",
              "      <th>Total_visits_bank</th>\n",
              "      <th>Total_visits_online</th>\n",
              "      <th>Total_calls_made</th>\n",
              "    </tr>\n",
              "  </thead>\n",
              "  <tbody>\n",
              "    <tr>\n",
              "      <th>0</th>\n",
              "      <td>3.359885</td>\n",
              "      <td>-1.249225</td>\n",
              "      <td>-0.860451</td>\n",
              "      <td>-0.609464</td>\n",
              "      <td>-1.251537</td>\n",
              "    </tr>\n",
              "    <tr>\n",
              "      <th>1</th>\n",
              "      <td>1.073448</td>\n",
              "      <td>-0.787585</td>\n",
              "      <td>-1.473731</td>\n",
              "      <td>-0.019660</td>\n",
              "      <td>1.891859</td>\n",
              "    </tr>\n",
              "    <tr>\n",
              "      <th>2</th>\n",
              "      <td>1.073448</td>\n",
              "      <td>1.058973</td>\n",
              "      <td>-0.860451</td>\n",
              "      <td>0.570144</td>\n",
              "      <td>0.145528</td>\n",
              "    </tr>\n",
              "    <tr>\n",
              "      <th>3</th>\n",
              "      <td>0.158873</td>\n",
              "      <td>0.135694</td>\n",
              "      <td>-0.860451</td>\n",
              "      <td>-0.609464</td>\n",
              "      <td>0.145528</td>\n",
              "    </tr>\n",
              "    <tr>\n",
              "      <th>4</th>\n",
              "      <td>3.359885</td>\n",
              "      <td>0.597334</td>\n",
              "      <td>-1.473731</td>\n",
              "      <td>-0.019660</td>\n",
              "      <td>-0.203739</td>\n",
              "    </tr>\n",
              "  </tbody>\n",
              "</table>\n",
              "</div>"
            ],
            "text/plain": [
              "   Avg_Credit_Limit  Total_Credit_Cards  Total_visits_bank  \\\n",
              "0          3.359885           -1.249225          -0.860451   \n",
              "1          1.073448           -0.787585          -1.473731   \n",
              "2          1.073448            1.058973          -0.860451   \n",
              "3          0.158873            0.135694          -0.860451   \n",
              "4          3.359885            0.597334          -1.473731   \n",
              "\n",
              "   Total_visits_online  Total_calls_made  \n",
              "0            -0.609464         -1.251537  \n",
              "1            -0.019660          1.891859  \n",
              "2             0.570144          0.145528  \n",
              "3            -0.609464          0.145528  \n",
              "4            -0.019660         -0.203739  "
            ]
          },
          "metadata": {
            "tags": []
          },
          "execution_count": 122
        }
      ]
    },
    {
      "cell_type": "code",
      "metadata": {
        "id": "xC-uJC6qMPfk",
        "colab_type": "code",
        "colab": {}
      },
      "source": [
        "AllLife_dfScaledAttr = AllLife_dfScaled.iloc[:,:] #duplicating the scaled dataset"
      ],
      "execution_count": null,
      "outputs": []
    },
    {
      "cell_type": "code",
      "metadata": {
        "id": "UoiKc9sPMPft",
        "colab_type": "code",
        "colab": {},
        "outputId": "fef1a68e-83ae-41d4-cbb4-4b82e8d0d5ea"
      },
      "source": [
        "\n",
        "model.fit(AllLife_dfScaledAttr) #using the original dataset fit the model with AgglomerativeClustering algorithm"
      ],
      "execution_count": null,
      "outputs": [
        {
          "output_type": "execute_result",
          "data": {
            "text/plain": [
              "AgglomerativeClustering(affinity='euclidean', compute_full_tree='auto',\n",
              "                        connectivity=None, distance_threshold=None,\n",
              "                        linkage='average', memory=None, n_clusters=3,\n",
              "                        pooling_func='deprecated')"
            ]
          },
          "metadata": {
            "tags": []
          },
          "execution_count": 124
        }
      ]
    },
    {
      "cell_type": "code",
      "metadata": {
        "id": "Dn5rRuwvMPfz",
        "colab_type": "code",
        "colab": {}
      },
      "source": [
        "AllLife_dforigDuplicate = AllLife_df.iloc[:,:] #duplicated the original dataset also"
      ],
      "execution_count": null,
      "outputs": []
    },
    {
      "cell_type": "code",
      "metadata": {
        "id": "aZ-mbqQKMPf3",
        "colab_type": "code",
        "colab": {},
        "outputId": "576676e5-5f08-46de-85b5-b2aa56dc9753"
      },
      "source": [
        "# appending the labels column gotten from the fitting the model with the scaled data\n",
        "AllLife_dforigDuplicate['labels'] = model.labels_\n",
        "AllLife_dforigDuplicate.head()"
      ],
      "execution_count": null,
      "outputs": [
        {
          "output_type": "execute_result",
          "data": {
            "text/html": [
              "<div>\n",
              "<style scoped>\n",
              "    .dataframe tbody tr th:only-of-type {\n",
              "        vertical-align: middle;\n",
              "    }\n",
              "\n",
              "    .dataframe tbody tr th {\n",
              "        vertical-align: top;\n",
              "    }\n",
              "\n",
              "    .dataframe thead th {\n",
              "        text-align: right;\n",
              "    }\n",
              "</style>\n",
              "<table border=\"1\" class=\"dataframe\">\n",
              "  <thead>\n",
              "    <tr style=\"text-align: right;\">\n",
              "      <th></th>\n",
              "      <th>Avg_Credit_Limit</th>\n",
              "      <th>Total_Credit_Cards</th>\n",
              "      <th>Total_visits_bank</th>\n",
              "      <th>Total_visits_online</th>\n",
              "      <th>Total_calls_made</th>\n",
              "      <th>labels</th>\n",
              "    </tr>\n",
              "  </thead>\n",
              "  <tbody>\n",
              "    <tr>\n",
              "      <th>0</th>\n",
              "      <td>100000.0</td>\n",
              "      <td>2</td>\n",
              "      <td>1</td>\n",
              "      <td>1.0</td>\n",
              "      <td>0</td>\n",
              "      <td>1</td>\n",
              "    </tr>\n",
              "    <tr>\n",
              "      <th>1</th>\n",
              "      <td>50000.0</td>\n",
              "      <td>3</td>\n",
              "      <td>0</td>\n",
              "      <td>2.0</td>\n",
              "      <td>9</td>\n",
              "      <td>0</td>\n",
              "    </tr>\n",
              "    <tr>\n",
              "      <th>2</th>\n",
              "      <td>50000.0</td>\n",
              "      <td>7</td>\n",
              "      <td>1</td>\n",
              "      <td>3.0</td>\n",
              "      <td>4</td>\n",
              "      <td>0</td>\n",
              "    </tr>\n",
              "    <tr>\n",
              "      <th>3</th>\n",
              "      <td>30000.0</td>\n",
              "      <td>5</td>\n",
              "      <td>1</td>\n",
              "      <td>1.0</td>\n",
              "      <td>4</td>\n",
              "      <td>0</td>\n",
              "    </tr>\n",
              "    <tr>\n",
              "      <th>4</th>\n",
              "      <td>100000.0</td>\n",
              "      <td>6</td>\n",
              "      <td>0</td>\n",
              "      <td>2.0</td>\n",
              "      <td>3</td>\n",
              "      <td>1</td>\n",
              "    </tr>\n",
              "  </tbody>\n",
              "</table>\n",
              "</div>"
            ],
            "text/plain": [
              "   Avg_Credit_Limit  Total_Credit_Cards  Total_visits_bank  \\\n",
              "0          100000.0                   2                  1   \n",
              "1           50000.0                   3                  0   \n",
              "2           50000.0                   7                  1   \n",
              "3           30000.0                   5                  1   \n",
              "4          100000.0                   6                  0   \n",
              "\n",
              "   Total_visits_online  Total_calls_made  labels  \n",
              "0                  1.0                 0       1  \n",
              "1                  2.0                 9       0  \n",
              "2                  3.0                 4       0  \n",
              "3                  1.0                 4       0  \n",
              "4                  2.0                 3       1  "
            ]
          },
          "metadata": {
            "tags": []
          },
          "execution_count": 126
        }
      ]
    },
    {
      "cell_type": "code",
      "metadata": {
        "id": "iCj3g8W2MPf8",
        "colab_type": "code",
        "colab": {}
      },
      "source": [
        "df_AllLife_clusts = AllLife_dforigDuplicate.groupby(['labels'])"
      ],
      "execution_count": null,
      "outputs": []
    },
    {
      "cell_type": "code",
      "metadata": {
        "id": "fjFFW5x-MPgB",
        "colab_type": "code",
        "colab": {},
        "outputId": "72c00f6e-a91d-4b28-8646-0859fa60ef90"
      },
      "source": [
        "df_AllLife_clusts.mean()"
      ],
      "execution_count": null,
      "outputs": [
        {
          "output_type": "execute_result",
          "data": {
            "text/html": [
              "<div>\n",
              "<style scoped>\n",
              "    .dataframe tbody tr th:only-of-type {\n",
              "        vertical-align: middle;\n",
              "    }\n",
              "\n",
              "    .dataframe tbody tr th {\n",
              "        vertical-align: top;\n",
              "    }\n",
              "\n",
              "    .dataframe thead th {\n",
              "        text-align: right;\n",
              "    }\n",
              "</style>\n",
              "<table border=\"1\" class=\"dataframe\">\n",
              "  <thead>\n",
              "    <tr style=\"text-align: right;\">\n",
              "      <th></th>\n",
              "      <th>Avg_Credit_Limit</th>\n",
              "      <th>Total_Credit_Cards</th>\n",
              "      <th>Total_visits_bank</th>\n",
              "      <th>Total_visits_online</th>\n",
              "      <th>Total_calls_made</th>\n",
              "    </tr>\n",
              "    <tr>\n",
              "      <th>labels</th>\n",
              "      <th></th>\n",
              "      <th></th>\n",
              "      <th></th>\n",
              "      <th></th>\n",
              "      <th></th>\n",
              "    </tr>\n",
              "  </thead>\n",
              "  <tbody>\n",
              "    <tr>\n",
              "      <th>0</th>\n",
              "      <td>25397.798742</td>\n",
              "      <td>4.569182</td>\n",
              "      <td>2.468553</td>\n",
              "      <td>1.918239</td>\n",
              "      <td>3.680818</td>\n",
              "    </tr>\n",
              "    <tr>\n",
              "      <th>1</th>\n",
              "      <td>94833.333333</td>\n",
              "      <td>8.166667</td>\n",
              "      <td>0.666667</td>\n",
              "      <td>2.750000</td>\n",
              "      <td>1.250000</td>\n",
              "    </tr>\n",
              "    <tr>\n",
              "      <th>2</th>\n",
              "      <td>18000.000000</td>\n",
              "      <td>8.500000</td>\n",
              "      <td>0.666667</td>\n",
              "      <td>7.416667</td>\n",
              "      <td>0.750000</td>\n",
              "    </tr>\n",
              "  </tbody>\n",
              "</table>\n",
              "</div>"
            ],
            "text/plain": [
              "        Avg_Credit_Limit  Total_Credit_Cards  Total_visits_bank  \\\n",
              "labels                                                            \n",
              "0           25397.798742            4.569182           2.468553   \n",
              "1           94833.333333            8.166667           0.666667   \n",
              "2           18000.000000            8.500000           0.666667   \n",
              "\n",
              "        Total_visits_online  Total_calls_made  \n",
              "labels                                         \n",
              "0                  1.918239          3.680818  \n",
              "1                  2.750000          1.250000  \n",
              "2                  7.416667          0.750000  "
            ]
          },
          "metadata": {
            "tags": []
          },
          "execution_count": 128
        }
      ]
    },
    {
      "cell_type": "code",
      "metadata": {
        "id": "n5JYFo0OMPgK",
        "colab_type": "code",
        "colab": {}
      },
      "source": [
        "# we are better able to interprete the unscaled original dataset above\n",
        "# We see whereas lower average credit limits individual had higher number of total credit cards, Total visit of bank is\n",
        "# a determining factor for a higher credit limit and here also total calls made matters"
      ],
      "execution_count": null,
      "outputs": []
    },
    {
      "cell_type": "code",
      "metadata": {
        "id": "NKcNvMpAMPgP",
        "colab_type": "code",
        "colab": {}
      },
      "source": [
        ""
      ],
      "execution_count": null,
      "outputs": []
    },
    {
      "cell_type": "code",
      "metadata": {
        "id": "YvcNrvOSMPgT",
        "colab_type": "code",
        "colab": {}
      },
      "source": [
        "# Lets plot the dendrogram to see if our result is consistent\n",
        "from scipy.cluster.hierarchy import cophenet, dendrogram, linkage\n",
        "from scipy.spatial.distance import pdist  #Pairwise distribution between data points\n"
      ],
      "execution_count": null,
      "outputs": []
    },
    {
      "cell_type": "code",
      "metadata": {
        "id": "WTIRGHWLMPgV",
        "colab_type": "code",
        "colab": {}
      },
      "source": [
        "AllLife_dfScaledDendro = AllLife_dfScaledAttr.iloc[:,0:5]"
      ],
      "execution_count": null,
      "outputs": []
    },
    {
      "cell_type": "code",
      "metadata": {
        "id": "ETO2YpqAMPgb",
        "colab_type": "code",
        "colab": {},
        "outputId": "b790a92f-9c38-4f55-f06e-d9cea0d4d5c2"
      },
      "source": [
        "AllLife_dfScaledDendro.head()"
      ],
      "execution_count": null,
      "outputs": [
        {
          "output_type": "execute_result",
          "data": {
            "text/html": [
              "<div>\n",
              "<style scoped>\n",
              "    .dataframe tbody tr th:only-of-type {\n",
              "        vertical-align: middle;\n",
              "    }\n",
              "\n",
              "    .dataframe tbody tr th {\n",
              "        vertical-align: top;\n",
              "    }\n",
              "\n",
              "    .dataframe thead th {\n",
              "        text-align: right;\n",
              "    }\n",
              "</style>\n",
              "<table border=\"1\" class=\"dataframe\">\n",
              "  <thead>\n",
              "    <tr style=\"text-align: right;\">\n",
              "      <th></th>\n",
              "      <th>Avg_Credit_Limit</th>\n",
              "      <th>Total_Credit_Cards</th>\n",
              "      <th>Total_visits_bank</th>\n",
              "      <th>Total_visits_online</th>\n",
              "      <th>Total_calls_made</th>\n",
              "    </tr>\n",
              "  </thead>\n",
              "  <tbody>\n",
              "    <tr>\n",
              "      <th>0</th>\n",
              "      <td>3.359885</td>\n",
              "      <td>-1.249225</td>\n",
              "      <td>-0.860451</td>\n",
              "      <td>-0.609464</td>\n",
              "      <td>-1.251537</td>\n",
              "    </tr>\n",
              "    <tr>\n",
              "      <th>1</th>\n",
              "      <td>1.073448</td>\n",
              "      <td>-0.787585</td>\n",
              "      <td>-1.473731</td>\n",
              "      <td>-0.019660</td>\n",
              "      <td>1.891859</td>\n",
              "    </tr>\n",
              "    <tr>\n",
              "      <th>2</th>\n",
              "      <td>1.073448</td>\n",
              "      <td>1.058973</td>\n",
              "      <td>-0.860451</td>\n",
              "      <td>0.570144</td>\n",
              "      <td>0.145528</td>\n",
              "    </tr>\n",
              "    <tr>\n",
              "      <th>3</th>\n",
              "      <td>0.158873</td>\n",
              "      <td>0.135694</td>\n",
              "      <td>-0.860451</td>\n",
              "      <td>-0.609464</td>\n",
              "      <td>0.145528</td>\n",
              "    </tr>\n",
              "    <tr>\n",
              "      <th>4</th>\n",
              "      <td>3.359885</td>\n",
              "      <td>0.597334</td>\n",
              "      <td>-1.473731</td>\n",
              "      <td>-0.019660</td>\n",
              "      <td>-0.203739</td>\n",
              "    </tr>\n",
              "  </tbody>\n",
              "</table>\n",
              "</div>"
            ],
            "text/plain": [
              "   Avg_Credit_Limit  Total_Credit_Cards  Total_visits_bank  \\\n",
              "0          3.359885           -1.249225          -0.860451   \n",
              "1          1.073448           -0.787585          -1.473731   \n",
              "2          1.073448            1.058973          -0.860451   \n",
              "3          0.158873            0.135694          -0.860451   \n",
              "4          3.359885            0.597334          -1.473731   \n",
              "\n",
              "   Total_visits_online  Total_calls_made  \n",
              "0            -0.609464         -1.251537  \n",
              "1            -0.019660          1.891859  \n",
              "2             0.570144          0.145528  \n",
              "3            -0.609464          0.145528  \n",
              "4            -0.019660         -0.203739  "
            ]
          },
          "metadata": {
            "tags": []
          },
          "execution_count": 132
        }
      ]
    },
    {
      "cell_type": "code",
      "metadata": {
        "id": "oiCfJEa1MPgh",
        "colab_type": "code",
        "colab": {},
        "outputId": "99232ce4-7a67-4bf0-f2aa-83f0a53acd05"
      },
      "source": [
        "# cophenet index is a measure of the correlation between the distance of points in feature space and distance on dendrogram\n",
        "# closer it is to 1, the better is the clustering\n",
        "\n",
        "Z = linkage(AllLife_dfScaledDendro, metric='euclidean', method='average')\n",
        "c, coph_dists = cophenet(Z , pdist(AllLife_dfScaledDendro))\n",
        "\n",
        "c"
      ],
      "execution_count": null,
      "outputs": [
        {
          "output_type": "execute_result",
          "data": {
            "text/plain": [
              "0.8304715486155523"
            ]
          },
          "metadata": {
            "tags": []
          },
          "execution_count": 133
        }
      ]
    },
    {
      "cell_type": "code",
      "metadata": {
        "id": "lAMc3uSUMPgl",
        "colab_type": "code",
        "colab": {},
        "outputId": "fae9bd9c-4b8b-4ef2-969e-c0d0793e0865"
      },
      "source": [
        "plt.figure(figsize=(10, 5))\n",
        "plt.title('Agglomerative Hierarchical Clustering Dendogram')\n",
        "plt.xlabel('sample index')\n",
        "plt.ylabel('Distance')\n",
        "dendrogram(Z, leaf_rotation=90.,color_threshold = 40, leaf_font_size=8. )\n",
        "plt.tight_layout()"
      ],
      "execution_count": null,
      "outputs": [
        {
          "output_type": "display_data",
          "data": {
            "image/png": "[encoded data removed]",
            "text/plain": [
              "<Figure size 720x360 with 1 Axes>"
            ]
          },
          "metadata": {
            "tags": [],
            "needs_background": "light"
          }
        }
      ]
    },
    {
      "cell_type": "code",
      "metadata": {
        "id": "imZHPDN4MPgp",
        "colab_type": "code",
        "colab": {}
      },
      "source": [
        "# Taking our level at a distance of 4, we have 3 clusters"
      ],
      "execution_count": null,
      "outputs": []
    },
    {
      "cell_type": "code",
      "metadata": {
        "id": "kq00Hc_TMPhA",
        "colab_type": "code",
        "colab": {},
        "outputId": "9449dc92-ad79-4237-a066-979137561fc3"
      },
      "source": [
        "# cophenet index is a measure of the correlation between the distance of points in feature space and distance on dendrogram\n",
        "# closer it is to 1, the better is the clustering\n",
        "\n",
        "Z = linkage(AllLife_dfScaledDendro, metric='euclidean', method='complete')\n",
        "c, coph_dists = cophenet(Z , pdist(AllLife_dfScaledDendro))\n",
        "\n",
        "c"
      ],
      "execution_count": null,
      "outputs": [
        {
          "output_type": "execute_result",
          "data": {
            "text/plain": [
              "0.7883094150879056"
            ]
          },
          "metadata": {
            "tags": []
          },
          "execution_count": 135
        }
      ]
    },
    {
      "cell_type": "code",
      "metadata": {
        "id": "Dw6AhF_2MPhD",
        "colab_type": "code",
        "colab": {},
        "outputId": "91aa6a0b-8ea6-440d-b94d-7a750d3c34d5"
      },
      "source": [
        "plt.figure(figsize=(10, 5))\n",
        "plt.title('Agglomerative Hierarchical Clustering Dendogram')\n",
        "plt.xlabel('sample index')\n",
        "plt.ylabel('Distance')\n",
        "dendrogram(Z, leaf_rotation=90.,color_threshold = 40, leaf_font_size=8. )\n",
        "plt.tight_layout()"
      ],
      "execution_count": null,
      "outputs": [
        {
          "output_type": "display_data",
          "data": {
            "image/png": "[encoded data removed]",
            "text/plain": [
              "<Figure size 720x360 with 1 Axes>"
            ]
          },
          "metadata": {
            "tags": [],
            "needs_background": "light"
          }
        }
      ]
    },
    {
      "cell_type": "code",
      "metadata": {
        "id": "bjs-kBdPMPhH",
        "colab_type": "code",
        "colab": {}
      },
      "source": [
        "# At a distance of 6 we see our 3 clusters "
      ],
      "execution_count": null,
      "outputs": []
    },
    {
      "cell_type": "code",
      "metadata": {
        "id": "D8-8SohlMPhK",
        "colab_type": "code",
        "colab": {},
        "outputId": "3bf3d330-360f-4710-ee77-ab6660ea6133"
      },
      "source": [
        "# cophenet index is a measure of the correlation between the distance of points in feature space and distance on dendrogram\n",
        "# closer it is to 1, the better is the clustering\n",
        "\n",
        "Z = linkage(AllLife_dfScaledDendro, metric='euclidean', method='ward')\n",
        "c, coph_dists = cophenet(Z , pdist(AllLife_dfScaledDendro))\n",
        "\n",
        "c"
      ],
      "execution_count": null,
      "outputs": [
        {
          "output_type": "execute_result",
          "data": {
            "text/plain": [
              "0.7311173425709666"
            ]
          },
          "metadata": {
            "tags": []
          },
          "execution_count": 137
        }
      ]
    },
    {
      "cell_type": "code",
      "metadata": {
        "id": "PMbHDY7lMPhk",
        "colab_type": "code",
        "colab": {},
        "outputId": "4c02b817-abd8-47a8-8c89-30924efd4463"
      },
      "source": [
        "plt.figure(figsize=(10, 5))\n",
        "plt.title('Agglomerative Hierarchical Clustering Dendogram')\n",
        "plt.xlabel('sample index')\n",
        "plt.ylabel('Distance')\n",
        "dendrogram(Z, leaf_rotation=90.,color_threshold = 40, leaf_font_size=8. )\n",
        "plt.tight_layout()"
      ],
      "execution_count": null,
      "outputs": [
        {
          "output_type": "display_data",
          "data": {
            "image/png": "[encoded data removed]",
            "text/plain": [
              "<Figure size 720x360 with 1 Axes>"
            ]
          },
          "metadata": {
            "tags": [],
            "needs_background": "light"
          }
        }
      ]
    },
    {
      "cell_type": "code",
      "metadata": {
        "id": "nDPvGkYLMPho",
        "colab_type": "code",
        "colab": {}
      },
      "source": [
        "# At a distance of about 25 we see our 3 clusters"
      ],
      "execution_count": null,
      "outputs": []
    },
    {
      "cell_type": "markdown",
      "metadata": {
        "id": "0siNgOO6MPhq",
        "colab_type": "text"
      },
      "source": [
        "### OBSERVATIONS\n",
        "1. The cophenet index, c (which is the corelation coefficient for the pair-wise distance between any two points in the dataset to the dendrogramic distance. The higher the better, so the linkage using an 'average' method gives the best clustering and a better clustered distance which is 4, meaning the points are not too tight packed or too far apart, but just right at 4.\n",
        "2. The dendrograms are somewhat looking alike but for the distance metric this is a good sign\n",
        "3. Again we can clearly see 2, 3 and 4 clusters though the fourth is not well defined."
      ]
    },
    {
      "cell_type": "code",
      "metadata": {
        "id": "Dqsx6yyGMPhr",
        "colab_type": "code",
        "colab": {}
      },
      "source": [
        ""
      ],
      "execution_count": null,
      "outputs": []
    },
    {
      "cell_type": "code",
      "metadata": {
        "id": "F5LJyvayMPhv",
        "colab_type": "code",
        "colab": {}
      },
      "source": [
        " # Lets also try our Hierarchical Clustering with as few as 2 clusters straight away using linkage method 'average' only\n",
        "\n",
        "model = AgglomerativeClustering(n_clusters=2, affinity='euclidean',  linkage='average')"
      ],
      "execution_count": null,
      "outputs": []
    },
    {
      "cell_type": "code",
      "metadata": {
        "id": "YsB9z6ZbMPhy",
        "colab_type": "code",
        "colab": {},
        "outputId": "bac03858-8b5b-4cf5-a6ae-a8ee37ad4bc8"
      },
      "source": [
        "AllLife_dfScaled.head()"
      ],
      "execution_count": null,
      "outputs": [
        {
          "output_type": "execute_result",
          "data": {
            "text/html": [
              "<div>\n",
              "<style scoped>\n",
              "    .dataframe tbody tr th:only-of-type {\n",
              "        vertical-align: middle;\n",
              "    }\n",
              "\n",
              "    .dataframe tbody tr th {\n",
              "        vertical-align: top;\n",
              "    }\n",
              "\n",
              "    .dataframe thead th {\n",
              "        text-align: right;\n",
              "    }\n",
              "</style>\n",
              "<table border=\"1\" class=\"dataframe\">\n",
              "  <thead>\n",
              "    <tr style=\"text-align: right;\">\n",
              "      <th></th>\n",
              "      <th>Avg_Credit_Limit</th>\n",
              "      <th>Total_Credit_Cards</th>\n",
              "      <th>Total_visits_bank</th>\n",
              "      <th>Total_visits_online</th>\n",
              "      <th>Total_calls_made</th>\n",
              "    </tr>\n",
              "  </thead>\n",
              "  <tbody>\n",
              "    <tr>\n",
              "      <th>0</th>\n",
              "      <td>3.359885</td>\n",
              "      <td>-1.249225</td>\n",
              "      <td>-0.860451</td>\n",
              "      <td>-0.609464</td>\n",
              "      <td>-1.251537</td>\n",
              "    </tr>\n",
              "    <tr>\n",
              "      <th>1</th>\n",
              "      <td>1.073448</td>\n",
              "      <td>-0.787585</td>\n",
              "      <td>-1.473731</td>\n",
              "      <td>-0.019660</td>\n",
              "      <td>1.891859</td>\n",
              "    </tr>\n",
              "    <tr>\n",
              "      <th>2</th>\n",
              "      <td>1.073448</td>\n",
              "      <td>1.058973</td>\n",
              "      <td>-0.860451</td>\n",
              "      <td>0.570144</td>\n",
              "      <td>0.145528</td>\n",
              "    </tr>\n",
              "    <tr>\n",
              "      <th>3</th>\n",
              "      <td>0.158873</td>\n",
              "      <td>0.135694</td>\n",
              "      <td>-0.860451</td>\n",
              "      <td>-0.609464</td>\n",
              "      <td>0.145528</td>\n",
              "    </tr>\n",
              "    <tr>\n",
              "      <th>4</th>\n",
              "      <td>3.359885</td>\n",
              "      <td>0.597334</td>\n",
              "      <td>-1.473731</td>\n",
              "      <td>-0.019660</td>\n",
              "      <td>-0.203739</td>\n",
              "    </tr>\n",
              "  </tbody>\n",
              "</table>\n",
              "</div>"
            ],
            "text/plain": [
              "   Avg_Credit_Limit  Total_Credit_Cards  Total_visits_bank  \\\n",
              "0          3.359885           -1.249225          -0.860451   \n",
              "1          1.073448           -0.787585          -1.473731   \n",
              "2          1.073448            1.058973          -0.860451   \n",
              "3          0.158873            0.135694          -0.860451   \n",
              "4          3.359885            0.597334          -1.473731   \n",
              "\n",
              "   Total_visits_online  Total_calls_made  \n",
              "0            -0.609464         -1.251537  \n",
              "1            -0.019660          1.891859  \n",
              "2             0.570144          0.145528  \n",
              "3            -0.609464          0.145528  \n",
              "4            -0.019660         -0.203739  "
            ]
          },
          "metadata": {
            "tags": []
          },
          "execution_count": 141
        }
      ]
    },
    {
      "cell_type": "code",
      "metadata": {
        "id": "i2L4xB4kMPh2",
        "colab_type": "code",
        "colab": {},
        "outputId": "1df8a93a-b0d8-4a6a-f7ed-f105cc4f29a4"
      },
      "source": [
        "AllLife_dfScaledAttr1 = AllLife_dfScaled.iloc[:,:] # we duplicate\n",
        "AllLife_dfScaledAttr1.head()\n"
      ],
      "execution_count": null,
      "outputs": [
        {
          "output_type": "execute_result",
          "data": {
            "text/html": [
              "<div>\n",
              "<style scoped>\n",
              "    .dataframe tbody tr th:only-of-type {\n",
              "        vertical-align: middle;\n",
              "    }\n",
              "\n",
              "    .dataframe tbody tr th {\n",
              "        vertical-align: top;\n",
              "    }\n",
              "\n",
              "    .dataframe thead th {\n",
              "        text-align: right;\n",
              "    }\n",
              "</style>\n",
              "<table border=\"1\" class=\"dataframe\">\n",
              "  <thead>\n",
              "    <tr style=\"text-align: right;\">\n",
              "      <th></th>\n",
              "      <th>Avg_Credit_Limit</th>\n",
              "      <th>Total_Credit_Cards</th>\n",
              "      <th>Total_visits_bank</th>\n",
              "      <th>Total_visits_online</th>\n",
              "      <th>Total_calls_made</th>\n",
              "    </tr>\n",
              "  </thead>\n",
              "  <tbody>\n",
              "    <tr>\n",
              "      <th>0</th>\n",
              "      <td>3.359885</td>\n",
              "      <td>-1.249225</td>\n",
              "      <td>-0.860451</td>\n",
              "      <td>-0.609464</td>\n",
              "      <td>-1.251537</td>\n",
              "    </tr>\n",
              "    <tr>\n",
              "      <th>1</th>\n",
              "      <td>1.073448</td>\n",
              "      <td>-0.787585</td>\n",
              "      <td>-1.473731</td>\n",
              "      <td>-0.019660</td>\n",
              "      <td>1.891859</td>\n",
              "    </tr>\n",
              "    <tr>\n",
              "      <th>2</th>\n",
              "      <td>1.073448</td>\n",
              "      <td>1.058973</td>\n",
              "      <td>-0.860451</td>\n",
              "      <td>0.570144</td>\n",
              "      <td>0.145528</td>\n",
              "    </tr>\n",
              "    <tr>\n",
              "      <th>3</th>\n",
              "      <td>0.158873</td>\n",
              "      <td>0.135694</td>\n",
              "      <td>-0.860451</td>\n",
              "      <td>-0.609464</td>\n",
              "      <td>0.145528</td>\n",
              "    </tr>\n",
              "    <tr>\n",
              "      <th>4</th>\n",
              "      <td>3.359885</td>\n",
              "      <td>0.597334</td>\n",
              "      <td>-1.473731</td>\n",
              "      <td>-0.019660</td>\n",
              "      <td>-0.203739</td>\n",
              "    </tr>\n",
              "  </tbody>\n",
              "</table>\n",
              "</div>"
            ],
            "text/plain": [
              "   Avg_Credit_Limit  Total_Credit_Cards  Total_visits_bank  \\\n",
              "0          3.359885           -1.249225          -0.860451   \n",
              "1          1.073448           -0.787585          -1.473731   \n",
              "2          1.073448            1.058973          -0.860451   \n",
              "3          0.158873            0.135694          -0.860451   \n",
              "4          3.359885            0.597334          -1.473731   \n",
              "\n",
              "   Total_visits_online  Total_calls_made  \n",
              "0            -0.609464         -1.251537  \n",
              "1            -0.019660          1.891859  \n",
              "2             0.570144          0.145528  \n",
              "3            -0.609464          0.145528  \n",
              "4            -0.019660         -0.203739  "
            ]
          },
          "metadata": {
            "tags": []
          },
          "execution_count": 142
        }
      ]
    },
    {
      "cell_type": "code",
      "metadata": {
        "id": "rSELS68xMPh5",
        "colab_type": "code",
        "colab": {},
        "outputId": "8e84f7e0-1dc9-4954-95f0-de1d8c0684f5"
      },
      "source": [
        "\n",
        "model.fit(AllLife_dfScaledAttr1) #fit the model with AgglomerativeClustering algorithm"
      ],
      "execution_count": null,
      "outputs": [
        {
          "output_type": "execute_result",
          "data": {
            "text/plain": [
              "AgglomerativeClustering(affinity='euclidean', compute_full_tree='auto',\n",
              "                        connectivity=None, distance_threshold=None,\n",
              "                        linkage='average', memory=None, n_clusters=2,\n",
              "                        pooling_func='deprecated')"
            ]
          },
          "metadata": {
            "tags": []
          },
          "execution_count": 143
        }
      ]
    },
    {
      "cell_type": "code",
      "metadata": {
        "id": "LxhLgTU9MPh7",
        "colab_type": "code",
        "colab": {}
      },
      "source": [
        "AllLife_dforigDuplicate1 = AllLife_df.iloc[:,:] #duplicated the original dataset also"
      ],
      "execution_count": null,
      "outputs": []
    },
    {
      "cell_type": "code",
      "metadata": {
        "id": "am9SqHduMPiA",
        "colab_type": "code",
        "colab": {},
        "outputId": "b6a38867-0663-4bb0-c552-69bc62e43c55"
      },
      "source": [
        "AllLife_dforigDuplicate1['labels'] = model.labels_\n",
        "AllLife_dforigDuplicate1.head()"
      ],
      "execution_count": null,
      "outputs": [
        {
          "output_type": "execute_result",
          "data": {
            "text/html": [
              "<div>\n",
              "<style scoped>\n",
              "    .dataframe tbody tr th:only-of-type {\n",
              "        vertical-align: middle;\n",
              "    }\n",
              "\n",
              "    .dataframe tbody tr th {\n",
              "        vertical-align: top;\n",
              "    }\n",
              "\n",
              "    .dataframe thead th {\n",
              "        text-align: right;\n",
              "    }\n",
              "</style>\n",
              "<table border=\"1\" class=\"dataframe\">\n",
              "  <thead>\n",
              "    <tr style=\"text-align: right;\">\n",
              "      <th></th>\n",
              "      <th>Avg_Credit_Limit</th>\n",
              "      <th>Total_Credit_Cards</th>\n",
              "      <th>Total_visits_bank</th>\n",
              "      <th>Total_visits_online</th>\n",
              "      <th>Total_calls_made</th>\n",
              "      <th>labels</th>\n",
              "    </tr>\n",
              "  </thead>\n",
              "  <tbody>\n",
              "    <tr>\n",
              "      <th>0</th>\n",
              "      <td>100000.0</td>\n",
              "      <td>2</td>\n",
              "      <td>1</td>\n",
              "      <td>1.0</td>\n",
              "      <td>0</td>\n",
              "      <td>1</td>\n",
              "    </tr>\n",
              "    <tr>\n",
              "      <th>1</th>\n",
              "      <td>50000.0</td>\n",
              "      <td>3</td>\n",
              "      <td>0</td>\n",
              "      <td>2.0</td>\n",
              "      <td>9</td>\n",
              "      <td>0</td>\n",
              "    </tr>\n",
              "    <tr>\n",
              "      <th>2</th>\n",
              "      <td>50000.0</td>\n",
              "      <td>7</td>\n",
              "      <td>1</td>\n",
              "      <td>3.0</td>\n",
              "      <td>4</td>\n",
              "      <td>0</td>\n",
              "    </tr>\n",
              "    <tr>\n",
              "      <th>3</th>\n",
              "      <td>30000.0</td>\n",
              "      <td>5</td>\n",
              "      <td>1</td>\n",
              "      <td>1.0</td>\n",
              "      <td>4</td>\n",
              "      <td>0</td>\n",
              "    </tr>\n",
              "    <tr>\n",
              "      <th>4</th>\n",
              "      <td>100000.0</td>\n",
              "      <td>6</td>\n",
              "      <td>0</td>\n",
              "      <td>2.0</td>\n",
              "      <td>3</td>\n",
              "      <td>1</td>\n",
              "    </tr>\n",
              "  </tbody>\n",
              "</table>\n",
              "</div>"
            ],
            "text/plain": [
              "   Avg_Credit_Limit  Total_Credit_Cards  Total_visits_bank  \\\n",
              "0          100000.0                   2                  1   \n",
              "1           50000.0                   3                  0   \n",
              "2           50000.0                   7                  1   \n",
              "3           30000.0                   5                  1   \n",
              "4          100000.0                   6                  0   \n",
              "\n",
              "   Total_visits_online  Total_calls_made  labels  \n",
              "0                  1.0                 0       1  \n",
              "1                  2.0                 9       0  \n",
              "2                  3.0                 4       0  \n",
              "3                  1.0                 4       0  \n",
              "4                  2.0                 3       1  "
            ]
          },
          "metadata": {
            "tags": []
          },
          "execution_count": 147
        }
      ]
    },
    {
      "cell_type": "code",
      "metadata": {
        "id": "3vNbU1EqMPiH",
        "colab_type": "code",
        "colab": {}
      },
      "source": [
        "AllLife_dfClust1 = AllLife_dforigDuplicate1.groupby(['labels'])"
      ],
      "execution_count": null,
      "outputs": []
    },
    {
      "cell_type": "code",
      "metadata": {
        "id": "yb3-NvqCMPiL",
        "colab_type": "code",
        "colab": {},
        "outputId": "afbedef5-a55b-4971-d655-37ff314cb5cd"
      },
      "source": [
        "AllLife_dfClust1.mean()"
      ],
      "execution_count": null,
      "outputs": [
        {
          "output_type": "execute_result",
          "data": {
            "text/html": [
              "<div>\n",
              "<style scoped>\n",
              "    .dataframe tbody tr th:only-of-type {\n",
              "        vertical-align: middle;\n",
              "    }\n",
              "\n",
              "    .dataframe tbody tr th {\n",
              "        vertical-align: top;\n",
              "    }\n",
              "\n",
              "    .dataframe thead th {\n",
              "        text-align: right;\n",
              "    }\n",
              "</style>\n",
              "<table border=\"1\" class=\"dataframe\">\n",
              "  <thead>\n",
              "    <tr style=\"text-align: right;\">\n",
              "      <th></th>\n",
              "      <th>Avg_Credit_Limit</th>\n",
              "      <th>Total_Credit_Cards</th>\n",
              "      <th>Total_visits_bank</th>\n",
              "      <th>Total_visits_online</th>\n",
              "      <th>Total_calls_made</th>\n",
              "    </tr>\n",
              "    <tr>\n",
              "      <th>labels</th>\n",
              "      <th></th>\n",
              "      <th></th>\n",
              "      <th></th>\n",
              "      <th></th>\n",
              "      <th></th>\n",
              "    </tr>\n",
              "  </thead>\n",
              "  <tbody>\n",
              "    <tr>\n",
              "      <th>0</th>\n",
              "      <td>25260.802469</td>\n",
              "      <td>4.641975</td>\n",
              "      <td>2.435185</td>\n",
              "      <td>2.020062</td>\n",
              "      <td>3.626543</td>\n",
              "    </tr>\n",
              "    <tr>\n",
              "      <th>1</th>\n",
              "      <td>94833.333333</td>\n",
              "      <td>8.166667</td>\n",
              "      <td>0.666667</td>\n",
              "      <td>2.750000</td>\n",
              "      <td>1.250000</td>\n",
              "    </tr>\n",
              "  </tbody>\n",
              "</table>\n",
              "</div>"
            ],
            "text/plain": [
              "        Avg_Credit_Limit  Total_Credit_Cards  Total_visits_bank  \\\n",
              "labels                                                            \n",
              "0           25260.802469            4.641975           2.435185   \n",
              "1           94833.333333            8.166667           0.666667   \n",
              "\n",
              "        Total_visits_online  Total_calls_made  \n",
              "labels                                         \n",
              "0                  2.020062          3.626543  \n",
              "1                  2.750000          1.250000  "
            ]
          },
          "metadata": {
            "tags": []
          },
          "execution_count": 149
        }
      ]
    },
    {
      "cell_type": "code",
      "metadata": {
        "id": "ySZq4E2AMPiR",
        "colab_type": "code",
        "colab": {}
      },
      "source": [
        "# Here we see that to have more average credit limit, the individuals had to have more total number of credit cards,\n",
        "# and have to visit the banks online presence more"
      ],
      "execution_count": null,
      "outputs": []
    },
    {
      "cell_type": "code",
      "metadata": {
        "id": "K815Pkz-MPiT",
        "colab_type": "code",
        "colab": {}
      },
      "source": [
        "AllLife_dfScaledDendro1 = AllLife_dfScaledAttr1.iloc[:,0:5]"
      ],
      "execution_count": null,
      "outputs": []
    },
    {
      "cell_type": "code",
      "metadata": {
        "id": "ckyef8LTMPiW",
        "colab_type": "code",
        "colab": {},
        "outputId": "f065395a-2adb-47d7-d96f-f8d7dc7197a0"
      },
      "source": [
        "AllLife_dfScaledDendro1.head()"
      ],
      "execution_count": null,
      "outputs": [
        {
          "output_type": "execute_result",
          "data": {
            "text/html": [
              "<div>\n",
              "<style scoped>\n",
              "    .dataframe tbody tr th:only-of-type {\n",
              "        vertical-align: middle;\n",
              "    }\n",
              "\n",
              "    .dataframe tbody tr th {\n",
              "        vertical-align: top;\n",
              "    }\n",
              "\n",
              "    .dataframe thead th {\n",
              "        text-align: right;\n",
              "    }\n",
              "</style>\n",
              "<table border=\"1\" class=\"dataframe\">\n",
              "  <thead>\n",
              "    <tr style=\"text-align: right;\">\n",
              "      <th></th>\n",
              "      <th>Avg_Credit_Limit</th>\n",
              "      <th>Total_Credit_Cards</th>\n",
              "      <th>Total_visits_bank</th>\n",
              "      <th>Total_visits_online</th>\n",
              "      <th>Total_calls_made</th>\n",
              "    </tr>\n",
              "  </thead>\n",
              "  <tbody>\n",
              "    <tr>\n",
              "      <th>0</th>\n",
              "      <td>3.359885</td>\n",
              "      <td>-1.249225</td>\n",
              "      <td>-0.860451</td>\n",
              "      <td>-0.609464</td>\n",
              "      <td>-1.251537</td>\n",
              "    </tr>\n",
              "    <tr>\n",
              "      <th>1</th>\n",
              "      <td>1.073448</td>\n",
              "      <td>-0.787585</td>\n",
              "      <td>-1.473731</td>\n",
              "      <td>-0.019660</td>\n",
              "      <td>1.891859</td>\n",
              "    </tr>\n",
              "    <tr>\n",
              "      <th>2</th>\n",
              "      <td>1.073448</td>\n",
              "      <td>1.058973</td>\n",
              "      <td>-0.860451</td>\n",
              "      <td>0.570144</td>\n",
              "      <td>0.145528</td>\n",
              "    </tr>\n",
              "    <tr>\n",
              "      <th>3</th>\n",
              "      <td>0.158873</td>\n",
              "      <td>0.135694</td>\n",
              "      <td>-0.860451</td>\n",
              "      <td>-0.609464</td>\n",
              "      <td>0.145528</td>\n",
              "    </tr>\n",
              "    <tr>\n",
              "      <th>4</th>\n",
              "      <td>3.359885</td>\n",
              "      <td>0.597334</td>\n",
              "      <td>-1.473731</td>\n",
              "      <td>-0.019660</td>\n",
              "      <td>-0.203739</td>\n",
              "    </tr>\n",
              "  </tbody>\n",
              "</table>\n",
              "</div>"
            ],
            "text/plain": [
              "   Avg_Credit_Limit  Total_Credit_Cards  Total_visits_bank  \\\n",
              "0          3.359885           -1.249225          -0.860451   \n",
              "1          1.073448           -0.787585          -1.473731   \n",
              "2          1.073448            1.058973          -0.860451   \n",
              "3          0.158873            0.135694          -0.860451   \n",
              "4          3.359885            0.597334          -1.473731   \n",
              "\n",
              "   Total_visits_online  Total_calls_made  \n",
              "0            -0.609464         -1.251537  \n",
              "1            -0.019660          1.891859  \n",
              "2             0.570144          0.145528  \n",
              "3            -0.609464          0.145528  \n",
              "4            -0.019660         -0.203739  "
            ]
          },
          "metadata": {
            "tags": []
          },
          "execution_count": 153
        }
      ]
    },
    {
      "cell_type": "code",
      "metadata": {
        "id": "_PCvtgNnMPia",
        "colab_type": "code",
        "colab": {},
        "outputId": "89a4d15f-4078-4967-a262-06d92276f6f7"
      },
      "source": [
        "# cophenet index is a measure of the correlation between the distance of points in feature space and distance on dendrogram\n",
        "# closer it is to 1, the better is the clustering\n",
        "\n",
        "Z = linkage(AllLife_dfScaledDendro, metric='euclidean', method='average')\n",
        "c, coph_dists = cophenet(Z , pdist(AllLife_dfScaledDendro1))\n",
        "\n",
        "c"
      ],
      "execution_count": null,
      "outputs": [
        {
          "output_type": "execute_result",
          "data": {
            "text/plain": [
              "0.8304715486155523"
            ]
          },
          "metadata": {
            "tags": []
          },
          "execution_count": 154
        }
      ]
    },
    {
      "cell_type": "code",
      "metadata": {
        "id": "e2KCR2qlMPic",
        "colab_type": "code",
        "colab": {},
        "outputId": "35caf75d-be0b-4aaf-c15a-8d208fe5ad73"
      },
      "source": [
        "plt.figure(figsize=(10, 5))\n",
        "plt.title('Agglomerative Hierarchical Clustering Dendogram')\n",
        "plt.xlabel('sample index')\n",
        "plt.ylabel('Distance')\n",
        "dendrogram(Z, leaf_rotation=90.,color_threshold = 40, leaf_font_size=8. )\n",
        "plt.tight_layout()"
      ],
      "execution_count": null,
      "outputs": [
        {
          "output_type": "display_data",
          "data": {
            "image/png": "[encoded data removed]",
            "text/plain": [
              "<Figure size 720x360 with 1 Axes>"
            ]
          },
          "metadata": {
            "tags": [],
            "needs_background": "light"
          }
        }
      ]
    },
    {
      "cell_type": "markdown",
      "metadata": {
        "id": "e513Zk4yMPih",
        "colab_type": "text"
      },
      "source": [
        "OBSERVATION:\n",
        "I do not see any difference in the cophenet index and dendrogram of 2 and 3 clusters\n",
        "This could mean this dataset have its elements or variables repeated in all the clusters."
      ]
    },
    {
      "cell_type": "markdown",
      "metadata": {
        "id": "YgLwQf77MPih",
        "colab_type": "text"
      },
      "source": [
        "### Lets finally do a Silhouette Analysis to know the optimal cluster number"
      ]
    },
    {
      "cell_type": "code",
      "metadata": {
        "scrolled": false,
        "id": "iUj6X05CMPii",
        "colab_type": "code",
        "colab": {},
        "outputId": "f3929c06-0351-40de-9f09-99480335af39"
      },
      "source": [
        "from sklearn import cluster\n",
        "import numpy as numpy\n",
        "import sklearn\n",
        "import matplotlib.pyplot as plt\n",
        " \n",
        "\n",
        "silhouette_score_values=list()\n",
        " \n",
        "NumberOfClusters=range(2,30)\n",
        " \n",
        "for i in NumberOfClusters:\n",
        "    \n",
        "    classifier=cluster.KMeans(i,init='k-means++', n_init=10, max_iter=300, tol=0.0001, verbose=0, random_state=None, copy_x=True)\n",
        "    classifier.fit(AllLife_dfScaledDendro)\n",
        "    labels= classifier.predict(AllLife_dfScaledDendro)\n",
        "    print (\"Number Of Clusters:\")\n",
        "    print (i)\n",
        "    print (\"Silhouette score value\")\n",
        "    print (sklearn.metrics.silhouette_score(AllLife_dfScaledDendro,labels ,metric='euclidean', sample_size=None, random_state=None))\n",
        "    silhouette_score_values.append(sklearn.metrics.silhouette_score(AllLife_dfScaledDendro,labels ,metric='euclidean', sample_size=None, random_state=None))\n",
        " \n",
        "plt.plot(NumberOfClusters, silhouette_score_values)\n",
        "plt.title(\"Silhouette score values vs Numbers of Clusters \")\n",
        "plt.show()\n",
        " \n",
        "Optimal_NumberOf_Components=NumberOfClusters[silhouette_score_values.index(max(silhouette_score_values))]\n",
        "print (\"Optimal number of components is:\")\n",
        "print (Optimal_NumberOf_Components)"
      ],
      "execution_count": null,
      "outputs": [
        {
          "output_type": "stream",
          "text": [
            "Number Of Clusters:\n",
            "2\n",
            "Silhouette score value\n",
            "0.4361286968368466\n",
            "Number Of Clusters:\n",
            "3\n",
            "Silhouette score value\n",
            "0.34938945432523133\n",
            "Number Of Clusters:\n",
            "4\n",
            "Silhouette score value\n",
            "0.3813704311171615\n",
            "Number Of Clusters:\n",
            "5\n",
            "Silhouette score value\n",
            "0.3400298696549468\n",
            "Number Of Clusters:\n",
            "6\n",
            "Silhouette score value\n",
            "0.24840908809745235\n",
            "Number Of Clusters:\n",
            "7\n",
            "Silhouette score value\n",
            "0.3154376665465241\n",
            "Number Of Clusters:\n",
            "8\n",
            "Silhouette score value\n",
            "0.2366813921400298\n",
            "Number Of Clusters:\n",
            "9\n",
            "Silhouette score value\n",
            "0.23594290357518446\n",
            "Number Of Clusters:\n",
            "10\n",
            "Silhouette score value\n",
            "0.22362115987872172\n",
            "Number Of Clusters:\n",
            "11\n",
            "Silhouette score value\n",
            "0.24041354426623646\n",
            "Number Of Clusters:\n",
            "12\n",
            "Silhouette score value\n",
            "0.22488740848777536\n",
            "Number Of Clusters:\n",
            "13\n",
            "Silhouette score value\n",
            "0.22958118026774474\n",
            "Number Of Clusters:\n",
            "14\n",
            "Silhouette score value\n",
            "0.22029663216303677\n",
            "Number Of Clusters:\n",
            "15\n",
            "Silhouette score value\n",
            "0.23180043474488438\n",
            "Number Of Clusters:\n",
            "16\n",
            "Silhouette score value\n",
            "0.2249177002054161\n",
            "Number Of Clusters:\n",
            "17\n",
            "Silhouette score value\n",
            "0.22913168088963248\n",
            "Number Of Clusters:\n",
            "18\n",
            "Silhouette score value\n",
            "0.2309291745176211\n",
            "Number Of Clusters:\n",
            "19\n",
            "Silhouette score value\n",
            "0.23557329940617638\n",
            "Number Of Clusters:\n",
            "20\n",
            "Silhouette score value\n",
            "0.22336565520928867\n",
            "Number Of Clusters:\n",
            "21\n",
            "Silhouette score value\n",
            "0.23342470429075765\n",
            "Number Of Clusters:\n",
            "22\n",
            "Silhouette score value\n",
            "0.23595714390558276\n",
            "Number Of Clusters:\n",
            "23\n",
            "Silhouette score value\n",
            "0.22583833158415484\n",
            "Number Of Clusters:\n",
            "24\n",
            "Silhouette score value\n",
            "0.22884845330951867\n",
            "Number Of Clusters:\n",
            "25\n",
            "Silhouette score value\n",
            "0.23342084084427647\n",
            "Number Of Clusters:\n",
            "26\n",
            "Silhouette score value\n",
            "0.22986569525024153\n",
            "Number Of Clusters:\n",
            "27\n",
            "Silhouette score value\n",
            "0.2284944786388973\n",
            "Number Of Clusters:\n",
            "28\n",
            "Silhouette score value\n",
            "0.23360119273522714\n",
            "Number Of Clusters:\n",
            "29\n",
            "Silhouette score value\n",
            "0.23223694159273742\n"
          ],
          "name": "stdout"
        },
        {
          "output_type": "display_data",
          "data": {
            "image/png": "[encoded data removed]",
            "text/plain": [
              "<Figure size 432x288 with 1 Axes>"
            ]
          },
          "metadata": {
            "tags": [],
            "needs_background": "light"
          }
        },
        {
          "output_type": "stream",
          "text": [
            "Optimal number of components is:\n",
            "2\n"
          ],
          "name": "stdout"
        }
      ]
    },
    {
      "cell_type": "markdown",
      "metadata": {
        "id": "FZU_yomNMPim",
        "colab_type": "text"
      },
      "source": [
        "### OBSERVATIONS AND CONCLUSION\n",
        "\n",
        "1. From the silhouette analysis, we can see that the optimal number of clusters will be 2, having the highest silhouette score value\n",
        "2. To answer our key questions:\n",
        "   \n",
        "   i.  We see two segments in our customers dataset\n",
        "   \n",
        "   ii. These segments are different from each other because we have clearly high earners and low earners, the high make more visit to the bank and they have more number of credit cards and even more average credit limits in their accounts\n",
        "   \n",
        "   iii. My advise to the bank on how to better service or market to this clients is that for the already high earners the bank should keep up with the collaborations during visits, keep their credit limits and even encourage them to have more. While to the lower earners, the bank should run a sort of collaborative program of first visiting with them in their locations and afterwards invite them to the bank for corporate meetings grant them a little more incentives to encourage them and make it easier for them to get multiple credit cards which will make their average credit limit increase till the bank gets the desired results.\n",
        "   \n",
        "   iv. And more so the bank should place more priority on number of credit cards and customer visitations than online and phone calls marketing\n"
      ]
    },
    {
      "cell_type": "code",
      "metadata": {
        "id": "vRRZAh1mMPio",
        "colab_type": "code",
        "colab": {}
      },
      "source": [
        ""
      ],
      "execution_count": null,
      "outputs": []
    }
  ]
}